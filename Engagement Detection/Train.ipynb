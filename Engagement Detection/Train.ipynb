{
 "cells": [
  {
   "cell_type": "code",
   "execution_count": 2,
   "metadata": {},
   "outputs": [],
   "source": [
    "import pandas as pd\n",
    "import numpy as np\n",
    "from PIL import Image\n",
    "from os.path import join as ospj\n",
    "from os.path import exists as osex\n",
    "import glob\n",
    "import torch"
   ]
  },
  {
   "cell_type": "code",
   "execution_count": 3,
   "metadata": {},
   "outputs": [
    {
     "data": {
      "text/plain": [
       "(           ClipID  Boredom  Engagement  Confusion  Frustration      f_name  \\\n",
       " 0  1100011002.avi        0           2          0            0  1100011002   \n",
       " 1  1100011003.avi        0           2          0            0  1100011003   \n",
       " 2  1100011004.avi        0           3          0            0  1100011004   \n",
       " \n",
       "                                                 path  \n",
       " 0  C:\\GitHub\\Smart-Education-data\\data\\DAiSEE\\Sor...  \n",
       " 1  C:\\GitHub\\Smart-Education-data\\data\\DAiSEE\\Sor...  \n",
       " 2  C:\\GitHub\\Smart-Education-data\\data\\DAiSEE\\Sor...  ,\n",
       "            ClipID  Boredom  Engagement  Confusion  Frustration      f_name  \\\n",
       " 0  5000441001.avi        1           2          0            0  5000441001   \n",
       " 1  5000441002.avi        0           2          0            0  5000441002   \n",
       " 2  5000441003.avi        1           2          0            0  5000441003   \n",
       " \n",
       "                                                 path  \n",
       " 0  C:\\GitHub\\Smart-Education-data\\data\\DAiSEE\\Sor...  \n",
       " 1  C:\\GitHub\\Smart-Education-data\\data\\DAiSEE\\Sor...  \n",
       " 2  C:\\GitHub\\Smart-Education-data\\data\\DAiSEE\\Sor...  )"
      ]
     },
     "execution_count": 3,
     "metadata": {},
     "output_type": "execute_result"
    }
   ],
   "source": [
    "df_train_labels=pd.read_csv(r'C:\\GitHub\\Smart-Education-data\\data\\DAiSEE\\Sorted\\sorted_labels_train.csv', index_col=0)\n",
    "df_test_labels=pd.read_csv(r'C:\\GitHub\\Smart-Education-data\\data\\DAiSEE\\Sorted\\sorted_labels_test.csv', index_col=0)\n",
    "df_train_labels[:3], df_test_labels[:3]"
   ]
  },
  {
   "cell_type": "markdown",
   "metadata": {},
   "source": [
    "building column names in dataloader..."
   ]
  },
  {
   "cell_type": "code",
   "execution_count": 3,
   "metadata": {},
   "outputs": [],
   "source": [
    "columns=['frame',\n",
    "                  'face_id',\n",
    "                  'timestamp',\n",
    "                  'confidence',\n",
    "                  'success',\n",
    "                  'gaze_0_x', 'gaze_0_y', 'gaze_0_z',\n",
    "                  'gaze_1_x', 'gaze_1_y', 'gaze_1_z',\n",
    "                  'gaze_angle_x', 'gaze_angle_y', \n",
    "                  'eye_lmk_x_0', 'eye_lmk_x_1', 'eye_lmk_x_2', 'eye_lmk_x_3', 'eye_lmk_x_4',\n",
    "                  'eye_lmk_x_5', 'eye_lmk_x_6', 'eye_lmk_x_7', 'eye_lmk_x_8', 'eye_lmk_x_9',\n",
    "                  'eye_lmk_x_10', 'eye_lmk_x_11', 'eye_lmk_x_12', 'eye_lmk_x_13', 'eye_lmk_x_14',\n",
    "                  'eye_lmk_x_15', 'eye_lmk_x_16', 'eye_lmk_x_17', 'eye_lmk_x_18', 'eye_lmk_x_19',\n",
    "                  'eye_lmk_x_20', 'eye_lmk_x_21', 'eye_lmk_x_22', 'eye_lmk_x_23', 'eye_lmk_x_24',\n",
    "                  'eye_lmk_x_25', 'eye_lmk_x_26', 'eye_lmk_x_27', 'eye_lmk_x_28', 'eye_lmk_x_29',\n",
    "                  'eye_lmk_x_30', 'eye_lmk_x_31', 'eye_lmk_x_32', 'eye_lmk_x_33', 'eye_lmk_x_34',\n",
    "                  'eye_lmk_x_35', 'eye_lmk_x_36', 'eye_lmk_x_37', 'eye_lmk_x_38', 'eye_lmk_x_39',\n",
    "                  'eye_lmk_x_40', 'eye_lmk_x_41', 'eye_lmk_x_42', 'eye_lmk_x_43', 'eye_lmk_x_44',\n",
    "                  'eye_lmk_x_45', 'eye_lmk_x_46', 'eye_lmk_x_47', 'eye_lmk_x_48', 'eye_lmk_x_49',\n",
    "                  'eye_lmk_x_50', 'eye_lmk_x_51', 'eye_lmk_x_52', 'eye_lmk_x_53', 'eye_lmk_x_54',\n",
    "                  'eye_lmk_x_55',\n",
    "                  'eye_lmk_y_0', 'eye_lmk_y_1', 'eye_lmk_y_2', 'eye_lmk_y_3', 'eye_lmk_y_4',\n",
    "                  'eye_lmk_y_5', 'eye_lmk_y_6', 'eye_lmk_y_7', 'eye_lmk_y_8', 'eye_lmk_y_9',\n",
    "                  'eye_lmk_y_10', 'eye_lmk_y_11', 'eye_lmk_y_12', 'eye_lmk_y_13', 'eye_lmk_y_14',\n",
    "                  'eye_lmk_y_15', 'eye_lmk_y_16', 'eye_lmk_y_17', 'eye_lmk_y_18', 'eye_lmk_y_19',\n",
    "                  'eye_lmk_y_20', 'eye_lmk_y_21', 'eye_lmk_y_22', 'eye_lmk_y_23', 'eye_lmk_y_24',\n",
    "                  'eye_lmk_y_25', 'eye_lmk_y_26', 'eye_lmk_y_27', 'eye_lmk_y_28', 'eye_lmk_y_29',\n",
    "                  'eye_lmk_y_30', 'eye_lmk_y_31', 'eye_lmk_y_32', 'eye_lmk_y_33', 'eye_lmk_y_34',\n",
    "                  'eye_lmk_y_35', 'eye_lmk_y_36', 'eye_lmk_y_37', 'eye_lmk_y_38', 'eye_lmk_y_39',\n",
    "                  'eye_lmk_y_40', 'eye_lmk_y_41', 'eye_lmk_y_42', 'eye_lmk_y_43', 'eye_lmk_y_44',\n",
    "                  'eye_lmk_y_45', 'eye_lmk_y_46', 'eye_lmk_y_47', 'eye_lmk_y_48', 'eye_lmk_y_49',\n",
    "                  'eye_lmk_y_50', 'eye_lmk_y_51', 'eye_lmk_y_52', 'eye_lmk_y_53', 'eye_lmk_y_54',\n",
    "                  'eye_lmk_y_55',\n",
    "                  'eye_lmk_X_0', 'eye_lmk_X_1', 'eye_lmk_X_2', 'eye_lmk_X_3', 'eye_lmk_X_4', \n",
    "                  'eye_lmk_X_5', 'eye_lmk_X_6', 'eye_lmk_X_7', 'eye_lmk_X_8', 'eye_lmk_X_9',\n",
    "                  'eye_lmk_X_10', 'eye_lmk_X_11', 'eye_lmk_X_12', 'eye_lmk_X_13', 'eye_lmk_X_14',\n",
    "                  'eye_lmk_X_15', 'eye_lmk_X_16', 'eye_lmk_X_17', 'eye_lmk_X_18', 'eye_lmk_X_19',\n",
    "                  'eye_lmk_X_20', 'eye_lmk_X_21', 'eye_lmk_X_22', 'eye_lmk_X_23', 'eye_lmk_X_24',\n",
    "                  'eye_lmk_X_25', 'eye_lmk_X_26', 'eye_lmk_X_27', 'eye_lmk_X_28', 'eye_lmk_X_29',\n",
    "                  'eye_lmk_X_30', 'eye_lmk_X_31', 'eye_lmk_X_32', 'eye_lmk_X_33', 'eye_lmk_X_34',\n",
    "                  'eye_lmk_X_35', 'eye_lmk_X_36', 'eye_lmk_X_37', 'eye_lmk_X_38', 'eye_lmk_X_39',\n",
    "                  'eye_lmk_X_40', 'eye_lmk_X_41', 'eye_lmk_X_42', 'eye_lmk_X_43', 'eye_lmk_X_44',\n",
    "                  'eye_lmk_X_45', 'eye_lmk_X_46', 'eye_lmk_X_47', 'eye_lmk_X_48', 'eye_lmk_X_49',\n",
    "                  'eye_lmk_X_50', 'eye_lmk_X_51', 'eye_lmk_X_52', 'eye_lmk_X_53', 'eye_lmk_X_54', \n",
    "                  'eye_lmk_X_55', \n",
    "                  'eye_lmk_Y_0', 'eye_lmk_Y_1', 'eye_lmk_Y_2', 'eye_lmk_Y_3', 'eye_lmk_Y_4',\n",
    "                  'eye_lmk_Y_5', 'eye_lmk_Y_6', 'eye_lmk_Y_7', 'eye_lmk_Y_8', 'eye_lmk_Y_9',\n",
    "                  'eye_lmk_Y_10', 'eye_lmk_Y_11', 'eye_lmk_Y_12', 'eye_lmk_Y_13', 'eye_lmk_Y_14',\n",
    "                  'eye_lmk_Y_15', 'eye_lmk_Y_16', 'eye_lmk_Y_17', 'eye_lmk_Y_18', 'eye_lmk_Y_19',\n",
    "                  'eye_lmk_Y_20', 'eye_lmk_Y_21', 'eye_lmk_Y_22', 'eye_lmk_Y_23', 'eye_lmk_Y_24',\n",
    "                  'eye_lmk_Y_25', 'eye_lmk_Y_26', 'eye_lmk_Y_27', 'eye_lmk_Y_28', 'eye_lmk_Y_29',\n",
    "                  'eye_lmk_Y_30', 'eye_lmk_Y_31', 'eye_lmk_Y_32', 'eye_lmk_Y_33', 'eye_lmk_Y_34',\n",
    "                  'eye_lmk_Y_35', 'eye_lmk_Y_36', 'eye_lmk_Y_37', 'eye_lmk_Y_38', 'eye_lmk_Y_39',\n",
    "                  'eye_lmk_Y_40', 'eye_lmk_Y_41', 'eye_lmk_Y_42', 'eye_lmk_Y_43', 'eye_lmk_Y_44',\n",
    "                  'eye_lmk_Y_45', 'eye_lmk_Y_46', 'eye_lmk_Y_47', 'eye_lmk_Y_48', 'eye_lmk_Y_49',\n",
    "                  'eye_lmk_Y_50', 'eye_lmk_Y_51', 'eye_lmk_Y_52', 'eye_lmk_Y_53', 'eye_lmk_Y_54',\n",
    "                  'eye_lmk_Y_55', \n",
    "                  'eye_lmk_Z_0', 'eye_lmk_Z_1', 'eye_lmk_Z_2', 'eye_lmk_Z_3', 'eye_lmk_Z_4',\n",
    "                  'eye_lmk_Z_5', 'eye_lmk_Z_6', 'eye_lmk_Z_7', 'eye_lmk_Z_8', 'eye_lmk_Z_9', \n",
    "                  'eye_lmk_Z_10', 'eye_lmk_Z_11', 'eye_lmk_Z_12', 'eye_lmk_Z_13', 'eye_lmk_Z_14', \n",
    "                  'eye_lmk_Z_15', 'eye_lmk_Z_16', 'eye_lmk_Z_17', 'eye_lmk_Z_18', 'eye_lmk_Z_19',\n",
    "                  'eye_lmk_Z_20', 'eye_lmk_Z_21', 'eye_lmk_Z_22', 'eye_lmk_Z_23', 'eye_lmk_Z_24', \n",
    "                  'eye_lmk_Z_25', 'eye_lmk_Z_26', 'eye_lmk_Z_27', 'eye_lmk_Z_28', 'eye_lmk_Z_29',\n",
    "                  'eye_lmk_Z_30', 'eye_lmk_Z_31', 'eye_lmk_Z_32', 'eye_lmk_Z_33', 'eye_lmk_Z_34', \n",
    "                  'eye_lmk_Z_35', 'eye_lmk_Z_36', 'eye_lmk_Z_37', 'eye_lmk_Z_38', 'eye_lmk_Z_39',\n",
    "                  'eye_lmk_Z_40', 'eye_lmk_Z_41', 'eye_lmk_Z_42', 'eye_lmk_Z_43', 'eye_lmk_Z_44', \n",
    "                  'eye_lmk_Z_45', 'eye_lmk_Z_46', 'eye_lmk_Z_47', 'eye_lmk_Z_48', 'eye_lmk_Z_49', \n",
    "                  'eye_lmk_Z_50', 'eye_lmk_Z_51', 'eye_lmk_Z_52', 'eye_lmk_Z_53', 'eye_lmk_Z_54', \n",
    "                  'eye_lmk_Z_55', \n",
    "                  'pose_Tx', 'pose_Ty', 'pose_Tz', 'pose_Rx', 'pose_Ry', 'pose_Rz',\n",
    "                  'x_0', 'x_1', 'x_2', 'x_3', 'x_4', 'x_5', 'x_6', 'x_7', 'x_8', 'x_9', \n",
    "                  'x_10', 'x_11', 'x_12', 'x_13', 'x_14', 'x_15', 'x_16', 'x_17', 'x_18', 'x_19',\n",
    "                  'x_20', 'x_21', 'x_22', 'x_23', 'x_24', 'x_25', 'x_26', 'x_27', 'x_28', 'x_29',\n",
    "                  'x_30', 'x_31', 'x_32', 'x_33', 'x_34', 'x_35', 'x_36', 'x_37', 'x_38', 'x_39', \n",
    "                  'x_40', 'x_41', 'x_42', 'x_43', 'x_44', 'x_45', 'x_46', 'x_47', 'x_48', 'x_49',\n",
    "                  'x_50', 'x_51', 'x_52', 'x_53', 'x_54', 'x_55', 'x_56', 'x_57', 'x_58', 'x_59',\n",
    "                  'x_60', 'x_61', 'x_62', 'x_63', 'x_64', 'x_65', 'x_66', 'x_67',\n",
    "                  'y_0', 'y_1', 'y_2', 'y_3', 'y_4', 'y_5', 'y_6', 'y_7', 'y_8', 'y_9',\n",
    "                  'y_10', 'y_11', 'y_12', 'y_13', 'y_14', 'y_15', 'y_16', 'y_17', 'y_18', 'y_19', \n",
    "                  'y_20', 'y_21', 'y_22', 'y_23', 'y_24', 'y_25', 'y_26', 'y_27', 'y_28', 'y_29',\n",
    "                  'y_30', 'y_31', 'y_32', 'y_33', 'y_34', 'y_35', 'y_36', 'y_37', 'y_38', 'y_39',\n",
    "                  'y_40', 'y_41', 'y_42', 'y_43', 'y_44', 'y_45', 'y_46', 'y_47', 'y_48', 'y_49', \n",
    "                  'y_50', 'y_51', 'y_52', 'y_53', 'y_54', 'y_55', 'y_56', 'y_57', 'y_58', 'y_59', \n",
    "                  'y_60', 'y_61', 'y_62', 'y_63', 'y_64', 'y_65', 'y_66', 'y_67', \n",
    "                  'X_0', 'X_1', 'X_2', 'X_3', 'X_4', 'X_5', 'X_6', 'X_7', 'X_8', 'X_9', \n",
    "                  'X_10', 'X_11', 'X_12', 'X_13', 'X_14', 'X_15', 'X_16', 'X_17', 'X_18', 'X_19', \n",
    "                  'X_20', 'X_21', 'X_22', 'X_23', 'X_24', 'X_25', 'X_26', 'X_27', 'X_28', 'X_29', \n",
    "                  'X_30', 'X_31', 'X_32', 'X_33', 'X_34', 'X_35', 'X_36', 'X_37', 'X_38', 'X_39', \n",
    "                  'X_40', 'X_41', 'X_42', 'X_43', 'X_44', 'X_45', 'X_46', 'X_47', 'X_48', 'X_49', \n",
    "                  'X_50', 'X_51', 'X_52', 'X_53', 'X_54', 'X_55', 'X_56', 'X_57', 'X_58', 'X_59', \n",
    "                  'X_60', 'X_61', 'X_62', 'X_63', 'X_64', 'X_65', 'X_66', 'X_67', \n",
    "                  'Y_0', 'Y_1', 'Y_2', 'Y_3', 'Y_4', 'Y_5', 'Y_6', 'Y_7', 'Y_8', 'Y_9',\n",
    "                  'Y_10', 'Y_11', 'Y_12', 'Y_13', 'Y_14', 'Y_15', 'Y_16', 'Y_17', 'Y_18', 'Y_19',\n",
    "                  'Y_20', 'Y_21', 'Y_22', 'Y_23', 'Y_24', 'Y_25', 'Y_26', 'Y_27', 'Y_28', 'Y_29', \n",
    "                  'Y_30', 'Y_31', 'Y_32', 'Y_33', 'Y_34', 'Y_35', 'Y_36', 'Y_37', 'Y_38', 'Y_39', \n",
    "                  'Y_40', 'Y_41', 'Y_42', 'Y_43', 'Y_44', 'Y_45', 'Y_46', 'Y_47', 'Y_48', 'Y_49', \n",
    "                  'Y_50', 'Y_51', 'Y_52', 'Y_53', 'Y_54', 'Y_55', 'Y_56', 'Y_57', 'Y_58', 'Y_59', \n",
    "                  'Y_60', 'Y_61', 'Y_62', 'Y_63', 'Y_64', 'Y_65', 'Y_66', 'Y_67',\n",
    "                  'Z_0', 'Z_1', 'Z_2', 'Z_3', 'Z_4', 'Z_5', 'Z_6', 'Z_7', 'Z_8', 'Z_9',\n",
    "                  'Z_10', 'Z_11', 'Z_12', 'Z_13', 'Z_14', 'Z_15', 'Z_16', 'Z_17', 'Z_18', 'Z_19',\n",
    "                  'Z_20', 'Z_21', 'Z_22', 'Z_23', 'Z_24', 'Z_25', 'Z_26', 'Z_27', 'Z_28', 'Z_29',\n",
    "                  'Z_30', 'Z_31', 'Z_32', 'Z_33', 'Z_34', 'Z_35', 'Z_36', 'Z_37', 'Z_38', 'Z_39',\n",
    "                  'Z_40', 'Z_41', 'Z_42', 'Z_43', 'Z_44', 'Z_45', 'Z_46', 'Z_47', 'Z_48', 'Z_49',\n",
    "                  'Z_50', 'Z_51', 'Z_52', 'Z_53', 'Z_54', 'Z_55', 'Z_56', 'Z_57', 'Z_58', 'Z_59',\n",
    "                  'Z_60', 'Z_61', 'Z_62', 'Z_63', 'Z_64', 'Z_65', 'Z_66', 'Z_67',\n",
    "                  'p_scale', 'p_rx', 'p_ry', 'p_rz', 'p_tx', 'p_ty', \n",
    "                  'p_0', 'p_1', 'p_2', 'p_3', 'p_4', 'p_5', 'p_6', 'p_7', 'p_8', 'p_9', \n",
    "                  'p_10', 'p_11', 'p_12', 'p_13', 'p_14', 'p_15', 'p_16', 'p_17', 'p_18', 'p_19',\n",
    "                  'p_20', 'p_21', 'p_22', 'p_23', 'p_24', 'p_25', 'p_26', 'p_27', 'p_28', 'p_29', \n",
    "                  'p_30', 'p_31', 'p_32', 'p_33', \n",
    "                  'AU01_r', 'AU02_r', 'AU04_r', 'AU05_r', 'AU06_r', 'AU07_r', 'AU09_r', 'AU10_r', \n",
    "                  'AU12_r', 'AU14_r', 'AU15_r', 'AU17_r', 'AU20_r', 'AU23_r', 'AU25_r', 'AU26_r', \n",
    "                  'AU45_r', \n",
    "                  'AU01_c', 'AU02_c', 'AU04_c', 'AU05_c', 'AU06_c', 'AU07_c', 'AU09_c', 'AU10_c', \n",
    "                  'AU12_c', 'AU14_c', 'AU15_c', 'AU17_c', 'AU20_c', 'AU23_c', 'AU25_c', 'AU26_c', \n",
    "                  'AU28_c', 'AU45_c'\n",
    "                  ]"
   ]
  },
  {
   "cell_type": "code",
   "execution_count": 4,
   "metadata": {},
   "outputs": [
    {
     "data": {
      "text/plain": [
       "714"
      ]
     },
     "execution_count": 4,
     "metadata": {},
     "output_type": "execute_result"
    }
   ],
   "source": [
    "len(columns)"
   ]
  },
  {
   "cell_type": "code",
   "execution_count": 5,
   "metadata": {},
   "outputs": [],
   "source": [
    "col='frame, face_id, timestamp, confidence, success, gaze_0_x, gaze_0_y, gaze_0_z, gaze_1_x, gaze_1_y, gaze_1_z, gaze_angle_x, gaze_angle_y, eye_lmk_x_0, eye_lmk_x_1, eye_lmk_x_2, eye_lmk_x_3, eye_lmk_x_4, eye_lmk_x_5, eye_lmk_x_6, eye_lmk_x_7, eye_lmk_x_8, eye_lmk_x_9, eye_lmk_x_10, eye_lmk_x_11, eye_lmk_x_12, eye_lmk_x_13, eye_lmk_x_14, eye_lmk_x_15, eye_lmk_x_16, eye_lmk_x_17, eye_lmk_x_18, eye_lmk_x_19, eye_lmk_x_20, eye_lmk_x_21, eye_lmk_x_22, eye_lmk_x_23, eye_lmk_x_24, eye_lmk_x_25, eye_lmk_x_26, eye_lmk_x_27, eye_lmk_x_28, eye_lmk_x_29, eye_lmk_x_30, eye_lmk_x_31, eye_lmk_x_32, eye_lmk_x_33, eye_lmk_x_34, eye_lmk_x_35, eye_lmk_x_36, eye_lmk_x_37, eye_lmk_x_38, eye_lmk_x_39, eye_lmk_x_40, eye_lmk_x_41, eye_lmk_x_42, eye_lmk_x_43, eye_lmk_x_44, eye_lmk_x_45, eye_lmk_x_46, eye_lmk_x_47, eye_lmk_x_48, eye_lmk_x_49, eye_lmk_x_50, eye_lmk_x_51, eye_lmk_x_52, eye_lmk_x_53, eye_lmk_x_54, eye_lmk_x_55, eye_lmk_y_0, eye_lmk_y_1, eye_lmk_y_2, eye_lmk_y_3, eye_lmk_y_4, eye_lmk_y_5, eye_lmk_y_6, eye_lmk_y_7, eye_lmk_y_8, eye_lmk_y_9, eye_lmk_y_10, eye_lmk_y_11, eye_lmk_y_12, eye_lmk_y_13, eye_lmk_y_14, eye_lmk_y_15, eye_lmk_y_16, eye_lmk_y_17, eye_lmk_y_18, eye_lmk_y_19, eye_lmk_y_20, eye_lmk_y_21, eye_lmk_y_22, eye_lmk_y_23, eye_lmk_y_24, eye_lmk_y_25, eye_lmk_y_26, eye_lmk_y_27, eye_lmk_y_28, eye_lmk_y_29, eye_lmk_y_30, eye_lmk_y_31, eye_lmk_y_32, eye_lmk_y_33, eye_lmk_y_34, eye_lmk_y_35, eye_lmk_y_36, eye_lmk_y_37, eye_lmk_y_38, eye_lmk_y_39, eye_lmk_y_40, eye_lmk_y_41, eye_lmk_y_42, eye_lmk_y_43, eye_lmk_y_44, eye_lmk_y_45, eye_lmk_y_46, eye_lmk_y_47, eye_lmk_y_48, eye_lmk_y_49, eye_lmk_y_50, eye_lmk_y_51, eye_lmk_y_52, eye_lmk_y_53, eye_lmk_y_54, eye_lmk_y_55, eye_lmk_X_0, eye_lmk_X_1, eye_lmk_X_2, eye_lmk_X_3, eye_lmk_X_4, eye_lmk_X_5, eye_lmk_X_6, eye_lmk_X_7, eye_lmk_X_8, eye_lmk_X_9, eye_lmk_X_10, eye_lmk_X_11, eye_lmk_X_12, eye_lmk_X_13, eye_lmk_X_14, eye_lmk_X_15, eye_lmk_X_16, eye_lmk_X_17, eye_lmk_X_18, eye_lmk_X_19, eye_lmk_X_20, eye_lmk_X_21, eye_lmk_X_22, eye_lmk_X_23, eye_lmk_X_24, eye_lmk_X_25, eye_lmk_X_26, eye_lmk_X_27, eye_lmk_X_28, eye_lmk_X_29, eye_lmk_X_30, eye_lmk_X_31, eye_lmk_X_32, eye_lmk_X_33, eye_lmk_X_34, eye_lmk_X_35, eye_lmk_X_36, eye_lmk_X_37, eye_lmk_X_38, eye_lmk_X_39, eye_lmk_X_40, eye_lmk_X_41, eye_lmk_X_42, eye_lmk_X_43, eye_lmk_X_44, eye_lmk_X_45, eye_lmk_X_46, eye_lmk_X_47, eye_lmk_X_48, eye_lmk_X_49, eye_lmk_X_50, eye_lmk_X_51, eye_lmk_X_52, eye_lmk_X_53, eye_lmk_X_54, eye_lmk_X_55, eye_lmk_Y_0, eye_lmk_Y_1, eye_lmk_Y_2, eye_lmk_Y_3, eye_lmk_Y_4, eye_lmk_Y_5, eye_lmk_Y_6, eye_lmk_Y_7, eye_lmk_Y_8, eye_lmk_Y_9, eye_lmk_Y_10, eye_lmk_Y_11, eye_lmk_Y_12, eye_lmk_Y_13, eye_lmk_Y_14, eye_lmk_Y_15, eye_lmk_Y_16, eye_lmk_Y_17, eye_lmk_Y_18, eye_lmk_Y_19, eye_lmk_Y_20, eye_lmk_Y_21, eye_lmk_Y_22, eye_lmk_Y_23, eye_lmk_Y_24, eye_lmk_Y_25, eye_lmk_Y_26, eye_lmk_Y_27, eye_lmk_Y_28, eye_lmk_Y_29, eye_lmk_Y_30, eye_lmk_Y_31, eye_lmk_Y_32, eye_lmk_Y_33, eye_lmk_Y_34, eye_lmk_Y_35, eye_lmk_Y_36, eye_lmk_Y_37, eye_lmk_Y_38, eye_lmk_Y_39, eye_lmk_Y_40, eye_lmk_Y_41, eye_lmk_Y_42, eye_lmk_Y_43, eye_lmk_Y_44, eye_lmk_Y_45, eye_lmk_Y_46, eye_lmk_Y_47, eye_lmk_Y_48, eye_lmk_Y_49, eye_lmk_Y_50, eye_lmk_Y_51, eye_lmk_Y_52, eye_lmk_Y_53, eye_lmk_Y_54, eye_lmk_Y_55, eye_lmk_Z_0, eye_lmk_Z_1, eye_lmk_Z_2, eye_lmk_Z_3, eye_lmk_Z_4, eye_lmk_Z_5, eye_lmk_Z_6, eye_lmk_Z_7, eye_lmk_Z_8, eye_lmk_Z_9, eye_lmk_Z_10, eye_lmk_Z_11, eye_lmk_Z_12, eye_lmk_Z_13, eye_lmk_Z_14, eye_lmk_Z_15, eye_lmk_Z_16, eye_lmk_Z_17, eye_lmk_Z_18, eye_lmk_Z_19, eye_lmk_Z_20, eye_lmk_Z_21, eye_lmk_Z_22, eye_lmk_Z_23, eye_lmk_Z_24, eye_lmk_Z_25, eye_lmk_Z_26, eye_lmk_Z_27, eye_lmk_Z_28, eye_lmk_Z_29, eye_lmk_Z_30, eye_lmk_Z_31, eye_lmk_Z_32, eye_lmk_Z_33, eye_lmk_Z_34, eye_lmk_Z_35, eye_lmk_Z_36, eye_lmk_Z_37, eye_lmk_Z_38, eye_lmk_Z_39, eye_lmk_Z_40, eye_lmk_Z_41, eye_lmk_Z_42, eye_lmk_Z_43, eye_lmk_Z_44, eye_lmk_Z_45, eye_lmk_Z_46, eye_lmk_Z_47, eye_lmk_Z_48, eye_lmk_Z_49, eye_lmk_Z_50, eye_lmk_Z_51, eye_lmk_Z_52, eye_lmk_Z_53, eye_lmk_Z_54, eye_lmk_Z_55, pose_Tx, pose_Ty, pose_Tz, pose_Rx, pose_Ry, pose_Rz, x_0, x_1, x_2, x_3, x_4, x_5, x_6, x_7, x_8, x_9, x_10, x_11, x_12, x_13, x_14, x_15, x_16, x_17, x_18, x_19, x_20, x_21, x_22, x_23, x_24, x_25, x_26, x_27, x_28, x_29, x_30, x_31, x_32, x_33, x_34, x_35, x_36, x_37, x_38, x_39, x_40, x_41, x_42, x_43, x_44, x_45, x_46, x_47, x_48, x_49, x_50, x_51, x_52, x_53, x_54, x_55, x_56, x_57, x_58, x_59, x_60, x_61, x_62, x_63, x_64, x_65, x_66, x_67, y_0, y_1, y_2, y_3, y_4, y_5, y_6, y_7, y_8, y_9, y_10, y_11, y_12, y_13, y_14, y_15, y_16, y_17, y_18, y_19, y_20, y_21, y_22, y_23, y_24, y_25, y_26, y_27, y_28, y_29, y_30, y_31, y_32, y_33, y_34, y_35, y_36, y_37, y_38, y_39, y_40, y_41, y_42, y_43, y_44, y_45, y_46, y_47, y_48, y_49, y_50, y_51, y_52, y_53, y_54, y_55, y_56, y_57, y_58, y_59, y_60, y_61, y_62, y_63, y_64, y_65, y_66, y_67, X_0, X_1, X_2, X_3, X_4, X_5, X_6, X_7, X_8, X_9, X_10, X_11, X_12, X_13, X_14, X_15, X_16, X_17, X_18, X_19, X_20, X_21, X_22, X_23, X_24, X_25, X_26, X_27, X_28, X_29, X_30, X_31, X_32, X_33, X_34, X_35, X_36, X_37, X_38, X_39, X_40, X_41, X_42, X_43, X_44, X_45, X_46, X_47, X_48, X_49, X_50, X_51, X_52, X_53, X_54, X_55, X_56, X_57, X_58, X_59, X_60, X_61, X_62, X_63, X_64, X_65, X_66, X_67, Y_0, Y_1, Y_2, Y_3, Y_4, Y_5, Y_6, Y_7, Y_8, Y_9, Y_10, Y_11, Y_12, Y_13, Y_14, Y_15, Y_16, Y_17, Y_18, Y_19, Y_20, Y_21, Y_22, Y_23, Y_24, Y_25, Y_26, Y_27, Y_28, Y_29, Y_30, Y_31, Y_32, Y_33, Y_34, Y_35, Y_36, Y_37, Y_38, Y_39, Y_40, Y_41, Y_42, Y_43, Y_44, Y_45, Y_46, Y_47, Y_48, Y_49, Y_50, Y_51, Y_52, Y_53, Y_54, Y_55, Y_56, Y_57, Y_58, Y_59, Y_60, Y_61, Y_62, Y_63, Y_64, Y_65, Y_66, Y_67, Z_0, Z_1, Z_2, Z_3, Z_4, Z_5, Z_6, Z_7, Z_8, Z_9, Z_10, Z_11, Z_12, Z_13, Z_14, Z_15, Z_16, Z_17, Z_18, Z_19, Z_20, Z_21, Z_22, Z_23, Z_24, Z_25, Z_26, Z_27, Z_28, Z_29, Z_30, Z_31, Z_32, Z_33, Z_34, Z_35, Z_36, Z_37, Z_38, Z_39, Z_40, Z_41, Z_42, Z_43, Z_44, Z_45, Z_46, Z_47, Z_48, Z_49, Z_50, Z_51, Z_52, Z_53, Z_54, Z_55, Z_56, Z_57, Z_58, Z_59, Z_60, Z_61, Z_62, Z_63, Z_64, Z_65, Z_66, Z_67, p_scale, p_rx, p_ry, p_rz, p_tx, p_ty, p_0, p_1, p_2, p_3, p_4, p_5, p_6, p_7, p_8, p_9, p_10, p_11, p_12, p_13, p_14, p_15, p_16, p_17, p_18, p_19, p_20, p_21, p_22, p_23, p_24, p_25, p_26, p_27, p_28, p_29, p_30, p_31, p_32, p_33, AU01_r, AU02_r, AU04_r, AU05_r, AU06_r, AU07_r, AU09_r, AU10_r, AU12_r, AU14_r, AU15_r, AU17_r, AU20_r, AU23_r, AU25_r, AU26_r, AU45_r, AU01_c, AU02_c, AU04_c, AU05_c, AU06_c, AU07_c, AU09_c, AU10_c, AU12_c, AU14_c, AU15_c, AU17_c, AU20_c, AU23_c, AU25_c, AU26_c, AU28_c, AU45_c'.split(', ')"
   ]
  },
  {
   "cell_type": "markdown",
   "metadata": {},
   "source": [
    "# datalodaer.py, model.py test"
   ]
  },
  {
   "cell_type": "code",
   "execution_count": 6,
   "metadata": {},
   "outputs": [],
   "source": [
    "SAVE_MODELS=False #give True to save qualified models"
   ]
  },
  {
   "cell_type": "code",
   "execution_count": 7,
   "metadata": {},
   "outputs": [],
   "source": [
    "import pandas as pd\n",
    "import numpy as np\n",
    "from dataloader import Path_labels, OpenFace_DataLoader\n",
    "from model import MLP"
   ]
  },
  {
   "cell_type": "code",
   "execution_count": 8,
   "metadata": {},
   "outputs": [],
   "source": [
    "if True: #When actually training\n",
    "    train_path_labels=Path_labels(pd.read_csv(r\"C:\\GitHub\\Smart-Education-data\\data\\DAiSEE\\Sorted\\sorted_labels_train.csv\", index_col=0))\n",
    "    test_path_labels=Path_labels(pd.read_csv(r\"C:\\GitHub\\Smart-Education-data\\data\\DAiSEE\\Sorted\\sorted_labels_test.csv\", index_col=0))\n",
    "else: #when verifying the codes\n",
    "    train_path_labels=Path_labels(pd.read_csv(r\"C:\\GitHub\\Smart-Education-data\\data\\DAiSEE\\Sorted\\sorted_labels_train.csv\", index_col=0)[:10])\n",
    "    test_path_labels=Path_labels(pd.read_csv(r\"C:\\GitHub\\Smart-Education-data\\data\\DAiSEE\\Sorted\\sorted_labels_test.csv\", index_col=0)[:10])"
   ]
  },
  {
   "cell_type": "code",
   "execution_count": 9,
   "metadata": {},
   "outputs": [],
   "source": [
    "trainloader=OpenFace_DataLoader(n=10, #number of frames per video\n",
    "                                path_labels=train_path_labels, #path information to load the csv files (consider path like a pointer)\n",
    "                                batch_size=500, #note: batch_size must be divided by n (e.g., 500/10=50 => fine)\n",
    "                                feature_set=None, #None means auto mode to decide features to be used for X\n",
    "                                y_col=['Engagement'], #In this study, only Engagement labels are used\n",
    "                                seed=0) #for reproductivity\n",
    "\n",
    "testloader=OpenFace_DataLoader(n=10, #number of frames per video\n",
    "                                path_labels=test_path_labels, #path information to load the csv files (consider path like a pointer)\n",
    "                                batch_size=500, #note: batch_size must be divided by n (e.g., 500/10=50 => fine)\n",
    "                                feature_set=None, #None means auto mode to decide features to be used for X\n",
    "                                y_col=['Engagement'], #In this study, only Engagement labels are used\n",
    "                                seed=0) #for reproductivity"
   ]
  },
  {
   "cell_type": "code",
   "execution_count": 10,
   "metadata": {},
   "outputs": [
    {
     "data": {
      "text/plain": [
       "54820"
      ]
     },
     "execution_count": 10,
     "metadata": {},
     "output_type": "execute_result"
    }
   ],
   "source": [
    "trainloader.len_data"
   ]
  },
  {
   "cell_type": "markdown",
   "metadata": {},
   "source": [
    "model test..."
   ]
  },
  {
   "cell_type": "code",
   "execution_count": 45,
   "metadata": {},
   "outputs": [],
   "source": [
    "trainloader.to('cuda')\n",
    "testloader.to('cuda')"
   ]
  },
  {
   "cell_type": "markdown",
   "metadata": {},
   "source": [
    "classifier approach"
   ]
  },
  {
   "cell_type": "code",
   "execution_count": 12,
   "metadata": {},
   "outputs": [],
   "source": [
    "# del MLP\n",
    "from model import MLP\n",
    "import torch\n",
    "from os.path import join as ospj"
   ]
  },
  {
   "cell_type": "code",
   "execution_count": 13,
   "metadata": {},
   "outputs": [
    {
     "name": "stdout",
     "output_type": "stream",
     "text": [
      "709\n"
     ]
    }
   ],
   "source": [
    "torch.manual_seed(0)\n",
    "D_in=len(OpenFace_DataLoader.columns)-len([\n",
    "    'frame', 'face_id', 'timestamp', \n",
    "    'confidence', 'success', 'Boredom', \n",
    "    'Engagement', 'Confusion', 'Frustration'])\n",
    "print(D_in)\n",
    "model=MLP([D_in, 256, 64, 16, 4], \n",
    "            n_classes=2,\n",
    "            loss_function='CrossEntropyLoss', loss_function_params=dict(),\n",
    "            optimizer='Adam', optimizer_params=dict(lr=1e-3, weight_decay=1e-4),\n",
    "            af='ReLU', af_params=dict(),\n",
    "            af_fin='Sigmoid', af_fin_params=dict(),\n",
    "            attach_softmax=True)"
   ]
  },
  {
   "cell_type": "code",
   "execution_count": 14,
   "metadata": {},
   "outputs": [
    {
     "name": "stdout",
     "output_type": "stream",
     "text": [
      "0\t0.9547610361182051\t0.950667440510737\n",
      "1\t0.9547610361182051\t0.950667440510737\n",
      "2\t0.9547610361182051\t0.950667440510737\n",
      "3\t0.9547610361182051\t0.950667440510737\n",
      "4\t0.9547610361182051\t0.950667440510737\n",
      "5\t0.9547610361182051\t0.950667440510737\n",
      "6\t0.9547610361182051\t0.950667440510737\n",
      "7\t0.9547610361182051\t0.950667440510737\n",
      "8\t0.9547610361182051\t0.950667440510737\n",
      "9\t0.9547610361182051\t0.950667440510737\n",
      "10\t0.9547610361182051\t0.950667440510737\n",
      "11\t0.9547610361182051\t0.950667440510737\n",
      "12\t0.9547610361182051\t0.950667440510737\n",
      "13\t0.9547610361182051\t0.950667440510737\n",
      "14\t0.9547610361182051\t0.950667440510737\n",
      "15\t0.9547610361182051\t0.950667440510737\n",
      "16\t0.9547610361182051\t0.950667440510737\n",
      "17\t0.9547610361182051\t0.950667440510737\n",
      "18\t0.9547610361182051\t0.950667440510737\n",
      "19\t0.9547610361182051\t0.950667440510737\n",
      "20\t0.9547610361182051\t0.950667440510737\n",
      "21\t0.9547610361182051\t0.950667440510737\n",
      "22\t0.9547610361182051\t0.950667440510737\n",
      "23\t0.9547610361182051\t0.950667440510737\n",
      "24\t0.9547610361182051\t0.950667440510737\n",
      "25\t0.9547610361182051\t0.950667440510737\n"
     ]
    },
    {
     "ename": "KeyboardInterrupt",
     "evalue": "",
     "output_type": "error",
     "traceback": [
      "\u001b[1;31m---------------------------------------------------------------------------\u001b[0m",
      "\u001b[1;31mKeyboardInterrupt\u001b[0m                         Traceback (most recent call last)",
      "Cell \u001b[1;32mIn[14], line 12\u001b[0m\n\u001b[0;32m     10\u001b[0m     labels_te\u001b[39m+\u001b[39m\u001b[39m=\u001b[39my\u001b[39m.\u001b[39mravel()\u001b[39m.\u001b[39mdetach()\u001b[39m.\u001b[39mcpu()\n\u001b[0;32m     11\u001b[0m \u001b[39mfor\u001b[39;00m i \u001b[39min\u001b[39;00m \u001b[39mrange\u001b[39m(\u001b[39m50\u001b[39m):\n\u001b[1;32m---> 12\u001b[0m     model\u001b[39m.\u001b[39;49mtrain(trainloader, epochs\u001b[39m=\u001b[39;49m\u001b[39m100\u001b[39;49m, attach_label_onehot\u001b[39m=\u001b[39;49m\u001b[39mFalse\u001b[39;49;00m, attach_label_binarize\u001b[39m=\u001b[39;49m\u001b[39mTrue\u001b[39;49;00m)\n\u001b[0;32m     13\u001b[0m     pred_tr\u001b[39m=\u001b[39mmodel\u001b[39m.\u001b[39mtest(trainloader, attach_label_onehot\u001b[39m=\u001b[39m\u001b[39mFalse\u001b[39;00m, attach_label_binarize\u001b[39m=\u001b[39m\u001b[39mTrue\u001b[39;00m) \u001b[39m#validation\u001b[39;00m\n\u001b[0;32m     14\u001b[0m     pred_te\u001b[39m=\u001b[39mmodel\u001b[39m.\u001b[39mtest(testloader, attach_label_onehot\u001b[39m=\u001b[39m\u001b[39mFalse\u001b[39;00m, attach_label_binarize\u001b[39m=\u001b[39m\u001b[39mTrue\u001b[39;00m) \u001b[39m#test\u001b[39;00m\n",
      "File \u001b[1;32mc:\\Users\\Ranjani\\Desktop\\Package\\Smart-Education\\EngaementModel\\model.py:75\u001b[0m, in \u001b[0;36mMLP.train\u001b[1;34m(self, dataLoader, epochs, attach_label_onehot, attach_label_binarize)\u001b[0m\n\u001b[0;32m     73\u001b[0m \u001b[39melif\u001b[39;00m attach_label_binarize:\n\u001b[0;32m     74\u001b[0m     label\u001b[39m=\u001b[39m(label\u001b[39m>\u001b[39m\u001b[39m=\u001b[39m\u001b[39m2.0\u001b[39m)\u001b[39m.\u001b[39mint()\u001b[39m.\u001b[39mlong()\n\u001b[1;32m---> 75\u001b[0m \u001b[39mself\u001b[39;49m\u001b[39m.\u001b[39;49moptimizer\u001b[39m.\u001b[39;49mzero_grad()\n\u001b[0;32m     76\u001b[0m output\u001b[39m=\u001b[39m\u001b[39mself\u001b[39m(x)\n\u001b[0;32m     77\u001b[0m \u001b[39mif\u001b[39;00m \u001b[39mself\u001b[39m\u001b[39m.\u001b[39mn_classes\u001b[39m>\u001b[39m\u001b[39m2\u001b[39m:\n",
      "File \u001b[1;32mc:\\Users\\Ranjani\\miniconda3\\lib\\site-packages\\torch\\optim\\optimizer.py:279\u001b[0m, in \u001b[0;36mOptimizer.zero_grad\u001b[1;34m(self, set_to_none)\u001b[0m\n\u001b[0;32m    277\u001b[0m     p\u001b[39m.\u001b[39mgrad\u001b[39m.\u001b[39mrequires_grad_(\u001b[39mFalse\u001b[39;00m)\n\u001b[0;32m    278\u001b[0m \u001b[39mif\u001b[39;00m (\u001b[39mnot\u001b[39;00m foreach \u001b[39mor\u001b[39;00m p\u001b[39m.\u001b[39mgrad\u001b[39m.\u001b[39mis_sparse):\n\u001b[1;32m--> 279\u001b[0m     p\u001b[39m.\u001b[39;49mgrad\u001b[39m.\u001b[39;49mzero_()\n\u001b[0;32m    280\u001b[0m \u001b[39melse\u001b[39;00m:\n\u001b[0;32m    281\u001b[0m     per_device_and_dtype_grads[p\u001b[39m.\u001b[39mgrad\u001b[39m.\u001b[39mdevice][p\u001b[39m.\u001b[39mgrad\u001b[39m.\u001b[39mdtype]\u001b[39m.\u001b[39mappend(p\u001b[39m.\u001b[39mgrad)\n",
      "\u001b[1;31mKeyboardInterrupt\u001b[0m: "
     ]
    }
   ],
   "source": [
    "from sklearn.metrics import accuracy_score\n",
    "path=r'C:\\GitHub\\Smart-Education-data\\data\\DAiSEE\\Sorted\\Saved_models'\n",
    "torch.manual_seed(0)\n",
    "\n",
    "labels_tr=[]\n",
    "labels_te=[]\n",
    "for _, y in trainloader:\n",
    "    labels_tr+=y.ravel().detach().cpu()\n",
    "for _, y in testloader:\n",
    "    labels_te+=y.ravel().detach().cpu()\n",
    "for i in range(50):\n",
    "    model.train(trainloader, epochs=100, attach_label_onehot=False, attach_label_binarize=True)\n",
    "    pred_tr=model.test(trainloader, attach_label_onehot=False, attach_label_binarize=True) #validation\n",
    "    pred_te=model.test(testloader, attach_label_onehot=False, attach_label_binarize=True) #test\n",
    "    acc_tr=accuracy_score(np.array(labels_tr)>=2.0, pred_tr.detach().argmax(dim=1).cpu().numpy())\n",
    "    acc_te=accuracy_score(np.array(labels_te)>=2.0, pred_te.detach().argmax(dim=1).cpu().numpy())\n",
    "    print(i, acc_tr, acc_te, sep='\\t')\n",
    "    if acc_tr>=0.9 or acc_te>=0.9:\n",
    "        if SAVE_MODELS:\n",
    "            torch.save(model, ospj(path, f'MLP_clf_CE_ep{(i+1)*100}'))"
   ]
  },
  {
   "attachments": {},
   "cell_type": "markdown",
   "metadata": {},
   "source": [
    "classification - Binary Cross Entropy Loss Model (trained with 4-level)"
   ]
  },
  {
   "cell_type": "code",
   "execution_count": 46,
   "metadata": {},
   "outputs": [
    {
     "name": "stdout",
     "output_type": "stream",
     "text": [
      "709\n"
     ]
    }
   ],
   "source": [
    "torch.manual_seed(0)\n",
    "D_in=len(OpenFace_DataLoader.columns)-len([\n",
    "    'frame', 'face_id', 'timestamp', \n",
    "    'confidence', 'success', 'Boredom', \n",
    "    'Engagement', 'Confusion', 'Frustration'])\n",
    "print(D_in)\n",
    "model=MLP([D_in, 256, 64, 16, 4], \n",
    "            n_classes=4,\n",
    "            loss_function='BCELoss', loss_function_params=dict(),\n",
    "            optimizer='Adam', optimizer_params=dict(lr=1e-3, weight_decay=1e-4),\n",
    "            af='ReLU', af_params=dict(),\n",
    "            af_fin='Sigmoid', af_fin_params=dict(),\n",
    "            attach_softmax=True)"
   ]
  },
  {
   "cell_type": "code",
   "execution_count": 47,
   "metadata": {},
   "outputs": [
    {
     "name": "stdout",
     "output_type": "stream",
     "text": [
      "Accuracy Score\n",
      "0\t0.7126960963152135\t0.48479396401625074\t0.9547610361182051\t0.950667440510737\n",
      "Accuracy Score\n",
      "1\t0.7498358263407515\t0.4759721416134649\t0.9549069682597592\t0.9456181079512478\n",
      "Accuracy Score\n",
      "2\t0.7734038672017511\t0.4690075449796866\t0.956238599051441\t0.9386535113174695\n",
      "Accuracy Score\n",
      "3\t0.7687887632251004\t0.47701683110853166\t0.9597044874133528\t0.9342426001160766\n",
      "Accuracy Score\n",
      "4\t0.8122400583728566\t0.47115496227510156\t0.9629879605983218\t0.9239698200812536\n",
      "Accuracy Score\n",
      "5\t0.8315578256110908\t0.46674405107370864\t0.9660525355709595\t0.9291932675565874\n",
      "Accuracy Score\n",
      "6\t0.8236045238963882\t0.46221706326175277\t0.9653775994162714\t0.928322692977365\n",
      "Accuracy Score\n",
      "7\t0.8321597956950019\t0.4834590829947766\t0.9667821962787304\t0.924724318049913\n",
      "Accuracy Score\n",
      "8\t0.8358263407515505\t0.47661056297156124\t0.9676395476103612\t0.9209518282066164\n",
      "Accuracy Score\n",
      "9\t0.8280372126960963\t0.4825304701102728\t0.9673841663626414\t0.9264654672083575\n",
      "Accuracy Score\n",
      "10\t0.8628420284567676\t0.46767266395821244\t0.9712148850784386\t0.9219965177016831\n",
      "Accuracy Score\n",
      "11\t0.8502553812477198\t0.479570516540917\t0.9698832542867567\t0.928322692977365\n",
      "Accuracy Score\n",
      "12\t0.8473914629697191\t0.4775972141613465\t0.96917183509668\t0.9251886244921649\n",
      "Accuracy Score\n",
      "13\t0.8560744253921926\t0.4759141033081834\t0.9698285297336738\t0.9236215902495647\n",
      "Accuracy Score\n",
      "14\t0.8674753739511127\t0.4680789320951828\t0.9717621306092666\t0.922460824143935\n",
      "Accuracy Score\n",
      "15\t0.8708318132068588\t0.4723737666860128\t0.9717621306092666\t0.9221706326175275\n",
      "Accuracy Score\n",
      "16\t0.8730025538124772\t0.4704004643064423\t0.9720357533746807\t0.9225769007544979\n",
      "Accuracy Score\n",
      "17\t0.8566946369937979\t0.47312826465467206\t0.9717986136446553\t0.9229831688914684\n",
      "Accuracy Score\n",
      "18\t0.8803356439255746\t0.4778874056877539\t0.9743706676395476\t0.924260011607661\n",
      "Accuracy Score\n",
      "19\t0.869974461875228\t0.4694718514219385\t0.9729478292593944\t0.9197330237957052\n",
      "Accuracy Score\n",
      "20\t0.8767967894928858\t0.4749854904236796\t0.971652681503101\t0.9226349390597794\n",
      "Accuracy Score\n",
      "21\t0.8611455673112003\t0.4782936738247243\t0.9718898212331266\t0.918630295995357\n",
      "Accuracy Score\n",
      "22\t0.8659795695001824\t0.4666279744631457\t0.9717074060561839\t0.9209518282066164\n",
      "Accuracy Score\n",
      "23\t0.8670375775264502\t0.4704004643064423\t0.9716344399854068\t0.920661636680209\n",
      "Accuracy Score\n",
      "24\t0.8789675300985041\t0.46964596633778294\t0.9741700109449106\t0.9240278583865351\n",
      "Accuracy Score\n",
      "25\t0.8902407880335644\t0.47661056297156124\t0.9757570229843123\t0.9193847939640163\n",
      "Accuracy Score\n",
      "26\t0.8832542867566582\t0.4721996517701683\t0.9747902225465158\t0.9190946024376089\n",
      "Accuracy Score\n",
      "27\t0.8793323604523896\t0.46912362159024956\t0.9739511127325794\t0.9149738827626234\n",
      "Accuracy Score\n",
      "28\t0.8653228748631886\t0.46598955310504936\t0.9728383801532288\t0.9167730702263494\n",
      "Accuracy Score\n",
      "29\t0.8868478657424298\t0.47260591990713874\t0.975337468077344\t0.9205455600696459\n",
      "Accuracy Score\n",
      "30\t0.8924115286391828\t0.47278003482298314\t0.9756840569135352\t0.9160185722576901\n",
      "Accuracy Score\n",
      "31\t0.8754469171835096\t0.46302959953569356\t0.9730207953301715\t0.918282066163668\n",
      "Accuracy Score\n",
      "32\t0.8894199197373222\t0.467498549042368\t0.9755746078073696\t0.916366802089379\n",
      "Accuracy Score\n",
      "33\t0.8794782925939438\t0.4694718514219385\t0.9743159430864647\t0.9153801508995937\n",
      "Accuracy Score\n",
      "34\t0.8856256840569136\t0.4643064422518862\t0.9746807734403502\t0.9177597214161346\n",
      "Accuracy Score\n",
      "35\t0.8518423932871215\t0.46506094022054556\t0.9706493980299161\t0.9172373766686013\n",
      "Accuracy Score\n",
      "36\t0.863133892739876\t0.47254788160185723\t0.9729843122947829\t0.9190365641323274\n",
      "Accuracy Score\n",
      "37\t0.8802626778547975\t0.46500290191526406\t0.9742794600510762\t0.9173534532791643\n",
      "Accuracy Score\n",
      "38\t0.8738599051441079\t0.45861868833430064\t0.9737504560379423\t0.9163087637840975\n",
      "Accuracy Score\n",
      "39\t0.8916636264137177\t0.4665699361578642\t0.975665815395841\t0.9180499129425421\n",
      "Accuracy Score\n",
      "40\t0.8690623859905144\t0.471561230412072\t0.9723641006931777\t0.9188624492164829\n",
      "Accuracy Score\n",
      "41\t0.871853338197738\t0.4570516540917005\t0.9740788033564393\t0.9179338363319791\n",
      "Accuracy Score\n",
      "42\t0.8834002188982123\t0.47086477074869415\t0.9737869390733309\t0.9211259431224609\n",
      "Accuracy Score\n",
      "43\t0.8821962787303904\t0.46680208937899015\t0.9734221087194455\t0.9196169471851422\n",
      "Accuracy Score\n",
      "44\t0.8958226924480117\t0.46500290191526406\t0.9756110908427581\t0.9210098665118979\n",
      "Accuracy Score\n",
      "45\t0.8590113097409704\t0.465467208357516\t0.9709412623130245\t0.9177597214161346\n",
      "Accuracy Score\n",
      "46\t0.8818132068588107\t0.46395821242019736\t0.9737504560379423\t0.9186883343006385\n",
      "Accuracy Score\n",
      "47\t0.8692995257205399\t0.46871735345327914\t0.9721087194454578\t0.9244341265235055\n",
      "Accuracy Score\n",
      "48\t0.8834549434512952\t0.47614625652930936\t0.9741882524626049\t0.9171793383633198\n",
      "Accuracy Score\n",
      "49\t0.8894016782196279\t0.4702263493905978\t0.9748814301349872\t0.9227510156703425\n"
     ]
    }
   ],
   "source": [
    "# path=r'C:\\GitHub\\Smart-Education-data\\data\\DAiSEE\\Sorted\\Saved_models'\n",
    "# torch.manual_seed(0)\n",
    "# for i in range(50):\n",
    "#     model.train(trainloader, epochs=100, attach_label_onehot=True, attach_label_binarize=False)\n",
    "#     pred=model.test(trainloader, attach_label_onehot=True, attach_label_binarize=False)\n",
    "#     labels=[]\n",
    "#     for _, y in trainloader:\n",
    "#         labels+=y.ravel().detach().cpu()\n",
    "#     from sklearn.metrics import accuracy_score\n",
    "#     # print(np.array(labels)[:5])\n",
    "#     # print(np.round(pred.detach().cpu().argmax(dim=1).numpy())[:5])\n",
    "#     acc=np.sum(np.array(labels)==np.round(pred.detach().cpu().argmax(dim=1).reshape(-1).numpy()))/len(labels)\n",
    "#     acc_b=accuracy_score(np.array(labels)>=2.0, pred.detach().cpu().argmax(dim=1).reshape(-1).numpy()>=2.0)\n",
    "#     print(i, acc, acc_b, sep='\\t')\n",
    "    # [[0, 1, 2],\n",
    "    #  [1, 2, 3]]\n",
    "    # argmax(dim=0) -> [1, 1, 1]\n",
    "    # argmax(dim=1) -> [2, 2]\n",
    "\n",
    "from sklearn.metrics import accuracy_score\n",
    "path=r'C:\\GitHub\\Smart-Education-data\\data\\DAiSEE\\Sorted\\Saved_models'\n",
    "torch.manual_seed(0)\n",
    "\n",
    "labels_tr=[]\n",
    "labels_te=[]\n",
    "for _, y in trainloader:\n",
    "    labels_tr+=y.ravel().detach().cpu()\n",
    "for _, y in testloader:\n",
    "    labels_te+=y.ravel().detach().cpu()\n",
    "for i in range(50):\n",
    "    model.train(trainloader, epochs=100, attach_label_onehot=True, attach_label_binarize=False)\n",
    "    pred_tr=model.test(trainloader, attach_label_onehot=True, attach_label_binarize=False) #validation\n",
    "    pred_te=model.test(testloader, attach_label_onehot=True, attach_label_binarize=False) #test\n",
    "    acc_tr=np.sum(np.array(labels_tr)==np.round(pred_tr.detach().cpu().argmax(dim=1).reshape(-1).numpy()))/len(labels_tr)\n",
    "    acc_te=np.sum(np.array(labels_te)==np.round(pred_te.detach().cpu().argmax(dim=1).reshape(-1).numpy()))/len(labels_te)\n",
    "    acc_tr_b=accuracy_score(np.array(labels_tr)>=2.0, pred_tr.detach().cpu().argmax(dim=1).reshape(-1).numpy()>=2.0)\n",
    "    acc_te_b=accuracy_score(np.array(labels_te)>=2.0, pred_te.detach().cpu().argmax(dim=1).reshape(-1).numpy()>=2.0)\n",
    "    print('Accuracy Score')\n",
    "    print(i, acc_tr, acc_te, acc_tr_b, acc_te_b, sep='\\t')\n",
    "    if acc_tr_b>=0.9 or acc_te_b>=0.9:\n",
    "        if SAVE_MODELS:\n",
    "            torch.save(model, ospj(path, f'MLP_clf_BCE_ep{(i+1)*100}'))\n",
    "    \n",
    "\n",
    "# 44\t0.8958226924480117\t0.46500290191526406\t0.9756110908427581\t0.9210098665118979 => 4500 epochs\n",
    "        0.8958226924480117\t0.46500290191526406\t0.9756110908427581\t0.9210098665118979"
   ]
  },
  {
   "cell_type": "code",
   "execution_count": null,
   "metadata": {},
   "outputs": [],
   "source": [
    "# raise NotImplementedError"
   ]
  },
  {
   "attachments": {},
   "cell_type": "markdown",
   "metadata": {},
   "source": [
    "4 -level classification XGB"
   ]
  },
  {
   "cell_type": "code",
   "execution_count": 54,
   "metadata": {},
   "outputs": [
    {
     "name": "stdout",
     "output_type": "stream",
     "text": [
      "709\n"
     ]
    }
   ],
   "source": [
    "from xgboost import XGBClassifier\n",
    "\n",
    "trainloader.to('cpu')\n",
    "testloader.to('cpu')\n",
    "\n",
    "\n",
    "torch.manual_seed(0)\n",
    "D_in=len(OpenFace_DataLoader.columns)-len([\n",
    "    'frame', 'face_id', 'timestamp', \n",
    "    'confidence', 'success', 'Boredom', \n",
    "    'Engagement', 'Confusion', 'Frustration'])\n",
    "print(D_in)\n",
    "model=XGBClassifier([D_in, 256, 64, 16, 4, 1], \n",
    "            n_classes=1,\n",
    "            loss_function='MSELoss', loss_function_params=dict(),\n",
    "            optimizer='Adam', optimizer_params=dict(lr=1e-3, weight_decay=1e-4),\n",
    "            af='ReLU', af_params=dict(),\n",
    "            af_fin='Tanh', af_fin_params=dict())"
   ]
  },
  {
   "cell_type": "code",
   "execution_count": 55,
   "metadata": {},
   "outputs": [
    {
     "ename": "AttributeError",
     "evalue": "'XGBClassifier' object has no attribute 'train'",
     "output_type": "error",
     "traceback": [
      "\u001b[1;31m---------------------------------------------------------------------------\u001b[0m",
      "\u001b[1;31mAttributeError\u001b[0m                            Traceback (most recent call last)",
      "Cell \u001b[1;32mIn[55], line 10\u001b[0m\n\u001b[0;32m      8\u001b[0m     labels_te\u001b[39m+\u001b[39m\u001b[39m=\u001b[39my\u001b[39m.\u001b[39mdetach()\u001b[39m.\u001b[39mcpu()\n\u001b[0;32m      9\u001b[0m \u001b[39mfor\u001b[39;00m i \u001b[39min\u001b[39;00m \u001b[39mrange\u001b[39m(\u001b[39m50\u001b[39m):\n\u001b[1;32m---> 10\u001b[0m     model\u001b[39m.\u001b[39;49mtrain(trainloader, epochs\u001b[39m=\u001b[39m\u001b[39m100\u001b[39m)\n\u001b[0;32m     11\u001b[0m     pred_tr\u001b[39m=\u001b[39mmodel\u001b[39m.\u001b[39mtest(trainloader)\n\u001b[0;32m     12\u001b[0m     pred_te\u001b[39m=\u001b[39mmodel\u001b[39m.\u001b[39mtest(testloader)\n",
      "\u001b[1;31mAttributeError\u001b[0m: 'XGBClassifier' object has no attribute 'train'"
     ]
    }
   ],
   "source": [
    "path=r'C:\\GitHub\\Smart-Education-data\\data\\DAiSEE\\Sorted\\Saved_models'\n",
    "from sklearn.metrics import accuracy_score\n",
    "torch.manual_seed(0)\n",
    "labels_tr, labels_te=[], []\n",
    "for _, y in trainloader:\n",
    "    labels_tr+=y.detach().cpu()\n",
    "for _, y in testloader:\n",
    "    labels_te+=y.detach().cpu()\n",
    "for i in range(50):\n",
    "    model.train(trainloader, epochs=100)\n",
    "    pred_tr=model.test(trainloader)\n",
    "    pred_te=model.test(testloader)\n",
    "    def map_(values, clip_low, clip_high):\n",
    "        result=[]\n",
    "        for value in values:\n",
    "            value=value[0] #flattening\n",
    "            val=clip_low if value<clip_low else clip_high if value>clip_high else value\n",
    "            result.append(val)\n",
    "        return np.round(np.array(result))\n",
    "    # print(np.array(labels)[:5])\n",
    "    # print(pred[:5])\n",
    "    # print(map_(pred.detach().cpu().numpy(), 0.0, 3.0)[:5])\n",
    "    acc_tr=np.sum(np.array(labels_tr)==map_(pred_tr.detach().cpu().numpy(), 0.0, 3.0))/len(labels_tr)\n",
    "    acc_te=np.sum(np.array(labels_te)==map_(pred_te.detach().cpu().numpy(), 0.0, 3.0))/len(labels_te)\n",
    "    acc_tr_b=accuracy_score(np.array(labels_tr)>=2.0, map_(pred_tr.detach().cpu().numpy(), 0.0, 3.0)>=2.0)\n",
    "    acc_te_b=accuracy_score(np.array(labels_te)>=2.0, map_(pred_te.detach().cpu().numpy(), 0.0, 3.0)>=2.0)\n",
    "    print(i, acc_tr, acc_te, acc_tr_b, acc_te_b, sep='\\t')\n",
    "    if acc_tr_b>=0.9 or acc_te_b>=0.9:\n",
    "        if SAVE_MODELS:\n",
    "            torch.save(model, ospj(path, f'MLP_reg_ep{(i+1)*100}'))\n",
    "    # 33\t0.7965705946734768\t0.45397562391178176\t0.9701386355344764\t0.918398142774231 => 3400 epochs\n",
    "\n",
    "\n",
    "# 44\t0.8958226924480117\t0.46500290191526406\t0.9756110908427581\t0.9210098665118979 => 4500 epochs"
   ]
  },
  {
   "attachments": {},
   "cell_type": "markdown",
   "metadata": {},
   "source": [
    "MLP Regressor approach"
   ]
  },
  {
   "cell_type": "code",
   "execution_count": 40,
   "metadata": {},
   "outputs": [],
   "source": [
    "# del MLP\n",
    "from model import MLPRegressor\n",
    "import torch\n",
    "from os.path import join as ospj"
   ]
  },
  {
   "cell_type": "code",
   "execution_count": 41,
   "metadata": {},
   "outputs": [
    {
     "name": "stdout",
     "output_type": "stream",
     "text": [
      "709\n"
     ]
    }
   ],
   "source": [
    "torch.manual_seed(0)\n",
    "D_in=len(OpenFace_DataLoader.columns)-len([\n",
    "    'frame', 'face_id', 'timestamp', \n",
    "    'confidence', 'success', 'Boredom', \n",
    "    'Engagement', 'Confusion', 'Frustration'])\n",
    "print(D_in)\n",
    "model=MLPRegressor([D_in, 256, 64, 16, 4, 1], \n",
    "            n_classes=1,\n",
    "            loss_function='MSELoss', loss_function_params=dict(),\n",
    "            optimizer='Adam', optimizer_params=dict(lr=1e-3, weight_decay=1e-4),\n",
    "            af='ReLU', af_params=dict(),\n",
    "            af_fin='Tanh', af_fin_params=dict())"
   ]
  },
  {
   "cell_type": "code",
   "execution_count": 42,
   "metadata": {},
   "outputs": [
    {
     "ename": "RuntimeError",
     "evalue": "Expected all tensors to be on the same device, but found at least two devices, cuda:0 and cpu! (when checking argument for argument mat1 in method wrapper_addmm)",
     "output_type": "error",
     "traceback": [
      "\u001b[1;31m---------------------------------------------------------------------------\u001b[0m",
      "\u001b[1;31mRuntimeError\u001b[0m                              Traceback (most recent call last)",
      "Cell \u001b[1;32mIn[42], line 10\u001b[0m\n\u001b[0;32m      8\u001b[0m     labels_te\u001b[39m+\u001b[39m\u001b[39m=\u001b[39my\u001b[39m.\u001b[39mdetach()\u001b[39m.\u001b[39mcpu()\n\u001b[0;32m      9\u001b[0m \u001b[39mfor\u001b[39;00m i \u001b[39min\u001b[39;00m \u001b[39mrange\u001b[39m(\u001b[39m50\u001b[39m):\n\u001b[1;32m---> 10\u001b[0m     model\u001b[39m.\u001b[39;49mtrain(trainloader, epochs\u001b[39m=\u001b[39;49m\u001b[39m100\u001b[39;49m)\n\u001b[0;32m     11\u001b[0m     pred_tr\u001b[39m=\u001b[39mmodel\u001b[39m.\u001b[39mtest(trainloader)\n\u001b[0;32m     12\u001b[0m     pred_te\u001b[39m=\u001b[39mmodel\u001b[39m.\u001b[39mtest(testloader)\n",
      "File \u001b[1;32mc:\\Users\\Ranjani\\Desktop\\Package\\Smart-Education\\EngaementModel\\model.py:182\u001b[0m, in \u001b[0;36mMLPRegressor.train\u001b[1;34m(self, dataLoader, epochs)\u001b[0m\n\u001b[0;32m    180\u001b[0m \u001b[39mfor\u001b[39;00m x, label \u001b[39min\u001b[39;00m dataLoader:\n\u001b[0;32m    181\u001b[0m     \u001b[39mself\u001b[39m\u001b[39m.\u001b[39moptimizer\u001b[39m.\u001b[39mzero_grad()\n\u001b[1;32m--> 182\u001b[0m     output\u001b[39m=\u001b[39m\u001b[39mself\u001b[39;49m(x)\n\u001b[0;32m    183\u001b[0m     loss\u001b[39m=\u001b[39m\u001b[39mself\u001b[39m\u001b[39m.\u001b[39mcriterion(output, label\u001b[39m.\u001b[39mfloat())\n\u001b[0;32m    184\u001b[0m     \u001b[39mself\u001b[39m\u001b[39m.\u001b[39mtrain_losses\u001b[39m=\u001b[39mloss \u001b[39mif\u001b[39;00m \u001b[39mself\u001b[39m\u001b[39m.\u001b[39mtrain_losses\u001b[39m==\u001b[39m\u001b[39mNone\u001b[39;00m \u001b[39melse\u001b[39;00m torch\u001b[39m.\u001b[39mvstack((\u001b[39mself\u001b[39m\u001b[39m.\u001b[39mtrain_losses, loss))\n",
      "File \u001b[1;32mc:\\Users\\Ranjani\\miniconda3\\lib\\site-packages\\torch\\nn\\modules\\module.py:1194\u001b[0m, in \u001b[0;36mModule._call_impl\u001b[1;34m(self, *input, **kwargs)\u001b[0m\n\u001b[0;32m   1190\u001b[0m \u001b[39m# If we don't have any hooks, we want to skip the rest of the logic in\u001b[39;00m\n\u001b[0;32m   1191\u001b[0m \u001b[39m# this function, and just call forward.\u001b[39;00m\n\u001b[0;32m   1192\u001b[0m \u001b[39mif\u001b[39;00m \u001b[39mnot\u001b[39;00m (\u001b[39mself\u001b[39m\u001b[39m.\u001b[39m_backward_hooks \u001b[39mor\u001b[39;00m \u001b[39mself\u001b[39m\u001b[39m.\u001b[39m_forward_hooks \u001b[39mor\u001b[39;00m \u001b[39mself\u001b[39m\u001b[39m.\u001b[39m_forward_pre_hooks \u001b[39mor\u001b[39;00m _global_backward_hooks\n\u001b[0;32m   1193\u001b[0m         \u001b[39mor\u001b[39;00m _global_forward_hooks \u001b[39mor\u001b[39;00m _global_forward_pre_hooks):\n\u001b[1;32m-> 1194\u001b[0m     \u001b[39mreturn\u001b[39;00m forward_call(\u001b[39m*\u001b[39;49m\u001b[39minput\u001b[39;49m, \u001b[39m*\u001b[39;49m\u001b[39m*\u001b[39;49mkwargs)\n\u001b[0;32m   1195\u001b[0m \u001b[39m# Do not call functions when jit is used\u001b[39;00m\n\u001b[0;32m   1196\u001b[0m full_backward_hooks, non_full_backward_hooks \u001b[39m=\u001b[39m [], []\n",
      "File \u001b[1;32mc:\\Users\\Ranjani\\Desktop\\Package\\Smart-Education\\EngaementModel\\model.py:176\u001b[0m, in \u001b[0;36mMLPRegressor.forward\u001b[1;34m(self, x)\u001b[0m\n\u001b[0;32m    172\u001b[0m \u001b[39mdef\u001b[39;00m \u001b[39mforward\u001b[39m(\u001b[39mself\u001b[39m, x):\n\u001b[0;32m    173\u001b[0m     \u001b[39m# if self.attach_softmax:\u001b[39;00m\n\u001b[0;32m    174\u001b[0m         \u001b[39m# return self.softmax(self.estimator(x))\u001b[39;00m\n\u001b[0;32m    175\u001b[0m     \u001b[39m# else:\u001b[39;00m\n\u001b[1;32m--> 176\u001b[0m     \u001b[39mreturn\u001b[39;00m \u001b[39mself\u001b[39;49m\u001b[39m.\u001b[39;49mestimator(x)\n",
      "File \u001b[1;32mc:\\Users\\Ranjani\\miniconda3\\lib\\site-packages\\torch\\nn\\modules\\module.py:1194\u001b[0m, in \u001b[0;36mModule._call_impl\u001b[1;34m(self, *input, **kwargs)\u001b[0m\n\u001b[0;32m   1190\u001b[0m \u001b[39m# If we don't have any hooks, we want to skip the rest of the logic in\u001b[39;00m\n\u001b[0;32m   1191\u001b[0m \u001b[39m# this function, and just call forward.\u001b[39;00m\n\u001b[0;32m   1192\u001b[0m \u001b[39mif\u001b[39;00m \u001b[39mnot\u001b[39;00m (\u001b[39mself\u001b[39m\u001b[39m.\u001b[39m_backward_hooks \u001b[39mor\u001b[39;00m \u001b[39mself\u001b[39m\u001b[39m.\u001b[39m_forward_hooks \u001b[39mor\u001b[39;00m \u001b[39mself\u001b[39m\u001b[39m.\u001b[39m_forward_pre_hooks \u001b[39mor\u001b[39;00m _global_backward_hooks\n\u001b[0;32m   1193\u001b[0m         \u001b[39mor\u001b[39;00m _global_forward_hooks \u001b[39mor\u001b[39;00m _global_forward_pre_hooks):\n\u001b[1;32m-> 1194\u001b[0m     \u001b[39mreturn\u001b[39;00m forward_call(\u001b[39m*\u001b[39;49m\u001b[39minput\u001b[39;49m, \u001b[39m*\u001b[39;49m\u001b[39m*\u001b[39;49mkwargs)\n\u001b[0;32m   1195\u001b[0m \u001b[39m# Do not call functions when jit is used\u001b[39;00m\n\u001b[0;32m   1196\u001b[0m full_backward_hooks, non_full_backward_hooks \u001b[39m=\u001b[39m [], []\n",
      "File \u001b[1;32mc:\\Users\\Ranjani\\miniconda3\\lib\\site-packages\\torch\\nn\\modules\\container.py:204\u001b[0m, in \u001b[0;36mSequential.forward\u001b[1;34m(self, input)\u001b[0m\n\u001b[0;32m    202\u001b[0m \u001b[39mdef\u001b[39;00m \u001b[39mforward\u001b[39m(\u001b[39mself\u001b[39m, \u001b[39minput\u001b[39m):\n\u001b[0;32m    203\u001b[0m     \u001b[39mfor\u001b[39;00m module \u001b[39min\u001b[39;00m \u001b[39mself\u001b[39m:\n\u001b[1;32m--> 204\u001b[0m         \u001b[39minput\u001b[39m \u001b[39m=\u001b[39m module(\u001b[39minput\u001b[39;49m)\n\u001b[0;32m    205\u001b[0m     \u001b[39mreturn\u001b[39;00m \u001b[39minput\u001b[39m\n",
      "File \u001b[1;32mc:\\Users\\Ranjani\\miniconda3\\lib\\site-packages\\torch\\nn\\modules\\module.py:1194\u001b[0m, in \u001b[0;36mModule._call_impl\u001b[1;34m(self, *input, **kwargs)\u001b[0m\n\u001b[0;32m   1190\u001b[0m \u001b[39m# If we don't have any hooks, we want to skip the rest of the logic in\u001b[39;00m\n\u001b[0;32m   1191\u001b[0m \u001b[39m# this function, and just call forward.\u001b[39;00m\n\u001b[0;32m   1192\u001b[0m \u001b[39mif\u001b[39;00m \u001b[39mnot\u001b[39;00m (\u001b[39mself\u001b[39m\u001b[39m.\u001b[39m_backward_hooks \u001b[39mor\u001b[39;00m \u001b[39mself\u001b[39m\u001b[39m.\u001b[39m_forward_hooks \u001b[39mor\u001b[39;00m \u001b[39mself\u001b[39m\u001b[39m.\u001b[39m_forward_pre_hooks \u001b[39mor\u001b[39;00m _global_backward_hooks\n\u001b[0;32m   1193\u001b[0m         \u001b[39mor\u001b[39;00m _global_forward_hooks \u001b[39mor\u001b[39;00m _global_forward_pre_hooks):\n\u001b[1;32m-> 1194\u001b[0m     \u001b[39mreturn\u001b[39;00m forward_call(\u001b[39m*\u001b[39;49m\u001b[39minput\u001b[39;49m, \u001b[39m*\u001b[39;49m\u001b[39m*\u001b[39;49mkwargs)\n\u001b[0;32m   1195\u001b[0m \u001b[39m# Do not call functions when jit is used\u001b[39;00m\n\u001b[0;32m   1196\u001b[0m full_backward_hooks, non_full_backward_hooks \u001b[39m=\u001b[39m [], []\n",
      "File \u001b[1;32mc:\\Users\\Ranjani\\miniconda3\\lib\\site-packages\\torch\\nn\\modules\\linear.py:114\u001b[0m, in \u001b[0;36mLinear.forward\u001b[1;34m(self, input)\u001b[0m\n\u001b[0;32m    113\u001b[0m \u001b[39mdef\u001b[39;00m \u001b[39mforward\u001b[39m(\u001b[39mself\u001b[39m, \u001b[39minput\u001b[39m: Tensor) \u001b[39m-\u001b[39m\u001b[39m>\u001b[39m Tensor:\n\u001b[1;32m--> 114\u001b[0m     \u001b[39mreturn\u001b[39;00m F\u001b[39m.\u001b[39;49mlinear(\u001b[39minput\u001b[39;49m, \u001b[39mself\u001b[39;49m\u001b[39m.\u001b[39;49mweight, \u001b[39mself\u001b[39;49m\u001b[39m.\u001b[39;49mbias)\n",
      "\u001b[1;31mRuntimeError\u001b[0m: Expected all tensors to be on the same device, but found at least two devices, cuda:0 and cpu! (when checking argument for argument mat1 in method wrapper_addmm)"
     ]
    }
   ],
   "source": [
    "path=r'C:\\GitHub\\Smart-Education-data\\data\\DAiSEE\\Sorted\\Saved_models'\n",
    "from sklearn.metrics import accuracy_score\n",
    "torch.manual_seed(0)\n",
    "labels_tr, labels_te=[], []\n",
    "for _, y in trainloader:\n",
    "    labels_tr+=y.detach().cpu()\n",
    "for _, y in testloader:\n",
    "    labels_te+=y.detach().cpu()\n",
    "for i in range(50):\n",
    "    model.train(trainloader, epochs=100)\n",
    "    pred_tr=model.test(trainloader)\n",
    "    pred_te=model.test(testloader)\n",
    "    def map_(values, clip_low, clip_high):\n",
    "        result=[]\n",
    "        for value in values:\n",
    "            value=value[0] #flattening\n",
    "            val=clip_low if value<clip_low else clip_high if value>clip_high else value\n",
    "            result.append(val)\n",
    "        return np.round(np.array(result))\n",
    "    # print(np.array(labels)[:5])\n",
    "    # print(pred[:5])\n",
    "    # print(map_(pred.detach().cpu().numpy(), 0.0, 3.0)[:5])\n",
    "    acc_tr=np.sum(np.array(labels_tr)==map_(pred_tr.detach().cpu().numpy(), 0.0, 3.0))/len(labels_tr)\n",
    "    acc_te=np.sum(np.array(labels_te)==map_(pred_te.detach().cpu().numpy(), 0.0, 3.0))/len(labels_te)\n",
    "    acc_tr_b=accuracy_score(np.array(labels_tr)>=2.0, map_(pred_tr.detach().cpu().numpy(), 0.0, 3.0)>=2.0)\n",
    "    acc_te_b=accuracy_score(np.array(labels_te)>=2.0, map_(pred_te.detach().cpu().numpy(), 0.0, 3.0)>=2.0)\n",
    "    print(i, acc_tr, acc_te, acc_tr_b, acc_te_b, sep='\\t')\n",
    "    if acc_tr_b>=0.9 or acc_te_b>=0.9:\n",
    "        if SAVE_MODELS:\n",
    "            torch.save(model, ospj(path, f'MLP_reg_ep{(i+1)*100}'))\n",
    "    # 33\t0.7965705946734768\t0.45397562391178176\t0.9701386355344764\t0.918398142774231 => 3400 epochs"
   ]
  },
  {
   "cell_type": "code",
   "execution_count": null,
   "metadata": {},
   "outputs": [],
   "source": [
    "# raise NotImplementedError"
   ]
  },
  {
   "attachments": {},
   "cell_type": "markdown",
   "metadata": {},
   "source": [
    "XGBoost"
   ]
  },
  {
   "cell_type": "code",
   "execution_count": null,
   "metadata": {},
   "outputs": [],
   "source": [
    "# %pip install xgboost"
   ]
  },
  {
   "attachments": {},
   "cell_type": "markdown",
   "metadata": {},
   "source": [
    "XGBoost Regressor approach"
   ]
  },
  {
   "cell_type": "code",
   "execution_count": 37,
   "metadata": {},
   "outputs": [],
   "source": [
    "import matplotlib.pyplot as plt\n",
    "from sklearn.metrics import accuracy_score, precision_score, recall_score, f1_score"
   ]
  },
  {
   "cell_type": "code",
   "execution_count": 38,
   "metadata": {},
   "outputs": [
    {
     "data": {
      "text/html": [
       "<style>#sk-container-id-5 {color: black;background-color: white;}#sk-container-id-5 pre{padding: 0;}#sk-container-id-5 div.sk-toggleable {background-color: white;}#sk-container-id-5 label.sk-toggleable__label {cursor: pointer;display: block;width: 100%;margin-bottom: 0;padding: 0.3em;box-sizing: border-box;text-align: center;}#sk-container-id-5 label.sk-toggleable__label-arrow:before {content: \"▸\";float: left;margin-right: 0.25em;color: #696969;}#sk-container-id-5 label.sk-toggleable__label-arrow:hover:before {color: black;}#sk-container-id-5 div.sk-estimator:hover label.sk-toggleable__label-arrow:before {color: black;}#sk-container-id-5 div.sk-toggleable__content {max-height: 0;max-width: 0;overflow: hidden;text-align: left;background-color: #f0f8ff;}#sk-container-id-5 div.sk-toggleable__content pre {margin: 0.2em;color: black;border-radius: 0.25em;background-color: #f0f8ff;}#sk-container-id-5 input.sk-toggleable__control:checked~div.sk-toggleable__content {max-height: 200px;max-width: 100%;overflow: auto;}#sk-container-id-5 input.sk-toggleable__control:checked~label.sk-toggleable__label-arrow:before {content: \"▾\";}#sk-container-id-5 div.sk-estimator input.sk-toggleable__control:checked~label.sk-toggleable__label {background-color: #d4ebff;}#sk-container-id-5 div.sk-label input.sk-toggleable__control:checked~label.sk-toggleable__label {background-color: #d4ebff;}#sk-container-id-5 input.sk-hidden--visually {border: 0;clip: rect(1px 1px 1px 1px);clip: rect(1px, 1px, 1px, 1px);height: 1px;margin: -1px;overflow: hidden;padding: 0;position: absolute;width: 1px;}#sk-container-id-5 div.sk-estimator {font-family: monospace;background-color: #f0f8ff;border: 1px dotted black;border-radius: 0.25em;box-sizing: border-box;margin-bottom: 0.5em;}#sk-container-id-5 div.sk-estimator:hover {background-color: #d4ebff;}#sk-container-id-5 div.sk-parallel-item::after {content: \"\";width: 100%;border-bottom: 1px solid gray;flex-grow: 1;}#sk-container-id-5 div.sk-label:hover label.sk-toggleable__label {background-color: #d4ebff;}#sk-container-id-5 div.sk-serial::before {content: \"\";position: absolute;border-left: 1px solid gray;box-sizing: border-box;top: 0;bottom: 0;left: 50%;z-index: 0;}#sk-container-id-5 div.sk-serial {display: flex;flex-direction: column;align-items: center;background-color: white;padding-right: 0.2em;padding-left: 0.2em;position: relative;}#sk-container-id-5 div.sk-item {position: relative;z-index: 1;}#sk-container-id-5 div.sk-parallel {display: flex;align-items: stretch;justify-content: center;background-color: white;position: relative;}#sk-container-id-5 div.sk-item::before, #sk-container-id-5 div.sk-parallel-item::before {content: \"\";position: absolute;border-left: 1px solid gray;box-sizing: border-box;top: 0;bottom: 0;left: 50%;z-index: -1;}#sk-container-id-5 div.sk-parallel-item {display: flex;flex-direction: column;z-index: 1;position: relative;background-color: white;}#sk-container-id-5 div.sk-parallel-item:first-child::after {align-self: flex-end;width: 50%;}#sk-container-id-5 div.sk-parallel-item:last-child::after {align-self: flex-start;width: 50%;}#sk-container-id-5 div.sk-parallel-item:only-child::after {width: 0;}#sk-container-id-5 div.sk-dashed-wrapped {border: 1px dashed gray;margin: 0 0.4em 0.5em 0.4em;box-sizing: border-box;padding-bottom: 0.4em;background-color: white;}#sk-container-id-5 div.sk-label label {font-family: monospace;font-weight: bold;display: inline-block;line-height: 1.2em;}#sk-container-id-5 div.sk-label-container {text-align: center;}#sk-container-id-5 div.sk-container {/* jupyter's `normalize.less` sets `[hidden] { display: none; }` but bootstrap.min.css set `[hidden] { display: none !important; }` so we also need the `!important` here to be able to override the default hidden behavior on the sphinx rendered scikit-learn.org. See: https://github.com/scikit-learn/scikit-learn/issues/21755 */display: inline-block !important;position: relative;}#sk-container-id-5 div.sk-text-repr-fallback {display: none;}</style><div id=\"sk-container-id-5\" class=\"sk-top-container\"><div class=\"sk-text-repr-fallback\"><pre>XGBRegressor(base_score=None, booster=None, callbacks=None,\n",
       "             colsample_bylevel=None, colsample_bynode=None,\n",
       "             colsample_bytree=None, early_stopping_rounds=None,\n",
       "             enable_categorical=False, eval_metric=None, feature_types=None,\n",
       "             gamma=None, gpu_id=None, grow_policy=None, importance_type=None,\n",
       "             interaction_constraints=None, learning_rate=None, max_bin=None,\n",
       "             max_cat_threshold=None, max_cat_to_onehot=None,\n",
       "             max_delta_step=None, max_depth=None, max_leaves=None,\n",
       "             min_child_weight=None, missing=nan, monotone_constraints=None,\n",
       "             n_estimators=100, n_jobs=None, num_parallel_tree=None,\n",
       "             predictor=None, random_state=0, ...)</pre><b>In a Jupyter environment, please rerun this cell to show the HTML representation or trust the notebook. <br />On GitHub, the HTML representation is unable to render, please try loading this page with nbviewer.org.</b></div><div class=\"sk-container\" hidden><div class=\"sk-item\"><div class=\"sk-estimator sk-toggleable\"><input class=\"sk-toggleable__control sk-hidden--visually\" id=\"sk-estimator-id-5\" type=\"checkbox\" checked><label for=\"sk-estimator-id-5\" class=\"sk-toggleable__label sk-toggleable__label-arrow\">XGBRegressor</label><div class=\"sk-toggleable__content\"><pre>XGBRegressor(base_score=None, booster=None, callbacks=None,\n",
       "             colsample_bylevel=None, colsample_bynode=None,\n",
       "             colsample_bytree=None, early_stopping_rounds=None,\n",
       "             enable_categorical=False, eval_metric=None, feature_types=None,\n",
       "             gamma=None, gpu_id=None, grow_policy=None, importance_type=None,\n",
       "             interaction_constraints=None, learning_rate=None, max_bin=None,\n",
       "             max_cat_threshold=None, max_cat_to_onehot=None,\n",
       "             max_delta_step=None, max_depth=None, max_leaves=None,\n",
       "             min_child_weight=None, missing=nan, monotone_constraints=None,\n",
       "             n_estimators=100, n_jobs=None, num_parallel_tree=None,\n",
       "             predictor=None, random_state=0, ...)</pre></div></div></div></div></div>"
      ],
      "text/plain": [
       "XGBRegressor(base_score=None, booster=None, callbacks=None,\n",
       "             colsample_bylevel=None, colsample_bynode=None,\n",
       "             colsample_bytree=None, early_stopping_rounds=None,\n",
       "             enable_categorical=False, eval_metric=None, feature_types=None,\n",
       "             gamma=None, gpu_id=None, grow_policy=None, importance_type=None,\n",
       "             interaction_constraints=None, learning_rate=None, max_bin=None,\n",
       "             max_cat_threshold=None, max_cat_to_onehot=None,\n",
       "             max_delta_step=None, max_depth=None, max_leaves=None,\n",
       "             min_child_weight=None, missing=nan, monotone_constraints=None,\n",
       "             n_estimators=100, n_jobs=None, num_parallel_tree=None,\n",
       "             predictor=None, random_state=0, ...)"
      ]
     },
     "execution_count": 38,
     "metadata": {},
     "output_type": "execute_result"
    }
   ],
   "source": [
    "from xgboost import XGBRegressor\n",
    "model=XGBRegressor(random_state=0, verbosity=0)\n",
    "trainloader.to('cpu')\n",
    "testloader.to('cpu')\n",
    "data=[]\n",
    "label=[]\n",
    "for x, y in trainloader:\n",
    "    X=x.numpy()\n",
    "    Y=y.float().numpy()\n",
    "    data+=list(X)\n",
    "    label+=list(Y)\n",
    "model.fit(np.array(data), np.array(label))"
   ]
  },
  {
   "cell_type": "code",
   "execution_count": 39,
   "metadata": {},
   "outputs": [],
   "source": [
    "#mapping function that maps prediction (floating point) to integer labels(0, 1, 2, 3). Same as the MLP's one\n",
    "def map_(values, clip_low, clip_high):\n",
    "    result=[]\n",
    "    for value in values:\n",
    "        # value=value[0] #flattening #no need for XGBoost\n",
    "        val=clip_low if value<clip_low else clip_high if value>clip_high else value\n",
    "        result.append(val)\n",
    "    return np.round(np.array(result))"
   ]
  },
  {
   "cell_type": "code",
   "execution_count": 19,
   "metadata": {},
   "outputs": [
    {
     "name": "stdout",
     "output_type": "stream",
     "text": [
      "Acuuracy score\n",
      "0.8448011674571324 0.5032501450957632 1.0 1.0\n"
     ]
    }
   ],
   "source": [
    "pred_tr=[]\n",
    "pred_te=[]\n",
    "labels_tr=[]\n",
    "labels_te=[]\n",
    "trainloader.to('cpu')\n",
    "testloader.to('cpu')\n",
    "for x, y in trainloader:\n",
    "    X=x.numpy()\n",
    "    Y=y.float().numpy()\n",
    "    pred_tr+=list(model.predict(X))\n",
    "    labels_tr+=list(Y)\n",
    "for x, y in testloader:\n",
    "    X=x.numpy()\n",
    "    Y=y.float().numpy()\n",
    "    pred_te+=list(model.predict(X))\n",
    "    labels_te+=list(Y)\n",
    "\n",
    "print('Acuuracy score')\n",
    "acc_tr=accuracy_score(labels_tr, map_(pred_tr, 0.0, 3.0))\n",
    "acc_te=accuracy_score(labels_te, map_(pred_te, 0.0, 3.0))\n",
    "acc_tr_b=accuracy_score(np.array(labels_tr)>=2.0, map_(labels_tr, 0.0, 3.0)>=2.0)\n",
    "acc_te_b=accuracy_score(np.array(labels_te)>=2.0, map_(labels_te, 0.0, 3.0)>=2.0)\n",
    "print(acc_tr, acc_te, acc_tr_b, acc_te_b)\n",
    "\n",
    "# print('Precision score')\n",
    "# # pre_tr=precision_score(labels_tr, map_(pred_tr, 0.0, 3.0))\n",
    "# # pre_te=precision_score(labels_te, map_(pred_te, 0.0, 3.0))\n",
    "# pre_tr_b=precision_score(np.array(labels_tr)>=2.0, map_(labels_tr, 0.0, 3.0)>=2.0)\n",
    "# pre_te_b=precision_score(np.array(labels_te)>=2.0, map_(labels_te, 0.0, 3.0)>=2.0)\n",
    "# print(pre_tr_b, pre_te_b)\n",
    "\n",
    "# print('Recall score')\n",
    "# # rec_tr=recall_score(labels_tr, map_(pred_tr, 0.0, 3.0))\n",
    "# # rec_te=recall_score(labels_te, map_(pred_te, 0.0, 3.0))\n",
    "# rec_tr_b=recall_score(np.array(labels_tr)>=2.0, map_(labels_tr, 0.0, 3.0)>=2.0)\n",
    "# rec_te_b=recall_score(np.array(labels_te)>=2.0, map_(labels_te, 0.0, 3.0)>=2.0)\n",
    "# print(rec_tr_b, rec_te_b)\n",
    "\n",
    "# print('F1 score')\n",
    "# # f1_tr=f1_score(labels_tr, map_(pred_tr, 0.0, 3.0))\n",
    "# # f1_te=f1_score(labels_te, map_(pred_te, 0.0, 3.0))\n",
    "# f1_tr_b=f1_score(np.array(labels_tr)>=2.0, map_(labels_tr, 0.0, 3.0)>=2.0)\n",
    "# f1_te_b=f1_score(np.array(labels_te)>=2.0, map_(labels_te, 0.0, 3.0)>=2.0)\n",
    "# print(f1_tr_b, f1_te_b)"
   ]
  },
  {
   "cell_type": "code",
   "execution_count": null,
   "metadata": {},
   "outputs": [
    {
     "name": "stdout",
     "output_type": "stream",
     "text": [
      "[array([2.], dtype=float32), array([2.], dtype=float32), array([2.], dtype=float32), array([2.], dtype=float32), array([2.], dtype=float32), array([2.], dtype=float32), array([2.], dtype=float32), array([2.], dtype=float32), array([2.], dtype=float32), array([2.], dtype=float32), array([2.], dtype=float32), array([2.], dtype=float32), array([2.], dtype=float32), array([2.], dtype=float32), array([2.], dtype=float32), array([2.], dtype=float32), array([2.], dtype=float32), array([2.], dtype=float32), array([2.], dtype=float32), array([2.], dtype=float32), array([3.], dtype=float32), array([3.], dtype=float32), array([3.], dtype=float32), array([3.], dtype=float32), array([3.], dtype=float32), array([3.], dtype=float32), array([3.], dtype=float32), array([3.], dtype=float32), array([3.], dtype=float32), array([3.], dtype=float32), array([3.], dtype=float32), array([3.], dtype=float32), array([3.], dtype=float32), array([3.], dtype=float32), array([3.], dtype=float32), array([3.], dtype=float32), array([3.], dtype=float32), array([3.], dtype=float32), array([3.], dtype=float32), array([3.], dtype=float32), array([3.], dtype=float32), array([3.], dtype=float32), array([3.], dtype=float32), array([3.], dtype=float32), array([3.], dtype=float32), array([3.], dtype=float32), array([3.], dtype=float32), array([3.], dtype=float32), array([3.], dtype=float32), array([3.], dtype=float32), array([2.], dtype=float32), array([2.], dtype=float32), array([2.], dtype=float32), array([2.], dtype=float32), array([2.], dtype=float32), array([2.], dtype=float32), array([2.], dtype=float32), array([2.], dtype=float32), array([2.], dtype=float32), array([2.], dtype=float32), array([3.], dtype=float32), array([3.], dtype=float32), array([3.], dtype=float32), array([3.], dtype=float32), array([3.], dtype=float32), array([3.], dtype=float32), array([3.], dtype=float32), array([3.], dtype=float32), array([3.], dtype=float32), array([3.], dtype=float32), array([2.], dtype=float32), array([2.], dtype=float32), array([2.], dtype=float32), array([2.], dtype=float32), array([2.], dtype=float32), array([2.], dtype=float32), array([2.], dtype=float32), array([2.], dtype=float32), array([2.], dtype=float32), array([2.], dtype=float32), array([3.], dtype=float32), array([3.], dtype=float32), array([3.], dtype=float32), array([3.], dtype=float32), array([3.], dtype=float32), array([3.], dtype=float32), array([3.], dtype=float32), array([3.], dtype=float32), array([3.], dtype=float32), array([3.], dtype=float32), array([3.], dtype=float32), array([3.], dtype=float32), array([3.], dtype=float32), array([3.], dtype=float32), array([3.], dtype=float32), array([3.], dtype=float32), array([3.], dtype=float32), array([3.], dtype=float32), array([3.], dtype=float32), array([3.], dtype=float32)]\n",
      "[2.7154076, 2.487681, 2.622789, 2.7050722, 2.713153, 2.6488135, 2.7496548, 2.6400206, 2.4623835, 2.5451715, 2.5754857, 2.5243242, 2.5216355, 2.4960322, 2.2102094, 2.5973086, 2.6765635, 2.6449294, 2.7800288, 2.7599394, 2.595357, 2.6087344, 2.9121063, 2.8470542, 2.7275476, 2.6486623, 2.9637167, 2.464454, 2.5463269, 2.7175522, 2.7507975, 2.718527, 2.7091088, 2.7049937, 2.7013757, 2.753985, 2.7204309, 2.7787838, 2.7771165, 2.8111734, 2.703996, 2.7802708, 2.7557118, 2.7225163, 2.6171947, 2.666545, 2.7455964, 2.812322, 2.6902773, 2.6986082, 2.6171134, 2.4915178, 2.2969856, 2.7284527, 2.7175612, 2.6546128, 2.3216789, 2.6490912, 2.6521423, 2.7097397, 2.7655616, 2.7512655, 2.8060465, 2.771105, 2.754731, 2.7980874, 2.7664945, 2.8504837, 2.804881, 2.8055444, 2.4115338, 2.7121136, 2.6139946, 2.6164594, 2.659512, 2.7030752, 2.7157326, 2.6839244, 2.6160388, 2.7133117, 2.8802013, 2.6968675, 2.8223472, 2.821161, 2.826379, 2.777826, 2.8838155, 2.7299883, 3.103097, 2.777826, 2.8736298, 2.9238598, 2.550521, 2.8003387, 2.903362, 2.9253404, 2.9022853, 2.8360007, 2.9442046, 2.6774955]\n",
      "[3. 2. 3. 3. 3. 3. 3. 3. 2. 3. 3. 3. 3. 2. 2. 3. 3. 3. 3. 3. 3. 3. 3. 3.\n",
      " 3. 3. 3. 2. 3. 3. 3. 3. 3. 3. 3. 3. 3. 3. 3. 3. 3. 3. 3. 3. 3. 3. 3. 3.\n",
      " 3. 3. 3. 2. 2. 3. 3. 3. 2. 3. 3. 3. 3. 3. 3. 3. 3. 3. 3. 3. 3. 3. 2. 3.\n",
      " 3. 3. 3. 3. 3. 3. 3. 3. 3. 3. 3. 3. 3. 3. 3. 3. 3. 3. 3. 3. 3. 3. 3. 3.\n",
      " 3. 3. 3. 3.]\n"
     ]
    }
   ],
   "source": [
    "start=0\n",
    "end=100\n",
    "print(labels_tr[start:end])\n",
    "print(pred_tr[start:end])\n",
    "print(map_(pred_tr, 0.0, 3.0)[start:end])"
   ]
  },
  {
   "cell_type": "code",
   "execution_count": null,
   "metadata": {},
   "outputs": [
    {
     "data": {
      "text/plain": [
       "2.0    26490\n",
       "3.0    25850\n",
       "1.0     2140\n",
       "0.0      340\n",
       "dtype: int64"
      ]
     },
     "execution_count": 17,
     "metadata": {},
     "output_type": "execute_result"
    }
   ],
   "source": [
    "pd.DataFrame(labels_tr).value_counts()"
   ]
  },
  {
   "attachments": {},
   "cell_type": "markdown",
   "metadata": {},
   "source": [
    "XGBoost classifier approach"
   ]
  },
  {
   "cell_type": "code",
   "execution_count": null,
   "metadata": {},
   "outputs": [],
   "source": [
    "from xgboost import XGBClassifier\n",
    "model=XGBClassifier(random_state=0, verbosity=0)\n",
    "trainloader.to('cpu')\n",
    "testloader.to('cpu')\n",
    "data=[]\n",
    "label=[]\n",
    "for x, y in trainloader:\n",
    "    X=x.numpy()\n",
    "    Y=y.float().numpy()>=2.0\n",
    "    data+=list(X)\n",
    "    label+=list(Y)\n",
    "model.fit(np.array(data), np.array(label))"
   ]
  },
  {
   "cell_type": "code",
   "execution_count": null,
   "metadata": {},
   "outputs": [],
   "source": [
    "from sklearn.metrics import accuracy_score, precision_score, recall_score, f1_score\n",
    "pred_tr=[]\n",
    "pred_te=[]\n",
    "labels_tr=[]\n",
    "labels_te=[]\n",
    "trainloader.to('cpu')\n",
    "testloader.to('cpu')\n",
    "for x, y in trainloader:\n",
    "    X=x.numpy()\n",
    "    Y=y.float().numpy()>=2.0\n",
    "    pred_tr+=list(model.predict(X))\n",
    "    labels_tr+=list(Y)\n",
    "for x, y in testloader:\n",
    "    X=x.numpy()\n",
    "    Y=y.float().numpy()>=2.0\n",
    "    pred_te+=list(model.predict(X))\n",
    "    labels_te+=list(Y)\n",
    "\n",
    "print('Acuuracy score')\n",
    "acc_tr_b=accuracy_score(np.array(labels_tr), pred_tr)\n",
    "acc_te_b=accuracy_score(np.array(labels_te), pred_te)\n",
    "print(acc_tr_b, acc_te_b)\n",
    "# print('Precision score')\n",
    "# pre_tr= precision_score(np.array(labels_tr), pred_tr)\n",
    "# pre_te= precision_score(np.array(labels_te), pred_te)\n",
    "# print(pre_tr, pre_te)\n",
    "# print('Recall score')\n",
    "# rec_tr = recall_score(np.array(labels_tr), pred_tr)\n",
    "# rec_te = recall_score(np.array(labels_te), pred_te)\n",
    "# print(rec_tr, rec_te)\n",
    "# print('F1 score')\n",
    "# f1_tr = f1_score(np.array(labels_tr), pred_tr)\n",
    "# f1_te = f1_score(np.array(labels_te), pred_te)\n",
    "# print(f1_tr, f1_te)\n",
    "\n",
    "# P = 100 # Number of positive samples\n",
    "# N = 200 # Number of negative samples\n",
    "\n",
    "# Calculate TP, FP, FN, and TN\n",
    "# TP = recall * P\n",
    "# FP = (1 - precision) * (N - P)\n",
    "# FN = TP * (1 - accuracy) / accuracy\n",
    "# TN = N - FP - FN - TP\n",
    "\n",
    "# Create the confusion matrix\n",
    "# conf_mat = confusion_matrix([0, 1], [[TN, FP], [FN, TP]])\n",
    "\n",
    "# print(conf_mat)"
   ]
  },
  {
   "attachments": {},
   "cell_type": "markdown",
   "metadata": {},
   "source": []
  },
  {
   "attachments": {},
   "cell_type": "markdown",
   "metadata": {},
   "source": [
    "SVM Classifier Approach"
   ]
  },
  {
   "cell_type": "code",
   "execution_count": null,
   "metadata": {},
   "outputs": [],
   "source": [
    "from sklearn.svm import SVC\n",
    "model=SVC(random_state=0)\n",
    "trainloader.to('cpu')\n",
    "testloader.to('cpu')\n",
    "data=[]\n",
    "label=[]\n",
    "for x, y in trainloader:\n",
    "    X=x.numpy()\n",
    "    Y=y.float().numpy()>=2.0\n",
    "    data+=list(X)\n",
    "    label+=list(Y)\n",
    "model.fit(np.array(data), np.array(label))\n"
   ]
  },
  {
   "cell_type": "code",
   "execution_count": null,
   "metadata": {},
   "outputs": [],
   "source": [
    "from sklearn.metrics import accuracy_score, precision_score, recall_score, f1_score\n",
    "pred_tr=[]\n",
    "pred_te=[]\n",
    "labels_tr=[]\n",
    "labels_te=[]\n",
    "trainloader.to('cpu')\n",
    "testloader.to('cpu')\n",
    "for x, y in trainloader:\n",
    "    X=x.numpy()\n",
    "    Y=y.float().numpy()>=2.0\n",
    "    pred_tr+=list(model.predict(X))\n",
    "    labels_tr+=list(Y)\n",
    "for x, y in testloader:\n",
    "    X=x.numpy()\n",
    "    Y=y.float().numpy()>=2.0\n",
    "    pred_te+=list(model.predict(X))\n",
    "    labels_te+=list(Y)\n",
    "\n",
    "print('Acuuracy score')\n",
    "acc_tr_b=accuracy_score(np.array(labels_tr), pred_tr)\n",
    "acc_te_b=accuracy_score(np.array(labels_te), pred_te)\n",
    "print(acc_tr_b, acc_te_b)\n",
    "# print('Precision score')\n",
    "# pre_tr= precision_score(np.array(labels_tr), pred_tr)\n",
    "# pre_te= precision_score(np.array(labels_te), pred_te)\n",
    "# print(pre_tr, pre_te)\n",
    "# print('Recall score')\n",
    "# rec_tr = recall_score(np.array(labels_tr), pred_tr)\n",
    "# rec_te = recall_score(np.array(labels_te), pred_te)\n",
    "# print(rec_tr, rec_te)\n",
    "# print('F1 score')\n",
    "# f1_tr = f1_score(np.array(labels_tr), pred_tr)\n",
    "# f1_te = f1_score(np.array(labels_te), pred_te)\n",
    "# print(f1_tr, f1_te)\n"
   ]
  },
  {
   "attachments": {},
   "cell_type": "markdown",
   "metadata": {},
   "source": [
    "SVM Regressor Approach"
   ]
  },
  {
   "cell_type": "code",
   "execution_count": 20,
   "metadata": {},
   "outputs": [
    {
     "name": "stderr",
     "output_type": "stream",
     "text": [
      "c:\\Users\\Ranjani\\miniconda3\\lib\\site-packages\\sklearn\\utils\\validation.py:1143: DataConversionWarning: A column-vector y was passed when a 1d array was expected. Please change the shape of y to (n_samples, ), for example using ravel().\n",
      "  y = column_or_1d(y, warn=True)\n"
     ]
    },
    {
     "data": {
      "text/html": [
       "<style>#sk-container-id-2 {color: black;background-color: white;}#sk-container-id-2 pre{padding: 0;}#sk-container-id-2 div.sk-toggleable {background-color: white;}#sk-container-id-2 label.sk-toggleable__label {cursor: pointer;display: block;width: 100%;margin-bottom: 0;padding: 0.3em;box-sizing: border-box;text-align: center;}#sk-container-id-2 label.sk-toggleable__label-arrow:before {content: \"▸\";float: left;margin-right: 0.25em;color: #696969;}#sk-container-id-2 label.sk-toggleable__label-arrow:hover:before {color: black;}#sk-container-id-2 div.sk-estimator:hover label.sk-toggleable__label-arrow:before {color: black;}#sk-container-id-2 div.sk-toggleable__content {max-height: 0;max-width: 0;overflow: hidden;text-align: left;background-color: #f0f8ff;}#sk-container-id-2 div.sk-toggleable__content pre {margin: 0.2em;color: black;border-radius: 0.25em;background-color: #f0f8ff;}#sk-container-id-2 input.sk-toggleable__control:checked~div.sk-toggleable__content {max-height: 200px;max-width: 100%;overflow: auto;}#sk-container-id-2 input.sk-toggleable__control:checked~label.sk-toggleable__label-arrow:before {content: \"▾\";}#sk-container-id-2 div.sk-estimator input.sk-toggleable__control:checked~label.sk-toggleable__label {background-color: #d4ebff;}#sk-container-id-2 div.sk-label input.sk-toggleable__control:checked~label.sk-toggleable__label {background-color: #d4ebff;}#sk-container-id-2 input.sk-hidden--visually {border: 0;clip: rect(1px 1px 1px 1px);clip: rect(1px, 1px, 1px, 1px);height: 1px;margin: -1px;overflow: hidden;padding: 0;position: absolute;width: 1px;}#sk-container-id-2 div.sk-estimator {font-family: monospace;background-color: #f0f8ff;border: 1px dotted black;border-radius: 0.25em;box-sizing: border-box;margin-bottom: 0.5em;}#sk-container-id-2 div.sk-estimator:hover {background-color: #d4ebff;}#sk-container-id-2 div.sk-parallel-item::after {content: \"\";width: 100%;border-bottom: 1px solid gray;flex-grow: 1;}#sk-container-id-2 div.sk-label:hover label.sk-toggleable__label {background-color: #d4ebff;}#sk-container-id-2 div.sk-serial::before {content: \"\";position: absolute;border-left: 1px solid gray;box-sizing: border-box;top: 0;bottom: 0;left: 50%;z-index: 0;}#sk-container-id-2 div.sk-serial {display: flex;flex-direction: column;align-items: center;background-color: white;padding-right: 0.2em;padding-left: 0.2em;position: relative;}#sk-container-id-2 div.sk-item {position: relative;z-index: 1;}#sk-container-id-2 div.sk-parallel {display: flex;align-items: stretch;justify-content: center;background-color: white;position: relative;}#sk-container-id-2 div.sk-item::before, #sk-container-id-2 div.sk-parallel-item::before {content: \"\";position: absolute;border-left: 1px solid gray;box-sizing: border-box;top: 0;bottom: 0;left: 50%;z-index: -1;}#sk-container-id-2 div.sk-parallel-item {display: flex;flex-direction: column;z-index: 1;position: relative;background-color: white;}#sk-container-id-2 div.sk-parallel-item:first-child::after {align-self: flex-end;width: 50%;}#sk-container-id-2 div.sk-parallel-item:last-child::after {align-self: flex-start;width: 50%;}#sk-container-id-2 div.sk-parallel-item:only-child::after {width: 0;}#sk-container-id-2 div.sk-dashed-wrapped {border: 1px dashed gray;margin: 0 0.4em 0.5em 0.4em;box-sizing: border-box;padding-bottom: 0.4em;background-color: white;}#sk-container-id-2 div.sk-label label {font-family: monospace;font-weight: bold;display: inline-block;line-height: 1.2em;}#sk-container-id-2 div.sk-label-container {text-align: center;}#sk-container-id-2 div.sk-container {/* jupyter's `normalize.less` sets `[hidden] { display: none; }` but bootstrap.min.css set `[hidden] { display: none !important; }` so we also need the `!important` here to be able to override the default hidden behavior on the sphinx rendered scikit-learn.org. See: https://github.com/scikit-learn/scikit-learn/issues/21755 */display: inline-block !important;position: relative;}#sk-container-id-2 div.sk-text-repr-fallback {display: none;}</style><div id=\"sk-container-id-2\" class=\"sk-top-container\"><div class=\"sk-text-repr-fallback\"><pre>SVR()</pre><b>In a Jupyter environment, please rerun this cell to show the HTML representation or trust the notebook. <br />On GitHub, the HTML representation is unable to render, please try loading this page with nbviewer.org.</b></div><div class=\"sk-container\" hidden><div class=\"sk-item\"><div class=\"sk-estimator sk-toggleable\"><input class=\"sk-toggleable__control sk-hidden--visually\" id=\"sk-estimator-id-2\" type=\"checkbox\" checked><label for=\"sk-estimator-id-2\" class=\"sk-toggleable__label sk-toggleable__label-arrow\">SVR</label><div class=\"sk-toggleable__content\"><pre>SVR()</pre></div></div></div></div></div>"
      ],
      "text/plain": [
       "SVR()"
      ]
     },
     "execution_count": 20,
     "metadata": {},
     "output_type": "execute_result"
    }
   ],
   "source": [
    "from sklearn.svm import SVR\n",
    "model=SVR()\n",
    "trainloader.to('cpu')\n",
    "testloader.to('cpu')\n",
    "data=[]\n",
    "label=[]\n",
    "for x, y in trainloader:\n",
    "    X=x.numpy()\n",
    "    Y=y.float().numpy()>=2.0\n",
    "    data+=list(X)\n",
    "    label+=list(Y)\n",
    "model.fit(np.array(data), np.array(label))\n"
   ]
  },
  {
   "cell_type": "code",
   "execution_count": 21,
   "metadata": {},
   "outputs": [],
   "source": [
    "#mapping function that maps prediction (floating point) to integer labels(0, 1, 2, 3). Same as the MLP's one\n",
    "def map_(values, clip_low, clip_high):\n",
    "    result=[]\n",
    "    for value in values:\n",
    "        # value=value[0] #flattening #no need for XGBoost\n",
    "        val=clip_low if value<clip_low else clip_high if value>clip_high else value\n",
    "        result.append(val)\n",
    "    return np.round(np.array(result))"
   ]
  },
  {
   "cell_type": "code",
   "execution_count": 22,
   "metadata": {},
   "outputs": [
    {
     "name": "stdout",
     "output_type": "stream",
     "text": [
      "Accuracy score\n",
      "0.039000364830353886 0.047011027278003485 1.0 1.0\n"
     ]
    }
   ],
   "source": [
    "pred_tr=[]\n",
    "pred_te=[]\n",
    "labels_tr=[]\n",
    "labels_te=[]\n",
    "trainloader.to('cpu')\n",
    "testloader.to('cpu')\n",
    "for x, y in trainloader:\n",
    "    X=x.numpy()\n",
    "    Y=y.float().numpy()\n",
    "    pred_tr+=list(model.predict(X))\n",
    "    labels_tr+=list(Y)\n",
    "for x, y in testloader:\n",
    "    X=x.numpy()\n",
    "    Y=y.float().numpy()\n",
    "    pred_te+=list(model.predict(X))\n",
    "    labels_te+=list(Y)\n",
    "\n",
    "print('Accuracy score')\n",
    "acc_tr=accuracy_score(labels_tr, map_(pred_tr, 0.0, 3.0))\n",
    "acc_te=accuracy_score(labels_te, map_(pred_te, 0.0, 3.0))\n",
    "acc_tr_b=accuracy_score(np.array(labels_tr)>=2.0, map_(labels_tr, 0.0, 3.0)>=2.0)\n",
    "acc_te_b=accuracy_score(np.array(labels_te)>=2.0, map_(labels_te, 0.0, 3.0)>=2.0)\n",
    "\n",
    "print(acc_tr, acc_te, acc_tr_b, acc_te_b)\n",
    "\n",
    "# print('Precision score')\n",
    "# pre_tr=precision_score(labels_tr, map_(pred_tr, 0.0, 3.0))\n",
    "# pre_te=precision_score(labels_te, map_(pred_te, 0.0, 3.0))\n",
    "# pre_tr_b=precision_score(np.array(labels_tr)>=2.0, map_(labels_tr, 0.0, 3.0)>=2.0)\n",
    "# pre_te_b=precision_score(np.array(labels_te)>=2.0, map_(labels_te, 0.0, 3.0)>=2.0)\n",
    "# print(pre_tr, pre_te, pre_tr_b, pre_te_b)\n",
    "\n",
    "# print('Recall score')\n",
    "# rec_tr=recall_score(labels_tr, map_(pred_tr, 0.0, 3.0))\n",
    "# rec_te=recall_score(labels_te, map_(pred_te, 0.0, 3.0))\n",
    "# rec_tr_b=recall_score(np.array(labels_tr)>=2.0, map_(labels_tr, 0.0, 3.0)>=2.0)\n",
    "# rec_te_b=recall_score(np.array(labels_te)>=2.0, map_(labels_te, 0.0, 3.0)>=2.0)\n",
    "# print(rec_tr, rec_te, rec_tr_b, rec_te_b)\n",
    "\n",
    "# print('F1 score')\n",
    "# f1_tr=f1_score(labels_tr, map_(pred_tr, 0.0, 3.0))\n",
    "# f1_te=f1_score(labels_te, map_(pred_te, 0.0, 3.0))\n",
    "# f1_tr_b=f1_score(np.array(labels_tr)>=2.0, map_(labels_tr, 0.0, 3.0)>=2.0)\n",
    "# f1_te_b=f1_score(np.array(labels_te)>=2.0, map_(labels_te, 0.0, 3.0)>=2.0)\n",
    "# print(f1_tr, f1_te, f1_tr_b, f1_te_b)"
   ]
  },
  {
   "attachments": {},
   "cell_type": "markdown",
   "metadata": {},
   "source": [
    "RandomForestClassifier"
   ]
  },
  {
   "cell_type": "code",
   "execution_count": null,
   "metadata": {},
   "outputs": [],
   "source": [
    "from sklearn.ensemble import RandomForestClassifier\n",
    "model=RandomForestClassifier()\n",
    "trainloader.to('cpu')\n",
    "testloader.to('cpu')\n",
    "data=[]\n",
    "label=[]\n",
    "for x, y in trainloader:\n",
    "    X=x.numpy()\n",
    "    Y=y.float().numpy()>=2.0\n",
    "    data+=list(X)\n",
    "    label+=list(Y)\n",
    "model.fit(np.array(data), np.array(label))\n",
    "\n",
    "\n"
   ]
  },
  {
   "attachments": {},
   "cell_type": "markdown",
   "metadata": {},
   "source": [
    "RandomForestClassifier Accuracy Score"
   ]
  },
  {
   "cell_type": "code",
   "execution_count": null,
   "metadata": {},
   "outputs": [],
   "source": [
    "from sklearn.metrics import accuracy_score,precision_score,recall_score,f1_score\n",
    "pred_tr=[]\n",
    "pred_te=[]\n",
    "labels_tr=[]\n",
    "labels_te=[]\n",
    "trainloader.to('cpu')\n",
    "testloader.to('cpu')\n",
    "for x, y in trainloader:\n",
    "    X=x.numpy()\n",
    "    Y=y.float().numpy()>=2.0\n",
    "    pred_tr+=list(model.predict(X))\n",
    "    labels_tr+=list(Y)\n",
    "for x, y in testloader:\n",
    "    X=x.numpy()\n",
    "    Y=y.float().numpy()>=2.0\n",
    "    pred_te+=list(model.predict(X))\n",
    "    labels_te+=list(Y)\n",
    "\n",
    "\n",
    "print('Acuuracy score')\n",
    "acc_tr_b=accuracy_score(np.array(labels_tr), pred_tr)\n",
    "acc_te_b=accuracy_score(np.array(labels_te), pred_te)\n",
    "print(acc_tr_b, acc_te_b)\n",
    "# print('Precision score')\n",
    "# pre_tr= precision_score(np.array(labels_tr), pred_tr)\n",
    "# pre_te= precision_score(np.array(labels_te), pred_te)\n",
    "# print(pre_tr, pre_te)\n",
    "# print('Recall score')\n",
    "# rec_tr = recall_score(np.array(labels_tr), pred_tr)\n",
    "# rec_te = recall_score(np.array(labels_te), pred_te)\n",
    "# print(rec_tr, rec_te)\n",
    "# print('F1 score')\n",
    "# f1_tr = f1_score(np.array(labels_tr), pred_tr)\n",
    "# f1_te = f1_score(np.array(labels_te), pred_te)\n",
    "# print(f1_tr, f1_te)"
   ]
  },
  {
   "attachments": {},
   "cell_type": "markdown",
   "metadata": {},
   "source": [
    "RandomForestRegressor\n"
   ]
  },
  {
   "cell_type": "code",
   "execution_count": 23,
   "metadata": {},
   "outputs": [
    {
     "name": "stderr",
     "output_type": "stream",
     "text": [
      "C:\\Users\\Ranjani\\AppData\\Local\\Temp\\ipykernel_7108\\4286751618.py:12: DataConversionWarning: A column-vector y was passed when a 1d array was expected. Please change the shape of y to (n_samples,), for example using ravel().\n",
      "  model.fit(np.array(data), np.array(label))\n"
     ]
    },
    {
     "data": {
      "text/html": [
       "<style>#sk-container-id-3 {color: black;background-color: white;}#sk-container-id-3 pre{padding: 0;}#sk-container-id-3 div.sk-toggleable {background-color: white;}#sk-container-id-3 label.sk-toggleable__label {cursor: pointer;display: block;width: 100%;margin-bottom: 0;padding: 0.3em;box-sizing: border-box;text-align: center;}#sk-container-id-3 label.sk-toggleable__label-arrow:before {content: \"▸\";float: left;margin-right: 0.25em;color: #696969;}#sk-container-id-3 label.sk-toggleable__label-arrow:hover:before {color: black;}#sk-container-id-3 div.sk-estimator:hover label.sk-toggleable__label-arrow:before {color: black;}#sk-container-id-3 div.sk-toggleable__content {max-height: 0;max-width: 0;overflow: hidden;text-align: left;background-color: #f0f8ff;}#sk-container-id-3 div.sk-toggleable__content pre {margin: 0.2em;color: black;border-radius: 0.25em;background-color: #f0f8ff;}#sk-container-id-3 input.sk-toggleable__control:checked~div.sk-toggleable__content {max-height: 200px;max-width: 100%;overflow: auto;}#sk-container-id-3 input.sk-toggleable__control:checked~label.sk-toggleable__label-arrow:before {content: \"▾\";}#sk-container-id-3 div.sk-estimator input.sk-toggleable__control:checked~label.sk-toggleable__label {background-color: #d4ebff;}#sk-container-id-3 div.sk-label input.sk-toggleable__control:checked~label.sk-toggleable__label {background-color: #d4ebff;}#sk-container-id-3 input.sk-hidden--visually {border: 0;clip: rect(1px 1px 1px 1px);clip: rect(1px, 1px, 1px, 1px);height: 1px;margin: -1px;overflow: hidden;padding: 0;position: absolute;width: 1px;}#sk-container-id-3 div.sk-estimator {font-family: monospace;background-color: #f0f8ff;border: 1px dotted black;border-radius: 0.25em;box-sizing: border-box;margin-bottom: 0.5em;}#sk-container-id-3 div.sk-estimator:hover {background-color: #d4ebff;}#sk-container-id-3 div.sk-parallel-item::after {content: \"\";width: 100%;border-bottom: 1px solid gray;flex-grow: 1;}#sk-container-id-3 div.sk-label:hover label.sk-toggleable__label {background-color: #d4ebff;}#sk-container-id-3 div.sk-serial::before {content: \"\";position: absolute;border-left: 1px solid gray;box-sizing: border-box;top: 0;bottom: 0;left: 50%;z-index: 0;}#sk-container-id-3 div.sk-serial {display: flex;flex-direction: column;align-items: center;background-color: white;padding-right: 0.2em;padding-left: 0.2em;position: relative;}#sk-container-id-3 div.sk-item {position: relative;z-index: 1;}#sk-container-id-3 div.sk-parallel {display: flex;align-items: stretch;justify-content: center;background-color: white;position: relative;}#sk-container-id-3 div.sk-item::before, #sk-container-id-3 div.sk-parallel-item::before {content: \"\";position: absolute;border-left: 1px solid gray;box-sizing: border-box;top: 0;bottom: 0;left: 50%;z-index: -1;}#sk-container-id-3 div.sk-parallel-item {display: flex;flex-direction: column;z-index: 1;position: relative;background-color: white;}#sk-container-id-3 div.sk-parallel-item:first-child::after {align-self: flex-end;width: 50%;}#sk-container-id-3 div.sk-parallel-item:last-child::after {align-self: flex-start;width: 50%;}#sk-container-id-3 div.sk-parallel-item:only-child::after {width: 0;}#sk-container-id-3 div.sk-dashed-wrapped {border: 1px dashed gray;margin: 0 0.4em 0.5em 0.4em;box-sizing: border-box;padding-bottom: 0.4em;background-color: white;}#sk-container-id-3 div.sk-label label {font-family: monospace;font-weight: bold;display: inline-block;line-height: 1.2em;}#sk-container-id-3 div.sk-label-container {text-align: center;}#sk-container-id-3 div.sk-container {/* jupyter's `normalize.less` sets `[hidden] { display: none; }` but bootstrap.min.css set `[hidden] { display: none !important; }` so we also need the `!important` here to be able to override the default hidden behavior on the sphinx rendered scikit-learn.org. See: https://github.com/scikit-learn/scikit-learn/issues/21755 */display: inline-block !important;position: relative;}#sk-container-id-3 div.sk-text-repr-fallback {display: none;}</style><div id=\"sk-container-id-3\" class=\"sk-top-container\"><div class=\"sk-text-repr-fallback\"><pre>RandomForestRegressor()</pre><b>In a Jupyter environment, please rerun this cell to show the HTML representation or trust the notebook. <br />On GitHub, the HTML representation is unable to render, please try loading this page with nbviewer.org.</b></div><div class=\"sk-container\" hidden><div class=\"sk-item\"><div class=\"sk-estimator sk-toggleable\"><input class=\"sk-toggleable__control sk-hidden--visually\" id=\"sk-estimator-id-3\" type=\"checkbox\" checked><label for=\"sk-estimator-id-3\" class=\"sk-toggleable__label sk-toggleable__label-arrow\">RandomForestRegressor</label><div class=\"sk-toggleable__content\"><pre>RandomForestRegressor()</pre></div></div></div></div></div>"
      ],
      "text/plain": [
       "RandomForestRegressor()"
      ]
     },
     "execution_count": 23,
     "metadata": {},
     "output_type": "execute_result"
    }
   ],
   "source": [
    "from sklearn.ensemble import RandomForestRegressor\n",
    "model=RandomForestRegressor(n_estimators=100)\n",
    "trainloader.to('cpu')\n",
    "testloader.to('cpu')\n",
    "data=[]\n",
    "label=[]\n",
    "for x, y in trainloader:\n",
    "    X=x.numpy()\n",
    "    Y=y.float().numpy()>=2.0\n",
    "    data+=list(X)\n",
    "    label+=list(Y)\n",
    "model.fit(np.array(data), np.array(label))"
   ]
  },
  {
   "cell_type": "code",
   "execution_count": 24,
   "metadata": {},
   "outputs": [],
   "source": [
    "#mapping function that maps prediction (floating point) to integer labels(0, 1, 2, 3). Same as the MLP's one\n",
    "def map_(values, clip_low, clip_high):\n",
    "    result=[]\n",
    "    for value in values:\n",
    "        # value=value[0] #flattening #no need for XGBoost\n",
    "        val=clip_low if value<clip_low else clip_high if value>clip_high else value\n",
    "        result.append(val)\n",
    "    return np.round(np.array(result))"
   ]
  },
  {
   "attachments": {},
   "cell_type": "markdown",
   "metadata": {},
   "source": [
    "RandomForestRegressor Accuracy Score"
   ]
  },
  {
   "cell_type": "code",
   "execution_count": 25,
   "metadata": {},
   "outputs": [
    {
     "name": "stdout",
     "output_type": "stream",
     "text": [
      "Accuracy score\n",
      "0.006202116016052536 0.04596633778293674 1.0 1.0\n"
     ]
    }
   ],
   "source": [
    "pred_tr=[]\n",
    "pred_te=[]\n",
    "labels_tr=[]\n",
    "labels_te=[]\n",
    "trainloader.to('cpu')\n",
    "testloader.to('cpu')\n",
    "for x, y in trainloader:\n",
    "    X=x.numpy()\n",
    "    Y=y.float().numpy()\n",
    "    pred_tr+=list(model.predict(X))\n",
    "    labels_tr+=list(Y)\n",
    "for x, y in testloader:\n",
    "    X=x.numpy()\n",
    "    Y=y.float().numpy()\n",
    "    pred_te+=list(model.predict(X))\n",
    "    labels_te+=list(Y)\n",
    "\n",
    "print('Accuracy score')\n",
    "acc_tr=accuracy_score(labels_tr, map_(pred_tr, 0.0, 3.0))\n",
    "acc_te=accuracy_score(labels_te, map_(pred_te, 0.0, 3.0))\n",
    "acc_tr_b=accuracy_score(np.array(labels_tr)>=2.0, map_(labels_tr, 0.0, 3.0)>=2.0)\n",
    "acc_te_b=accuracy_score(np.array(labels_te)>=2.0, map_(labels_te, 0.0, 3.0)>=2.0)\n",
    "\n",
    "print(acc_tr, acc_te, acc_tr_b, acc_te_b)\n",
    "\n",
    "# print('Precision score')\n",
    "# pre_tr=precision_score(labels_tr, map_(pred_tr, 0.0, 3.0))\n",
    "# pre_te=precision_score(labels_te, map_(pred_te, 0.0, 3.0))\n",
    "# pre_tr_b=precision_score(np.array(labels_tr)>=2.0, map_(labels_tr, 0.0, 3.0)>=2.0)\n",
    "# pre_te_b=precision_score(np.array(labels_te)>=2.0, map_(labels_te, 0.0, 3.0)>=2.0)\n",
    "# print(pre_tr, pre_te, pre_tr_b, pre_te_b)\n",
    "\n",
    "# print('Recall score')\n",
    "# rec_tr=recall_score(labels_tr, map_(pred_tr, 0.0, 3.0))\n",
    "# rec_te=recall_score(labels_te, map_(pred_te, 0.0, 3.0))\n",
    "# rec_tr_b=recall_score(np.array(labels_tr)>=2.0, map_(labels_tr, 0.0, 3.0)>=2.0)\n",
    "# rec_te_b=recall_score(np.array(labels_te)>=2.0, map_(labels_te, 0.0, 3.0)>=2.0)\n",
    "# print(rec_tr, rec_te, rec_tr_b, rec_te_b)\n",
    "\n",
    "# print('F1 score')\n",
    "# f1_tr=f1_score(labels_tr, map_(pred_tr, 0.0, 3.0))\n",
    "# f1_te=f1_score(labels_te, map_(pred_te, 0.0, 3.0))\n",
    "# f1_tr_b=f1_score(np.array(labels_tr)>=2.0, map_(labels_tr, 0.0, 3.0)>=2.0)\n",
    "# f1_te_b=f1_score(np.array(labels_te)>=2.0, map_(labels_te, 0.0, 3.0)>=2.0)\n",
    "# print(f1_tr, f1_te, f1_tr_b, f1_te_b)"
   ]
  },
  {
   "attachments": {},
   "cell_type": "markdown",
   "metadata": {},
   "source": [
    "KNeighborsClassifier"
   ]
  },
  {
   "cell_type": "markdown",
   "metadata": {},
   "source": [
    "from sklearn.neighbors import KNeighborsClassifier\n",
    "model=KNeighborsClassifier(n_neighbors=5)\n",
    "trainloader.to('cpu')\n",
    "testloader.to('cpu')\n",
    "data=[]\n",
    "label=[]\n",
    "for x, y in trainloader:\n",
    "    X=x.numpy()\n",
    "    Y=y.float().numpy()>=2.0\n",
    "    data+=list(X)\n",
    "    label+=list(Y)\n",
    "model.fit(np.array(data), np.array(label))"
   ]
  },
  {
   "attachments": {},
   "cell_type": "markdown",
   "metadata": {},
   "source": [
    "KNeighborsClassifier Accuracy Score"
   ]
  },
  {
   "cell_type": "markdown",
   "metadata": {},
   "source": [
    "from sklearn.metrics import accuracy_score, precision_score, recall_score, f1_score\n",
    "pred_tr=[]\n",
    "pred_te=[]\n",
    "labels_tr=[]\n",
    "labels_te=[]\n",
    "trainloader.to('cpu')\n",
    "testloader.to('cpu')\n",
    "for x, y in trainloader:\n",
    "    X=x.numpy()\n",
    "    Y=y.float().numpy()>=2.0\n",
    "    pred_tr+=list(model.predict(X))\n",
    "    labels_tr+=list(Y)\n",
    "for x, y in testloader:\n",
    "    X=x.numpy()\n",
    "    Y=y.float().numpy()>=2.0\n",
    "    pred_te+=list(model.predict(X))\n",
    "    labels_te+=list(Y)\n",
    "\n",
    "print('Acuuracy score')\n",
    "acc_tr_b=accuracy_score(np.array(labels_tr), pred_tr)\n",
    "acc_te_b=accuracy_score(np.array(labels_te), pred_te)\n",
    "print(acc_tr_b, acc_te_b)\n",
    "print('Precision score')\n",
    "pre_tr= precision_score(np.array(labels_tr), pred_tr)\n",
    "pre_te= precision_score(np.array(labels_te), pred_te)\n",
    "print(pre_tr, pre_te)\n",
    "print('Recall score')\n",
    "rec_tr = recall_score(np.array(labels_tr), pred_tr)\n",
    "rec_te = recall_score(np.array(labels_te), pred_te)\n",
    "print(rec_tr, rec_te)\n",
    "print('F1 score')\n",
    "f1_tr = f1_score(np.array(labels_tr), pred_tr)\n",
    "f1_te = f1_score(np.array(labels_te), pred_te)\n",
    "print(f1_tr, f1_te)"
   ]
  },
  {
   "attachments": {},
   "cell_type": "markdown",
   "metadata": {},
   "source": [
    "KNeighborsRegressor"
   ]
  },
  {
   "cell_type": "code",
   "execution_count": 26,
   "metadata": {},
   "outputs": [
    {
     "data": {
      "text/html": [
       "<style>#sk-container-id-4 {color: black;background-color: white;}#sk-container-id-4 pre{padding: 0;}#sk-container-id-4 div.sk-toggleable {background-color: white;}#sk-container-id-4 label.sk-toggleable__label {cursor: pointer;display: block;width: 100%;margin-bottom: 0;padding: 0.3em;box-sizing: border-box;text-align: center;}#sk-container-id-4 label.sk-toggleable__label-arrow:before {content: \"▸\";float: left;margin-right: 0.25em;color: #696969;}#sk-container-id-4 label.sk-toggleable__label-arrow:hover:before {color: black;}#sk-container-id-4 div.sk-estimator:hover label.sk-toggleable__label-arrow:before {color: black;}#sk-container-id-4 div.sk-toggleable__content {max-height: 0;max-width: 0;overflow: hidden;text-align: left;background-color: #f0f8ff;}#sk-container-id-4 div.sk-toggleable__content pre {margin: 0.2em;color: black;border-radius: 0.25em;background-color: #f0f8ff;}#sk-container-id-4 input.sk-toggleable__control:checked~div.sk-toggleable__content {max-height: 200px;max-width: 100%;overflow: auto;}#sk-container-id-4 input.sk-toggleable__control:checked~label.sk-toggleable__label-arrow:before {content: \"▾\";}#sk-container-id-4 div.sk-estimator input.sk-toggleable__control:checked~label.sk-toggleable__label {background-color: #d4ebff;}#sk-container-id-4 div.sk-label input.sk-toggleable__control:checked~label.sk-toggleable__label {background-color: #d4ebff;}#sk-container-id-4 input.sk-hidden--visually {border: 0;clip: rect(1px 1px 1px 1px);clip: rect(1px, 1px, 1px, 1px);height: 1px;margin: -1px;overflow: hidden;padding: 0;position: absolute;width: 1px;}#sk-container-id-4 div.sk-estimator {font-family: monospace;background-color: #f0f8ff;border: 1px dotted black;border-radius: 0.25em;box-sizing: border-box;margin-bottom: 0.5em;}#sk-container-id-4 div.sk-estimator:hover {background-color: #d4ebff;}#sk-container-id-4 div.sk-parallel-item::after {content: \"\";width: 100%;border-bottom: 1px solid gray;flex-grow: 1;}#sk-container-id-4 div.sk-label:hover label.sk-toggleable__label {background-color: #d4ebff;}#sk-container-id-4 div.sk-serial::before {content: \"\";position: absolute;border-left: 1px solid gray;box-sizing: border-box;top: 0;bottom: 0;left: 50%;z-index: 0;}#sk-container-id-4 div.sk-serial {display: flex;flex-direction: column;align-items: center;background-color: white;padding-right: 0.2em;padding-left: 0.2em;position: relative;}#sk-container-id-4 div.sk-item {position: relative;z-index: 1;}#sk-container-id-4 div.sk-parallel {display: flex;align-items: stretch;justify-content: center;background-color: white;position: relative;}#sk-container-id-4 div.sk-item::before, #sk-container-id-4 div.sk-parallel-item::before {content: \"\";position: absolute;border-left: 1px solid gray;box-sizing: border-box;top: 0;bottom: 0;left: 50%;z-index: -1;}#sk-container-id-4 div.sk-parallel-item {display: flex;flex-direction: column;z-index: 1;position: relative;background-color: white;}#sk-container-id-4 div.sk-parallel-item:first-child::after {align-self: flex-end;width: 50%;}#sk-container-id-4 div.sk-parallel-item:last-child::after {align-self: flex-start;width: 50%;}#sk-container-id-4 div.sk-parallel-item:only-child::after {width: 0;}#sk-container-id-4 div.sk-dashed-wrapped {border: 1px dashed gray;margin: 0 0.4em 0.5em 0.4em;box-sizing: border-box;padding-bottom: 0.4em;background-color: white;}#sk-container-id-4 div.sk-label label {font-family: monospace;font-weight: bold;display: inline-block;line-height: 1.2em;}#sk-container-id-4 div.sk-label-container {text-align: center;}#sk-container-id-4 div.sk-container {/* jupyter's `normalize.less` sets `[hidden] { display: none; }` but bootstrap.min.css set `[hidden] { display: none !important; }` so we also need the `!important` here to be able to override the default hidden behavior on the sphinx rendered scikit-learn.org. See: https://github.com/scikit-learn/scikit-learn/issues/21755 */display: inline-block !important;position: relative;}#sk-container-id-4 div.sk-text-repr-fallback {display: none;}</style><div id=\"sk-container-id-4\" class=\"sk-top-container\"><div class=\"sk-text-repr-fallback\"><pre>KNeighborsRegressor()</pre><b>In a Jupyter environment, please rerun this cell to show the HTML representation or trust the notebook. <br />On GitHub, the HTML representation is unable to render, please try loading this page with nbviewer.org.</b></div><div class=\"sk-container\" hidden><div class=\"sk-item\"><div class=\"sk-estimator sk-toggleable\"><input class=\"sk-toggleable__control sk-hidden--visually\" id=\"sk-estimator-id-4\" type=\"checkbox\" checked><label for=\"sk-estimator-id-4\" class=\"sk-toggleable__label sk-toggleable__label-arrow\">KNeighborsRegressor</label><div class=\"sk-toggleable__content\"><pre>KNeighborsRegressor()</pre></div></div></div></div></div>"
      ],
      "text/plain": [
       "KNeighborsRegressor()"
      ]
     },
     "execution_count": 26,
     "metadata": {},
     "output_type": "execute_result"
    }
   ],
   "source": [
    "from sklearn.neighbors import KNeighborsRegressor\n",
    "model=KNeighborsRegressor(n_neighbors=5)\n",
    "trainloader.to('cpu')\n",
    "testloader.to('cpu')\n",
    "data=[]\n",
    "label=[]\n",
    "for x, y in trainloader:\n",
    "    X=x.numpy()\n",
    "    Y=y.float().numpy()>=2.0\n",
    "    data+=list(X)\n",
    "    label+=list(Y)\n",
    "model.fit(np.array(data), np.array(label))"
   ]
  },
  {
   "cell_type": "code",
   "execution_count": 27,
   "metadata": {},
   "outputs": [],
   "source": [
    "#mapping function that maps prediction (floating point) to integer labels(0, 1, 2, 3). Same as the MLP's one\n",
    "def map_(values, clip_low, clip_high):\n",
    "    result=[]\n",
    "    for value in values:\n",
    "        # value=value[0] #flattening #no need for XGBoost\n",
    "        val=clip_low if value<clip_low else clip_high if value>clip_high else value\n",
    "        result.append(val)\n",
    "    return np.round(np.array(result))"
   ]
  },
  {
   "attachments": {},
   "cell_type": "markdown",
   "metadata": {},
   "source": [
    "KNeighborsRegressor Accuracy Score"
   ]
  },
  {
   "cell_type": "code",
   "execution_count": 28,
   "metadata": {},
   "outputs": [
    {
     "name": "stdout",
     "output_type": "stream",
     "text": [
      "Accuracy score\n",
      "0.01661802261948194 0.045908299477655255 1.0 1.0\n"
     ]
    }
   ],
   "source": [
    "pred_tr=[]\n",
    "pred_te=[]\n",
    "labels_tr=[]\n",
    "labels_te=[]\n",
    "trainloader.to('cpu')\n",
    "testloader.to('cpu')\n",
    "for x, y in trainloader:\n",
    "    X=x.numpy()\n",
    "    Y=y.float().numpy()\n",
    "    pred_tr+=list(model.predict(X))\n",
    "    labels_tr+=list(Y)\n",
    "for x, y in testloader:\n",
    "    X=x.numpy()\n",
    "    Y=y.float().numpy()\n",
    "    pred_te+=list(model.predict(X))\n",
    "    labels_te+=list(Y)\n",
    "\n",
    "print('Accuracy score')\n",
    "acc_tr=accuracy_score(labels_tr, map_(pred_tr, 0.0, 3.0))\n",
    "acc_te=accuracy_score(labels_te, map_(pred_te, 0.0, 3.0))\n",
    "acc_tr_b=accuracy_score(np.array(labels_tr)>=2.0, map_(labels_tr, 0.0, 3.0)>=2.0)\n",
    "acc_te_b=accuracy_score(np.array(labels_te)>=2.0, map_(labels_te, 0.0, 3.0)>=2.0)\n",
    "\n",
    "print(acc_tr, acc_te, acc_tr_b, acc_te_b)\n",
    "\n",
    "# print('Precision score')\n",
    "# pre_tr=precision_score(labels_tr, map_(pred_tr, 0.0, 3.0))\n",
    "# pre_te=precision_score(labels_te, map_(pred_te, 0.0, 3.0))\n",
    "# pre_tr_b=precision_score(np.array(labels_tr)>=2.0, map_(labels_tr, 0.0, 3.0)>=2.0)\n",
    "# pre_te_b=precision_score(np.array(labels_te)>=2.0, map_(labels_te, 0.0, 3.0)>=2.0)\n",
    "# print(pre_tr, pre_te, pre_tr_b, pre_te_b)\n",
    "\n",
    "# print('Recall score')\n",
    "# rec_tr=recall_score(labels_tr, map_(pred_tr, 0.0, 3.0))\n",
    "# rec_te=recall_score(labels_te, map_(pred_te, 0.0, 3.0))\n",
    "# rec_tr_b=recall_score(np.array(labels_tr)>=2.0, map_(labels_tr, 0.0, 3.0)>=2.0)\n",
    "# rec_te_b=recall_score(np.array(labels_te)>=2.0, map_(labels_te, 0.0, 3.0)>=2.0)\n",
    "# print(rec_tr, rec_te, rec_tr_b, rec_te_b)\n",
    "\n",
    "# print('F1 score')\n",
    "# f1_tr=f1_score(labels_tr, map_(pred_tr, 0.0, 3.0))\n",
    "# f1_te=f1_score(labels_te, map_(pred_te, 0.0, 3.0))\n",
    "# f1_tr_b=f1_score(np.array(labels_tr)>=2.0, map_(labels_tr, 0.0, 3.0)>=2.0)\n",
    "# f1_te_b=f1_score(np.array(labels_te)>=2.0, map_(labels_te, 0.0, 3.0)>=2.0)\n",
    "# print(f1_tr, f1_te, f1_tr_b, f1_te_b)"
   ]
  },
  {
   "cell_type": "code",
   "execution_count": null,
   "metadata": {},
   "outputs": [],
   "source": [
    "182000"
   ]
  },
  {
   "cell_type": "code",
   "execution_count": null,
   "metadata": {},
   "outputs": [],
   "source": [
    "path_celeba=r'C:\\GitHub\\Smart-Education-data\\data\\celeba'"
   ]
  },
  {
   "cell_type": "code",
   "execution_count": null,
   "metadata": {},
   "outputs": [],
   "source": [
    "import glob\n",
    "from os.path import join as ospj\n",
    "import pandas as pd\n",
    "import numpy as np"
   ]
  },
  {
   "cell_type": "code",
   "execution_count": null,
   "metadata": {},
   "outputs": [
    {
     "data": {
      "text/plain": [
       "20599"
      ]
     },
     "execution_count": 23,
     "metadata": {},
     "output_type": "execute_result"
    }
   ],
   "source": [
    "len(glob.glob(ospj(path_celeba, '*'))[182000:])"
   ]
  },
  {
   "cell_type": "code",
   "execution_count": null,
   "metadata": {},
   "outputs": [],
   "source": [
    "path_id_csv=r'C:\\GitHub\\Smart-Education-data\\data\\Anno\\identity_CelebA.txt'\n",
    "df_id_all=pd.read_csv(path_id_csv, header=None)"
   ]
  },
  {
   "cell_type": "code",
   "execution_count": null,
   "metadata": {},
   "outputs": [
    {
     "data": {
      "text/plain": [
       "0    object\n",
       "dtype: object"
      ]
     },
     "execution_count": 34,
     "metadata": {},
     "output_type": "execute_result"
    }
   ],
   "source": [
    "df_id_all.dtypes"
   ]
  },
  {
   "cell_type": "code",
   "execution_count": null,
   "metadata": {},
   "outputs": [
    {
     "data": {
      "text/plain": [
       "<AxesSubplot: >"
      ]
     },
     "execution_count": 45,
     "metadata": {},
     "output_type": "execute_result"
    },
    {
     "data": {
      "image/png": "[encoded data removed]",
      "text/plain": [
       "<Figure size 640x480 with 1 Axes>"
      ]
     },
     "metadata": {},
     "output_type": "display_data"
    }
   ],
   "source": [
    "pd.DataFrame([list(_)[0].split() for _ in df_id_all.values], columns=['f_name', 'id'])['id'].value_counts().plot()"
   ]
  },
  {
   "attachments": {},
   "cell_type": "markdown",
   "metadata": {},
   "source": [
    "From above figure, if the horizontal segment of the plot is longer, the height (y value, which is integer) is more common."
   ]
  },
  {
   "attachments": {},
   "cell_type": "markdown",
   "metadata": {},
   "source": [
    "I'm gonna drop less common ids because we need to split them into two subsets and put them in a face recognition model"
   ]
  },
  {
   "cell_type": "code",
   "execution_count": null,
   "metadata": {},
   "outputs": [],
   "source": [
    "df_id_all=pd.DataFrame([list(_)[0].split() for _ in df_id_all.values], columns=['f_name', 'id'])"
   ]
  },
  {
   "cell_type": "code",
   "execution_count": null,
   "metadata": {},
   "outputs": [
    {
     "data": {
      "text/html": [
       "<div>\n",
       "<style scoped>\n",
       "    .dataframe tbody tr th:only-of-type {\n",
       "        vertical-align: middle;\n",
       "    }\n",
       "\n",
       "    .dataframe tbody tr th {\n",
       "        vertical-align: top;\n",
       "    }\n",
       "\n",
       "    .dataframe thead th {\n",
       "        text-align: right;\n",
       "    }\n",
       "</style>\n",
       "<table border=\"1\" class=\"dataframe\">\n",
       "  <thead>\n",
       "    <tr style=\"text-align: right;\">\n",
       "      <th></th>\n",
       "      <th>f_name</th>\n",
       "      <th>id</th>\n",
       "    </tr>\n",
       "  </thead>\n",
       "  <tbody>\n",
       "    <tr>\n",
       "      <th>182000</th>\n",
       "      <td>182001.jpg</td>\n",
       "      <td>1210</td>\n",
       "    </tr>\n",
       "    <tr>\n",
       "      <th>182001</th>\n",
       "      <td>182002.jpg</td>\n",
       "      <td>465</td>\n",
       "    </tr>\n",
       "    <tr>\n",
       "      <th>182002</th>\n",
       "      <td>182003.jpg</td>\n",
       "      <td>4072</td>\n",
       "    </tr>\n",
       "    <tr>\n",
       "      <th>182003</th>\n",
       "      <td>182004.jpg</td>\n",
       "      <td>2810</td>\n",
       "    </tr>\n",
       "    <tr>\n",
       "      <th>182004</th>\n",
       "      <td>182005.jpg</td>\n",
       "      <td>2658</td>\n",
       "    </tr>\n",
       "  </tbody>\n",
       "</table>\n",
       "</div>"
      ],
      "text/plain": [
       "            f_name    id\n",
       "182000  182001.jpg  1210\n",
       "182001  182002.jpg   465\n",
       "182002  182003.jpg  4072\n",
       "182003  182004.jpg  2810\n",
       "182004  182005.jpg  2658"
      ]
     },
     "execution_count": 57,
     "metadata": {},
     "output_type": "execute_result"
    }
   ],
   "source": [
    "#drop files used for training AttGAN. (refer to AttGAN-Python/train.py)\n",
    "df_id_test=df_id_all[182000:]\n",
    "df_id_test[:5]"
   ]
  },
  {
   "cell_type": "code",
   "execution_count": null,
   "metadata": {},
   "outputs": [],
   "source": [
    "n_samples=30 #this will determine the amount of samples in each identity subsets. Any identities having less amount of images will be dropped.\n",
    "# df_id_test.loc[]\n",
    "# df_id_test['id']\n",
    "val_cnts=df_id_test['id'].value_counts()\n",
    "idx=val_cnts.loc[(val_cnts>=n_samples)].index"
   ]
  },
  {
   "cell_type": "code",
   "execution_count": null,
   "metadata": {},
   "outputs": [
    {
     "data": {
      "text/plain": [
       "261"
      ]
     },
     "execution_count": 248,
     "metadata": {},
     "output_type": "execute_result"
    }
   ],
   "source": [
    "len(idx)"
   ]
  },
  {
   "cell_type": "code",
   "execution_count": null,
   "metadata": {},
   "outputs": [
    {
     "data": {
      "text/plain": [
       "182000    False\n",
       "182001    False\n",
       "182002    False\n",
       "182003    False\n",
       "182004    False\n",
       "          ...  \n",
       "202594     True\n",
       "202595     True\n",
       "202596    False\n",
       "202597     True\n",
       "202598    False\n",
       "Name: id, Length: 20599, dtype: bool"
      ]
     },
     "execution_count": 249,
     "metadata": {},
     "output_type": "execute_result"
    }
   ],
   "source": [
    "df_id_test['id'].isin(idx)"
   ]
  },
  {
   "cell_type": "code",
   "execution_count": null,
   "metadata": {},
   "outputs": [],
   "source": [
    "df_id_test_picked=df_id_test.loc[df_id_test['id'].isin(idx)]"
   ]
  },
  {
   "cell_type": "code",
   "execution_count": null,
   "metadata": {},
   "outputs": [],
   "source": [
    "seed=0\n",
    "samples=[]\n",
    "source_size=0.5 #source reference split\n",
    "n_src=int(source_size*n_samples)\n",
    "n_ref=n_samples-n_src\n",
    "assert n_src>0 #and n_ref>0\n",
    "src_samples=[]\n",
    "ref_samples=[]\n",
    "for id in idx:\n",
    "    _samples=df_id_test_picked.loc[df_id_test_picked['id']==id].sample(n=n_samples, random_state=seed)\n",
    "    src_sample, ref_sample=_samples[:n_src], _samples[n_src:]\n",
    "    src_samples.append(src_sample)\n",
    "    ref_samples.append(ref_sample)\n",
    "df_id_test_samples_src, df_id_test_samples_ref=pd.concat(src_samples, axis=0).sort_index(), pd.concat(ref_samples, axis=0).sort_index()"
   ]
  },
  {
   "cell_type": "code",
   "execution_count": null,
   "metadata": {},
   "outputs": [
    {
     "name": "stdout",
     "output_type": "stream",
     "text": [
      "3915\n"
     ]
    },
    {
     "data": {
      "text/plain": [
       "9010    15\n",
       "7358    15\n",
       "5966    15\n",
       "5256    15\n",
       "5354    15\n",
       "        ..\n",
       "8786    15\n",
       "4973    15\n",
       "8912    15\n",
       "4992    15\n",
       "8717    15\n",
       "Name: id, Length: 261, dtype: int64"
      ]
     },
     "execution_count": 252,
     "metadata": {},
     "output_type": "execute_result"
    }
   ],
   "source": [
    "print(len(df_id_test_samples_src))\n",
    "df_id_test_samples_src['id'].value_counts()"
   ]
  },
  {
   "cell_type": "code",
   "execution_count": null,
   "metadata": {},
   "outputs": [
    {
     "name": "stdout",
     "output_type": "stream",
     "text": [
      "3915\n"
     ]
    },
    {
     "data": {
      "text/plain": [
       "7760    15\n",
       "8786    15\n",
       "8496    15\n",
       "7883    15\n",
       "9194    15\n",
       "        ..\n",
       "5987    15\n",
       "6454    15\n",
       "4996    15\n",
       "5159    15\n",
       "5585    15\n",
       "Name: id, Length: 261, dtype: int64"
      ]
     },
     "execution_count": 253,
     "metadata": {},
     "output_type": "execute_result"
    }
   ],
   "source": [
    "print(len(df_id_test_samples_ref))\n",
    "df_id_test_samples_ref['id'].value_counts()"
   ]
  },
  {
   "cell_type": "code",
   "execution_count": null,
   "metadata": {},
   "outputs": [],
   "source": [
    "dir=r'C:\\GitHub\\Smart-Education-data\\data\\celeba_sampled'\n",
    "# df_id_test_samples_src.to_csv(ospj(dir, f'id_test_{n_src}_source.csv'))\n",
    "# df_id_test_samples_ref.to_csv(ospj(dir, f'id_test_{n_ref}_reference.csv'))"
   ]
  },
  {
   "attachments": {},
   "cell_type": "markdown",
   "metadata": {},
   "source": [
    "mergeing df_id_XXX with other headers"
   ]
  },
  {
   "cell_type": "code",
   "execution_count": null,
   "metadata": {},
   "outputs": [],
   "source": [
    "import pandas as pd\n",
    "import numpy as np\n",
    "from os.path import join as ospj\n",
    "n_src, n_ref=1, 1\n",
    "dir_csv=r'C:\\GitHub\\Smart-Education-data\\data\\celeba_sampled'\n",
    "df_id_test_samples_src=pd.read_csv(ospj(dir_csv, f'id_test_{n_src}_source.csv'), index_col=0)\n",
    "df_id_test_samples_ref=pd.read_csv(ospj(dir_csv, f'id_test_{n_ref}_reference.csv'), index_col=0)"
   ]
  },
  {
   "cell_type": "code",
   "execution_count": null,
   "metadata": {},
   "outputs": [],
   "source": [
    "dir_anno=r'C:\\GitHub\\Smart-Education-data\\data\\Anno'"
   ]
  },
  {
   "cell_type": "code",
   "execution_count": null,
   "metadata": {},
   "outputs": [
    {
     "data": {
      "text/html": [
       "<div>\n",
       "<style scoped>\n",
       "    .dataframe tbody tr th:only-of-type {\n",
       "        vertical-align: middle;\n",
       "    }\n",
       "\n",
       "    .dataframe tbody tr th {\n",
       "        vertical-align: top;\n",
       "    }\n",
       "\n",
       "    .dataframe thead th {\n",
       "        text-align: right;\n",
       "    }\n",
       "</style>\n",
       "<table border=\"1\" class=\"dataframe\">\n",
       "  <thead>\n",
       "    <tr style=\"text-align: right;\">\n",
       "      <th></th>\n",
       "      <th>f_name</th>\n",
       "      <th>5_o_Clock_Shadow</th>\n",
       "      <th>Arched_Eyebrows</th>\n",
       "      <th>Attractive</th>\n",
       "      <th>Bags_Under_Eyes</th>\n",
       "      <th>Bald</th>\n",
       "      <th>Bangs</th>\n",
       "      <th>Big_Lips</th>\n",
       "      <th>Big_Nose</th>\n",
       "      <th>Black_Hair</th>\n",
       "      <th>...</th>\n",
       "      <th>Sideburns</th>\n",
       "      <th>Smiling</th>\n",
       "      <th>Straight_Hair</th>\n",
       "      <th>Wavy_Hair</th>\n",
       "      <th>Wearing_Earrings</th>\n",
       "      <th>Wearing_Hat</th>\n",
       "      <th>Wearing_Lipstick</th>\n",
       "      <th>Wearing_Necklace</th>\n",
       "      <th>Wearing_Necktie</th>\n",
       "      <th>Young</th>\n",
       "    </tr>\n",
       "  </thead>\n",
       "  <tbody>\n",
       "    <tr>\n",
       "      <th>0</th>\n",
       "      <td>000001.jpg</td>\n",
       "      <td>-1</td>\n",
       "      <td>1</td>\n",
       "      <td>1</td>\n",
       "      <td>-1</td>\n",
       "      <td>-1</td>\n",
       "      <td>-1</td>\n",
       "      <td>-1</td>\n",
       "      <td>-1</td>\n",
       "      <td>-1</td>\n",
       "      <td>...</td>\n",
       "      <td>-1</td>\n",
       "      <td>1</td>\n",
       "      <td>1</td>\n",
       "      <td>-1</td>\n",
       "      <td>1</td>\n",
       "      <td>-1</td>\n",
       "      <td>1</td>\n",
       "      <td>-1</td>\n",
       "      <td>-1</td>\n",
       "      <td>1</td>\n",
       "    </tr>\n",
       "    <tr>\n",
       "      <th>1</th>\n",
       "      <td>000002.jpg</td>\n",
       "      <td>-1</td>\n",
       "      <td>-1</td>\n",
       "      <td>-1</td>\n",
       "      <td>1</td>\n",
       "      <td>-1</td>\n",
       "      <td>-1</td>\n",
       "      <td>-1</td>\n",
       "      <td>1</td>\n",
       "      <td>-1</td>\n",
       "      <td>...</td>\n",
       "      <td>-1</td>\n",
       "      <td>1</td>\n",
       "      <td>-1</td>\n",
       "      <td>-1</td>\n",
       "      <td>-1</td>\n",
       "      <td>-1</td>\n",
       "      <td>-1</td>\n",
       "      <td>-1</td>\n",
       "      <td>-1</td>\n",
       "      <td>1</td>\n",
       "    </tr>\n",
       "    <tr>\n",
       "      <th>2</th>\n",
       "      <td>000003.jpg</td>\n",
       "      <td>-1</td>\n",
       "      <td>-1</td>\n",
       "      <td>-1</td>\n",
       "      <td>-1</td>\n",
       "      <td>-1</td>\n",
       "      <td>-1</td>\n",
       "      <td>1</td>\n",
       "      <td>-1</td>\n",
       "      <td>-1</td>\n",
       "      <td>...</td>\n",
       "      <td>-1</td>\n",
       "      <td>-1</td>\n",
       "      <td>-1</td>\n",
       "      <td>1</td>\n",
       "      <td>-1</td>\n",
       "      <td>-1</td>\n",
       "      <td>-1</td>\n",
       "      <td>-1</td>\n",
       "      <td>-1</td>\n",
       "      <td>1</td>\n",
       "    </tr>\n",
       "    <tr>\n",
       "      <th>3</th>\n",
       "      <td>000004.jpg</td>\n",
       "      <td>-1</td>\n",
       "      <td>-1</td>\n",
       "      <td>1</td>\n",
       "      <td>-1</td>\n",
       "      <td>-1</td>\n",
       "      <td>-1</td>\n",
       "      <td>-1</td>\n",
       "      <td>-1</td>\n",
       "      <td>-1</td>\n",
       "      <td>...</td>\n",
       "      <td>-1</td>\n",
       "      <td>-1</td>\n",
       "      <td>1</td>\n",
       "      <td>-1</td>\n",
       "      <td>1</td>\n",
       "      <td>-1</td>\n",
       "      <td>1</td>\n",
       "      <td>1</td>\n",
       "      <td>-1</td>\n",
       "      <td>1</td>\n",
       "    </tr>\n",
       "    <tr>\n",
       "      <th>4</th>\n",
       "      <td>000005.jpg</td>\n",
       "      <td>-1</td>\n",
       "      <td>1</td>\n",
       "      <td>1</td>\n",
       "      <td>-1</td>\n",
       "      <td>-1</td>\n",
       "      <td>-1</td>\n",
       "      <td>1</td>\n",
       "      <td>-1</td>\n",
       "      <td>-1</td>\n",
       "      <td>...</td>\n",
       "      <td>-1</td>\n",
       "      <td>-1</td>\n",
       "      <td>-1</td>\n",
       "      <td>-1</td>\n",
       "      <td>-1</td>\n",
       "      <td>-1</td>\n",
       "      <td>1</td>\n",
       "      <td>-1</td>\n",
       "      <td>-1</td>\n",
       "      <td>1</td>\n",
       "    </tr>\n",
       "    <tr>\n",
       "      <th>...</th>\n",
       "      <td>...</td>\n",
       "      <td>...</td>\n",
       "      <td>...</td>\n",
       "      <td>...</td>\n",
       "      <td>...</td>\n",
       "      <td>...</td>\n",
       "      <td>...</td>\n",
       "      <td>...</td>\n",
       "      <td>...</td>\n",
       "      <td>...</td>\n",
       "      <td>...</td>\n",
       "      <td>...</td>\n",
       "      <td>...</td>\n",
       "      <td>...</td>\n",
       "      <td>...</td>\n",
       "      <td>...</td>\n",
       "      <td>...</td>\n",
       "      <td>...</td>\n",
       "      <td>...</td>\n",
       "      <td>...</td>\n",
       "      <td>...</td>\n",
       "    </tr>\n",
       "    <tr>\n",
       "      <th>202594</th>\n",
       "      <td>202595.jpg</td>\n",
       "      <td>-1</td>\n",
       "      <td>-1</td>\n",
       "      <td>1</td>\n",
       "      <td>-1</td>\n",
       "      <td>-1</td>\n",
       "      <td>-1</td>\n",
       "      <td>1</td>\n",
       "      <td>-1</td>\n",
       "      <td>-1</td>\n",
       "      <td>...</td>\n",
       "      <td>-1</td>\n",
       "      <td>-1</td>\n",
       "      <td>-1</td>\n",
       "      <td>-1</td>\n",
       "      <td>-1</td>\n",
       "      <td>-1</td>\n",
       "      <td>1</td>\n",
       "      <td>-1</td>\n",
       "      <td>-1</td>\n",
       "      <td>1</td>\n",
       "    </tr>\n",
       "    <tr>\n",
       "      <th>202595</th>\n",
       "      <td>202596.jpg</td>\n",
       "      <td>-1</td>\n",
       "      <td>-1</td>\n",
       "      <td>-1</td>\n",
       "      <td>-1</td>\n",
       "      <td>-1</td>\n",
       "      <td>1</td>\n",
       "      <td>1</td>\n",
       "      <td>-1</td>\n",
       "      <td>-1</td>\n",
       "      <td>...</td>\n",
       "      <td>-1</td>\n",
       "      <td>1</td>\n",
       "      <td>1</td>\n",
       "      <td>-1</td>\n",
       "      <td>-1</td>\n",
       "      <td>-1</td>\n",
       "      <td>-1</td>\n",
       "      <td>-1</td>\n",
       "      <td>-1</td>\n",
       "      <td>1</td>\n",
       "    </tr>\n",
       "    <tr>\n",
       "      <th>202596</th>\n",
       "      <td>202597.jpg</td>\n",
       "      <td>-1</td>\n",
       "      <td>-1</td>\n",
       "      <td>-1</td>\n",
       "      <td>-1</td>\n",
       "      <td>-1</td>\n",
       "      <td>-1</td>\n",
       "      <td>-1</td>\n",
       "      <td>-1</td>\n",
       "      <td>1</td>\n",
       "      <td>...</td>\n",
       "      <td>-1</td>\n",
       "      <td>1</td>\n",
       "      <td>-1</td>\n",
       "      <td>-1</td>\n",
       "      <td>-1</td>\n",
       "      <td>-1</td>\n",
       "      <td>-1</td>\n",
       "      <td>-1</td>\n",
       "      <td>-1</td>\n",
       "      <td>1</td>\n",
       "    </tr>\n",
       "    <tr>\n",
       "      <th>202597</th>\n",
       "      <td>202598.jpg</td>\n",
       "      <td>-1</td>\n",
       "      <td>1</td>\n",
       "      <td>1</td>\n",
       "      <td>-1</td>\n",
       "      <td>-1</td>\n",
       "      <td>-1</td>\n",
       "      <td>1</td>\n",
       "      <td>-1</td>\n",
       "      <td>1</td>\n",
       "      <td>...</td>\n",
       "      <td>-1</td>\n",
       "      <td>1</td>\n",
       "      <td>-1</td>\n",
       "      <td>1</td>\n",
       "      <td>1</td>\n",
       "      <td>-1</td>\n",
       "      <td>1</td>\n",
       "      <td>-1</td>\n",
       "      <td>-1</td>\n",
       "      <td>1</td>\n",
       "    </tr>\n",
       "    <tr>\n",
       "      <th>202598</th>\n",
       "      <td>202599.jpg</td>\n",
       "      <td>-1</td>\n",
       "      <td>1</td>\n",
       "      <td>1</td>\n",
       "      <td>-1</td>\n",
       "      <td>-1</td>\n",
       "      <td>-1</td>\n",
       "      <td>-1</td>\n",
       "      <td>-1</td>\n",
       "      <td>-1</td>\n",
       "      <td>...</td>\n",
       "      <td>-1</td>\n",
       "      <td>-1</td>\n",
       "      <td>-1</td>\n",
       "      <td>1</td>\n",
       "      <td>-1</td>\n",
       "      <td>-1</td>\n",
       "      <td>1</td>\n",
       "      <td>-1</td>\n",
       "      <td>-1</td>\n",
       "      <td>1</td>\n",
       "    </tr>\n",
       "  </tbody>\n",
       "</table>\n",
       "<p>202599 rows × 41 columns</p>\n",
       "</div>"
      ],
      "text/plain": [
       "            f_name 5_o_Clock_Shadow Arched_Eyebrows Attractive  \\\n",
       "0       000001.jpg               -1               1          1   \n",
       "1       000002.jpg               -1              -1         -1   \n",
       "2       000003.jpg               -1              -1         -1   \n",
       "3       000004.jpg               -1              -1          1   \n",
       "4       000005.jpg               -1               1          1   \n",
       "...            ...              ...             ...        ...   \n",
       "202594  202595.jpg               -1              -1          1   \n",
       "202595  202596.jpg               -1              -1         -1   \n",
       "202596  202597.jpg               -1              -1         -1   \n",
       "202597  202598.jpg               -1               1          1   \n",
       "202598  202599.jpg               -1               1          1   \n",
       "\n",
       "       Bags_Under_Eyes Bald Bangs Big_Lips Big_Nose Black_Hair  ... Sideburns  \\\n",
       "0                   -1   -1    -1       -1       -1         -1  ...        -1   \n",
       "1                    1   -1    -1       -1        1         -1  ...        -1   \n",
       "2                   -1   -1    -1        1       -1         -1  ...        -1   \n",
       "3                   -1   -1    -1       -1       -1         -1  ...        -1   \n",
       "4                   -1   -1    -1        1       -1         -1  ...        -1   \n",
       "...                ...  ...   ...      ...      ...        ...  ...       ...   \n",
       "202594              -1   -1    -1        1       -1         -1  ...        -1   \n",
       "202595              -1   -1     1        1       -1         -1  ...        -1   \n",
       "202596              -1   -1    -1       -1       -1          1  ...        -1   \n",
       "202597              -1   -1    -1        1       -1          1  ...        -1   \n",
       "202598              -1   -1    -1       -1       -1         -1  ...        -1   \n",
       "\n",
       "       Smiling Straight_Hair Wavy_Hair Wearing_Earrings Wearing_Hat  \\\n",
       "0            1             1        -1                1          -1   \n",
       "1            1            -1        -1               -1          -1   \n",
       "2           -1            -1         1               -1          -1   \n",
       "3           -1             1        -1                1          -1   \n",
       "4           -1            -1        -1               -1          -1   \n",
       "...        ...           ...       ...              ...         ...   \n",
       "202594      -1            -1        -1               -1          -1   \n",
       "202595       1             1        -1               -1          -1   \n",
       "202596       1            -1        -1               -1          -1   \n",
       "202597       1            -1         1                1          -1   \n",
       "202598      -1            -1         1               -1          -1   \n",
       "\n",
       "       Wearing_Lipstick Wearing_Necklace Wearing_Necktie Young  \n",
       "0                     1               -1              -1     1  \n",
       "1                    -1               -1              -1     1  \n",
       "2                    -1               -1              -1     1  \n",
       "3                     1                1              -1     1  \n",
       "4                     1               -1              -1     1  \n",
       "...                 ...              ...             ...   ...  \n",
       "202594                1               -1              -1     1  \n",
       "202595               -1               -1              -1     1  \n",
       "202596               -1               -1              -1     1  \n",
       "202597                1               -1              -1     1  \n",
       "202598                1               -1              -1     1  \n",
       "\n",
       "[202599 rows x 41 columns]"
      ]
     },
     "execution_count": 352,
     "metadata": {},
     "output_type": "execute_result"
    }
   ],
   "source": [
    "df_attr=pd.read_csv(ospj(dir_anno, 'list_attr_celeba.txt'), header=None)\n",
    "cols=df_attr.iloc[1, 0].split()\n",
    "_attrs=[_.split() for _ in df_attr.iloc[2:, 0]]\n",
    "# list_attrs=[cols]+_attrs\n",
    "df_attr=pd.DataFrame(_attrs, columns=['f_name']+cols)\n",
    "df_attr"
   ]
  },
  {
   "cell_type": "code",
   "execution_count": null,
   "metadata": {},
   "outputs": [],
   "source": [
    "df_meta_src=df_attr.merge(df_id_test_samples_src)\n",
    "dir_celeba=r'C:\\GitHub\\Smart-Education-data\\data\\celeba'\n",
    "df_meta_src['path']=dir_celeba+'/'+df_meta_src['f_name']\n",
    "# df_meta_src[['f_name', 'path']]\n",
    "\n",
    "df_meta_ref=df_attr.merge(df_id_test_samples_ref)\n",
    "dir_celeba=r'C:\\GitHub\\Smart-Education-data\\data\\celeba'\n",
    "df_meta_ref['path']=dir_celeba+'/'+df_meta_ref['f_name']\n",
    "# df_meta_ref[['f_name', 'path']]"
   ]
  },
  {
   "cell_type": "code",
   "execution_count": null,
   "metadata": {},
   "outputs": [],
   "source": [
    "dir_meta=r'C:\\GitHub\\Smart-Education-data\\data\\celeba_sampled'\n",
    "# df_meta_src.to_csv(ospj(dir_meta, f'meta_s{n_src}_src.csv'))\n",
    "# df_meta_ref.to_csv(ospj(dir_meta, f'meta_s{n_ref}_ref.csv'))"
   ]
  },
  {
   "attachments": {},
   "cell_type": "markdown",
   "metadata": {},
   "source": [
    "copying files"
   ]
  },
  {
   "cell_type": "code",
   "execution_count": null,
   "metadata": {},
   "outputs": [],
   "source": [
    "import shutil\n",
    "from os import mkdir\n",
    "from os.path import exists as osex\n",
    "from os.path import join as ospj"
   ]
  },
  {
   "cell_type": "code",
   "execution_count": null,
   "metadata": {},
   "outputs": [],
   "source": [
    "n_src, n_ref=15, 15"
   ]
  },
  {
   "cell_type": "code",
   "execution_count": null,
   "metadata": {},
   "outputs": [],
   "source": [
    "dir_meta=r'C:\\GitHub\\Smart-Education-data\\data\\celeba_sampled'\n",
    "df_meta_src=pd.read_csv(ospj(dir_meta, f'meta_s{n_src}_src.csv'))\n",
    "df_meta_ref=pd.read_csv(ospj(dir_meta, f'meta_s{n_ref}_ref.csv'))\n",
    "\n",
    "dir_source=ospj(r'C:\\GitHub\\Smart-Education-data\\data\\celeba_sampled', f'src_s{n_src}')\n",
    "dir_reference=ospj(r'C:\\GitHub\\Smart-Education-data\\data\\celeba_sampled', f'ref_s{n_ref}')\n",
    "\n",
    "if not osex(dir_source):\n",
    "    mkdir(dir_source)\n",
    "if not osex(dir_reference):\n",
    "    mkdir(dir_reference)\n",
    "for source_path in df_meta_src['path']:\n",
    "    f_name=source_path.replace('\\\\', '/').split('/')[-1]\n",
    "    # shutil.copy2(source_path, ospj(dir_source, f_name))\n",
    "for reference_path in df_meta_ref['path']:\n",
    "    f_name=reference_path.replace('\\\\', '/').split('/')[-1]\n",
    "    # shutil.copy2(reference_path, ospj(dir_reference, f_name))"
   ]
  },
  {
   "attachments": {},
   "cell_type": "markdown",
   "metadata": {},
   "source": [
    "preparing attr.txt from meta data"
   ]
  },
  {
   "cell_type": "code",
   "execution_count": null,
   "metadata": {},
   "outputs": [],
   "source": [
    "import pandas as pd\n",
    "import numpy as np\n",
    "from os.path import join as ospj"
   ]
  },
  {
   "cell_type": "code",
   "execution_count": null,
   "metadata": {},
   "outputs": [],
   "source": [
    "n_src, n_ref=15, 15\n",
    "list_attr=['Bald', 'Bangs', 'Black_Hair', 'Blond_Hair', 'Brown_Hair', 'Bushy_Eyebrows', 'Eyeglasses', 'Male', 'Mouth_Slightly_Open', 'Mustache', 'No_Beard', 'Pale_Skin', 'Young']\n",
    "df_meta_src=pd.read_csv(ospj(r'C:\\GitHub\\Smart-Education-data\\data\\celeba_sampled', f'meta_s{n_src}_src.csv'), index_col=0)\n",
    "data=[' '.join(line)+'\\n' for line in df_meta_src.iloc[:, :-2].loc[:, ['f_name']+list_attr].astype(str).values]\n",
    "# cols=[' '.join(df_meta_src.iloc[:, 1:-2].columns)+'\\n']\n",
    "cols=[' '.join(list_attr)+'\\n']\n",
    "length=str(len(data))\n",
    "list_text=[length+'\\n']+cols+data\n",
    "dir_to_save_list_attr=r'C:\\GitHub\\Smart-Education-data\\data\\celeba_sampled'\n",
    "with open(ospj(dir_to_save_list_attr, f'list_attr_s{n_src}_src.txt'), 'w') as f:\n",
    "    f.writelines(list_text)\n",
    "\n",
    "df_meta_ref=pd.read_csv(ospj(r'C:\\GitHub\\Smart-Education-data\\data\\celeba_sampled', f'meta_s{n_ref}_ref.csv'), index_col=0)\n",
    "data=[' '.join(line)+'\\n' for line in df_meta_ref.iloc[:, :-2].loc[:, ['f_name']+list_attr].astype(str).values]\n",
    "# cols=[' '.join(df_meta_ref.iloc[:, 1:-2].columns)+'\\n']\n",
    "cols=[' '.join(list_attr)+'\\n']\n",
    "length=str(len(data))\n",
    "list_text=[length+'\\n']+cols+data\n",
    "dir_to_save_list_attr=r'C:\\GitHub\\Smart-Education-data\\data\\celeba_sampled'\n",
    "with open(ospj(dir_to_save_list_attr, f'list_attr_s{n_ref}_ref.txt'), 'w') as f:\n",
    "    f.writelines(list_text)"
   ]
  },
  {
   "cell_type": "code",
   "execution_count": null,
   "metadata": {},
   "outputs": [],
   "source": []
  }
 ],
 "metadata": {
  "kernelspec": {
   "display_name": "base",
   "language": "python",
   "name": "python3"
  },
  "language_info": {
   "codemirror_mode": {
    "name": "ipython",
    "version": 3
   },
   "file_extension": ".py",
   "mimetype": "text/x-python",
   "name": "python",
   "nbconvert_exporter": "python",
   "pygments_lexer": "ipython3",
   "version": "3.8.16"
  },
  "orig_nbformat": 4,
  "vscode": {
   "interpreter": {
    "hash": "c40fc240bea52273cd1a1858a71b7744abb2d3b41121723fab477901189220d4"
   }
  }
 },
 "nbformat": 4,
 "nbformat_minor": 2
}
