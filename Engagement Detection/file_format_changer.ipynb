{
 "cells": [
  {
   "cell_type": "code",
   "execution_count": 1,
   "metadata": {},
   "outputs": [],
   "source": [
    "from os.path import join as ospj\n",
    "import pandas as pd\n",
    "import numpy as np\n",
    "from matplotlib import pyplot as plt\n",
    "import glob\n",
    "from PIL import Image"
   ]
  },
  {
   "cell_type": "code",
   "execution_count": 4,
   "metadata": {},
   "outputs": [],
   "source": [
    "dir_input=r'C:\\Users\\Ranjani\\Downloads\\Sample_4.3_high\\high'\n",
    "dir_output=r'C:\\Users\\Ranjani\\Downloads\\Sample_4.3_high\\high_jpg'\n",
    "list_file_path=glob.glob(ospj(dir_input, '*'))\n",
    "for file_path in list_file_path:\n",
    "    f_name=file_path.replace('\\\\', '/').split('/')[-1]\n",
    "    img=Image.open(file_path)\n",
    "    # img=Image.open(ospj(dir_input, '182064_cloaked.png'))\n",
    "    img.save(ospj(dir_output, f_name.replace('_cloaked.png', '.jpg')))"
   ]
  },
  {
   "cell_type": "code",
   "execution_count": null,
   "metadata": {},
   "outputs": [],
   "source": []
  }
 ],
 "metadata": {
  "kernelspec": {
   "display_name": "base",
   "language": "python",
   "name": "python3"
  },
  "language_info": {
   "codemirror_mode": {
    "name": "ipython",
    "version": 3
   },
   "file_extension": ".py",
   "mimetype": "text/x-python",
   "name": "python",
   "nbconvert_exporter": "python",
   "pygments_lexer": "ipython3",
   "version": "3.8.16"
  },
  "orig_nbformat": 4
 },
 "nbformat": 4,
 "nbformat_minor": 2
}
