{
 "cells": [
  {
   "cell_type": "code",
   "execution_count": 34,
   "metadata": {},
   "outputs": [],
   "source": [
    "import os\n",
    "import cv2"
   ]
  },
  {
   "cell_type": "code",
   "execution_count": 38,
   "metadata": {},
   "outputs": [
    {
     "name": "stdout",
     "output_type": "stream",
     "text": [
      "Extracting frame 0 of 300\n",
      "Extracting frame 100 of 300\n",
      "Extracting frame 200 of 300\n"
     ]
    }
   ],
   "source": [
    "\n",
    "\n",
    "# Load video file\n",
    "video_path = r\"C:\\Users\\Ranjani\\Desktop\\Dataset\\DAiSEE\\DAiSEE\\DataSet\\Test\\500067\\5000671001\\5000671001.avi\"\n",
    "cap = cv2.VideoCapture(video_path)\n",
    "\n",
    "# Check if video file was opened successfully\n",
    "if not cap.isOpened():\n",
    "    print(\"Error opening video file\")\n",
    "    exit()\n",
    "\n",
    "# Create directory to store frames\n",
    "output_dir = \"C:/Users/Ranjani/Desktop/Dataset/DAiSEE/DAiSEE/DataSet/Frames\"\n",
    "if not os.path.exists(output_dir):\n",
    "    os.makedirs(output_dir)\n",
    "\n",
    "# Set frame count and frame rate\n",
    "frame_count = int(cap.get(cv2.CAP_PROP_FRAME_COUNT))\n",
    "frame_rate = cap.get(cv2.CAP_PROP_FPS)\n",
    "\n",
    "# Iterate over each frame and save as image file\n",
    "frame_count=1\n",
    "for i in range(frame_count):\n",
    "    # Read frame\n",
    "    ret, frame = cap.read()\n",
    "\n",
    "    # Check if frame was successfully read\n",
    "    if not ret:\n",
    "        print(\"Error reading frame {}\".format(i))\n",
    "        continue\n",
    "\n",
    "    # Save frame as image file\n",
    "    frame_filename = os.path.join(output_dir, \"frame_{:04d}.jpg\".format(i))\n",
    "    cv2.imwrite(frame_filename, frame)\n",
    "\n",
    "    # Print progress\n",
    "    if i % 100 == 0:\n",
    "        print(\"Extracting frame {} of {}\".format(i, frame_count))\n",
    "\n",
    "# Release video file and close all windows\n",
    "cap.release()\n",
    "cv2.destroyAllWindows()\n",
    "\n",
    "\n"
   ]
  },
  {
   "cell_type": "code",
   "execution_count": 39,
   "metadata": {},
   "outputs": [],
   "source": [
    "# # Set the path to the Daisee dataset videos folder\n",
    "output_folder = r\"C:\\Users\\Ranjani\\Desktop\\Dataset\\DAiSEE\\DAiSEE\\DataSet\\Frames_1\"\n",
    "\n",
    "# # Set the path to the folder where the frames will be saved\n",
    "# frames_folder = \"C:/Users/Ranjani/Desktop/Dataset/DAiSEE/DAiSEE/DataSet/Frames\""
   ]
  },
  {
   "cell_type": "code",
   "execution_count": 3,
   "metadata": {},
   "outputs": [
    {
     "ename": "KeyboardInterrupt",
     "evalue": "",
     "output_type": "error",
     "traceback": [
      "\u001b[1;31m---------------------------------------------------------------------------\u001b[0m",
      "\u001b[1;31mKeyboardInterrupt\u001b[0m                         Traceback (most recent call last)",
      "Cell \u001b[1;32mIn[3], line 28\u001b[0m\n\u001b[0;32m     25\u001b[0m             \u001b[39mbreak\u001b[39;00m\n\u001b[0;32m     27\u001b[0m folder_path \u001b[39m=\u001b[39m \u001b[39mr\u001b[39m\u001b[39m'\u001b[39m\u001b[39mC:\u001b[39m\u001b[39m\\\u001b[39m\u001b[39mUsers\u001b[39m\u001b[39m\\\u001b[39m\u001b[39mRanjani\u001b[39m\u001b[39m\\\u001b[39m\u001b[39mDesktop\u001b[39m\u001b[39m\\\u001b[39m\u001b[39mDataset\u001b[39m\u001b[39m\\\u001b[39m\u001b[39mDAiSEE\u001b[39m\u001b[39m\\\u001b[39m\u001b[39mDAiSEE\u001b[39m\u001b[39m\\\u001b[39m\u001b[39mDataSet\u001b[39m\u001b[39m\\\u001b[39m\u001b[39mTest\u001b[39m\u001b[39m\\\u001b[39m\u001b[39m882654\u001b[39m\u001b[39m'\u001b[39m\n\u001b[1;32m---> 28\u001b[0m convert_folder_videos_to_frames(folder_path)\n",
      "Cell \u001b[1;32mIn[3], line 24\u001b[0m, in \u001b[0;36mconvert_folder_videos_to_frames\u001b[1;34m(folder_path)\u001b[0m\n\u001b[0;32m     22\u001b[0m \u001b[39mif\u001b[39;00m file\u001b[39m.\u001b[39mendswith(\u001b[39m\"\u001b[39m\u001b[39m.mp4\u001b[39m\u001b[39m\"\u001b[39m):\n\u001b[0;32m     23\u001b[0m     video_path \u001b[39m=\u001b[39m os\u001b[39m.\u001b[39mpath\u001b[39m.\u001b[39mjoin(root, file)\n\u001b[1;32m---> 24\u001b[0m     convert_video_to_frames(video_path)\n\u001b[0;32m     25\u001b[0m \u001b[39mbreak\u001b[39;00m\n",
      "Cell \u001b[1;32mIn[3], line 15\u001b[0m, in \u001b[0;36mconvert_video_to_frames\u001b[1;34m(video_path)\u001b[0m\n\u001b[0;32m     13\u001b[0m         \u001b[39mbreak\u001b[39;00m\n\u001b[0;32m     14\u001b[0m     output_path \u001b[39m=\u001b[39m os\u001b[39m.\u001b[39mpath\u001b[39m.\u001b[39mjoin(output_folder, \u001b[39mf\u001b[39m\u001b[39m\"\u001b[39m\u001b[39m{\u001b[39;00mvideo_name\u001b[39m}\u001b[39;00m\u001b[39m_\u001b[39m\u001b[39m{\u001b[39;00mcount\u001b[39m:\u001b[39;00m\u001b[39m05d\u001b[39m\u001b[39m}\u001b[39;00m\u001b[39m.jpg\u001b[39m\u001b[39m\"\u001b[39m)\n\u001b[1;32m---> 15\u001b[0m     cv2\u001b[39m.\u001b[39;49mimwrite(output_path, frame)\n\u001b[0;32m     16\u001b[0m     count \u001b[39m+\u001b[39m\u001b[39m=\u001b[39m \u001b[39m1\u001b[39m\n\u001b[0;32m     17\u001b[0m cap\u001b[39m.\u001b[39mrelease()\n",
      "\u001b[1;31mKeyboardInterrupt\u001b[0m: "
     ]
    }
   ],
   "source": [
    "import os\n",
    "import cv2\n",
    "\n",
    "def convert_video_to_frames(video_path):\n",
    "    video_name = os.path.splitext(os.path.basename(video_path))[0]\n",
    "    output_folder = os.path.join(os.path.dirname(video_path), video_name)\n",
    "    os.makedirs(output_folder, exist_ok=True)\n",
    "    cap = cv2.VideoCapture(video_path)\n",
    "    count = 0\n",
    "    while cap.isOpened():\n",
    "        ret, frame = cap.read()\n",
    "        if not ret:\n",
    "            break\n",
    "        output_path = os.path.join(output_folder, f\"{video_name}_{count:05d}.jpg\")\n",
    "        cv2.imwrite(output_path, frame)\n",
    "        count += 1\n",
    "    cap.release()\n",
    "\n",
    "def convert_folder_videos_to_frames(folder_path):\n",
    "    for root, dirs, files in os.walk(folder_path):\n",
    "        for file in files:\n",
    "            if file.endswith(\".mp4\"):\n",
    "                video_path = os.path.join(root, file)\n",
    "                convert_video_to_frames(video_path)\n",
    "            break\n",
    "\n",
    "folder_path = r'C:\\Users\\Ranjani\\Desktop\\Dataset\\DAiSEE\\DAiSEE\\DataSet\\Test\\882654'\n",
    "convert_folder_videos_to_frames(folder_path)"
   ]
  },
  {
   "cell_type": "code",
   "execution_count": 41,
   "metadata": {},
   "outputs": [
    {
     "name": "stdout",
     "output_type": "stream",
     "text": [
      "Processing folder: C:\\Users\\Ranjani\\Desktop\\Dataset\\DAiSEE\\DAiSEE\\DataSet\\Train\\110041\\1100411010\n",
      "\tProcessing file: C:\\Users\\Ranjani\\Desktop\\Dataset\\DAiSEE\\DAiSEE\\DataSet\\Train\\110041\\1100411010\\1100411010.avi\n",
      "Processing folder: C:\\Users\\Ranjani\\Desktop\\Dataset\\DAiSEE\\DAiSEE\\DataSet\\Train\\110041\\1100411011\n",
      "\tProcessing file: C:\\Users\\Ranjani\\Desktop\\Dataset\\DAiSEE\\DAiSEE\\DataSet\\Train\\110041\\1100411011\\1100411011.avi\n",
      "Processing folder: C:\\Users\\Ranjani\\Desktop\\Dataset\\DAiSEE\\DAiSEE\\DataSet\\Train\\110041\\1100411012\n",
      "\tProcessing file: C:\\Users\\Ranjani\\Desktop\\Dataset\\DAiSEE\\DAiSEE\\DataSet\\Train\\110041\\1100411012\\1100411012.avi\n",
      "Processing folder: C:\\Users\\Ranjani\\Desktop\\Dataset\\DAiSEE\\DAiSEE\\DataSet\\Train\\110041\\1100411013\n",
      "\tProcessing file: C:\\Users\\Ranjani\\Desktop\\Dataset\\DAiSEE\\DAiSEE\\DataSet\\Train\\110041\\1100411013\\1100411013.avi\n",
      "Processing folder: C:\\Users\\Ranjani\\Desktop\\Dataset\\DAiSEE\\DAiSEE\\DataSet\\Train\\110041\\1100411015\n",
      "\tProcessing file: C:\\Users\\Ranjani\\Desktop\\Dataset\\DAiSEE\\DAiSEE\\DataSet\\Train\\110041\\1100411015\\1100411015.avi\n",
      "Processing folder: C:\\Users\\Ranjani\\Desktop\\Dataset\\DAiSEE\\DAiSEE\\DataSet\\Train\\110041\\1100411016\n",
      "\tProcessing file: C:\\Users\\Ranjani\\Desktop\\Dataset\\DAiSEE\\DAiSEE\\DataSet\\Train\\110041\\1100411016\\1100411016.avi\n",
      "Processing folder: C:\\Users\\Ranjani\\Desktop\\Dataset\\DAiSEE\\DAiSEE\\DataSet\\Train\\110041\\1100411018\n",
      "\tProcessing file: C:\\Users\\Ranjani\\Desktop\\Dataset\\DAiSEE\\DAiSEE\\DataSet\\Train\\110041\\1100411018\\1100411018.avi\n",
      "Processing folder: C:\\Users\\Ranjani\\Desktop\\Dataset\\DAiSEE\\DAiSEE\\DataSet\\Train\\110041\\1100411020\n",
      "\tProcessing file: C:\\Users\\Ranjani\\Desktop\\Dataset\\DAiSEE\\DAiSEE\\DataSet\\Train\\110041\\1100411020\\1100411020.avi\n",
      "Processing folder: C:\\Users\\Ranjani\\Desktop\\Dataset\\DAiSEE\\DAiSEE\\DataSet\\Train\\110041\\1100411023\n",
      "\tProcessing file: C:\\Users\\Ranjani\\Desktop\\Dataset\\DAiSEE\\DAiSEE\\DataSet\\Train\\110041\\1100411023\\1100411023.avi\n",
      "Processing folder: C:\\Users\\Ranjani\\Desktop\\Dataset\\DAiSEE\\DAiSEE\\DataSet\\Train\\110041\\1100411036\n",
      "\tProcessing file: C:\\Users\\Ranjani\\Desktop\\Dataset\\DAiSEE\\DAiSEE\\DataSet\\Train\\110041\\1100411036\\1100411036.avi\n",
      "Processing folder: C:\\Users\\Ranjani\\Desktop\\Dataset\\DAiSEE\\DAiSEE\\DataSet\\Train\\110041\\1100411041\n",
      "\tProcessing file: C:\\Users\\Ranjani\\Desktop\\Dataset\\DAiSEE\\DAiSEE\\DataSet\\Train\\110041\\1100411041\\1100411041.avi\n",
      "Processing folder: C:\\Users\\Ranjani\\Desktop\\Dataset\\DAiSEE\\DAiSEE\\DataSet\\Train\\110041\\1100411045\n",
      "\tProcessing file: C:\\Users\\Ranjani\\Desktop\\Dataset\\DAiSEE\\DAiSEE\\DataSet\\Train\\110041\\1100411045\\1100411045.avi\n",
      "Processing folder: C:\\Users\\Ranjani\\Desktop\\Dataset\\DAiSEE\\DAiSEE\\DataSet\\Train\\110041\\1100411047\n",
      "\tProcessing file: C:\\Users\\Ranjani\\Desktop\\Dataset\\DAiSEE\\DAiSEE\\DataSet\\Train\\110041\\1100411047\\1100411047.avi\n",
      "Processing folder: C:\\Users\\Ranjani\\Desktop\\Dataset\\DAiSEE\\DAiSEE\\DataSet\\Train\\110041\\1100411048\n",
      "\tProcessing file: C:\\Users\\Ranjani\\Desktop\\Dataset\\DAiSEE\\DAiSEE\\DataSet\\Train\\110041\\1100411048\\1100411048.avi\n",
      "Processing folder: C:\\Users\\Ranjani\\Desktop\\Dataset\\DAiSEE\\DAiSEE\\DataSet\\Train\\110041\\1100411049\n",
      "\tProcessing file: C:\\Users\\Ranjani\\Desktop\\Dataset\\DAiSEE\\DAiSEE\\DataSet\\Train\\110041\\1100411049\\1100411049.avi\n",
      "Processing folder: C:\\Users\\Ranjani\\Desktop\\Dataset\\DAiSEE\\DAiSEE\\DataSet\\Train\\110041\\1100411050\n",
      "\tProcessing file: C:\\Users\\Ranjani\\Desktop\\Dataset\\DAiSEE\\DAiSEE\\DataSet\\Train\\110041\\1100411050\\1100411050.avi\n",
      "Processing folder: C:\\Users\\Ranjani\\Desktop\\Dataset\\DAiSEE\\DAiSEE\\DataSet\\Train\\110041\\1100411051\n",
      "\tProcessing file: C:\\Users\\Ranjani\\Desktop\\Dataset\\DAiSEE\\DAiSEE\\DataSet\\Train\\110041\\1100411051\\1100411051.avi\n",
      "Processing folder: C:\\Users\\Ranjani\\Desktop\\Dataset\\DAiSEE\\DAiSEE\\DataSet\\Train\\110041\\1100411053\n",
      "\tProcessing file: C:\\Users\\Ranjani\\Desktop\\Dataset\\DAiSEE\\DAiSEE\\DataSet\\Train\\110041\\1100411053\\1100411053.avi\n",
      "Processing folder: C:\\Users\\Ranjani\\Desktop\\Dataset\\DAiSEE\\DAiSEE\\DataSet\\Train\\110041\\1100411054\n",
      "\tProcessing file: C:\\Users\\Ranjani\\Desktop\\Dataset\\DAiSEE\\DAiSEE\\DataSet\\Train\\110041\\1100411054\\1100411054.avi\n",
      "Processing folder: C:\\Users\\Ranjani\\Desktop\\Dataset\\DAiSEE\\DAiSEE\\DataSet\\Train\\110041\\1100411055\n",
      "\tProcessing file: C:\\Users\\Ranjani\\Desktop\\Dataset\\DAiSEE\\DAiSEE\\DataSet\\Train\\110041\\1100411055\\1100411055.avi\n",
      "Processing folder: C:\\Users\\Ranjani\\Desktop\\Dataset\\DAiSEE\\DAiSEE\\DataSet\\Train\\110041\\1100411057\n",
      "\tProcessing file: C:\\Users\\Ranjani\\Desktop\\Dataset\\DAiSEE\\DAiSEE\\DataSet\\Train\\110041\\1100411057\\1100411057.avi\n",
      "Processing folder: C:\\Users\\Ranjani\\Desktop\\Dataset\\DAiSEE\\DAiSEE\\DataSet\\Train\\110041\\1100412001\n",
      "\tProcessing file: C:\\Users\\Ranjani\\Desktop\\Dataset\\DAiSEE\\DAiSEE\\DataSet\\Train\\110041\\1100412001\\1100412001.avi\n",
      "Processing folder: C:\\Users\\Ranjani\\Desktop\\Dataset\\DAiSEE\\DAiSEE\\DataSet\\Train\\110041\\1100412003\n",
      "\tProcessing file: C:\\Users\\Ranjani\\Desktop\\Dataset\\DAiSEE\\DAiSEE\\DataSet\\Train\\110041\\1100412003\\1100412003.avi\n",
      "Processing folder: C:\\Users\\Ranjani\\Desktop\\Dataset\\DAiSEE\\DAiSEE\\DataSet\\Train\\110041\\1100412010\n",
      "\tProcessing file: C:\\Users\\Ranjani\\Desktop\\Dataset\\DAiSEE\\DAiSEE\\DataSet\\Train\\110041\\1100412010\\1100412010.avi\n",
      "Processing folder: C:\\Users\\Ranjani\\Desktop\\Dataset\\DAiSEE\\DAiSEE\\DataSet\\Train\\110041\\1100412018\n",
      "\tProcessing file: C:\\Users\\Ranjani\\Desktop\\Dataset\\DAiSEE\\DAiSEE\\DataSet\\Train\\110041\\1100412018\\1100412018.avi\n",
      "Processing folder: C:\\Users\\Ranjani\\Desktop\\Dataset\\DAiSEE\\DAiSEE\\DataSet\\Train\\110041\\1100412033\n",
      "\tProcessing file: C:\\Users\\Ranjani\\Desktop\\Dataset\\DAiSEE\\DAiSEE\\DataSet\\Train\\110041\\1100412033\\1100412033.avi\n",
      "Processing folder: C:\\Users\\Ranjani\\Desktop\\Dataset\\DAiSEE\\DAiSEE\\DataSet\\Train\\110041\\1100412038\n",
      "\tProcessing file: C:\\Users\\Ranjani\\Desktop\\Dataset\\DAiSEE\\DAiSEE\\DataSet\\Train\\110041\\1100412038\\1100412038.avi\n",
      "Processing folder: C:\\Users\\Ranjani\\Desktop\\Dataset\\DAiSEE\\DAiSEE\\DataSet\\Train\\110041\\1100412039\n",
      "\tProcessing file: C:\\Users\\Ranjani\\Desktop\\Dataset\\DAiSEE\\DAiSEE\\DataSet\\Train\\110041\\1100412039\\1100412039.avi\n",
      "Processing folder: C:\\Users\\Ranjani\\Desktop\\Dataset\\DAiSEE\\DAiSEE\\DataSet\\Train\\110041\\1100412040\n",
      "\tProcessing file: C:\\Users\\Ranjani\\Desktop\\Dataset\\DAiSEE\\DAiSEE\\DataSet\\Train\\110041\\1100412040\\1100412040.avi\n"
     ]
    }
   ],
   "source": [
    "import os\n",
    "import cv2\n",
    "\n",
    "data_dir = r\"C:\\Users\\Ranjani\\Desktop\\Dataset\\DAiSEE\\DAiSEE\\DataSet\\Train\\110041\"\n",
    "\n",
    "for folder in os.listdir(data_dir):\n",
    "    folder_path = os.path.join(data_dir, folder)\n",
    "    if not os.path.isdir(folder_path):\n",
    "        continue\n",
    "    print(f\"Processing folder: {folder_path}\")\n",
    "    for file in os.listdir(folder_path):\n",
    "        if not file.endswith(\".avi\"):\n",
    "            continue\n",
    "        file_path = os.path.join(folder_path, file)\n",
    "        print(f\"\\tProcessing file: {file_path}\")\n",
    "        try:\n",
    "            cap = cv2.VideoCapture(file_path)\n",
    "            frame_count = 0\n",
    "            while True:\n",
    "                ret, frame = cap.read()\n",
    "                if not ret:\n",
    "                    break\n",
    "                if frame_count % 15 == 0:  # Only take every 15th frame\n",
    "                    frame_name = f\"{folder}_{file}_{frame_count//15}.jpg\"\n",
    "                    frame_path = os.path.join(folder_path, frame_name)\n",
    "                    cv2.imwrite(frame_path, frame)\n",
    "                frame_count += 1\n",
    "                if frame_count >= 30:  # Stop after 30 frames (2 frames per video)\n",
    "                    break\n",
    "            cap.release()\n",
    "        except Exception as e:\n",
    "            print(f\"\\tError processing file: {file_path}\\n{e}\")\n"
   ]
  }
 ],
 "metadata": {
  "kernelspec": {
   "display_name": "base",
   "language": "python",
   "name": "python3"
  },
  "language_info": {
   "codemirror_mode": {
    "name": "ipython",
    "version": 3
   },
   "file_extension": ".py",
   "mimetype": "text/x-python",
   "name": "python",
   "nbconvert_exporter": "python",
   "pygments_lexer": "ipython3",
   "version": "3.8.16"
  },
  "orig_nbformat": 4,
  "vscode": {
   "interpreter": {
    "hash": "e627722d0d91bb7c18f82524675a9d23c045070d407cc9ef448429e6ca73a475"
   }
  }
 },
 "nbformat": 4,
 "nbformat_minor": 2
}
