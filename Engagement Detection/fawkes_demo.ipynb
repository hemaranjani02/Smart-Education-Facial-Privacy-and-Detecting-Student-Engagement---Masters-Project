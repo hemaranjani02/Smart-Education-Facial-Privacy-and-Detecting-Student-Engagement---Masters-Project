{
 "cells": [
  {
   "cell_type": "code",
   "execution_count": null,
   "metadata": {},
   "outputs": [],
   "source": [
    "import fawkes\n",
    "args=['--mode', 'low', '--gpu', 'gpu', '--batch-size=2'] #default path: img/\n",
    "fawkes.main(args)"
   ]
  },
  {
   "cell_type": "code",
   "execution_count": 3,
   "metadata": {},
   "outputs": [
    {
     "name": "stdout",
     "output_type": "stream",
     "text": [
      "GPU already initiated\n",
      "Identify 5 files in the directory\n",
      "Identify 5 images in the directory\n",
      "Find 1 face(s) in imgs\\1.jpeg\n",
      "Find 1 face(s) in imgs\\2.jpeg\n",
      "Find 1 face(s) in imgs\\3.jpeg\n",
      "Find 1 face(s) in imgs\\4.jpeg\n",
      "Find 1 face(s) in imgs\\5.jpeg\n",
      "processing image 1 at 2023-03-04 23:45:29.443319\n"
     ]
    },
    {
     "name": "stderr",
     "output_type": "stream",
     "text": [
      "c:\\Users\\Ranjani\\miniconda3\\lib\\site-packages\\numpy\\lib\\function_base.py:792: VisibleDeprecationWarning: Creating an ndarray from ragged nested sequences (which is a list-or-tuple of lists-or-tuples-or ndarrays with different lengths or shapes) is deprecated. If you meant to do this, you must specify 'dtype=object' when creating the ndarray\n",
      "  return array(a, order=order, subok=subok, copy=True)\n"
     ]
    },
    {
     "name": "stdout",
     "output_type": "stream",
     "text": [
      "33/40 [=======================>......] - ETA: 4s"
     ]
    },
    {
     "ename": "KeyboardInterrupt",
     "evalue": "",
     "output_type": "error",
     "traceback": [
      "\u001b[1;31m---------------------------------------------------------------------------\u001b[0m",
      "\u001b[1;31mKeyboardInterrupt\u001b[0m                         Traceback (most recent call last)",
      "Cell \u001b[1;32mIn[3], line 3\u001b[0m\n\u001b[0;32m      1\u001b[0m \u001b[39mimport\u001b[39;00m \u001b[39mfawkes\u001b[39;00m\n\u001b[0;32m      2\u001b[0m args\u001b[39m=\u001b[39m[\u001b[39m'\u001b[39m\u001b[39mprotection\u001b[39m\u001b[39m'\u001b[39m, \u001b[39m'\u001b[39m\u001b[39md\u001b[39m\u001b[39m'\u001b[39m, \u001b[39m'\u001b[39m\u001b[39mImg_For_Fawkes\u001b[39m\u001b[39m'\u001b[39m, \u001b[39m'\u001b[39m\u001b[39m--mode\u001b[39m\u001b[39m'\u001b[39m, \u001b[39m'\u001b[39m\u001b[39mhigh\u001b[39m\u001b[39m'\u001b[39m, \u001b[39m'\u001b[39m\u001b[39m--gpu\u001b[39m\u001b[39m'\u001b[39m, \u001b[39m'\u001b[39m\u001b[39mgpu\u001b[39m\u001b[39m'\u001b[39m, \u001b[39m'\u001b[39m\u001b[39m--batch-size=2\u001b[39m\u001b[39m'\u001b[39m] \u001b[39m#use relative path only\u001b[39;00m\n\u001b[1;32m----> 3\u001b[0m fawkes\u001b[39m.\u001b[39;49mmain(args)\n",
      "File \u001b[1;32mc:\\Users\\Ranjani\\miniconda3\\lib\\site-packages\\fawkes\\protection.py:194\u001b[0m, in \u001b[0;36mmain\u001b[1;34m(*argv)\u001b[0m\n\u001b[0;32m    190\u001b[0m image_paths \u001b[39m=\u001b[39m [path \u001b[39mfor\u001b[39;00m path \u001b[39min\u001b[39;00m image_paths \u001b[39mif\u001b[39;00m \u001b[39m\"\u001b[39m\u001b[39m_cloaked\u001b[39m\u001b[39m\"\u001b[39m \u001b[39mnot\u001b[39;00m \u001b[39min\u001b[39;00m path\u001b[39m.\u001b[39msplit(\u001b[39m\"\u001b[39m\u001b[39m/\u001b[39m\u001b[39m\"\u001b[39m)[\u001b[39m-\u001b[39m\u001b[39m1\u001b[39m]]\n\u001b[0;32m    192\u001b[0m protector \u001b[39m=\u001b[39m Fawkes(args\u001b[39m.\u001b[39mfeature_extractor, args\u001b[39m.\u001b[39mgpu, args\u001b[39m.\u001b[39mbatch_size, mode\u001b[39m=\u001b[39margs\u001b[39m.\u001b[39mmode)\n\u001b[1;32m--> 194\u001b[0m protector\u001b[39m.\u001b[39;49mrun_protection(image_paths, th\u001b[39m=\u001b[39;49margs\u001b[39m.\u001b[39;49mth, sd\u001b[39m=\u001b[39;49margs\u001b[39m.\u001b[39;49msd, lr\u001b[39m=\u001b[39;49margs\u001b[39m.\u001b[39;49mlr,\n\u001b[0;32m    195\u001b[0m                          max_step\u001b[39m=\u001b[39;49margs\u001b[39m.\u001b[39;49mmax_step,\n\u001b[0;32m    196\u001b[0m                          batch_size\u001b[39m=\u001b[39;49margs\u001b[39m.\u001b[39;49mbatch_size, \u001b[39mformat\u001b[39;49m\u001b[39m=\u001b[39;49margs\u001b[39m.\u001b[39;49mformat,\n\u001b[0;32m    197\u001b[0m                          separate_target\u001b[39m=\u001b[39;49margs\u001b[39m.\u001b[39;49mseparate_target, debug\u001b[39m=\u001b[39;49margs\u001b[39m.\u001b[39;49mdebug, no_align\u001b[39m=\u001b[39;49margs\u001b[39m.\u001b[39;49mno_align)\n",
      "File \u001b[1;32mc:\\Users\\Ranjani\\miniconda3\\lib\\site-packages\\fawkes\\protection.py:124\u001b[0m, in \u001b[0;36mFawkes.run_protection\u001b[1;34m(self, image_paths, th, sd, lr, max_step, batch_size, format, separate_target, debug, no_align, exp, maximize, save_last_on_failed)\u001b[0m\n\u001b[0;32m    107\u001b[0m         batch_size \u001b[39m=\u001b[39m \u001b[39mlen\u001b[39m(original_images)\n\u001b[0;32m    108\u001b[0m     \u001b[39mself\u001b[39m\u001b[39m.\u001b[39mprotector \u001b[39m=\u001b[39m FawkesMaskGeneration(\u001b[39mself\u001b[39m\u001b[39m.\u001b[39mfeature_extractors_ls,\n\u001b[0;32m    109\u001b[0m                                           batch_size\u001b[39m=\u001b[39mbatch_size,\n\u001b[0;32m    110\u001b[0m                                           mimic_img\u001b[39m=\u001b[39m\u001b[39mTrue\u001b[39;00m,\n\u001b[1;32m   (...)\u001b[0m\n\u001b[0;32m    122\u001b[0m                                           save_last_on_failed\u001b[39m=\u001b[39msave_last_on_failed,\n\u001b[0;32m    123\u001b[0m                                           )\n\u001b[1;32m--> 124\u001b[0m protected_images \u001b[39m=\u001b[39m generate_cloak_images(\u001b[39mself\u001b[39;49m\u001b[39m.\u001b[39;49mprotector, original_images)\n\u001b[0;32m    125\u001b[0m faces\u001b[39m.\u001b[39mcloaked_cropped_faces \u001b[39m=\u001b[39m protected_images\n\u001b[0;32m    127\u001b[0m final_images, images_without_face \u001b[39m=\u001b[39m faces\u001b[39m.\u001b[39mmerge_faces(\n\u001b[0;32m    128\u001b[0m     reverse_process_cloaked(protected_images, preprocess\u001b[39m=\u001b[39mPREPROCESS),\n\u001b[0;32m    129\u001b[0m     reverse_process_cloaked(original_images, preprocess\u001b[39m=\u001b[39mPREPROCESS))\n",
      "File \u001b[1;32mc:\\Users\\Ranjani\\miniconda3\\lib\\site-packages\\fawkes\\protection.py:30\u001b[0m, in \u001b[0;36mgenerate_cloak_images\u001b[1;34m(protector, image_X, target_emb)\u001b[0m\n\u001b[0;32m     29\u001b[0m \u001b[39mdef\u001b[39;00m \u001b[39mgenerate_cloak_images\u001b[39m(protector, image_X, target_emb\u001b[39m=\u001b[39m\u001b[39mNone\u001b[39;00m):\n\u001b[1;32m---> 30\u001b[0m     cloaked_image_X \u001b[39m=\u001b[39m protector\u001b[39m.\u001b[39;49mcompute(image_X, target_emb)\n\u001b[0;32m     31\u001b[0m     \u001b[39mreturn\u001b[39;00m cloaked_image_X\n",
      "File \u001b[1;32mc:\\Users\\Ranjani\\miniconda3\\lib\\site-packages\\fawkes\\differentiator.py:168\u001b[0m, in \u001b[0;36mFawkesMaskGeneration.compute\u001b[1;34m(self, source_imgs, target_imgs)\u001b[0m\n\u001b[0;32m    166\u001b[0m \u001b[39mfor\u001b[39;00m idx \u001b[39min\u001b[39;00m \u001b[39mrange\u001b[39m(\u001b[39m0\u001b[39m, \u001b[39mlen\u001b[39m(source_imgs), \u001b[39mself\u001b[39m\u001b[39m.\u001b[39mbatch_size):\n\u001b[0;32m    167\u001b[0m     \u001b[39mprint\u001b[39m(\u001b[39m'\u001b[39m\u001b[39mprocessing image \u001b[39m\u001b[39m%d\u001b[39;00m\u001b[39m at \u001b[39m\u001b[39m%s\u001b[39;00m\u001b[39m'\u001b[39m \u001b[39m%\u001b[39m (idx \u001b[39m+\u001b[39m \u001b[39m1\u001b[39m, datetime\u001b[39m.\u001b[39mdatetime\u001b[39m.\u001b[39mnow()))\n\u001b[1;32m--> 168\u001b[0m     adv_img \u001b[39m=\u001b[39m \u001b[39mself\u001b[39;49m\u001b[39m.\u001b[39;49mcompute_batch(source_imgs[idx:idx \u001b[39m+\u001b[39;49m \u001b[39mself\u001b[39;49m\u001b[39m.\u001b[39;49mbatch_size],\n\u001b[0;32m    169\u001b[0m                                  target_imgs[idx:idx \u001b[39m+\u001b[39;49m \u001b[39mself\u001b[39;49m\u001b[39m.\u001b[39;49mbatch_size] \u001b[39mif\u001b[39;49;00m target_imgs \u001b[39mis\u001b[39;49;00m \u001b[39mnot\u001b[39;49;00m \u001b[39mNone\u001b[39;49;00m \u001b[39melse\u001b[39;49;00m \u001b[39mNone\u001b[39;49;00m)\n\u001b[0;32m    170\u001b[0m     adv_imgs\u001b[39m.\u001b[39mextend(adv_img)\n\u001b[0;32m    171\u001b[0m elapsed_time \u001b[39m=\u001b[39m time\u001b[39m.\u001b[39mtime() \u001b[39m-\u001b[39m start_time\n",
      "File \u001b[1;32mc:\\Users\\Ranjani\\miniconda3\\lib\\site-packages\\fawkes\\differentiator.py:248\u001b[0m, in \u001b[0;36mFawkesMaskGeneration.compute_batch\u001b[1;34m(self, source_imgs, target_imgs, retry)\u001b[0m\n\u001b[0;32m    244\u001b[0m     loss, internal_dist, input_dist_avg, dist_raw \u001b[39m=\u001b[39m \u001b[39mself\u001b[39m\u001b[39m.\u001b[39mcompute_feature_loss(\n\u001b[0;32m    245\u001b[0m         tape, aimg_raw, simg_raw, aimg_input, timg_input, simg_input)\n\u001b[0;32m    247\u001b[0m     \u001b[39m# compute gradients\u001b[39;00m\n\u001b[1;32m--> 248\u001b[0m     grad \u001b[39m=\u001b[39m tape\u001b[39m.\u001b[39;49mgradient(loss, [\u001b[39mself\u001b[39;49m\u001b[39m.\u001b[39;49mmodifier])\n\u001b[0;32m    249\u001b[0m     optimizer\u001b[39m.\u001b[39mapply_gradients(\u001b[39mzip\u001b[39m(grad, [\u001b[39mself\u001b[39m\u001b[39m.\u001b[39mmodifier]))\n\u001b[0;32m    251\u001b[0m \u001b[39mif\u001b[39;00m \u001b[39mself\u001b[39m\u001b[39m.\u001b[39mit \u001b[39m==\u001b[39m \u001b[39m1\u001b[39m:\n",
      "File \u001b[1;32mc:\\Users\\Ranjani\\miniconda3\\lib\\site-packages\\tensorflow\\python\\eager\\backprop.py:1080\u001b[0m, in \u001b[0;36mGradientTape.gradient\u001b[1;34m(self, target, sources, output_gradients, unconnected_gradients)\u001b[0m\n\u001b[0;32m   1076\u001b[0m \u001b[39mif\u001b[39;00m output_gradients \u001b[39mis\u001b[39;00m \u001b[39mnot\u001b[39;00m \u001b[39mNone\u001b[39;00m:\n\u001b[0;32m   1077\u001b[0m   output_gradients \u001b[39m=\u001b[39m [\u001b[39mNone\u001b[39;00m \u001b[39mif\u001b[39;00m x \u001b[39mis\u001b[39;00m \u001b[39mNone\u001b[39;00m \u001b[39melse\u001b[39;00m ops\u001b[39m.\u001b[39mconvert_to_tensor(x)\n\u001b[0;32m   1078\u001b[0m                       \u001b[39mfor\u001b[39;00m x \u001b[39min\u001b[39;00m nest\u001b[39m.\u001b[39mflatten(output_gradients)]\n\u001b[1;32m-> 1080\u001b[0m flat_grad \u001b[39m=\u001b[39m imperative_grad\u001b[39m.\u001b[39;49mimperative_grad(\n\u001b[0;32m   1081\u001b[0m     \u001b[39mself\u001b[39;49m\u001b[39m.\u001b[39;49m_tape,\n\u001b[0;32m   1082\u001b[0m     flat_targets,\n\u001b[0;32m   1083\u001b[0m     flat_sources,\n\u001b[0;32m   1084\u001b[0m     output_gradients\u001b[39m=\u001b[39;49moutput_gradients,\n\u001b[0;32m   1085\u001b[0m     sources_raw\u001b[39m=\u001b[39;49mflat_sources_raw,\n\u001b[0;32m   1086\u001b[0m     unconnected_gradients\u001b[39m=\u001b[39;49munconnected_gradients)\n\u001b[0;32m   1088\u001b[0m \u001b[39mif\u001b[39;00m \u001b[39mnot\u001b[39;00m \u001b[39mself\u001b[39m\u001b[39m.\u001b[39m_persistent:\n\u001b[0;32m   1089\u001b[0m   \u001b[39m# Keep track of watched variables before setting tape to None\u001b[39;00m\n\u001b[0;32m   1090\u001b[0m   \u001b[39mself\u001b[39m\u001b[39m.\u001b[39m_watched_variables \u001b[39m=\u001b[39m \u001b[39mself\u001b[39m\u001b[39m.\u001b[39m_tape\u001b[39m.\u001b[39mwatched_variables()\n",
      "File \u001b[1;32mc:\\Users\\Ranjani\\miniconda3\\lib\\site-packages\\tensorflow\\python\\eager\\imperative_grad.py:71\u001b[0m, in \u001b[0;36mimperative_grad\u001b[1;34m(tape, target, sources, output_gradients, sources_raw, unconnected_gradients)\u001b[0m\n\u001b[0;32m     67\u001b[0m \u001b[39mexcept\u001b[39;00m \u001b[39mValueError\u001b[39;00m:\n\u001b[0;32m     68\u001b[0m   \u001b[39mraise\u001b[39;00m \u001b[39mValueError\u001b[39;00m(\n\u001b[0;32m     69\u001b[0m       \u001b[39m\"\u001b[39m\u001b[39mUnknown value for unconnected_gradients: \u001b[39m\u001b[39m%r\u001b[39;00m\u001b[39m\"\u001b[39m \u001b[39m%\u001b[39m unconnected_gradients)\n\u001b[1;32m---> 71\u001b[0m \u001b[39mreturn\u001b[39;00m pywrap_tfe\u001b[39m.\u001b[39;49mTFE_Py_TapeGradient(\n\u001b[0;32m     72\u001b[0m     tape\u001b[39m.\u001b[39;49m_tape,  \u001b[39m# pylint: disable=protected-access\u001b[39;49;00m\n\u001b[0;32m     73\u001b[0m     target,\n\u001b[0;32m     74\u001b[0m     sources,\n\u001b[0;32m     75\u001b[0m     output_gradients,\n\u001b[0;32m     76\u001b[0m     sources_raw,\n\u001b[0;32m     77\u001b[0m     compat\u001b[39m.\u001b[39;49mas_str(unconnected_gradients\u001b[39m.\u001b[39;49mvalue))\n",
      "File \u001b[1;32mc:\\Users\\Ranjani\\miniconda3\\lib\\site-packages\\tensorflow\\python\\eager\\backprop.py:162\u001b[0m, in \u001b[0;36m_gradient_function\u001b[1;34m(op_name, attr_tuple, num_inputs, inputs, outputs, out_grads, skip_input_indices, forward_pass_name_scope)\u001b[0m\n\u001b[0;32m    160\u001b[0m     gradient_name_scope \u001b[39m+\u001b[39m\u001b[39m=\u001b[39m forward_pass_name_scope \u001b[39m+\u001b[39m \u001b[39m\"\u001b[39m\u001b[39m/\u001b[39m\u001b[39m\"\u001b[39m\n\u001b[0;32m    161\u001b[0m   \u001b[39mwith\u001b[39;00m ops\u001b[39m.\u001b[39mname_scope(gradient_name_scope):\n\u001b[1;32m--> 162\u001b[0m     \u001b[39mreturn\u001b[39;00m grad_fn(mock_op, \u001b[39m*\u001b[39;49mout_grads)\n\u001b[0;32m    163\u001b[0m \u001b[39melse\u001b[39;00m:\n\u001b[0;32m    164\u001b[0m   \u001b[39mreturn\u001b[39;00m grad_fn(mock_op, \u001b[39m*\u001b[39mout_grads)\n",
      "File \u001b[1;32mc:\\Users\\Ranjani\\miniconda3\\lib\\site-packages\\tensorflow\\python\\ops\\nn_grad.py:587\u001b[0m, in \u001b[0;36m_Conv2DGrad\u001b[1;34m(op, grad)\u001b[0m\n\u001b[0;32m    578\u001b[0m shape_0, shape_1 \u001b[39m=\u001b[39m array_ops\u001b[39m.\u001b[39mshape_n([op\u001b[39m.\u001b[39minputs[\u001b[39m0\u001b[39m], op\u001b[39m.\u001b[39minputs[\u001b[39m1\u001b[39m]])\n\u001b[0;32m    580\u001b[0m \u001b[39m# We call the gen_nn_ops backprop functions instead of nn_ops backprop\u001b[39;00m\n\u001b[0;32m    581\u001b[0m \u001b[39m# functions for performance reasons in Eager mode. gen_nn_ops functions take a\u001b[39;00m\n\u001b[0;32m    582\u001b[0m \u001b[39m# `explicit_paddings` parameter, but nn_ops functions do not. So if were were\u001b[39;00m\n\u001b[0;32m    583\u001b[0m \u001b[39m# to use the nn_ops functions, we would have to convert `padding` and\u001b[39;00m\n\u001b[0;32m    584\u001b[0m \u001b[39m# `explicit_paddings` into a single `padding` parameter, increasing overhead\u001b[39;00m\n\u001b[0;32m    585\u001b[0m \u001b[39m# in Eager mode.\u001b[39;00m\n\u001b[0;32m    586\u001b[0m \u001b[39mreturn\u001b[39;00m [\n\u001b[1;32m--> 587\u001b[0m     gen_nn_ops\u001b[39m.\u001b[39;49mconv2d_backprop_input(\n\u001b[0;32m    588\u001b[0m         shape_0,\n\u001b[0;32m    589\u001b[0m         op\u001b[39m.\u001b[39;49minputs[\u001b[39m1\u001b[39;49m],\n\u001b[0;32m    590\u001b[0m         grad,\n\u001b[0;32m    591\u001b[0m         dilations\u001b[39m=\u001b[39;49mdilations,\n\u001b[0;32m    592\u001b[0m         strides\u001b[39m=\u001b[39;49mstrides,\n\u001b[0;32m    593\u001b[0m         padding\u001b[39m=\u001b[39;49mpadding,\n\u001b[0;32m    594\u001b[0m         explicit_paddings\u001b[39m=\u001b[39;49mexplicit_paddings,\n\u001b[0;32m    595\u001b[0m         use_cudnn_on_gpu\u001b[39m=\u001b[39;49muse_cudnn_on_gpu,\n\u001b[0;32m    596\u001b[0m         data_format\u001b[39m=\u001b[39;49mdata_format),\n\u001b[0;32m    597\u001b[0m     gen_nn_ops\u001b[39m.\u001b[39mconv2d_backprop_filter(\n\u001b[0;32m    598\u001b[0m         op\u001b[39m.\u001b[39minputs[\u001b[39m0\u001b[39m],\n\u001b[0;32m    599\u001b[0m         shape_1,\n\u001b[0;32m    600\u001b[0m         grad,\n\u001b[0;32m    601\u001b[0m         dilations\u001b[39m=\u001b[39mdilations,\n\u001b[0;32m    602\u001b[0m         strides\u001b[39m=\u001b[39mstrides,\n\u001b[0;32m    603\u001b[0m         padding\u001b[39m=\u001b[39mpadding,\n\u001b[0;32m    604\u001b[0m         explicit_paddings\u001b[39m=\u001b[39mexplicit_paddings,\n\u001b[0;32m    605\u001b[0m         use_cudnn_on_gpu\u001b[39m=\u001b[39muse_cudnn_on_gpu,\n\u001b[0;32m    606\u001b[0m         data_format\u001b[39m=\u001b[39mdata_format)\n\u001b[0;32m    607\u001b[0m ]\n",
      "File \u001b[1;32mc:\\Users\\Ranjani\\miniconda3\\lib\\site-packages\\tensorflow\\python\\ops\\gen_nn_ops.py:1239\u001b[0m, in \u001b[0;36mconv2d_backprop_input\u001b[1;34m(input_sizes, filter, out_backprop, strides, padding, use_cudnn_on_gpu, explicit_paddings, data_format, dilations, name)\u001b[0m\n\u001b[0;32m   1237\u001b[0m \u001b[39mif\u001b[39;00m tld\u001b[39m.\u001b[39mis_eager:\n\u001b[0;32m   1238\u001b[0m   \u001b[39mtry\u001b[39;00m:\n\u001b[1;32m-> 1239\u001b[0m     _result \u001b[39m=\u001b[39m pywrap_tfe\u001b[39m.\u001b[39;49mTFE_Py_FastPathExecute(\n\u001b[0;32m   1240\u001b[0m       _ctx, \u001b[39m\"\u001b[39;49m\u001b[39mConv2DBackpropInput\u001b[39;49m\u001b[39m\"\u001b[39;49m, name, input_sizes, \u001b[39mfilter\u001b[39;49m, out_backprop,\n\u001b[0;32m   1241\u001b[0m       \u001b[39m\"\u001b[39;49m\u001b[39mstrides\u001b[39;49m\u001b[39m\"\u001b[39;49m, strides, \u001b[39m\"\u001b[39;49m\u001b[39muse_cudnn_on_gpu\u001b[39;49m\u001b[39m\"\u001b[39;49m, use_cudnn_on_gpu, \u001b[39m\"\u001b[39;49m\u001b[39mpadding\u001b[39;49m\u001b[39m\"\u001b[39;49m,\n\u001b[0;32m   1242\u001b[0m       padding, \u001b[39m\"\u001b[39;49m\u001b[39mexplicit_paddings\u001b[39;49m\u001b[39m\"\u001b[39;49m, explicit_paddings, \u001b[39m\"\u001b[39;49m\u001b[39mdata_format\u001b[39;49m\u001b[39m\"\u001b[39;49m,\n\u001b[0;32m   1243\u001b[0m       data_format, \u001b[39m\"\u001b[39;49m\u001b[39mdilations\u001b[39;49m\u001b[39m\"\u001b[39;49m, dilations)\n\u001b[0;32m   1244\u001b[0m     \u001b[39mreturn\u001b[39;00m _result\n\u001b[0;32m   1245\u001b[0m   \u001b[39mexcept\u001b[39;00m _core\u001b[39m.\u001b[39m_NotOkStatusException \u001b[39mas\u001b[39;00m e:\n",
      "\u001b[1;31mKeyboardInterrupt\u001b[0m: "
     ]
    }
   ],
   "source": [
    "import fawkes\n",
    "args=['protection', 'd', 'Img_For_Fawkes', '--mode', 'high', '--gpu', 'gpu', '--batch-size=2'] #use relative path only\n",
    "fawkes.main(args)"
   ]
  }
 ],
 "metadata": {
  "kernelspec": {
   "display_name": "base",
   "language": "python",
   "name": "python3"
  },
  "language_info": {
   "codemirror_mode": {
    "name": "ipython",
    "version": 3
   },
   "file_extension": ".py",
   "mimetype": "text/x-python",
   "name": "python",
   "nbconvert_exporter": "python",
   "pygments_lexer": "ipython3",
   "version": "3.8.16"
  },
  "orig_nbformat": 4,
  "vscode": {
   "interpreter": {
    "hash": "e627722d0d91bb7c18f82524675a9d23c045070d407cc9ef448429e6ca73a475"
   }
  }
 },
 "nbformat": 4,
 "nbformat_minor": 2
}
