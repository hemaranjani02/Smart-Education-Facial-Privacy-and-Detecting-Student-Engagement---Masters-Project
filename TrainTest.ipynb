{
 "cells": [
  {
   "cell_type": "code",
   "execution_count": 1,
   "metadata": {},
   "outputs": [],
   "source": [
    "import pandas as pd\n",
    "import numpy as np\n",
    "from PIL import Image\n",
    "from os.path import join as ospj\n",
    "from os.path import exists as osex\n",
    "import glob\n",
    "import torch"
   ]
  },
  {
   "cell_type": "code",
   "execution_count": 2,
   "metadata": {},
   "outputs": [
    {
     "data": {
      "text/html": [
       "<div>\n",
       "<style scoped>\n",
       "    .dataframe tbody tr th:only-of-type {\n",
       "        vertical-align: middle;\n",
       "    }\n",
       "\n",
       "    .dataframe tbody tr th {\n",
       "        vertical-align: top;\n",
       "    }\n",
       "\n",
       "    .dataframe thead th {\n",
       "        text-align: right;\n",
       "    }\n",
       "</style>\n",
       "<table border=\"1\" class=\"dataframe\">\n",
       "  <thead>\n",
       "    <tr style=\"text-align: right;\">\n",
       "      <th></th>\n",
       "      <th>ClipID</th>\n",
       "      <th>Boredom</th>\n",
       "      <th>Engagement</th>\n",
       "      <th>Confusion</th>\n",
       "      <th>Frustration</th>\n",
       "      <th>f_name</th>\n",
       "      <th>path</th>\n",
       "    </tr>\n",
       "  </thead>\n",
       "  <tbody>\n",
       "    <tr>\n",
       "      <th>0</th>\n",
       "      <td>1100011002.avi</td>\n",
       "      <td>0</td>\n",
       "      <td>2</td>\n",
       "      <td>0</td>\n",
       "      <td>0</td>\n",
       "      <td>1100011002</td>\n",
       "      <td>C:\\GitHub\\Smart-Education-data\\data\\DAiSEE\\Sor...</td>\n",
       "    </tr>\n",
       "    <tr>\n",
       "      <th>1</th>\n",
       "      <td>1100011003.avi</td>\n",
       "      <td>0</td>\n",
       "      <td>2</td>\n",
       "      <td>0</td>\n",
       "      <td>0</td>\n",
       "      <td>1100011003</td>\n",
       "      <td>C:\\GitHub\\Smart-Education-data\\data\\DAiSEE\\Sor...</td>\n",
       "    </tr>\n",
       "    <tr>\n",
       "      <th>2</th>\n",
       "      <td>1100011004.avi</td>\n",
       "      <td>0</td>\n",
       "      <td>3</td>\n",
       "      <td>0</td>\n",
       "      <td>0</td>\n",
       "      <td>1100011004</td>\n",
       "      <td>C:\\GitHub\\Smart-Education-data\\data\\DAiSEE\\Sor...</td>\n",
       "    </tr>\n",
       "  </tbody>\n",
       "</table>\n",
       "</div>"
      ],
      "text/plain": [
       "           ClipID  Boredom  Engagement  Confusion  Frustration      f_name  \\\n",
       "0  1100011002.avi        0           2          0            0  1100011002   \n",
       "1  1100011003.avi        0           2          0            0  1100011003   \n",
       "2  1100011004.avi        0           3          0            0  1100011004   \n",
       "\n",
       "                                                path  \n",
       "0  C:\\GitHub\\Smart-Education-data\\data\\DAiSEE\\Sor...  \n",
       "1  C:\\GitHub\\Smart-Education-data\\data\\DAiSEE\\Sor...  \n",
       "2  C:\\GitHub\\Smart-Education-data\\data\\DAiSEE\\Sor...  "
      ]
     },
     "execution_count": 2,
     "metadata": {},
     "output_type": "execute_result"
    }
   ],
   "source": [
    "df_train_labels=pd.read_csv(r'C:\\GitHub\\Smart-Education-data\\data\\DAiSEE\\Sorted\\sorted_labels.csv', index_col=0)\n",
    "df_train_labels[:3]"
   ]
  },
  {
   "attachments": {},
   "cell_type": "markdown",
   "metadata": {},
   "source": [
    "# Data Sampler\n",
    "This takes samples from each video (300 frames) and make batches manually  \n",
    "training data: 300 frames * 5482 videos\n"
   ]
  },
  {
   "cell_type": "code",
   "execution_count": 3,
   "metadata": {},
   "outputs": [],
   "source": [
    "# #Number of frames checker\n",
    "\n",
    "# for i, label_path in enumerate(df_train_labels.values):\n",
    "#     _df=pd.read_csv(label_path[-1], index_col=0)\n",
    "#     # assert len(_df.index)==300\n",
    "#     if i%100==0:\n",
    "#         print(i, end=' ')\n",
    "#     if len(_df.index)!=300:\n",
    "#         print('length:', len(_df.index))\n",
    "#         print('at: ',label_path)"
   ]
  },
  {
   "cell_type": "code",
   "execution_count": 4,
   "metadata": {},
   "outputs": [],
   "source": [
    "class Custom_DataLoader:\n",
    "    def __init__():\n",
    "        pass\n",
    "    def __get_item__():\n",
    "        pass\n",
    "    def __len__():\n",
    "        pass"
   ]
  },
  {
   "cell_type": "code",
   "execution_count": 5,
   "metadata": {},
   "outputs": [
    {
     "data": {
      "text/plain": [
       "array(['1100011002.avi', 0, 2, 0, 0, 1100011002,\n",
       "       'C:\\\\GitHub\\\\Smart-Education-data\\\\data\\\\DAiSEE\\\\Sorted\\\\OpenFace\\\\1100011002.csv'],\n",
       "      dtype=object)"
      ]
     },
     "execution_count": 5,
     "metadata": {},
     "output_type": "execute_result"
    }
   ],
   "source": [
    "next(iter(df_train_labels.values))"
   ]
  },
  {
   "cell_type": "code",
   "execution_count": 6,
   "metadata": {},
   "outputs": [],
   "source": [
    "#put seed here\n",
    "seed=0\n",
    "#select seed mode here\n",
    "SEED_BY_DATA=False\n",
    "SEED_ONCE=True\n",
    "#choose amount of samples\n",
    "n=10\n",
    "batch_size=500\n",
    "assert batch_size%n==0\n",
    "\n",
    "print(df_train_labels.columns)\n",
    "\n",
    "label_iter=iter(df_train_labels.values)\n",
    "\n",
    "np.random.seed(seed)\n",
    "len_data=n*len(df_train_labels.index)\n",
    "print(len_data)\n",
    "\n",
    "# train_loder=Custom_DataLoader()\n",
    "train_loader=[]\n",
    "\n",
    "def build_sample(n, label_iter):\n",
    "    labels=next(label_iter)\n",
    "    df_sample=pd.read_csv(labels[-1], index_col=0).sample(n=n, frac=None, random_state=None) #use global seed\n",
    "    df_sample['Boredom']=labels[1] #add Boredom column\n",
    "    df_sample['Engagement']=labels[2] #add Engagement column\n",
    "    df_sample['Confusion']=labels[3] #add Confusion column\n",
    "    df_sample['Frustration']=labels[4] #add Frustration column\n",
    "    return df_sample\n",
    "\n",
    "for batch in range(len_data//batch_size+1):\n",
    "    idx_start=batch*batch_size\n",
    "    idx_end=(batch+1)*batch_size if (batch+1)*batch_size<len_data else len_data\n",
    "    print(batch, idx_start, idx_end)\n",
    "    idx_curr=idx_start\n",
    "    \n",
    "    #init before while operation\n",
    "    labels=next(label_iter)\n",
    "    # df_sample=pd.read_csv(labels[-1], index_col=0).sample(n=n, frac=None, random_state=None) #use global seed\n",
    "    df_sample=build_sample(n, label_iter)\n",
    "    sample=torch.Tensor(df_sample.values)\n",
    "    # print(sample.shape)\n",
    "    idx_curr+=n\n",
    "    while idx_end-idx_curr>=n:\n",
    "        try: #read n samples\n",
    "            df_sample=build_sample(n, label_iter)\n",
    "            # labels=next(label_iter)\n",
    "            # df_sample=pd.read_csv(labels[-1], index_col=0).sample(n=n, frac=None, random_state=None) #use global seed\n",
    "            # df_sample['Boredom']=labels[1] #add Boredom column\n",
    "            # df_sample['Engagement']=labels[2] #add Engagement column\n",
    "            # df_sample['Confusion']=labels[3] #add Confusion column\n",
    "            # df_sample['Frustration']=labels[4] #add Frustration column\n",
    "            sample=torch.vstack((sample, torch.Tensor(df_sample.values)))\n",
    "            # print(sample.shape)\n",
    "            idx_curr+=n\n",
    "        except:\n",
    "            pass\n",
    "    # print(sample.shape)\n",
    "    train_loader.append(sample)"
   ]
  },
  {
   "cell_type": "code",
   "execution_count": null,
   "metadata": {},
   "outputs": [
    {
     "data": {
      "text/plain": [
       "tensor([[0.0000, 6.9330, 0.9800,  ..., 0.0000, 0.0000, 0.0000],\n",
       "        [0.0000, 6.2670, 0.9800,  ..., 0.0000, 0.0000, 1.0000],\n",
       "        [0.0000, 0.4000, 0.9800,  ..., 0.0000, 0.0000, 0.0000],\n",
       "        ...,\n",
       "        [0.0000, 4.5330, 0.9800,  ..., 0.0000, 0.0000, 0.0000],\n",
       "        [0.0000, 7.4670, 0.9800,  ..., 0.0000, 0.0000, 0.0000],\n",
       "        [0.0000, 0.6670, 0.9800,  ..., 0.0000, 0.0000, 0.0000]])"
      ]
     },
     "execution_count": 11,
     "metadata": {},
     "output_type": "execute_result"
    }
   ],
   "source": [
    "train_loader[0]"
   ]
  },
  {
   "cell_type": "code",
   "execution_count": null,
   "metadata": {},
   "outputs": [
    {
     "name": "stdout",
     "output_type": "stream",
     "text": [
      "Index(['ClipID', 'Boredom', 'Engagement', 'Confusion', 'Frustration ',\n",
      "       'f_name', 'path'],\n",
      "      dtype='object')\n",
      "0 100 200 300 400 500 600 700 800 900 1000 1100 1200 1300 1400 1500 1600 1700 1800 1900 2000 2100 2200 2300 2400 2500 2600 2700 2800 2900 3000 3100 3200 3300 3400 3500 3600 3700 3800 3900 4000 4100 4200 4300 4400 4500 4600 4700 4800 4900 5000 5100 5200 5300 5400 "
     ]
    }
   ],
   "source": [
    "#put seed here\n",
    "seed=0\n",
    "#select seed mode here\n",
    "SEED_BY_DATA=False\n",
    "SEED_ONCE=True\n",
    "#choose amount of samples\n",
    "n=1\n",
    "frac=None\n",
    "\n",
    "print(df_train_labels.columns)\n",
    "np.random.seed(seed)\n",
    "for i, label_path in enumerate(df_train_labels.values):\n",
    "    _df=pd.read_csv(label_path[-1], index_col=0)\n",
    "    _df['Boredom']=label_path[1] #add Boredom column\n",
    "    _df['Engagement']=label_path[2] #add Engagement column\n",
    "    _df['Confusion']=label_path[3] #add Confusion column\n",
    "    _df['Frustration']=label_path[4] #add Frustration column\n",
    "    if SEED_BY_DATA:\n",
    "        _sample=_df.sample(n, frac, random_state=seed)\n",
    "    elif SEED_ONCE:\n",
    "        _sample=_df.sample(n, frac, random_state=None)\n",
    "    # print(_sample)\n",
    "    if i%100==0:\n",
    "        print(i, end=' ')\n",
    "\n",
    "'''\n",
    "Index(['ClipID', 'Boredom', 'Engagement', 'Confusion', 'Frustration ',\n",
    "       'f_name', 'path'],\n",
    "      dtype='object')\n",
    "0 100 200 300 400 500 600 700 800 900 1000 1100 1200 1300 1400 1500 \n",
    "1600 1700 1800 1900 2000 2100 2200 2300 2400 2500 2600 2700 2800 2900 3000 \n",
    "3100 3200 3300 3400 3500 3600 3700 3800 3900 4000 4100 4200 4300 4400 4500 \n",
    "4600 4700 4800 4900 5000 5100 5200 5300 5400 \n",
    "''' #7m 30.2s\n",
    "pass"
   ]
  },
  {
   "cell_type": "code",
   "execution_count": 1,
   "metadata": {},
   "outputs": [
    {
     "ename": "NameError",
     "evalue": "name 'df_train_labels' is not defined",
     "output_type": "error",
     "traceback": [
      "\u001b[1;31m---------------------------------------------------------------------------\u001b[0m",
      "\u001b[1;31mNameError\u001b[0m                                 Traceback (most recent call last)",
      "\u001b[1;32mc:\\GitHub\\Smart-Education\\EngaementModel\\TrainTest.ipynb Cell 10\u001b[0m in \u001b[0;36m1\n\u001b[0;32m      <a href='vscode-notebook-cell:/c%3A/GitHub/Smart-Education/EngaementModel/TrainTest.ipynb#X12sZmlsZQ%3D%3D?line=6'>7</a>\u001b[0m n\u001b[39m=\u001b[39m\u001b[39m10\u001b[39m\n\u001b[0;32m      <a href='vscode-notebook-cell:/c%3A/GitHub/Smart-Education/EngaementModel/TrainTest.ipynb#X12sZmlsZQ%3D%3D?line=7'>8</a>\u001b[0m frac\u001b[39m=\u001b[39m\u001b[39mNone\u001b[39;00m\n\u001b[1;32m---> <a href='vscode-notebook-cell:/c%3A/GitHub/Smart-Education/EngaementModel/TrainTest.ipynb#X12sZmlsZQ%3D%3D?line=9'>10</a>\u001b[0m \u001b[39mprint\u001b[39m(df_train_labels\u001b[39m.\u001b[39mcolumns)\n\u001b[0;32m     <a href='vscode-notebook-cell:/c%3A/GitHub/Smart-Education/EngaementModel/TrainTest.ipynb#X12sZmlsZQ%3D%3D?line=10'>11</a>\u001b[0m np\u001b[39m.\u001b[39mrandom\u001b[39m.\u001b[39mseed(seed)\n\u001b[0;32m     <a href='vscode-notebook-cell:/c%3A/GitHub/Smart-Education/EngaementModel/TrainTest.ipynb#X12sZmlsZQ%3D%3D?line=11'>12</a>\u001b[0m \u001b[39mfor\u001b[39;00m i, label_path \u001b[39min\u001b[39;00m \u001b[39menumerate\u001b[39m(df_train_labels\u001b[39m.\u001b[39mvalues):\n",
      "\u001b[1;31mNameError\u001b[0m: name 'df_train_labels' is not defined"
     ]
    }
   ],
   "source": [
    "#put seed here\n",
    "seed=0\n",
    "#select seed mode here\n",
    "SEED_BY_DATA=False\n",
    "SEED_ONCE=True\n",
    "#choose amount of samples\n",
    "n=10\n",
    "frac=None\n",
    "\n",
    "print(df_train_labels.columns)\n",
    "np.random.seed(seed)\n",
    "for i, label_path in enumerate(df_train_labels.values):\n",
    "    _df=pd.read_csv(label_path[-1], index_col=0)\n",
    "    _df['Boredom']=label_path[1] #add Boredom column\n",
    "    _df['Engagement']=label_path[2] #add Engagement column\n",
    "    _df['Confusion']=label_path[3] #add Confusion column\n",
    "    _df['Frustration']=label_path[4] #add Frustration column\n",
    "    if SEED_BY_DATA:\n",
    "        _sample=_df.sample(n, frac, random_state=seed)\n",
    "    elif SEED_ONCE:\n",
    "        _sample=_df.sample(n, frac, random_state=None)\n",
    "    # print(_sample)\n",
    "    if i%100==0:\n",
    "        print(i, end=' ')"
   ]
  },
  {
   "attachments": {},
   "cell_type": "markdown",
   "metadata": {},
   "source": [
    "building column names in dataloader..."
   ]
  },
  {
   "cell_type": "code",
   "execution_count": null,
   "metadata": {},
   "outputs": [],
   "source": [
    "columns=['frame',\n",
    "                  'face_id',\n",
    "                  'timestamp',\n",
    "                  'confidence',\n",
    "                  'success',\n",
    "                  'gaze_0_x', 'gaze_0_y', 'gaze_0_z',\n",
    "                  'gaze_1_x', 'gaze_1_y', 'gaze_1_z',\n",
    "                  'gaze_angle_x', 'gaze_angle_y', \n",
    "                  'eye_lmk_x_0', 'eye_lmk_x_1', 'eye_lmk_x_2', 'eye_lmk_x_3', 'eye_lmk_x_4',\n",
    "                  'eye_lmk_x_5', 'eye_lmk_x_6', 'eye_lmk_x_7', 'eye_lmk_x_8', 'eye_lmk_x_9',\n",
    "                  'eye_lmk_x_10', 'eye_lmk_x_11', 'eye_lmk_x_12', 'eye_lmk_x_13', 'eye_lmk_x_14',\n",
    "                  'eye_lmk_x_15', 'eye_lmk_x_16', 'eye_lmk_x_17', 'eye_lmk_x_18', 'eye_lmk_x_19',\n",
    "                  'eye_lmk_x_20', 'eye_lmk_x_21', 'eye_lmk_x_22', 'eye_lmk_x_23', 'eye_lmk_x_24',\n",
    "                  'eye_lmk_x_25', 'eye_lmk_x_26', 'eye_lmk_x_27', 'eye_lmk_x_28', 'eye_lmk_x_29',\n",
    "                  'eye_lmk_x_30', 'eye_lmk_x_31', 'eye_lmk_x_32', 'eye_lmk_x_33', 'eye_lmk_x_34',\n",
    "                  'eye_lmk_x_35', 'eye_lmk_x_36', 'eye_lmk_x_37', 'eye_lmk_x_38', 'eye_lmk_x_39',\n",
    "                  'eye_lmk_x_40', 'eye_lmk_x_41', 'eye_lmk_x_42', 'eye_lmk_x_43', 'eye_lmk_x_44',\n",
    "                  'eye_lmk_x_45', 'eye_lmk_x_46', 'eye_lmk_x_47', 'eye_lmk_x_48', 'eye_lmk_x_49',\n",
    "                  'eye_lmk_x_50', 'eye_lmk_x_51', 'eye_lmk_x_52', 'eye_lmk_x_53', 'eye_lmk_x_54',\n",
    "                  'eye_lmk_x_55',\n",
    "                  'eye_lmk_y_0', 'eye_lmk_y_1', 'eye_lmk_y_2', 'eye_lmk_y_3', 'eye_lmk_y_4',\n",
    "                  'eye_lmk_y_5', 'eye_lmk_y_6', 'eye_lmk_y_7', 'eye_lmk_y_8', 'eye_lmk_y_9',\n",
    "                  'eye_lmk_y_10', 'eye_lmk_y_11', 'eye_lmk_y_12', 'eye_lmk_y_13', 'eye_lmk_y_14',\n",
    "                  'eye_lmk_y_15', 'eye_lmk_y_16', 'eye_lmk_y_17', 'eye_lmk_y_18', 'eye_lmk_y_19',\n",
    "                  'eye_lmk_y_20', 'eye_lmk_y_21', 'eye_lmk_y_22', 'eye_lmk_y_23', 'eye_lmk_y_24',\n",
    "                  'eye_lmk_y_25', 'eye_lmk_y_26', 'eye_lmk_y_27', 'eye_lmk_y_28', 'eye_lmk_y_29',\n",
    "                  'eye_lmk_y_30', 'eye_lmk_y_31', 'eye_lmk_y_32', 'eye_lmk_y_33', 'eye_lmk_y_34',\n",
    "                  'eye_lmk_y_35', 'eye_lmk_y_36', 'eye_lmk_y_37', 'eye_lmk_y_38', 'eye_lmk_y_39',\n",
    "                  'eye_lmk_y_40', 'eye_lmk_y_41', 'eye_lmk_y_42', 'eye_lmk_y_43', 'eye_lmk_y_44',\n",
    "                  'eye_lmk_y_45', 'eye_lmk_y_46', 'eye_lmk_y_47', 'eye_lmk_y_48', 'eye_lmk_y_49',\n",
    "                  'eye_lmk_y_50', 'eye_lmk_y_51', 'eye_lmk_y_52', 'eye_lmk_y_53', 'eye_lmk_y_54',\n",
    "                  'eye_lmk_y_55',\n",
    "                  'eye_lmk_X_0', 'eye_lmk_X_1', 'eye_lmk_X_2', 'eye_lmk_X_3', 'eye_lmk_X_4', \n",
    "                  'eye_lmk_X_5', 'eye_lmk_X_6', 'eye_lmk_X_7', 'eye_lmk_X_8', 'eye_lmk_X_9',\n",
    "                  'eye_lmk_X_10', 'eye_lmk_X_11', 'eye_lmk_X_12', 'eye_lmk_X_13', 'eye_lmk_X_14',\n",
    "                  'eye_lmk_X_15', 'eye_lmk_X_16', 'eye_lmk_X_17', 'eye_lmk_X_18', 'eye_lmk_X_19',\n",
    "                  'eye_lmk_X_20', 'eye_lmk_X_21', 'eye_lmk_X_22', 'eye_lmk_X_23', 'eye_lmk_X_24',\n",
    "                  'eye_lmk_X_25', 'eye_lmk_X_26', 'eye_lmk_X_27', 'eye_lmk_X_28', 'eye_lmk_X_29',\n",
    "                  'eye_lmk_X_30', 'eye_lmk_X_31', 'eye_lmk_X_32', 'eye_lmk_X_33', 'eye_lmk_X_34',\n",
    "                  'eye_lmk_X_35', 'eye_lmk_X_36', 'eye_lmk_X_37', 'eye_lmk_X_38', 'eye_lmk_X_39',\n",
    "                  'eye_lmk_X_40', 'eye_lmk_X_41', 'eye_lmk_X_42', 'eye_lmk_X_43', 'eye_lmk_X_44',\n",
    "                  'eye_lmk_X_45', 'eye_lmk_X_46', 'eye_lmk_X_47', 'eye_lmk_X_48', 'eye_lmk_X_49',\n",
    "                  'eye_lmk_X_50', 'eye_lmk_X_51', 'eye_lmk_X_52', 'eye_lmk_X_53', 'eye_lmk_X_54', \n",
    "                  'eye_lmk_X_55', \n",
    "                  'eye_lmk_Y_0', 'eye_lmk_Y_1', 'eye_lmk_Y_2', 'eye_lmk_Y_3', 'eye_lmk_Y_4',\n",
    "                  'eye_lmk_Y_5', 'eye_lmk_Y_6', 'eye_lmk_Y_7', 'eye_lmk_Y_8', 'eye_lmk_Y_9',\n",
    "                  'eye_lmk_Y_10', 'eye_lmk_Y_11', 'eye_lmk_Y_12', 'eye_lmk_Y_13', 'eye_lmk_Y_14',\n",
    "                  'eye_lmk_Y_15', 'eye_lmk_Y_16', 'eye_lmk_Y_17', 'eye_lmk_Y_18', 'eye_lmk_Y_19',\n",
    "                  'eye_lmk_Y_20', 'eye_lmk_Y_21', 'eye_lmk_Y_22', 'eye_lmk_Y_23', 'eye_lmk_Y_24',\n",
    "                  'eye_lmk_Y_25', 'eye_lmk_Y_26', 'eye_lmk_Y_27', 'eye_lmk_Y_28', 'eye_lmk_Y_29',\n",
    "                  'eye_lmk_Y_30', 'eye_lmk_Y_31', 'eye_lmk_Y_32', 'eye_lmk_Y_33', 'eye_lmk_Y_34',\n",
    "                  'eye_lmk_Y_35', 'eye_lmk_Y_36', 'eye_lmk_Y_37', 'eye_lmk_Y_38', 'eye_lmk_Y_39',\n",
    "                  'eye_lmk_Y_40', 'eye_lmk_Y_41', 'eye_lmk_Y_42', 'eye_lmk_Y_43', 'eye_lmk_Y_44',\n",
    "                  'eye_lmk_Y_45', 'eye_lmk_Y_46', 'eye_lmk_Y_47', 'eye_lmk_Y_48', 'eye_lmk_Y_49',\n",
    "                  'eye_lmk_Y_50', 'eye_lmk_Y_51', 'eye_lmk_Y_52', 'eye_lmk_Y_53', 'eye_lmk_Y_54',\n",
    "                  'eye_lmk_Y_55', \n",
    "                  'eye_lmk_Z_0', 'eye_lmk_Z_1', 'eye_lmk_Z_2', 'eye_lmk_Z_3', 'eye_lmk_Z_4',\n",
    "                  'eye_lmk_Z_5', 'eye_lmk_Z_6', 'eye_lmk_Z_7', 'eye_lmk_Z_8', 'eye_lmk_Z_9', \n",
    "                  'eye_lmk_Z_10', 'eye_lmk_Z_11', 'eye_lmk_Z_12', 'eye_lmk_Z_13', 'eye_lmk_Z_14', \n",
    "                  'eye_lmk_Z_15', 'eye_lmk_Z_16', 'eye_lmk_Z_17', 'eye_lmk_Z_18', 'eye_lmk_Z_19',\n",
    "                  'eye_lmk_Z_20', 'eye_lmk_Z_21', 'eye_lmk_Z_22', 'eye_lmk_Z_23', 'eye_lmk_Z_24', \n",
    "                  'eye_lmk_Z_25', 'eye_lmk_Z_26', 'eye_lmk_Z_27', 'eye_lmk_Z_28', 'eye_lmk_Z_29',\n",
    "                  'eye_lmk_Z_30', 'eye_lmk_Z_31', 'eye_lmk_Z_32', 'eye_lmk_Z_33', 'eye_lmk_Z_34', \n",
    "                  'eye_lmk_Z_35', 'eye_lmk_Z_36', 'eye_lmk_Z_37', 'eye_lmk_Z_38', 'eye_lmk_Z_39',\n",
    "                  'eye_lmk_Z_40', 'eye_lmk_Z_41', 'eye_lmk_Z_42', 'eye_lmk_Z_43', 'eye_lmk_Z_44', \n",
    "                  'eye_lmk_Z_45', 'eye_lmk_Z_46', 'eye_lmk_Z_47', 'eye_lmk_Z_48', 'eye_lmk_Z_49', \n",
    "                  'eye_lmk_Z_50', 'eye_lmk_Z_51', 'eye_lmk_Z_52', 'eye_lmk_Z_53', 'eye_lmk_Z_54', \n",
    "                  'eye_lmk_Z_55', \n",
    "                  'pose_Tx', 'pose_Ty', 'pose_Tz', 'pose_Rx', 'pose_Ry', 'pose_Rz',\n",
    "                  'x_0', 'x_1', 'x_2', 'x_3', 'x_4', 'x_5', 'x_6', 'x_7', 'x_8', 'x_9', \n",
    "                  'x_10', 'x_11', 'x_12', 'x_13', 'x_14', 'x_15', 'x_16', 'x_17', 'x_18', 'x_19',\n",
    "                  'x_20', 'x_21', 'x_22', 'x_23', 'x_24', 'x_25', 'x_26', 'x_27', 'x_28', 'x_29',\n",
    "                  'x_30', 'x_31', 'x_32', 'x_33', 'x_34', 'x_35', 'x_36', 'x_37', 'x_38', 'x_39', \n",
    "                  'x_40', 'x_41', 'x_42', 'x_43', 'x_44', 'x_45', 'x_46', 'x_47', 'x_48', 'x_49',\n",
    "                  'x_50', 'x_51', 'x_52', 'x_53', 'x_54', 'x_55', 'x_56', 'x_57', 'x_58', 'x_59',\n",
    "                  'x_60', 'x_61', 'x_62', 'x_63', 'x_64', 'x_65', 'x_66', 'x_67',\n",
    "                  'y_0', 'y_1', 'y_2', 'y_3', 'y_4', 'y_5', 'y_6', 'y_7', 'y_8', 'y_9',\n",
    "                  'y_10', 'y_11', 'y_12', 'y_13', 'y_14', 'y_15', 'y_16', 'y_17', 'y_18', 'y_19', \n",
    "                  'y_20', 'y_21', 'y_22', 'y_23', 'y_24', 'y_25', 'y_26', 'y_27', 'y_28', 'y_29',\n",
    "                  'y_30', 'y_31', 'y_32', 'y_33', 'y_34', 'y_35', 'y_36', 'y_37', 'y_38', 'y_39',\n",
    "                  'y_40', 'y_41', 'y_42', 'y_43', 'y_44', 'y_45', 'y_46', 'y_47', 'y_48', 'y_49', \n",
    "                  'y_50', 'y_51', 'y_52', 'y_53', 'y_54', 'y_55', 'y_56', 'y_57', 'y_58', 'y_59', \n",
    "                  'y_60', 'y_61', 'y_62', 'y_63', 'y_64', 'y_65', 'y_66', 'y_67', \n",
    "                  'X_0', 'X_1', 'X_2', 'X_3', 'X_4', 'X_5', 'X_6', 'X_7', 'X_8', 'X_9', \n",
    "                  'X_10', 'X_11', 'X_12', 'X_13', 'X_14', 'X_15', 'X_16', 'X_17', 'X_18', 'X_19', \n",
    "                  'X_20', 'X_21', 'X_22', 'X_23', 'X_24', 'X_25', 'X_26', 'X_27', 'X_28', 'X_29', \n",
    "                  'X_30', 'X_31', 'X_32', 'X_33', 'X_34', 'X_35', 'X_36', 'X_37', 'X_38', 'X_39', \n",
    "                  'X_40', 'X_41', 'X_42', 'X_43', 'X_44', 'X_45', 'X_46', 'X_47', 'X_48', 'X_49', \n",
    "                  'X_50', 'X_51', 'X_52', 'X_53', 'X_54', 'X_55', 'X_56', 'X_57', 'X_58', 'X_59', \n",
    "                  'X_60', 'X_61', 'X_62', 'X_63', 'X_64', 'X_65', 'X_66', 'X_67', \n",
    "                  'Y_0', 'Y_1', 'Y_2', 'Y_3', 'Y_4', 'Y_5', 'Y_6', 'Y_7', 'Y_8', 'Y_9',\n",
    "                  'Y_10', 'Y_11', 'Y_12', 'Y_13', 'Y_14', 'Y_15', 'Y_16', 'Y_17', 'Y_18', 'Y_19',\n",
    "                  'Y_20', 'Y_21', 'Y_22', 'Y_23', 'Y_24', 'Y_25', 'Y_26', 'Y_27', 'Y_28', 'Y_29', \n",
    "                  'Y_30', 'Y_31', 'Y_32', 'Y_33', 'Y_34', 'Y_35', 'Y_36', 'Y_37', 'Y_38', 'Y_39', \n",
    "                  'Y_40', 'Y_41', 'Y_42', 'Y_43', 'Y_44', 'Y_45', 'Y_46', 'Y_47', 'Y_48', 'Y_49', \n",
    "                  'Y_50', 'Y_51', 'Y_52', 'Y_53', 'Y_54', 'Y_55', 'Y_56', 'Y_57', 'Y_58', 'Y_59', \n",
    "                  'Y_60', 'Y_61', 'Y_62', 'Y_63', 'Y_64', 'Y_65', 'Y_66', 'Y_67',\n",
    "                  'Z_0', 'Z_1', 'Z_2', 'Z_3', 'Z_4', 'Z_5', 'Z_6', 'Z_7', 'Z_8', 'Z_9',\n",
    "                  'Z_10', 'Z_11', 'Z_12', 'Z_13', 'Z_14', 'Z_15', 'Z_16', 'Z_17', 'Z_18', 'Z_19',\n",
    "                  'Z_20', 'Z_21', 'Z_22', 'Z_23', 'Z_24', 'Z_25', 'Z_26', 'Z_27', 'Z_28', 'Z_29',\n",
    "                  'Z_30', 'Z_31', 'Z_32', 'Z_33', 'Z_34', 'Z_35', 'Z_36', 'Z_37', 'Z_38', 'Z_39',\n",
    "                  'Z_40', 'Z_41', 'Z_42', 'Z_43', 'Z_44', 'Z_45', 'Z_46', 'Z_47', 'Z_48', 'Z_49',\n",
    "                  'Z_50', 'Z_51', 'Z_52', 'Z_53', 'Z_54', 'Z_55', 'Z_56', 'Z_57', 'Z_58', 'Z_59',\n",
    "                  'Z_60', 'Z_61', 'Z_62', 'Z_63', 'Z_64', 'Z_65', 'Z_66', 'Z_67',\n",
    "                  'p_scale', 'p_rx', 'p_ry', 'p_rz', 'p_tx', 'p_ty', \n",
    "                  'p_0', 'p_1', 'p_2', 'p_3', 'p_4', 'p_5', 'p_6', 'p_7', 'p_8', 'p_9', \n",
    "                  'p_10', 'p_11', 'p_12', 'p_13', 'p_14', 'p_15', 'p_16', 'p_17', 'p_18', 'p_19',\n",
    "                  'p_20', 'p_21', 'p_22', 'p_23', 'p_24', 'p_25', 'p_26', 'p_27', 'p_28', 'p_29', \n",
    "                  'p_30', 'p_31', 'p_32', 'p_33', \n",
    "                  'AU01_r', 'AU02_r', 'AU04_r', 'AU05_r', 'AU06_r', 'AU07_r', 'AU09_r', 'AU10_r', \n",
    "                  'AU12_r', 'AU14_r', 'AU15_r', 'AU17_r', 'AU20_r', 'AU23_r', 'AU25_r', 'AU26_r', \n",
    "                  'AU45_r', \n",
    "                  'AU01_c', 'AU02_c', 'AU04_c', 'AU05_c', 'AU06_c', 'AU07_c', 'AU09_c', 'AU10_c', \n",
    "                  'AU12_c', 'AU14_c', 'AU15_c', 'AU17_c', 'AU20_c', 'AU23_c', 'AU25_c', 'AU26_c', \n",
    "                  'AU28_c', 'AU45_c'\n",
    "                  ]"
   ]
  },
  {
   "cell_type": "code",
   "execution_count": null,
   "metadata": {},
   "outputs": [
    {
     "data": {
      "text/plain": [
       "714"
      ]
     },
     "execution_count": 14,
     "metadata": {},
     "output_type": "execute_result"
    }
   ],
   "source": [
    "len(columns)"
   ]
  },
  {
   "cell_type": "code",
   "execution_count": null,
   "metadata": {},
   "outputs": [],
   "source": [
    "col='frame, face_id, timestamp, confidence, success, gaze_0_x, gaze_0_y, gaze_0_z, gaze_1_x, gaze_1_y, gaze_1_z, gaze_angle_x, gaze_angle_y, eye_lmk_x_0, eye_lmk_x_1, eye_lmk_x_2, eye_lmk_x_3, eye_lmk_x_4, eye_lmk_x_5, eye_lmk_x_6, eye_lmk_x_7, eye_lmk_x_8, eye_lmk_x_9, eye_lmk_x_10, eye_lmk_x_11, eye_lmk_x_12, eye_lmk_x_13, eye_lmk_x_14, eye_lmk_x_15, eye_lmk_x_16, eye_lmk_x_17, eye_lmk_x_18, eye_lmk_x_19, eye_lmk_x_20, eye_lmk_x_21, eye_lmk_x_22, eye_lmk_x_23, eye_lmk_x_24, eye_lmk_x_25, eye_lmk_x_26, eye_lmk_x_27, eye_lmk_x_28, eye_lmk_x_29, eye_lmk_x_30, eye_lmk_x_31, eye_lmk_x_32, eye_lmk_x_33, eye_lmk_x_34, eye_lmk_x_35, eye_lmk_x_36, eye_lmk_x_37, eye_lmk_x_38, eye_lmk_x_39, eye_lmk_x_40, eye_lmk_x_41, eye_lmk_x_42, eye_lmk_x_43, eye_lmk_x_44, eye_lmk_x_45, eye_lmk_x_46, eye_lmk_x_47, eye_lmk_x_48, eye_lmk_x_49, eye_lmk_x_50, eye_lmk_x_51, eye_lmk_x_52, eye_lmk_x_53, eye_lmk_x_54, eye_lmk_x_55, eye_lmk_y_0, eye_lmk_y_1, eye_lmk_y_2, eye_lmk_y_3, eye_lmk_y_4, eye_lmk_y_5, eye_lmk_y_6, eye_lmk_y_7, eye_lmk_y_8, eye_lmk_y_9, eye_lmk_y_10, eye_lmk_y_11, eye_lmk_y_12, eye_lmk_y_13, eye_lmk_y_14, eye_lmk_y_15, eye_lmk_y_16, eye_lmk_y_17, eye_lmk_y_18, eye_lmk_y_19, eye_lmk_y_20, eye_lmk_y_21, eye_lmk_y_22, eye_lmk_y_23, eye_lmk_y_24, eye_lmk_y_25, eye_lmk_y_26, eye_lmk_y_27, eye_lmk_y_28, eye_lmk_y_29, eye_lmk_y_30, eye_lmk_y_31, eye_lmk_y_32, eye_lmk_y_33, eye_lmk_y_34, eye_lmk_y_35, eye_lmk_y_36, eye_lmk_y_37, eye_lmk_y_38, eye_lmk_y_39, eye_lmk_y_40, eye_lmk_y_41, eye_lmk_y_42, eye_lmk_y_43, eye_lmk_y_44, eye_lmk_y_45, eye_lmk_y_46, eye_lmk_y_47, eye_lmk_y_48, eye_lmk_y_49, eye_lmk_y_50, eye_lmk_y_51, eye_lmk_y_52, eye_lmk_y_53, eye_lmk_y_54, eye_lmk_y_55, eye_lmk_X_0, eye_lmk_X_1, eye_lmk_X_2, eye_lmk_X_3, eye_lmk_X_4, eye_lmk_X_5, eye_lmk_X_6, eye_lmk_X_7, eye_lmk_X_8, eye_lmk_X_9, eye_lmk_X_10, eye_lmk_X_11, eye_lmk_X_12, eye_lmk_X_13, eye_lmk_X_14, eye_lmk_X_15, eye_lmk_X_16, eye_lmk_X_17, eye_lmk_X_18, eye_lmk_X_19, eye_lmk_X_20, eye_lmk_X_21, eye_lmk_X_22, eye_lmk_X_23, eye_lmk_X_24, eye_lmk_X_25, eye_lmk_X_26, eye_lmk_X_27, eye_lmk_X_28, eye_lmk_X_29, eye_lmk_X_30, eye_lmk_X_31, eye_lmk_X_32, eye_lmk_X_33, eye_lmk_X_34, eye_lmk_X_35, eye_lmk_X_36, eye_lmk_X_37, eye_lmk_X_38, eye_lmk_X_39, eye_lmk_X_40, eye_lmk_X_41, eye_lmk_X_42, eye_lmk_X_43, eye_lmk_X_44, eye_lmk_X_45, eye_lmk_X_46, eye_lmk_X_47, eye_lmk_X_48, eye_lmk_X_49, eye_lmk_X_50, eye_lmk_X_51, eye_lmk_X_52, eye_lmk_X_53, eye_lmk_X_54, eye_lmk_X_55, eye_lmk_Y_0, eye_lmk_Y_1, eye_lmk_Y_2, eye_lmk_Y_3, eye_lmk_Y_4, eye_lmk_Y_5, eye_lmk_Y_6, eye_lmk_Y_7, eye_lmk_Y_8, eye_lmk_Y_9, eye_lmk_Y_10, eye_lmk_Y_11, eye_lmk_Y_12, eye_lmk_Y_13, eye_lmk_Y_14, eye_lmk_Y_15, eye_lmk_Y_16, eye_lmk_Y_17, eye_lmk_Y_18, eye_lmk_Y_19, eye_lmk_Y_20, eye_lmk_Y_21, eye_lmk_Y_22, eye_lmk_Y_23, eye_lmk_Y_24, eye_lmk_Y_25, eye_lmk_Y_26, eye_lmk_Y_27, eye_lmk_Y_28, eye_lmk_Y_29, eye_lmk_Y_30, eye_lmk_Y_31, eye_lmk_Y_32, eye_lmk_Y_33, eye_lmk_Y_34, eye_lmk_Y_35, eye_lmk_Y_36, eye_lmk_Y_37, eye_lmk_Y_38, eye_lmk_Y_39, eye_lmk_Y_40, eye_lmk_Y_41, eye_lmk_Y_42, eye_lmk_Y_43, eye_lmk_Y_44, eye_lmk_Y_45, eye_lmk_Y_46, eye_lmk_Y_47, eye_lmk_Y_48, eye_lmk_Y_49, eye_lmk_Y_50, eye_lmk_Y_51, eye_lmk_Y_52, eye_lmk_Y_53, eye_lmk_Y_54, eye_lmk_Y_55, eye_lmk_Z_0, eye_lmk_Z_1, eye_lmk_Z_2, eye_lmk_Z_3, eye_lmk_Z_4, eye_lmk_Z_5, eye_lmk_Z_6, eye_lmk_Z_7, eye_lmk_Z_8, eye_lmk_Z_9, eye_lmk_Z_10, eye_lmk_Z_11, eye_lmk_Z_12, eye_lmk_Z_13, eye_lmk_Z_14, eye_lmk_Z_15, eye_lmk_Z_16, eye_lmk_Z_17, eye_lmk_Z_18, eye_lmk_Z_19, eye_lmk_Z_20, eye_lmk_Z_21, eye_lmk_Z_22, eye_lmk_Z_23, eye_lmk_Z_24, eye_lmk_Z_25, eye_lmk_Z_26, eye_lmk_Z_27, eye_lmk_Z_28, eye_lmk_Z_29, eye_lmk_Z_30, eye_lmk_Z_31, eye_lmk_Z_32, eye_lmk_Z_33, eye_lmk_Z_34, eye_lmk_Z_35, eye_lmk_Z_36, eye_lmk_Z_37, eye_lmk_Z_38, eye_lmk_Z_39, eye_lmk_Z_40, eye_lmk_Z_41, eye_lmk_Z_42, eye_lmk_Z_43, eye_lmk_Z_44, eye_lmk_Z_45, eye_lmk_Z_46, eye_lmk_Z_47, eye_lmk_Z_48, eye_lmk_Z_49, eye_lmk_Z_50, eye_lmk_Z_51, eye_lmk_Z_52, eye_lmk_Z_53, eye_lmk_Z_54, eye_lmk_Z_55, pose_Tx, pose_Ty, pose_Tz, pose_Rx, pose_Ry, pose_Rz, x_0, x_1, x_2, x_3, x_4, x_5, x_6, x_7, x_8, x_9, x_10, x_11, x_12, x_13, x_14, x_15, x_16, x_17, x_18, x_19, x_20, x_21, x_22, x_23, x_24, x_25, x_26, x_27, x_28, x_29, x_30, x_31, x_32, x_33, x_34, x_35, x_36, x_37, x_38, x_39, x_40, x_41, x_42, x_43, x_44, x_45, x_46, x_47, x_48, x_49, x_50, x_51, x_52, x_53, x_54, x_55, x_56, x_57, x_58, x_59, x_60, x_61, x_62, x_63, x_64, x_65, x_66, x_67, y_0, y_1, y_2, y_3, y_4, y_5, y_6, y_7, y_8, y_9, y_10, y_11, y_12, y_13, y_14, y_15, y_16, y_17, y_18, y_19, y_20, y_21, y_22, y_23, y_24, y_25, y_26, y_27, y_28, y_29, y_30, y_31, y_32, y_33, y_34, y_35, y_36, y_37, y_38, y_39, y_40, y_41, y_42, y_43, y_44, y_45, y_46, y_47, y_48, y_49, y_50, y_51, y_52, y_53, y_54, y_55, y_56, y_57, y_58, y_59, y_60, y_61, y_62, y_63, y_64, y_65, y_66, y_67, X_0, X_1, X_2, X_3, X_4, X_5, X_6, X_7, X_8, X_9, X_10, X_11, X_12, X_13, X_14, X_15, X_16, X_17, X_18, X_19, X_20, X_21, X_22, X_23, X_24, X_25, X_26, X_27, X_28, X_29, X_30, X_31, X_32, X_33, X_34, X_35, X_36, X_37, X_38, X_39, X_40, X_41, X_42, X_43, X_44, X_45, X_46, X_47, X_48, X_49, X_50, X_51, X_52, X_53, X_54, X_55, X_56, X_57, X_58, X_59, X_60, X_61, X_62, X_63, X_64, X_65, X_66, X_67, Y_0, Y_1, Y_2, Y_3, Y_4, Y_5, Y_6, Y_7, Y_8, Y_9, Y_10, Y_11, Y_12, Y_13, Y_14, Y_15, Y_16, Y_17, Y_18, Y_19, Y_20, Y_21, Y_22, Y_23, Y_24, Y_25, Y_26, Y_27, Y_28, Y_29, Y_30, Y_31, Y_32, Y_33, Y_34, Y_35, Y_36, Y_37, Y_38, Y_39, Y_40, Y_41, Y_42, Y_43, Y_44, Y_45, Y_46, Y_47, Y_48, Y_49, Y_50, Y_51, Y_52, Y_53, Y_54, Y_55, Y_56, Y_57, Y_58, Y_59, Y_60, Y_61, Y_62, Y_63, Y_64, Y_65, Y_66, Y_67, Z_0, Z_1, Z_2, Z_3, Z_4, Z_5, Z_6, Z_7, Z_8, Z_9, Z_10, Z_11, Z_12, Z_13, Z_14, Z_15, Z_16, Z_17, Z_18, Z_19, Z_20, Z_21, Z_22, Z_23, Z_24, Z_25, Z_26, Z_27, Z_28, Z_29, Z_30, Z_31, Z_32, Z_33, Z_34, Z_35, Z_36, Z_37, Z_38, Z_39, Z_40, Z_41, Z_42, Z_43, Z_44, Z_45, Z_46, Z_47, Z_48, Z_49, Z_50, Z_51, Z_52, Z_53, Z_54, Z_55, Z_56, Z_57, Z_58, Z_59, Z_60, Z_61, Z_62, Z_63, Z_64, Z_65, Z_66, Z_67, p_scale, p_rx, p_ry, p_rz, p_tx, p_ty, p_0, p_1, p_2, p_3, p_4, p_5, p_6, p_7, p_8, p_9, p_10, p_11, p_12, p_13, p_14, p_15, p_16, p_17, p_18, p_19, p_20, p_21, p_22, p_23, p_24, p_25, p_26, p_27, p_28, p_29, p_30, p_31, p_32, p_33, AU01_r, AU02_r, AU04_r, AU05_r, AU06_r, AU07_r, AU09_r, AU10_r, AU12_r, AU14_r, AU15_r, AU17_r, AU20_r, AU23_r, AU25_r, AU26_r, AU45_r, AU01_c, AU02_c, AU04_c, AU05_c, AU06_c, AU07_c, AU09_c, AU10_c, AU12_c, AU14_c, AU15_c, AU17_c, AU20_c, AU23_c, AU25_c, AU26_c, AU28_c, AU45_c'.split(', ')"
   ]
  },
  {
   "cell_type": "code",
   "execution_count": null,
   "metadata": {},
   "outputs": [],
   "source": [
    "#veryfying...\n",
    "n=10\n",
    "for i in range(len(col)):\n",
    "    if col[i]!=columns[i]:\n",
    "        print(i, col[i], columns[i])"
   ]
  },
  {
   "attachments": {},
   "cell_type": "markdown",
   "metadata": {},
   "source": [
    "# datalodaer.py, model.py test"
   ]
  },
  {
   "cell_type": "code",
   "execution_count": 1,
   "metadata": {},
   "outputs": [],
   "source": [
    "import pandas as pd\n",
    "import numpy as np\n",
    "from dataloader import Path_labels, OpenFace_DataLoader\n",
    "from model import MLP"
   ]
  },
  {
   "cell_type": "code",
   "execution_count": 2,
   "metadata": {},
   "outputs": [],
   "source": [
    "train_path_labels=Path_labels(pd.read_csv(r\"C:\\GitHub\\Smart-Education-data\\data\\DAiSEE\\Sorted\\sorted_labels.csv\", index_col=0)[:10])"
   ]
  },
  {
   "cell_type": "code",
   "execution_count": 3,
   "metadata": {},
   "outputs": [
    {
     "name": "stderr",
     "output_type": "stream",
     "text": [
      "c:\\GitHub\\Smart-Education\\EngaementModel\\dataloader.py:198: ParserWarning: Falling back to the 'python' engine because the 'c' engine does not support regex separators (separators > 1 char and different from '\\s+' are interpreted as regex); you can avoid this warning by specifying engine='python'.\n",
      "  df_sample=pd.read_csv(labels[-1], sep='[,][ ]+').sample(n=n, frac=None, random_state=None) #use global seed\n",
      "c:\\GitHub\\Smart-Education\\EngaementModel\\dataloader.py:198: ParserWarning: Falling back to the 'python' engine because the 'c' engine does not support regex separators (separators > 1 char and different from '\\s+' are interpreted as regex); you can avoid this warning by specifying engine='python'.\n",
      "  df_sample=pd.read_csv(labels[-1], sep='[,][ ]+').sample(n=n, frac=None, random_state=None) #use global seed\n",
      "c:\\GitHub\\Smart-Education\\EngaementModel\\dataloader.py:198: ParserWarning: Falling back to the 'python' engine because the 'c' engine does not support regex separators (separators > 1 char and different from '\\s+' are interpreted as regex); you can avoid this warning by specifying engine='python'.\n",
      "  df_sample=pd.read_csv(labels[-1], sep='[,][ ]+').sample(n=n, frac=None, random_state=None) #use global seed\n",
      "c:\\GitHub\\Smart-Education\\EngaementModel\\dataloader.py:198: ParserWarning: Falling back to the 'python' engine because the 'c' engine does not support regex separators (separators > 1 char and different from '\\s+' are interpreted as regex); you can avoid this warning by specifying engine='python'.\n",
      "  df_sample=pd.read_csv(labels[-1], sep='[,][ ]+').sample(n=n, frac=None, random_state=None) #use global seed\n",
      "c:\\GitHub\\Smart-Education\\EngaementModel\\dataloader.py:198: ParserWarning: Falling back to the 'python' engine because the 'c' engine does not support regex separators (separators > 1 char and different from '\\s+' are interpreted as regex); you can avoid this warning by specifying engine='python'.\n",
      "  df_sample=pd.read_csv(labels[-1], sep='[,][ ]+').sample(n=n, frac=None, random_state=None) #use global seed\n",
      "c:\\GitHub\\Smart-Education\\EngaementModel\\dataloader.py:198: ParserWarning: Falling back to the 'python' engine because the 'c' engine does not support regex separators (separators > 1 char and different from '\\s+' are interpreted as regex); you can avoid this warning by specifying engine='python'.\n",
      "  df_sample=pd.read_csv(labels[-1], sep='[,][ ]+').sample(n=n, frac=None, random_state=None) #use global seed\n",
      "c:\\GitHub\\Smart-Education\\EngaementModel\\dataloader.py:198: ParserWarning: Falling back to the 'python' engine because the 'c' engine does not support regex separators (separators > 1 char and different from '\\s+' are interpreted as regex); you can avoid this warning by specifying engine='python'.\n",
      "  df_sample=pd.read_csv(labels[-1], sep='[,][ ]+').sample(n=n, frac=None, random_state=None) #use global seed\n",
      "c:\\GitHub\\Smart-Education\\EngaementModel\\dataloader.py:198: ParserWarning: Falling back to the 'python' engine because the 'c' engine does not support regex separators (separators > 1 char and different from '\\s+' are interpreted as regex); you can avoid this warning by specifying engine='python'.\n",
      "  df_sample=pd.read_csv(labels[-1], sep='[,][ ]+').sample(n=n, frac=None, random_state=None) #use global seed\n",
      "c:\\GitHub\\Smart-Education\\EngaementModel\\dataloader.py:198: ParserWarning: Falling back to the 'python' engine because the 'c' engine does not support regex separators (separators > 1 char and different from '\\s+' are interpreted as regex); you can avoid this warning by specifying engine='python'.\n",
      "  df_sample=pd.read_csv(labels[-1], sep='[,][ ]+').sample(n=n, frac=None, random_state=None) #use global seed\n",
      "c:\\GitHub\\Smart-Education\\EngaementModel\\dataloader.py:198: ParserWarning: Falling back to the 'python' engine because the 'c' engine does not support regex separators (separators > 1 char and different from '\\s+' are interpreted as regex); you can avoid this warning by specifying engine='python'.\n",
      "  df_sample=pd.read_csv(labels[-1], sep='[,][ ]+').sample(n=n, frac=None, random_state=None) #use global seed\n"
     ]
    }
   ],
   "source": [
    "trainloader=OpenFace_DataLoader(n=10,\n",
    "                                path_labels=train_path_labels,\n",
    "                                batch_size=500,\n",
    "                                feature_set=None,\n",
    "                                y_col=['Engagement'],\n",
    "                                seed=0)"
   ]
  },
  {
   "attachments": {},
   "cell_type": "markdown",
   "metadata": {},
   "source": [
    "model test..."
   ]
  },
  {
   "cell_type": "code",
   "execution_count": 4,
   "metadata": {},
   "outputs": [],
   "source": [
    "trainloader.to('cuda')"
   ]
  },
  {
   "attachments": {},
   "cell_type": "markdown",
   "metadata": {},
   "source": [
    "classifier approach"
   ]
  },
  {
   "cell_type": "code",
   "execution_count": 5,
   "metadata": {},
   "outputs": [],
   "source": [
    "# del MLP\n",
    "from model import MLP\n",
    "import torch\n",
    "from os.path import join as ospj"
   ]
  },
  {
   "cell_type": "code",
   "execution_count": 6,
   "metadata": {},
   "outputs": [
    {
     "name": "stdout",
     "output_type": "stream",
     "text": [
      "709\n"
     ]
    }
   ],
   "source": [
    "torch.manual_seed(0)\n",
    "D_in=len(OpenFace_DataLoader.columns)-len([\n",
    "    'frame', 'face_id', 'timestamp', \n",
    "    'confidence', 'success', 'Boredom', \n",
    "    'Engagement', 'Confusion', 'Frustration'])\n",
    "print(D_in)\n",
    "model=MLP([D_in, 256, 64, 16, 4, 1], \n",
    "            n_classes=1,\n",
    "            loss_function='CrossEntropyLoss', loss_function_params=dict(),\n",
    "            optimizer='Adam', optimizer_params=dict(lr=1e-3, weight_decay=1e-4),\n",
    "            af='ReLU', af_params=dict(),\n",
    "            af_fin='Sigmoid', af_fin_params=dict(),\n",
    "            attach_softmax=True)"
   ]
  },
  {
   "cell_type": "code",
   "execution_count": 10,
   "metadata": {},
   "outputs": [
    {
     "data": {
      "text/plain": [
       "1.0"
      ]
     },
     "execution_count": 10,
     "metadata": {},
     "output_type": "execute_result"
    }
   ],
   "source": [
    "np.round(1.1)"
   ]
  },
  {
   "cell_type": "code",
   "execution_count": 9,
   "metadata": {},
   "outputs": [
    {
     "ename": "RuntimeError",
     "evalue": "CUDA error: CUBLAS_STATUS_EXECUTION_FAILED when calling `cublasSgemm( handle, opa, opb, m, n, k, &alpha, a, lda, b, ldb, &beta, c, ldc)`",
     "output_type": "error",
     "traceback": [
      "\u001b[1;31m---------------------------------------------------------------------------\u001b[0m",
      "\u001b[1;31mRuntimeError\u001b[0m                              Traceback (most recent call last)",
      "\u001b[1;32mc:\\GitHub\\Smart-Education\\EngaementModel\\TrainTest.ipynb Cell 26\u001b[0m in \u001b[0;36m4\n\u001b[0;32m      <a href='vscode-notebook-cell:/c%3A/GitHub/Smart-Education/EngaementModel/TrainTest.ipynb#X33sZmlsZQ%3D%3D?line=1'>2</a>\u001b[0m torch\u001b[39m.\u001b[39mmanual_seed(\u001b[39m0\u001b[39m)\n\u001b[0;32m      <a href='vscode-notebook-cell:/c%3A/GitHub/Smart-Education/EngaementModel/TrainTest.ipynb#X33sZmlsZQ%3D%3D?line=2'>3</a>\u001b[0m \u001b[39mfor\u001b[39;00m i \u001b[39min\u001b[39;00m \u001b[39mrange\u001b[39m(\u001b[39m50\u001b[39m):\n\u001b[1;32m----> <a href='vscode-notebook-cell:/c%3A/GitHub/Smart-Education/EngaementModel/TrainTest.ipynb#X33sZmlsZQ%3D%3D?line=3'>4</a>\u001b[0m     model\u001b[39m.\u001b[39;49mtrain(trainloader, epochs\u001b[39m=\u001b[39;49m\u001b[39m100\u001b[39;49m, attach_label_onehot\u001b[39m=\u001b[39;49m\u001b[39mFalse\u001b[39;49;00m, attach_label_binarize\u001b[39m=\u001b[39;49m\u001b[39mTrue\u001b[39;49;00m)\n\u001b[0;32m      <a href='vscode-notebook-cell:/c%3A/GitHub/Smart-Education/EngaementModel/TrainTest.ipynb#X33sZmlsZQ%3D%3D?line=4'>5</a>\u001b[0m     pred\u001b[39m=\u001b[39mmodel\u001b[39m.\u001b[39mtest(trainloader, attach_label_onehot\u001b[39m=\u001b[39m\u001b[39mFalse\u001b[39;00m, attach_label_binarize\u001b[39m=\u001b[39m\u001b[39mTrue\u001b[39;00m)\n\u001b[0;32m      <a href='vscode-notebook-cell:/c%3A/GitHub/Smart-Education/EngaementModel/TrainTest.ipynb#X33sZmlsZQ%3D%3D?line=5'>6</a>\u001b[0m     labels\u001b[39m=\u001b[39m[]\n",
      "File \u001b[1;32mc:\\GitHub\\Smart-Education\\EngaementModel\\model.py:76\u001b[0m, in \u001b[0;36mMLP.train\u001b[1;34m(self, dataLoader, epochs, attach_label_onehot, attach_label_binarize)\u001b[0m\n\u001b[0;32m     74\u001b[0m     label\u001b[39m=\u001b[39m(label\u001b[39m>\u001b[39m\u001b[39m=\u001b[39m\u001b[39m2.0\u001b[39m)\u001b[39m.\u001b[39mint()\u001b[39m.\u001b[39mlong()\n\u001b[0;32m     75\u001b[0m \u001b[39mself\u001b[39m\u001b[39m.\u001b[39moptimizer\u001b[39m.\u001b[39mzero_grad()\n\u001b[1;32m---> 76\u001b[0m output\u001b[39m=\u001b[39m\u001b[39mself\u001b[39;49m(x)\n\u001b[0;32m     77\u001b[0m \u001b[39mif\u001b[39;00m \u001b[39mself\u001b[39m\u001b[39m.\u001b[39mn_classes\u001b[39m>\u001b[39m\u001b[39m1\u001b[39m:\n\u001b[0;32m     78\u001b[0m     loss\u001b[39m=\u001b[39m\u001b[39m0\u001b[39m\n",
      "File \u001b[1;32mc:\\Users\\Ranjani\\miniconda3\\lib\\site-packages\\torch\\nn\\modules\\module.py:1190\u001b[0m, in \u001b[0;36mModule._call_impl\u001b[1;34m(self, *input, **kwargs)\u001b[0m\n\u001b[0;32m   1186\u001b[0m \u001b[39m# If we don't have any hooks, we want to skip the rest of the logic in\u001b[39;00m\n\u001b[0;32m   1187\u001b[0m \u001b[39m# this function, and just call forward.\u001b[39;00m\n\u001b[0;32m   1188\u001b[0m \u001b[39mif\u001b[39;00m \u001b[39mnot\u001b[39;00m (\u001b[39mself\u001b[39m\u001b[39m.\u001b[39m_backward_hooks \u001b[39mor\u001b[39;00m \u001b[39mself\u001b[39m\u001b[39m.\u001b[39m_forward_hooks \u001b[39mor\u001b[39;00m \u001b[39mself\u001b[39m\u001b[39m.\u001b[39m_forward_pre_hooks \u001b[39mor\u001b[39;00m _global_backward_hooks\n\u001b[0;32m   1189\u001b[0m         \u001b[39mor\u001b[39;00m _global_forward_hooks \u001b[39mor\u001b[39;00m _global_forward_pre_hooks):\n\u001b[1;32m-> 1190\u001b[0m     \u001b[39mreturn\u001b[39;00m forward_call(\u001b[39m*\u001b[39m\u001b[39minput\u001b[39m, \u001b[39m*\u001b[39m\u001b[39m*\u001b[39mkwargs)\n\u001b[0;32m   1191\u001b[0m \u001b[39m# Do not call functions when jit is used\u001b[39;00m\n\u001b[0;32m   1192\u001b[0m full_backward_hooks, non_full_backward_hooks \u001b[39m=\u001b[39m [], []\n",
      "File \u001b[1;32mc:\\GitHub\\Smart-Education\\EngaementModel\\model.py:63\u001b[0m, in \u001b[0;36mMLP.forward\u001b[1;34m(self, x)\u001b[0m\n\u001b[0;32m     61\u001b[0m \u001b[39mdef\u001b[39;00m \u001b[39mforward\u001b[39m(\u001b[39mself\u001b[39m, x):\n\u001b[0;32m     62\u001b[0m     \u001b[39mif\u001b[39;00m \u001b[39mself\u001b[39m\u001b[39m.\u001b[39mattach_softmax:\n\u001b[1;32m---> 63\u001b[0m         \u001b[39mreturn\u001b[39;00m \u001b[39mself\u001b[39m\u001b[39m.\u001b[39msoftmax(\u001b[39mself\u001b[39;49m\u001b[39m.\u001b[39;49mestimator(x))\n\u001b[0;32m     64\u001b[0m     \u001b[39melse\u001b[39;00m:\n\u001b[0;32m     65\u001b[0m         \u001b[39mreturn\u001b[39;00m \u001b[39mself\u001b[39m\u001b[39m.\u001b[39mestimator(x)\n",
      "File \u001b[1;32mc:\\Users\\Ranjani\\miniconda3\\lib\\site-packages\\torch\\nn\\modules\\module.py:1190\u001b[0m, in \u001b[0;36mModule._call_impl\u001b[1;34m(self, *input, **kwargs)\u001b[0m\n\u001b[0;32m   1186\u001b[0m \u001b[39m# If we don't have any hooks, we want to skip the rest of the logic in\u001b[39;00m\n\u001b[0;32m   1187\u001b[0m \u001b[39m# this function, and just call forward.\u001b[39;00m\n\u001b[0;32m   1188\u001b[0m \u001b[39mif\u001b[39;00m \u001b[39mnot\u001b[39;00m (\u001b[39mself\u001b[39m\u001b[39m.\u001b[39m_backward_hooks \u001b[39mor\u001b[39;00m \u001b[39mself\u001b[39m\u001b[39m.\u001b[39m_forward_hooks \u001b[39mor\u001b[39;00m \u001b[39mself\u001b[39m\u001b[39m.\u001b[39m_forward_pre_hooks \u001b[39mor\u001b[39;00m _global_backward_hooks\n\u001b[0;32m   1189\u001b[0m         \u001b[39mor\u001b[39;00m _global_forward_hooks \u001b[39mor\u001b[39;00m _global_forward_pre_hooks):\n\u001b[1;32m-> 1190\u001b[0m     \u001b[39mreturn\u001b[39;00m forward_call(\u001b[39m*\u001b[39m\u001b[39minput\u001b[39m, \u001b[39m*\u001b[39m\u001b[39m*\u001b[39mkwargs)\n\u001b[0;32m   1191\u001b[0m \u001b[39m# Do not call functions when jit is used\u001b[39;00m\n\u001b[0;32m   1192\u001b[0m full_backward_hooks, non_full_backward_hooks \u001b[39m=\u001b[39m [], []\n",
      "File \u001b[1;32mc:\\Users\\Ranjani\\miniconda3\\lib\\site-packages\\torch\\nn\\modules\\container.py:204\u001b[0m, in \u001b[0;36mSequential.forward\u001b[1;34m(self, input)\u001b[0m\n\u001b[0;32m    202\u001b[0m \u001b[39mdef\u001b[39;00m \u001b[39mforward\u001b[39m(\u001b[39mself\u001b[39m, \u001b[39minput\u001b[39m):\n\u001b[0;32m    203\u001b[0m     \u001b[39mfor\u001b[39;00m module \u001b[39min\u001b[39;00m \u001b[39mself\u001b[39m:\n\u001b[1;32m--> 204\u001b[0m         \u001b[39minput\u001b[39m \u001b[39m=\u001b[39m module(\u001b[39minput\u001b[39;49m)\n\u001b[0;32m    205\u001b[0m     \u001b[39mreturn\u001b[39;00m \u001b[39minput\u001b[39m\n",
      "File \u001b[1;32mc:\\Users\\Ranjani\\miniconda3\\lib\\site-packages\\torch\\nn\\modules\\module.py:1190\u001b[0m, in \u001b[0;36mModule._call_impl\u001b[1;34m(self, *input, **kwargs)\u001b[0m\n\u001b[0;32m   1186\u001b[0m \u001b[39m# If we don't have any hooks, we want to skip the rest of the logic in\u001b[39;00m\n\u001b[0;32m   1187\u001b[0m \u001b[39m# this function, and just call forward.\u001b[39;00m\n\u001b[0;32m   1188\u001b[0m \u001b[39mif\u001b[39;00m \u001b[39mnot\u001b[39;00m (\u001b[39mself\u001b[39m\u001b[39m.\u001b[39m_backward_hooks \u001b[39mor\u001b[39;00m \u001b[39mself\u001b[39m\u001b[39m.\u001b[39m_forward_hooks \u001b[39mor\u001b[39;00m \u001b[39mself\u001b[39m\u001b[39m.\u001b[39m_forward_pre_hooks \u001b[39mor\u001b[39;00m _global_backward_hooks\n\u001b[0;32m   1189\u001b[0m         \u001b[39mor\u001b[39;00m _global_forward_hooks \u001b[39mor\u001b[39;00m _global_forward_pre_hooks):\n\u001b[1;32m-> 1190\u001b[0m     \u001b[39mreturn\u001b[39;00m forward_call(\u001b[39m*\u001b[39m\u001b[39minput\u001b[39m, \u001b[39m*\u001b[39m\u001b[39m*\u001b[39mkwargs)\n\u001b[0;32m   1191\u001b[0m \u001b[39m# Do not call functions when jit is used\u001b[39;00m\n\u001b[0;32m   1192\u001b[0m full_backward_hooks, non_full_backward_hooks \u001b[39m=\u001b[39m [], []\n",
      "File \u001b[1;32mc:\\Users\\Ranjani\\miniconda3\\lib\\site-packages\\torch\\nn\\modules\\linear.py:114\u001b[0m, in \u001b[0;36mLinear.forward\u001b[1;34m(self, input)\u001b[0m\n\u001b[0;32m    113\u001b[0m \u001b[39mdef\u001b[39;00m \u001b[39mforward\u001b[39m(\u001b[39mself\u001b[39m, \u001b[39minput\u001b[39m: Tensor) \u001b[39m-\u001b[39m\u001b[39m>\u001b[39m Tensor:\n\u001b[1;32m--> 114\u001b[0m     \u001b[39mreturn\u001b[39;00m F\u001b[39m.\u001b[39;49mlinear(\u001b[39minput\u001b[39;49m, \u001b[39mself\u001b[39;49m\u001b[39m.\u001b[39;49mweight, \u001b[39mself\u001b[39;49m\u001b[39m.\u001b[39;49mbias)\n",
      "\u001b[1;31mRuntimeError\u001b[0m: CUDA error: CUBLAS_STATUS_EXECUTION_FAILED when calling `cublasSgemm( handle, opa, opb, m, n, k, &alpha, a, lda, b, ldb, &beta, c, ldc)`"
     ]
    }
   ],
   "source": [
    "path=r'C:\\GitHub\\Smart-Education-data\\data\\DAiSEE\\Sorted\\Saved_models'\n",
    "torch.manual_seed(0)\n",
    "for i in range(50):\n",
    "    model.train(trainloader, epochs=100, attach_label_onehot=False, attach_label_binarize=True)\n",
    "    pred=model.test(trainloader, attach_label_onehot=False, attach_label_binarize=True)\n",
    "    labels=[]\n",
    "    for _, y in trainloader:\n",
    "        labels+=y.detach().cpu()\n",
    "    from sklearn.metrics import accuracy_score\n",
    "    acc=accuracy_score(labels>=2.0, pred.detach().cpu().numpy()>=0.5)\n",
    "    print(i, acc, sep='\\t')\n",
    "    if acc>0.8:\n",
    "        torch.save(model, ospj(path, f'MLP_clf_CE_ep{(i+1)*100}'))"
   ]
  },
  {
   "attachments": {},
   "cell_type": "markdown",
   "metadata": {},
   "source": [
    "clf - BCE model (trained with 4-level)"
   ]
  },
  {
   "cell_type": "code",
   "execution_count": null,
   "metadata": {},
   "outputs": [],
   "source": [
    "torch.manual_seed(0)\n",
    "D_in=len(OpenFace_DataLoader.columns)-len([\n",
    "    'frame', 'face_id', 'timestamp', \n",
    "    'confidence', 'success', 'Boredom', \n",
    "    'Engagement', 'Confusion', 'Frustration'])\n",
    "print(D_in)\n",
    "model=MLP([D_in, 256, 64, 16, 4], \n",
    "            n_classes=4,\n",
    "            loss_function='BCELoss', loss_function_params=dict(),\n",
    "            optimizer='Adam', optimizer_params=dict(lr=1e-3, weight_decay=1e-4),\n",
    "            af='ReLU', af_params=dict(),\n",
    "            af_fin='Sigmoid', af_fin_params=dict(),\n",
    "            attach_softmax=True)"
   ]
  },
  {
   "cell_type": "code",
   "execution_count": null,
   "metadata": {},
   "outputs": [],
   "source": [
    "path=r'C:\\GitHub\\Smart-Education-data\\data\\DAiSEE\\Sorted\\Saved_models'\n",
    "torch.manual_seed(0)\n",
    "for i in range(50):\n",
    "    model.train(trainloader, epochs=100, attach_label_onehot=True, attach_label_binarize=False)\n",
    "    pred=model.test(trainloader, attach_label_onehot=True, attach_label_binarize=False)\n",
    "    labels=[]\n",
    "    for _, y in trainloader:\n",
    "        labels+=y.detach().cpu()\n",
    "    from sklearn.metrics import accuracy_score\n",
    "    acc=accuracy_score(labels, pred.detach().cpu().argmax(dim=1).numpy())\n",
    "    acc_b=accuracy_score(labels>=2.0, pred.detach().cpu().argmax(dim=1).numpy()>=2.0)\n",
    "    print(i, acc, acc_b, sep='\\t')\n",
    "    # [[0, 1, 2],\n",
    "    #  [1, 2, 3]]\n",
    "    # argmax(dim=0) -> [1, 1, 1]\n",
    "    # argmax(dim=1) -> [2, 2]\n",
    "    if acc>0.8 or acc_b>0.8:\n",
    "        torch.save(model, ospj(path, f'MLP_clf_BCE_ep{(i+1)*100}'))"
   ]
  },
  {
   "cell_type": "code",
   "execution_count": null,
   "metadata": {},
   "outputs": [
    {
     "ename": "NotImplementedError",
     "evalue": "",
     "output_type": "error",
     "traceback": [
      "\u001b[1;31m---------------------------------------------------------------------------\u001b[0m",
      "\u001b[1;31mNotImplementedError\u001b[0m                       Traceback (most recent call last)",
      "\u001b[1;32m~\\AppData\\Local\\Temp/ipykernel_4316/2504607172.py\u001b[0m in \u001b[0;36m<module>\u001b[1;34m\u001b[0m\n\u001b[1;32m----> 1\u001b[1;33m \u001b[1;32mraise\u001b[0m \u001b[0mNotImplementedError\u001b[0m\u001b[1;33m\u001b[0m\u001b[1;33m\u001b[0m\u001b[0m\n\u001b[0m",
      "\u001b[1;31mNotImplementedError\u001b[0m: "
     ]
    }
   ],
   "source": [
    "# raise NotImplementedError"
   ]
  },
  {
   "attachments": {},
   "cell_type": "markdown",
   "metadata": {},
   "source": [
    "regressor approach"
   ]
  },
  {
   "cell_type": "code",
   "execution_count": null,
   "metadata": {},
   "outputs": [],
   "source": [
    "# import pandas as pd\n",
    "# import numpy as np\n",
    "# from dataloader import Path_labels, OpenFace_DataLoader\n",
    "# from model import MLPRegressor"
   ]
  },
  {
   "cell_type": "code",
   "execution_count": null,
   "metadata": {},
   "outputs": [],
   "source": [
    "# train_path_labels=Path_labels(pd.read_csv(r\"C:\\GitHub\\Smart-Education-data\\data\\DAiSEE\\Sorted\\sorted_labels.csv\", index_col=0))"
   ]
  },
  {
   "cell_type": "code",
   "execution_count": null,
   "metadata": {},
   "outputs": [],
   "source": [
    "# trainloader=OpenFace_DataLoader(n=10,\n",
    "#                                 path_labels=train_path_labels,\n",
    "#                                 batch_size=500,\n",
    "#                                 feature_set=None,\n",
    "#                                 y_col=['Engagement'],\n",
    "#                                 seed=0)"
   ]
  },
  {
   "cell_type": "markdown",
   "metadata": {},
   "source": [
    "model test..."
   ]
  },
  {
   "cell_type": "code",
   "execution_count": null,
   "metadata": {},
   "outputs": [],
   "source": [
    "trainloader.to('cuda')"
   ]
  },
  {
   "cell_type": "markdown",
   "metadata": {},
   "source": [
    "classifier approach"
   ]
  },
  {
   "cell_type": "code",
   "execution_count": null,
   "metadata": {},
   "outputs": [],
   "source": [
    "# del MLP\n",
    "from model import MLPRegressor\n",
    "import torch\n",
    "from os.path import join as ospj"
   ]
  },
  {
   "cell_type": "code",
   "execution_count": null,
   "metadata": {},
   "outputs": [
    {
     "name": "stdout",
     "output_type": "stream",
     "text": [
      "709\n"
     ]
    }
   ],
   "source": [
    "torch.manual_seed(0)\n",
    "D_in=len(OpenFace_DataLoader.columns)-len([\n",
    "    'frame', 'face_id', 'timestamp', \n",
    "    'confidence', 'success', 'Boredom', \n",
    "    'Engagement', 'Confusion', 'Frustration'])\n",
    "print(D_in)\n",
    "model=MLPRegressor([D_in, 256, 64, 16, 4, 1], \n",
    "            n_classes=1,\n",
    "            loss_function='MSELoss', loss_function_params=dict(),\n",
    "            optimizer='Adam', optimizer_params=dict(lr=1e-3, weight_decay=1e-4),\n",
    "            af='ReLU', af_params=dict(),\n",
    "            af_fin='Tanh', af_fin_params=dict())"
   ]
  },
  {
   "cell_type": "code",
   "execution_count": null,
   "metadata": {},
   "outputs": [
    {
     "name": "stdout",
     "output_type": "stream",
     "text": [
      "0\t0.9319773805180591\n",
      "1\t0.9062568405691354\n",
      "2\t0.9105435972272893\n",
      "3\t0.8992520977745349\n",
      "4\t0.9060744253921926\n",
      "5\t0.9023713973002554\n",
      "6\t0.9089930682232762\n",
      "7\t0.9161255016417366\n",
      "8\t0.896515870120394\n",
      "9\t0.8964429040496169\n",
      "10\t0.8710142283838015\n",
      "11\t0.8800072966070777\n",
      "12\t0.9026632615833637\n",
      "13\t0.876541408245166\n",
      "14\t0.8856439255746078\n",
      "15\t0.898321780372127\n",
      "16\t0.8761583363735863\n",
      "17\t0.8828712148850785\n",
      "18\t0.8798431229478293\n",
      "19\t0.8660525355709595\n",
      "20\t0.8739511127325793\n",
      "21\t0.8721087194454579\n"
     ]
    }
   ],
   "source": [
    "path=r'C:\\GitHub\\Smart-Education-data\\data\\DAiSEE\\Sorted\\Saved_models'\n",
    "torch.manual_seed(0)\n",
    "for i in range(50):\n",
    "    model.train(trainloader, epochs=100)\n",
    "    pred=model.test(trainloader)\n",
    "    labels=[]\n",
    "    for _, y in trainloader:\n",
    "        labels+=y.detach().cpu()\n",
    "    from sklearn.metrics import accuracy_score\n",
    "    acc=accuracy_score(np.array(labels)>=2.0, pred.detach().cpu().numpy()>=2.0)\n",
    "    print(i, acc, sep='\\t')\n",
    "    if acc>0.8:\n",
    "        if True:\n",
    "            torch.save(model, ospj(path, f'MLP_reg_ep{(i+1)*100}'))"
   ]
  },
  {
   "cell_type": "code",
   "execution_count": null,
   "metadata": {},
   "outputs": [
    {
     "ename": "NotImplementedError",
     "evalue": "",
     "output_type": "error",
     "traceback": [
      "\u001b[1;31m---------------------------------------------------------------------------\u001b[0m",
      "\u001b[1;31mNotImplementedError\u001b[0m                       Traceback (most recent call last)",
      "\u001b[1;32m~\\AppData\\Local\\Temp/ipykernel_6432/2504607172.py\u001b[0m in \u001b[0;36m<module>\u001b[1;34m\u001b[0m\n\u001b[1;32m----> 1\u001b[1;33m \u001b[1;32mraise\u001b[0m \u001b[0mNotImplementedError\u001b[0m\u001b[1;33m\u001b[0m\u001b[1;33m\u001b[0m\u001b[0m\n\u001b[0m",
      "\u001b[1;31mNotImplementedError\u001b[0m: "
     ]
    }
   ],
   "source": [
    "raise NotImplementedError"
   ]
  },
  {
   "attachments": {},
   "cell_type": "markdown",
   "metadata": {},
   "source": [
    "Regressor approach"
   ]
  },
  {
   "cell_type": "code",
   "execution_count": null,
   "metadata": {},
   "outputs": [
    {
     "name": "stderr",
     "output_type": "stream",
     "text": [
      "C:\\Users\\tpxdk\\AppData\\Roaming\\Python\\Python38\\site-packages\\xgboost\\data.py:119: UserWarning: Use subset (sliced data) of np.ndarray is not recommended because it will generate extra copies and increase memory consumption\n",
      "  warnings.warn(\n"
     ]
    }
   ],
   "source": [
    "from xgboost import XGBRegressor\n",
    "model=XGBRegressor(verbosity=0)\n",
    "trainloader.to('cpu')\n",
    "for x, y in trainloader:\n",
    "    X=x.numpy()\n",
    "    Y=y.float().numpy()[:, 1]\n",
    "    model.fit(X, Y)"
   ]
  },
  {
   "cell_type": "code",
   "execution_count": null,
   "metadata": {},
   "outputs": [],
   "source": [
    "import matplotlib.pyplot as plt"
   ]
  },
  {
   "cell_type": "code",
   "execution_count": null,
   "metadata": {},
   "outputs": [
    {
     "data": {
      "text/plain": [
       "0.5976727272727272"
      ]
     },
     "execution_count": 82,
     "metadata": {},
     "output_type": "execute_result"
    },
    {
     "data": {
      "image/png": "[encoded data removed]",
      "text/plain": [
       "<Figure size 432x288 with 1 Axes>"
      ]
     },
     "metadata": {
      "needs_background": "light"
     },
     "output_type": "display_data"
    }
   ],
   "source": [
    "eval=[]\n",
    "for x, y in trainloader:\n",
    "    X=x.numpy()\n",
    "    Y=y.float().numpy()[:, 1]\n",
    "    pred=model.predict(X)\n",
    "    eval.append(np.sum((Y-pred)<0.5)/len(Y))\n",
    "\n",
    "plt.plot(np.vstack(eval).ravel())\n",
    "np.mean(np.vstack(eval).ravel())"
   ]
  },
  {
   "attachments": {},
   "cell_type": "markdown",
   "metadata": {},
   "source": [
    "classifier approach"
   ]
  },
  {
   "cell_type": "code",
   "execution_count": null,
   "metadata": {},
   "outputs": [],
   "source": [
    "from torch.nn.functional import one_hot"
   ]
  },
  {
   "cell_type": "code",
   "execution_count": null,
   "metadata": {},
   "outputs": [],
   "source": [
    "from xgboost import XGBClassifier"
   ]
  },
  {
   "cell_type": "code",
   "execution_count": null,
   "metadata": {},
   "outputs": [
    {
     "name": "stderr",
     "output_type": "stream",
     "text": [
      "C:\\Users\\tpxdk\\AppData\\Roaming\\Python\\Python38\\site-packages\\xgboost\\sklearn.py:1146: UserWarning: The use of label encoder in XGBClassifier is deprecated and will be removed in a future release. To remove this warning, do the following: 1) Pass option use_label_encoder=False when constructing XGBClassifier object; and 2) Encode your labels (y) as integers starting with 0, i.e. 0, 1, 2, ..., [num_class - 1].\n",
      "  warnings.warn(label_encoder_deprecation_msg, UserWarning)\n"
     ]
    }
   ],
   "source": [
    "trainloader.to('cpu')\n",
    "model=XGBClassifier(random_state=0)\n",
    "# models={\n",
    "#     '0':XGBClassifier(random_state=0),\n",
    "#     '1':XGBClassifier(random_state=0),\n",
    "#     '2':XGBClassifier(random_state=0),\n",
    "#     '3':XGBClassifier(random_state=0)\n",
    "# }\n",
    "for x, y in trainloader:\n",
    "    X=x.numpy()\n",
    "    Y=one_hot(y).numpy()[:, 1]\n",
    "    model.fit(X, Y[:, 1])\n",
    "    # models['0'].fit(X, Y[:, 0])\n",
    "    # models['1'].fit(X, Y[:, 1])\n",
    "    # models['2'].fit(X, Y[:, 2])\n",
    "    # models['3'].fit(X, Y[:, 3])"
   ]
  },
  {
   "cell_type": "code",
   "execution_count": null,
   "metadata": {},
   "outputs": [
    {
     "data": {
      "text/plain": [
       "array([[1.   , 1.   , 0.142, 0.138],\n",
       "       [1.   , 1.   , 0.152, 0.118],\n",
       "       [1.   , 0.94 , 0.492, 0.384],\n",
       "       [1.   , 0.92 , 0.518, 0.628],\n",
       "       [1.   , 0.94 , 0.644, 0.694],\n",
       "       [1.   , 0.98 , 0.668, 0.754],\n",
       "       [1.   , 0.94 , 0.508, 0.576],\n",
       "       [1.   , 1.   , 0.658, 0.72 ],\n",
       "       [1.   , 1.   , 0.524, 0.62 ],\n",
       "       [1.   , 1.   , 0.63 , 0.74 ],\n",
       "       [1.   , 0.96 , 0.516, 0.57 ],\n",
       "       [1.   , 1.   , 0.414, 0.4  ],\n",
       "       [1.   , 1.   , 0.484, 0.496],\n",
       "       [0.98 , 0.96 , 0.41 , 0.47 ],\n",
       "       [1.   , 0.98 , 0.77 , 0.8  ],\n",
       "       [1.   , 0.96 , 0.432, 0.626],\n",
       "       [0.98 , 0.9  , 0.432, 0.644],\n",
       "       [0.96 , 0.94 , 0.448, 0.458],\n",
       "       [1.   , 0.9  , 0.454, 0.39 ],\n",
       "       [0.96 , 0.88 , 0.414, 0.484],\n",
       "       [0.96 , 0.9  , 0.56 , 0.692],\n",
       "       [0.98 , 1.   , 0.48 , 0.46 ],\n",
       "       [1.   , 0.96 , 0.678, 0.626],\n",
       "       [1.   , 1.   , 0.48 , 0.48 ],\n",
       "       [1.   , 0.94 , 0.486, 0.52 ],\n",
       "       [1.   , 0.98 , 0.538, 0.574],\n",
       "       [1.   , 0.96 , 0.596, 0.664],\n",
       "       [1.   , 1.   , 0.578, 0.574],\n",
       "       [1.   , 1.   , 0.624, 0.592],\n",
       "       [1.   , 0.94 , 0.54 , 0.48 ],\n",
       "       [0.98 , 0.98 , 0.48 , 0.436],\n",
       "       [1.   , 1.   , 0.6  , 0.6  ],\n",
       "       [1.   , 0.978, 0.45 , 0.46 ],\n",
       "       [1.   , 0.922, 0.488, 0.574],\n",
       "       [1.   , 0.948, 0.45 , 0.552],\n",
       "       [1.   , 0.944, 0.378, 0.388],\n",
       "       [1.   , 0.98 , 0.408, 0.42 ],\n",
       "       [0.98 , 0.98 , 0.512, 0.538],\n",
       "       [0.98 , 0.92 , 0.412, 0.296],\n",
       "       [1.   , 1.   , 0.38 , 0.38 ],\n",
       "       [1.   , 0.96 , 0.42 , 0.38 ],\n",
       "       [1.   , 0.96 , 0.398, 0.438],\n",
       "       [1.   , 0.86 , 0.524, 0.74 ],\n",
       "       [1.   , 0.96 , 0.548, 0.66 ],\n",
       "       [1.   , 0.94 , 0.518, 0.6  ],\n",
       "       [1.   , 1.   , 0.674, 0.674],\n",
       "       [0.86 , 0.96 , 0.44 , 0.614],\n",
       "       [1.   , 0.98 , 0.43 , 0.282],\n",
       "       [1.   , 1.   , 0.568, 0.52 ],\n",
       "       [1.   , 0.96 , 0.54 , 0.542],\n",
       "       [0.98 , 1.   , 0.548, 0.658],\n",
       "       [1.   , 0.98 , 0.518, 0.454],\n",
       "       [1.   , 0.98 , 0.524, 0.516],\n",
       "       [1.   , 1.   , 0.62 , 0.546],\n",
       "       [1.   , 0.94 , 0.334, 0.268],\n",
       "       [1.   , 0.98 , 0.744, 0.738],\n",
       "       [1.   , 0.98 , 0.402, 0.418],\n",
       "       [1.   , 1.   , 0.514, 0.4  ],\n",
       "       [1.   , 1.   , 0.808, 0.664],\n",
       "       [1.   , 0.98 , 0.658, 0.57 ],\n",
       "       [1.   , 0.98 , 0.248, 0.252],\n",
       "       [0.98 , 0.92 , 0.508, 0.488],\n",
       "       [1.   , 0.98 , 0.536, 0.542],\n",
       "       [1.   , 0.98 , 0.382, 0.378],\n",
       "       [1.   , 1.   , 0.554, 0.558],\n",
       "       [1.   , 0.92 , 0.586, 0.502],\n",
       "       [1.   , 0.92 , 0.464, 0.334],\n",
       "       [1.   , 0.9  , 0.682, 0.622],\n",
       "       [1.   , 0.98 , 0.454, 0.404],\n",
       "       [1.   , 0.96 , 0.666, 0.74 ],\n",
       "       [1.   , 0.98 , 0.512, 0.542],\n",
       "       [1.   , 0.978, 0.708, 0.692],\n",
       "       [1.   , 0.962, 0.78 , 0.784],\n",
       "       [1.   , 1.   , 0.554, 0.556],\n",
       "       [1.   , 0.98 , 0.292, 0.322],\n",
       "       [1.   , 0.98 , 0.32 , 0.3  ],\n",
       "       [0.96 , 0.88 , 0.646, 0.606],\n",
       "       [1.   , 0.9  , 0.52 , 0.552],\n",
       "       [1.   , 0.88 , 0.61 , 0.722],\n",
       "       [1.   , 0.9  , 0.676, 0.77 ],\n",
       "       [1.   , 1.   , 0.444, 0.458],\n",
       "       [1.   , 0.92 , 0.616, 0.602],\n",
       "       [1.   , 1.   , 0.59 , 0.554],\n",
       "       [1.   , 0.98 , 0.578, 0.516],\n",
       "       [1.   , 0.98 , 0.61 , 0.74 ],\n",
       "       [1.   , 0.98 , 0.56 , 0.658],\n",
       "       [0.96 , 0.9  , 0.422, 0.49 ],\n",
       "       [0.92 , 0.94 , 0.484, 0.556],\n",
       "       [1.   , 0.94 , 0.55 , 0.564],\n",
       "       [1.   , 0.98 , 0.512, 0.54 ],\n",
       "       [1.   , 0.98 , 0.564, 0.446],\n",
       "       [1.   , 1.   , 0.694, 0.52 ],\n",
       "       [1.   , 0.94 , 0.472, 0.494],\n",
       "       [1.   , 1.   , 0.378, 0.32 ],\n",
       "       [1.   , 1.   , 0.728, 0.734],\n",
       "       [0.98 , 0.98 , 0.77 , 0.76 ],\n",
       "       [1.   , 0.94 , 0.562, 0.596],\n",
       "       [1.   , 1.   , 0.6  , 0.66 ],\n",
       "       [1.   , 0.98 , 0.608, 0.67 ],\n",
       "       [1.   , 0.98 , 0.624, 0.622],\n",
       "       [0.94 , 0.72 , 0.534, 0.226],\n",
       "       [0.98 , 0.9  , 0.34 , 0.22 ],\n",
       "       [1.   , 0.86 , 0.414, 0.348],\n",
       "       [1.   , 0.9  , 0.39 , 0.258],\n",
       "       [1.   , 0.9  , 0.274, 0.272],\n",
       "       [1.   , 0.98 , 0.368, 0.332],\n",
       "       [1.   , 0.96 , 0.286, 0.24 ],\n",
       "       [1.   , 1.   , 0.65 , 0.62 ],\n",
       "       [1.   , 1.   , 0.7  , 0.702],\n",
       "       [1.   , 1.   , 1.   , 1.   ]])"
      ]
     },
     "execution_count": 92,
     "metadata": {},
     "output_type": "execute_result"
    }
   ],
   "source": [
    "from sklearn.metrics import accuracy_score\n",
    "\n",
    "list_acc=[]\n",
    "for x, y in trainloader:\n",
    "    X=x.numpy()\n",
    "    Y=one_hot(y).numpy()[:, 1]\n",
    "    pred=[]\n",
    "    pred.append(models['0'].predict(X))\n",
    "    pred.append(models['1'].predict(X))\n",
    "    pred.append(models['2'].predict(X))\n",
    "    pred.append(models['3'].predict(X))\n",
    "    acc=[]\n",
    "    for i, p in enumerate(pred):\n",
    "        acc.append(accuracy_score(Y[:, i], p))\n",
    "    list_acc.append(acc)\n",
    "np.vstack(list_acc)"
   ]
  }
 ],
 "metadata": {
  "kernelspec": {
   "display_name": "base",
   "language": "python",
   "name": "python3"
  },
  "language_info": {
   "codemirror_mode": {
    "name": "ipython",
    "version": 3
   },
   "file_extension": ".py",
   "mimetype": "text/x-python",
   "name": "python",
   "nbconvert_exporter": "python",
   "pygments_lexer": "ipython3",
   "version": "3.8.16"
  },
  "orig_nbformat": 4,
  "vscode": {
   "interpreter": {
    "hash": "c40fc240bea52273cd1a1858a71b7744abb2d3b41121723fab477901189220d4"
   }
  }
 },
 "nbformat": 4,
 "nbformat_minor": 2
}
