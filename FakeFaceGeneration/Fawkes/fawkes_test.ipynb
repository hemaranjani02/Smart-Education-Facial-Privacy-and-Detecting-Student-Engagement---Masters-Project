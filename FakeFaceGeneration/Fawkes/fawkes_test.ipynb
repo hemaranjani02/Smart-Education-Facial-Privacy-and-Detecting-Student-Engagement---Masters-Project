{
 "cells": [
  {
   "cell_type": "code",
   "execution_count": 1,
   "metadata": {},
   "outputs": [
    {
     "name": "stdout",
     "output_type": "stream",
     "text": [
      "Requirement already satisfied: fawkes in c:\\users\\ranjani\\miniconda3\\lib\\site-packages (1.0.3)\n",
      "Requirement already satisfied: keras>=2.3.1 in c:\\users\\ranjani\\miniconda3\\lib\\site-packages (from fawkes) (2.11.0)\n",
      "Requirement already satisfied: tensorflow>=2.0.0 in c:\\users\\ranjani\\miniconda3\\lib\\site-packages (from fawkes) (2.11.0)\n",
      "Requirement already satisfied: numpy>=1.19.5 in c:\\users\\ranjani\\miniconda3\\lib\\site-packages (from fawkes) (1.23.4)\n",
      "Requirement already satisfied: bleach>=2.1.0 in c:\\users\\ranjani\\miniconda3\\lib\\site-packages (from fawkes) (5.0.1)\n",
      "Requirement already satisfied: mtcnn in c:\\users\\ranjani\\miniconda3\\lib\\site-packages (from fawkes) (0.1.1)\n",
      "Requirement already satisfied: pillow>=7.0.0 in c:\\users\\ranjani\\miniconda3\\lib\\site-packages (from fawkes) (9.3.0)\n",
      "Requirement already satisfied: six>=1.9.0 in c:\\users\\ranjani\\miniconda3\\lib\\site-packages (from bleach>=2.1.0->fawkes) (1.16.0)\n",
      "Requirement already satisfied: webencodings in c:\\users\\ranjani\\miniconda3\\lib\\site-packages (from bleach>=2.1.0->fawkes) (0.5.1)\n",
      "Requirement already satisfied: tensorflow-intel==2.11.0 in c:\\users\\ranjani\\miniconda3\\lib\\site-packages (from tensorflow>=2.0.0->fawkes) (2.11.0)\n",
      "Requirement already satisfied: libclang>=13.0.0 in c:\\users\\ranjani\\miniconda3\\lib\\site-packages (from tensorflow-intel==2.11.0->tensorflow>=2.0.0->fawkes) (14.0.6)\n",
      "Requirement already satisfied: absl-py>=1.0.0 in c:\\users\\ranjani\\miniconda3\\lib\\site-packages (from tensorflow-intel==2.11.0->tensorflow>=2.0.0->fawkes) (1.3.0)\n",
      "Requirement already satisfied: packaging in c:\\users\\ranjani\\miniconda3\\lib\\site-packages (from tensorflow-intel==2.11.0->tensorflow>=2.0.0->fawkes) (21.3)\n",
      "Requirement already satisfied: tensorboard<2.12,>=2.11 in c:\\users\\ranjani\\miniconda3\\lib\\site-packages (from tensorflow-intel==2.11.0->tensorflow>=2.0.0->fawkes) (2.11.0)\n",
      "Requirement already satisfied: wrapt>=1.11.0 in c:\\users\\ranjani\\miniconda3\\lib\\site-packages (from tensorflow-intel==2.11.0->tensorflow>=2.0.0->fawkes) (1.14.1)\n",
      "Requirement already satisfied: gast<=0.4.0,>=0.2.1 in c:\\users\\ranjani\\miniconda3\\lib\\site-packages (from tensorflow-intel==2.11.0->tensorflow>=2.0.0->fawkes) (0.4.0)\n",
      "Requirement already satisfied: opt-einsum>=2.3.2 in c:\\users\\ranjani\\miniconda3\\lib\\site-packages (from tensorflow-intel==2.11.0->tensorflow>=2.0.0->fawkes) (3.3.0)\n",
      "Requirement already satisfied: setuptools in c:\\users\\ranjani\\miniconda3\\lib\\site-packages (from tensorflow-intel==2.11.0->tensorflow>=2.0.0->fawkes) (65.5.0)\n",
      "Requirement already satisfied: termcolor>=1.1.0 in c:\\users\\ranjani\\miniconda3\\lib\\site-packages (from tensorflow-intel==2.11.0->tensorflow>=2.0.0->fawkes) (2.1.0)\n",
      "Requirement already satisfied: google-pasta>=0.1.1 in c:\\users\\ranjani\\miniconda3\\lib\\site-packages (from tensorflow-intel==2.11.0->tensorflow>=2.0.0->fawkes) (0.2.0)\n",
      "Requirement already satisfied: flatbuffers>=2.0 in c:\\users\\ranjani\\miniconda3\\lib\\site-packages (from tensorflow-intel==2.11.0->tensorflow>=2.0.0->fawkes) (22.10.26)\n",
      "Requirement already satisfied: tensorflow-estimator<2.12,>=2.11.0 in c:\\users\\ranjani\\miniconda3\\lib\\site-packages (from tensorflow-intel==2.11.0->tensorflow>=2.0.0->fawkes) (2.11.0)\n",
      "Requirement already satisfied: tensorflow-io-gcs-filesystem>=0.23.1 in c:\\users\\ranjani\\miniconda3\\lib\\site-packages (from tensorflow-intel==2.11.0->tensorflow>=2.0.0->fawkes) (0.27.0)\n",
      "Requirement already satisfied: protobuf<3.20,>=3.9.2 in c:\\users\\ranjani\\miniconda3\\lib\\site-packages (from tensorflow-intel==2.11.0->tensorflow>=2.0.0->fawkes) (3.19.6)\n",
      "Requirement already satisfied: grpcio<2.0,>=1.24.3 in c:\\users\\ranjani\\miniconda3\\lib\\site-packages (from tensorflow-intel==2.11.0->tensorflow>=2.0.0->fawkes) (1.50.0)\n",
      "Requirement already satisfied: h5py>=2.9.0 in c:\\users\\ranjani\\miniconda3\\lib\\site-packages (from tensorflow-intel==2.11.0->tensorflow>=2.0.0->fawkes) (3.7.0)\n",
      "Requirement already satisfied: astunparse>=1.6.0 in c:\\users\\ranjani\\miniconda3\\lib\\site-packages (from tensorflow-intel==2.11.0->tensorflow>=2.0.0->fawkes) (1.6.3)\n",
      "Requirement already satisfied: typing-extensions>=3.6.6 in c:\\users\\ranjani\\miniconda3\\lib\\site-packages (from tensorflow-intel==2.11.0->tensorflow>=2.0.0->fawkes) (4.4.0)\n",
      "Requirement already satisfied: opencv-python>=4.1.0 in c:\\users\\ranjani\\miniconda3\\lib\\site-packages (from mtcnn->fawkes) (4.6.0.66)\n",
      "Requirement already satisfied: wheel<1.0,>=0.23.0 in c:\\users\\ranjani\\miniconda3\\lib\\site-packages (from astunparse>=1.6.0->tensorflow-intel==2.11.0->tensorflow>=2.0.0->fawkes) (0.37.1)\n",
      "Requirement already satisfied: google-auth-oauthlib<0.5,>=0.4.1 in c:\\users\\ranjani\\miniconda3\\lib\\site-packages (from tensorboard<2.12,>=2.11->tensorflow-intel==2.11.0->tensorflow>=2.0.0->fawkes) (0.4.6)\n",
      "Requirement already satisfied: tensorboard-plugin-wit>=1.6.0 in c:\\users\\ranjani\\miniconda3\\lib\\site-packages (from tensorboard<2.12,>=2.11->tensorflow-intel==2.11.0->tensorflow>=2.0.0->fawkes) (1.8.1)\n",
      "Requirement already satisfied: google-auth<3,>=1.6.3 in c:\\users\\ranjani\\miniconda3\\lib\\site-packages (from tensorboard<2.12,>=2.11->tensorflow-intel==2.11.0->tensorflow>=2.0.0->fawkes) (2.14.1)\n",
      "Requirement already satisfied: tensorboard-data-server<0.7.0,>=0.6.0 in c:\\users\\ranjani\\miniconda3\\lib\\site-packages (from tensorboard<2.12,>=2.11->tensorflow-intel==2.11.0->tensorflow>=2.0.0->fawkes) (0.6.1)\n",
      "Requirement already satisfied: markdown>=2.6.8 in c:\\users\\ranjani\\miniconda3\\lib\\site-packages (from tensorboard<2.12,>=2.11->tensorflow-intel==2.11.0->tensorflow>=2.0.0->fawkes) (3.4.1)\n",
      "Requirement already satisfied: requests<3,>=2.21.0 in c:\\users\\ranjani\\miniconda3\\lib\\site-packages (from tensorboard<2.12,>=2.11->tensorflow-intel==2.11.0->tensorflow>=2.0.0->fawkes) (2.28.1)\n",
      "Requirement already satisfied: werkzeug>=1.0.1 in c:\\users\\ranjani\\miniconda3\\lib\\site-packages (from tensorboard<2.12,>=2.11->tensorflow-intel==2.11.0->tensorflow>=2.0.0->fawkes) (2.2.2)\n",
      "Requirement already satisfied: pyparsing!=3.0.5,>=2.0.2 in c:\\users\\ranjani\\miniconda3\\lib\\site-packages (from packaging->tensorflow-intel==2.11.0->tensorflow>=2.0.0->fawkes) (3.0.9)\n",
      "Requirement already satisfied: cachetools<6.0,>=2.0.0 in c:\\users\\ranjani\\miniconda3\\lib\\site-packages (from google-auth<3,>=1.6.3->tensorboard<2.12,>=2.11->tensorflow-intel==2.11.0->tensorflow>=2.0.0->fawkes) (5.2.0)\n",
      "Requirement already satisfied: pyasn1-modules>=0.2.1 in c:\\users\\ranjani\\miniconda3\\lib\\site-packages (from google-auth<3,>=1.6.3->tensorboard<2.12,>=2.11->tensorflow-intel==2.11.0->tensorflow>=2.0.0->fawkes) (0.2.8)\n",
      "Requirement already satisfied: rsa<5,>=3.1.4 in c:\\users\\ranjani\\miniconda3\\lib\\site-packages (from google-auth<3,>=1.6.3->tensorboard<2.12,>=2.11->tensorflow-intel==2.11.0->tensorflow>=2.0.0->fawkes) (4.9)\n",
      "Requirement already satisfied: requests-oauthlib>=0.7.0 in c:\\users\\ranjani\\miniconda3\\lib\\site-packages (from google-auth-oauthlib<0.5,>=0.4.1->tensorboard<2.12,>=2.11->tensorflow-intel==2.11.0->tensorflow>=2.0.0->fawkes) (1.3.1)\n",
      "Requirement already satisfied: importlib-metadata>=4.4 in c:\\users\\ranjani\\miniconda3\\lib\\site-packages (from markdown>=2.6.8->tensorboard<2.12,>=2.11->tensorflow-intel==2.11.0->tensorflow>=2.0.0->fawkes) (5.0.0)\n",
      "Requirement already satisfied: idna<4,>=2.5 in c:\\users\\ranjani\\miniconda3\\lib\\site-packages (from requests<3,>=2.21.0->tensorboard<2.12,>=2.11->tensorflow-intel==2.11.0->tensorflow>=2.0.0->fawkes) (3.4)\n",
      "Requirement already satisfied: urllib3<1.27,>=1.21.1 in c:\\users\\ranjani\\miniconda3\\lib\\site-packages (from requests<3,>=2.21.0->tensorboard<2.12,>=2.11->tensorflow-intel==2.11.0->tensorflow>=2.0.0->fawkes) (1.26.12)\n",
      "Requirement already satisfied: certifi>=2017.4.17 in c:\\users\\ranjani\\miniconda3\\lib\\site-packages (from requests<3,>=2.21.0->tensorboard<2.12,>=2.11->tensorflow-intel==2.11.0->tensorflow>=2.0.0->fawkes) (2022.9.24)\n",
      "Requirement already satisfied: charset-normalizer<3,>=2 in c:\\users\\ranjani\\miniconda3\\lib\\site-packages (from requests<3,>=2.21.0->tensorboard<2.12,>=2.11->tensorflow-intel==2.11.0->tensorflow>=2.0.0->fawkes) (2.0.4)\n",
      "Requirement already satisfied: MarkupSafe>=2.1.1 in c:\\users\\ranjani\\miniconda3\\lib\\site-packages (from werkzeug>=1.0.1->tensorboard<2.12,>=2.11->tensorflow-intel==2.11.0->tensorflow>=2.0.0->fawkes) (2.1.1)\n",
      "Requirement already satisfied: zipp>=0.5 in c:\\users\\ranjani\\miniconda3\\lib\\site-packages (from importlib-metadata>=4.4->markdown>=2.6.8->tensorboard<2.12,>=2.11->tensorflow-intel==2.11.0->tensorflow>=2.0.0->fawkes) (3.10.0)\n",
      "Requirement already satisfied: pyasn1<0.5.0,>=0.4.6 in c:\\users\\ranjani\\miniconda3\\lib\\site-packages (from pyasn1-modules>=0.2.1->google-auth<3,>=1.6.3->tensorboard<2.12,>=2.11->tensorflow-intel==2.11.0->tensorflow>=2.0.0->fawkes) (0.4.8)\n",
      "Requirement already satisfied: oauthlib>=3.0.0 in c:\\users\\ranjani\\miniconda3\\lib\\site-packages (from requests-oauthlib>=0.7.0->google-auth-oauthlib<0.5,>=0.4.1->tensorboard<2.12,>=2.11->tensorflow-intel==2.11.0->tensorflow>=2.0.0->fawkes) (3.2.2)\n",
      "Note: you may need to restart the kernel to use updated packages.\n"
     ]
    }
   ],
   "source": [
    "%pip install fawkes"
   ]
  },
  {
   "cell_type": "code",
   "execution_count": null,
   "metadata": {},
   "outputs": [],
   "source": [
    "fawkes -d ./imgs --mode low\n",
    "python3 protection.py -d ./imgs --mode low"
   ]
  }
 ],
 "metadata": {
  "kernelspec": {
   "display_name": "base",
   "language": "python",
   "name": "python3"
  },
  "language_info": {
   "codemirror_mode": {
    "name": "ipython",
    "version": 3
   },
   "file_extension": ".py",
   "mimetype": "text/x-python",
   "name": "python",
   "nbconvert_exporter": "python",
   "pygments_lexer": "ipython3",
   "version": "3.9.12"
  },
  "orig_nbformat": 4,
  "vscode": {
   "interpreter": {
    "hash": "e627722d0d91bb7c18f82524675a9d23c045070d407cc9ef448429e6ca73a475"
   }
  }
 },
 "nbformat": 4,
 "nbformat_minor": 2
}
