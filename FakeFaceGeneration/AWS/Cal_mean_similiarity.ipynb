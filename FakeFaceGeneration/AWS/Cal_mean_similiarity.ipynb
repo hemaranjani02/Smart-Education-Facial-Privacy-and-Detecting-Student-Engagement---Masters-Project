{
 "cells": [
  {
   "cell_type": "code",
   "execution_count": 1,
   "metadata": {},
   "outputs": [],
   "source": [
    "import os\n",
    "import pandas as pd"
   ]
  },
  {
   "cell_type": "code",
   "execution_count": 10,
   "metadata": {},
   "outputs": [],
   "source": [
    "directory = r'C:\\Users\\Ranjani\\Downloads\\result_s1\\Fawkes'"
   ]
  },
  {
   "cell_type": "code",
   "execution_count": 11,
   "metadata": {},
   "outputs": [
    {
     "name": "stdout",
     "output_type": "stream",
     "text": [
      "Mean score for file result_fawkes_low.csv is: 91.22893786172277\n",
      "Mean score for file result_raw.csv is: 93.70563225133647\n"
     ]
    }
   ],
   "source": [
    "# for filename in os.listdir(directory):\n",
    "#     if filename.endswith('.csv'):\n",
    "#         filepath = os.path.join(directory, filename)\n",
    "     \n",
    "#         df = pd.read_csv(filepath)\n",
    "        \n",
    "#         mean_score = df['max_similarity'].replace(-1.0, 0).mean()\n",
    "       \n",
    "#         print(\"Mean score for file\", filename, \"is:\", mean_score)"
   ]
  },
  {
   "cell_type": "code",
   "execution_count": 13,
   "metadata": {},
   "outputs": [],
   "source": [
    "import glob\n",
    "from os.path import join as ospj"
   ]
  },
  {
   "cell_type": "code",
   "execution_count": 16,
   "metadata": {},
   "outputs": [
    {
     "data": {
      "text/plain": [
       "['C:\\\\Users\\\\Ranjani\\\\Downloads\\\\result_s1\\\\Fawkes\\\\result_fawkes_low.csv',\n",
       " 'C:\\\\Users\\\\Ranjani\\\\Downloads\\\\result_s1\\\\Fawkes\\\\result_raw.csv']"
      ]
     },
     "execution_count": 16,
     "metadata": {},
     "output_type": "execute_result"
    }
   ],
   "source": [
    "csv_list=[_ for _ in glob.glob(ospj(directory, '*')) if '.csv' in _]\n",
    "csv_list"
   ]
  },
  {
   "cell_type": "code",
   "execution_count": 19,
   "metadata": {},
   "outputs": [],
   "source": [
    "df_fawkes_low=pd.read_csv(csv_list[0], index_col=0)\n",
    "df_raw=pd.read_csv(csv_list[1], index_col=0)"
   ]
  },
  {
   "cell_type": "code",
   "execution_count": 27,
   "metadata": {},
   "outputs": [],
   "source": [
    "import numpy as np"
   ]
  },
  {
   "cell_type": "code",
   "execution_count": 34,
   "metadata": {},
   "outputs": [
    {
     "data": {
      "text/plain": [
       "(1012, 124)"
      ]
     },
     "execution_count": 34,
     "metadata": {},
     "output_type": "execute_result"
    }
   ],
   "source": [
    "# for similarity in df_fawkes_low['max_similarity']:\n",
    "#     print(similarity>=80.0)\n",
    "num_matched=np.sum(df_fawkes_low['max_similarity'].values>=80.0)\n",
    "num_unmatched=np.sum(df_fawkes_low['max_similarity'].values<80.0)\n",
    "num_matched, num_unmatched"
   ]
  },
  {
   "cell_type": "code",
   "execution_count": 35,
   "metadata": {},
   "outputs": [
    {
     "data": {
      "text/plain": [
       "(0.8908450704225352, 0.10915492957746478)"
      ]
     },
     "execution_count": 35,
     "metadata": {},
     "output_type": "execute_result"
    }
   ],
   "source": [
    "acc_matched=num_matched/len(df_fawkes_low['max_similarity'])\n",
    "acc_unmatched=num_unmatched/len(df_fawkes_low['max_similarity'])\n",
    "acc_matched, acc_unmatched"
   ]
  },
  {
   "cell_type": "code",
   "execution_count": 45,
   "metadata": {},
   "outputs": [],
   "source": [
    "def get_acc(df_result, threshold=80.0):\n",
    "    num_matched=np.sum(df_result['max_similarity'].values>=threshold)\n",
    "    num_unmatched=np.sum(df_result['max_similarity'].values<threshold)\n",
    "    acc_matched=num_matched/len(df_result['max_similarity'])\n",
    "    acc_unmatched=num_unmatched/len(df_result['max_similarity'])\n",
    "    print(acc_matched, acc_unmatched)\n",
    "    return num_matched, num_unmatched, acc_matched, acc_unmatched"
   ]
  },
  {
   "cell_type": "code",
   "execution_count": 50,
   "metadata": {},
   "outputs": [],
   "source": [
    "thres=80.0"
   ]
  },
  {
   "cell_type": "code",
   "execution_count": 51,
   "metadata": {},
   "outputs": [
    {
     "name": "stdout",
     "output_type": "stream",
     "text": [
      "0.9330985915492958 0.06690140845070422\n",
      "0.8908450704225352 0.10915492957746478\n"
     ]
    },
    {
     "data": {
      "text/plain": [
       "((1060, 76, 0.9330985915492958, 0.06690140845070422),\n",
       " (1012, 124, 0.8908450704225352, 0.10915492957746478))"
      ]
     },
     "execution_count": 51,
     "metadata": {},
     "output_type": "execute_result"
    }
   ],
   "source": [
    "get_acc(df_raw, thres), get_acc(df_fawkes_low, thres)"
   ]
  },
  {
   "cell_type": "code",
   "execution_count": 52,
   "metadata": {},
   "outputs": [],
   "source": [
    "directory = r'C:\\Users\\Ranjani\\Downloads\\result_s1\\result_AI0'\n",
    "csv_list=glob.glob(ospj(directory, '*.csv'))"
   ]
  },
  {
   "cell_type": "code",
   "execution_count": 53,
   "metadata": {},
   "outputs": [
    {
     "name": "stdout",
     "output_type": "stream",
     "text": [
      "result_Bald_neg_src.csv\t0.49 0.51\n",
      "result_Bangs_neg_src.csv\t0.85 0.15\n",
      "result_Black_Hair_neg_src.csv\t0.61 0.39\n",
      "result_Blond_Hair_neg_src.csv\t0.77 0.23\n",
      "result_Brown_Hair_neg_src.csv\t0.81 0.19\n",
      "result_Bushy_Eyebrows_neg_src.csv\t0.64 0.36\n",
      "result_Eyeglasses_neg_src.csv\t0.8 0.2\n",
      "result_Male_neg_src.csv\t0.41 0.59\n",
      "result_Mouth_Slightly_Open_neg_src.csv\t0.79 0.21\n",
      "result_Mustache_neg_src.csv\t0.61 0.39\n",
      "result_No_Beard_pos_src.csv\t0.79 0.21\n",
      "result_Pale_Skin_neg_src.csv\t0.8 0.2\n",
      "result_Young_pos_src.csv\t0.77 0.23\n"
     ]
    }
   ],
   "source": [
    "result=[]\n",
    "for result_csv in csv_list:\n",
    "    f_name=result_csv.replace('\\\\', '/').split('/')[-1]\n",
    "    print(f_name, end='\\t')\n",
    "    df_result=pd.read_csv(result_csv, index_col=0)\n",
    "    result.append(get_acc(df_result, thres))"
   ]
  },
  {
   "cell_type": "code",
   "execution_count": 54,
   "metadata": {},
   "outputs": [],
   "source": [
    "directory = r'C:\\Users\\Ranjani\\Downloads\\result_s1\\result_AI1'\n",
    "csv_list=glob.glob(ospj(directory, '*.csv'))"
   ]
  },
  {
   "cell_type": "code",
   "execution_count": 55,
   "metadata": {},
   "outputs": [
    {
     "name": "stdout",
     "output_type": "stream",
     "text": [
      "result_Bald_neg_src.csv\t0.62 0.38\n",
      "result_Bangs_neg_src.csv\t0.9 0.1\n",
      "result_Black_Hair_neg_src.csv\t0.67 0.33\n",
      "result_Blond_Hair_neg_src.csv\t0.8 0.2\n",
      "result_Brown_Hair_neg_src.csv\t0.81 0.19\n",
      "result_Bushy_Eyebrows_neg_src.csv\t0.69 0.31\n",
      "result_Eyeglasses_neg_src.csv\t0.82 0.18\n",
      "result_Male_neg_src.csv\t0.58 0.42\n",
      "result_Mouth_Slightly_Open_neg_src.csv\t0.82 0.18\n",
      "result_Mustache_neg_src.csv\t0.73 0.27\n",
      "result_No_Beard_pos_src.csv\t0.82 0.18\n",
      "result_Pale_Skin_neg_src.csv\t0.79 0.21\n",
      "result_Young_pos_src.csv\t0.74 0.26\n"
     ]
    }
   ],
   "source": [
    "result=[]\n",
    "for result_csv in csv_list:\n",
    "    f_name=result_csv.replace('\\\\', '/').split('/')[-1]\n",
    "    print(f_name, end='\\t')\n",
    "    df_result=pd.read_csv(result_csv, index_col=0)\n",
    "    result.append(get_acc(df_result, thres))"
   ]
  },
  {
   "cell_type": "code",
   "execution_count": 56,
   "metadata": {},
   "outputs": [],
   "source": [
    "directory = r'C:\\Users\\Ranjani\\Downloads\\result_s1\\result_FL_AI0'\n",
    "csv_list=glob.glob(ospj(directory, '*.csv'))"
   ]
  },
  {
   "cell_type": "code",
   "execution_count": 57,
   "metadata": {},
   "outputs": [
    {
     "name": "stdout",
     "output_type": "stream",
     "text": [
      "result_Bald_neg_src.csv\t0.35 0.65\n",
      "result_Bangs_neg_src.csv\t0.71 0.29\n",
      "result_Black_Hair_neg_src.csv\t0.47 0.53\n",
      "result_Blond_Hair_neg_src.csv\t0.68 0.32\n",
      "result_Brown_Hair_neg_src.csv\t0.7 0.3\n",
      "result_Bushy_Eyebrows_neg_src.csv\t0.5 0.5\n",
      "result_Eyeglasses_neg_src.csv\t0.69 0.31\n",
      "result_Male_neg_src.csv\t0.35 0.65\n",
      "result_Mouth_Slightly_Open_neg_src.csv\t0.72 0.28\n",
      "result_Mustache_neg_src.csv\t0.48 0.52\n",
      "result_No_Beard_pos_src.csv\t0.58 0.42\n",
      "result_Pale_Skin_neg_src.csv\t0.71 0.29\n",
      "result_Young_pos_src.csv\t0.62 0.38\n"
     ]
    }
   ],
   "source": [
    "result=[]\n",
    "for result_csv in csv_list:\n",
    "    f_name=result_csv.replace('\\\\', '/').split('/')[-1]\n",
    "    print(f_name, end='\\t')\n",
    "    df_result=pd.read_csv(result_csv, index_col=0)\n",
    "    result.append(get_acc(df_result, thres))"
   ]
  },
  {
   "cell_type": "code",
   "execution_count": 58,
   "metadata": {},
   "outputs": [],
   "source": [
    "directory = r'C:\\Users\\Ranjani\\Downloads\\result_s1\\result_FL_AI1'\n",
    "csv_list=glob.glob(ospj(directory, '*.csv'))"
   ]
  },
  {
   "cell_type": "code",
   "execution_count": 59,
   "metadata": {},
   "outputs": [
    {
     "name": "stdout",
     "output_type": "stream",
     "text": [
      "result_Bald_neg_src.csv\t0.47 0.53\n",
      "result_Bangs_neg_src.csv\t0.8 0.2\n",
      "result_Black_Hair_neg_src.csv\t0.58 0.42\n",
      "result_Blond_Hair_neg_src.csv\t0.7 0.3\n",
      "result_Brown_Hair_neg_src.csv\t0.74 0.26\n",
      "result_Bushy_Eyebrows_neg_src.csv\t0.54 0.46\n",
      "result_Eyeglasses_neg_src.csv\t0.76 0.24\n",
      "result_Male_neg_src.csv\t0.39 0.61\n",
      "result_Mouth_Slightly_Open_neg_src.csv\t0.75 0.25\n",
      "result_Mustache_neg_src.csv\t0.6 0.4\n",
      "result_No_Beard_pos_src.csv\t0.59 0.41\n",
      "result_Pale_Skin_neg_src.csv\t0.68 0.32\n",
      "result_Young_pos_src.csv\t0.66 0.34\n"
     ]
    }
   ],
   "source": [
    "result=[]\n",
    "for result_csv in csv_list:\n",
    "    f_name=result_csv.replace('\\\\', '/').split('/')[-1]\n",
    "    print(f_name, end='\\t')\n",
    "    df_result=pd.read_csv(result_csv, index_col=0)\n",
    "    result.append(get_acc(df_result, thres))"
   ]
  }
 ],
 "metadata": {
  "kernelspec": {
   "display_name": "base",
   "language": "python",
   "name": "python3"
  },
  "language_info": {
   "codemirror_mode": {
    "name": "ipython",
    "version": 3
   },
   "file_extension": ".py",
   "mimetype": "text/x-python",
   "name": "python",
   "nbconvert_exporter": "python",
   "pygments_lexer": "ipython3",
   "version": "3.8.16"
  },
  "orig_nbformat": 4
 },
 "nbformat": 4,
 "nbformat_minor": 2
}
