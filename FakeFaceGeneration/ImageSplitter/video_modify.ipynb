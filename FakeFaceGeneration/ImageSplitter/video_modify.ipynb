{
 "cells": [
  {
   "cell_type": "code",
   "execution_count": 1,
   "metadata": {},
   "outputs": [],
   "source": [
    "import pandas as pd\n",
    "import numpy as np\n",
    "from PIL import Image\n",
    "from os.path import join as ospj \n",
    "from os.path import exists as osex\n",
    "import glob #need when reading the existing file names"
   ]
  },
  {
   "cell_type": "code",
   "execution_count": 16,
   "metadata": {},
   "outputs": [
    {
     "name": "stdout",
     "output_type": "stream",
     "text": [
      "total frames: 560837\n"
     ]
    }
   ],
   "source": [
    "#counting the total number of frmaes in test data\n",
    "# path_data=r'C:\\GitHub\\Smart-Education-data\\data\\DAiSEE\\Sorted\\Test'\n",
    "path_data=r'C:\\Users\\Ranjani\\Downloads\\Sample_4.3\\OpenFace\\OpenFace_AttGAN'\n",
    "path_csv_list_train=glob.glob(ospj(path_data, '*.csv'))\n",
    "total_length=0\n",
    "for path_csv in path_csv_list_train:\n",
    "    length=len(pd.read_csv(path_csv))\n",
    "    total_length+=length\n",
    "# len(pd.read_csv(path_csv_list[0]))\n",
    "print('total frames:', total_length)"
   ]
  },
  {
   "cell_type": "code",
   "execution_count": 17,
   "metadata": {},
   "outputs": [
    {
     "name": "stdout",
     "output_type": "stream",
     "text": [
      "total frames: 1645829\n"
     ]
    }
   ],
   "source": [
    "#counting the total number of frmaes in train data\n",
    "path_data=r'C:\\GitHub\\Smart-Education-data\\data\\DAiSEE\\Sorted\\Train'\n",
    "path_csv_list_test=glob.glob(ospj(path_data, '*.csv'))\n",
    "total_length=0\n",
    "for path_csv in path_csv_list_test:\n",
    "    length=len(pd.read_csv(path_csv))\n",
    "    total_length+=length\n",
    "# len(pd.read_csv(path_csv_list[0]))\n",
    "print('total frames:', total_length)"
   ]
  },
  {
   "cell_type": "code",
   "execution_count": 22,
   "metadata": {},
   "outputs": [],
   "source": [
    "#~~Labels.csv files include file names of training data and test data and their labels (Boredom, Enagement, Frustration, Confusion). \n",
    "# The file names are required to identify wether there are any missing files or labels (e.g., some videos doesn't have labels and vice versa)\n",
    "# This process filter out video files missing their labels.\n",
    "path_labels=r'C:\\Users\\Ranjani\\Desktop\\Dataset\\DAiSEE\\DAiSEE\\Labels'"
   ]
  },
  {
   "cell_type": "code",
   "execution_count": 23,
   "metadata": {},
   "outputs": [],
   "source": [
    "csv_labels_list=glob.glob(ospj(path_labels, '*'))"
   ]
  },
  {
   "cell_type": "code",
   "execution_count": 24,
   "metadata": {},
   "outputs": [
    {
     "data": {
      "text/plain": [
       "['C:\\\\Users\\\\Ranjani\\\\Desktop\\\\Dataset\\\\DAiSEE\\\\DAiSEE\\\\Labels\\\\AllLabels.csv',\n",
       " 'C:\\\\Users\\\\Ranjani\\\\Desktop\\\\Dataset\\\\DAiSEE\\\\DAiSEE\\\\Labels\\\\TestLabels.csv',\n",
       " 'C:\\\\Users\\\\Ranjani\\\\Desktop\\\\Dataset\\\\DAiSEE\\\\DAiSEE\\\\Labels\\\\TrainLabels.csv',\n",
       " 'C:\\\\Users\\\\Ranjani\\\\Desktop\\\\Dataset\\\\DAiSEE\\\\DAiSEE\\\\Labels\\\\ValidationLabels.csv']"
      ]
     },
     "execution_count": 24,
     "metadata": {},
     "output_type": "execute_result"
    }
   ],
   "source": [
    "#Labels csv files included in DAiSEE dataset\n",
    "csv_labels_list"
   ]
  },
  {
   "cell_type": "code",
   "execution_count": 25,
   "metadata": {},
   "outputs": [
    {
     "data": {
      "text/plain": [
       "'C:\\\\Users\\\\Ranjani\\\\Desktop\\\\Dataset\\\\DAiSEE\\\\DAiSEE\\\\Labels\\\\AllLabels.csv'"
      ]
     },
     "execution_count": 25,
     "metadata": {},
     "output_type": "execute_result"
    }
   ],
   "source": [
    "#Due to mismatch of the TrainLabels.csv with the actual video files in ~/Train, it searches for labels (Boredom, etc.) by matching file names from AllLabels.csv file.\n",
    "#This process doesn't required to be done twice\n",
    "csv_labels_list[0]"
   ]
  },
  {
   "cell_type": "code",
   "execution_count": 26,
   "metadata": {},
   "outputs": [],
   "source": [
    "#read AllLabels.csv as pandas.DataFrame\n",
    "df_all_labels=pd.read_csv(csv_labels_list[0])"
   ]
  },
  {
   "cell_type": "code",
   "execution_count": 27,
   "metadata": {},
   "outputs": [],
   "source": [
    "#Using ClipID column, parse file names. Some files are .avi but some are .mp4 and you don't want any exceptions when loading the file.\n",
    "#This removes file extension (.avi, .mp4)\n",
    "df_all_labels['f_name']=[_.replace('.avi', '').replace('.mp4', '').replace('\\n', '').replace(' ', '') for _ in df_all_labels['ClipID']]"
   ]
  },
  {
   "cell_type": "code",
   "execution_count": 29,
   "metadata": {},
   "outputs": [
    {
     "data": {
      "text/plain": [
       "(array(['1100011002.avi', '1100011003.avi', '1100011004.avi', ...,\n",
       "        '9877360166.avi', '9877360168.avi', '9877360169.avi'], dtype=object),\n",
       " array(['1100011002', '1100011003', '1100011004', ..., '9877360166',\n",
       "        '9877360168', '9877360169'], dtype=object))"
      ]
     },
     "execution_count": 29,
     "metadata": {},
     "output_type": "execute_result"
    }
   ],
   "source": [
    "df_all_labels['ClipID'].values, df_all_labels['f_name'].values"
   ]
  },
  {
   "cell_type": "code",
   "execution_count": null,
   "metadata": {},
   "outputs": [
    {
     "data": {
      "text/html": [
       "<div>\n",
       "<style scoped>\n",
       "    .dataframe tbody tr th:only-of-type {\n",
       "        vertical-align: middle;\n",
       "    }\n",
       "\n",
       "    .dataframe tbody tr th {\n",
       "        vertical-align: top;\n",
       "    }\n",
       "\n",
       "    .dataframe thead th {\n",
       "        text-align: right;\n",
       "    }\n",
       "</style>\n",
       "<table border=\"1\" class=\"dataframe\">\n",
       "  <thead>\n",
       "    <tr style=\"text-align: right;\">\n",
       "      <th></th>\n",
       "      <th>ClipID</th>\n",
       "      <th>Boredom</th>\n",
       "      <th>Engagement</th>\n",
       "      <th>Confusion</th>\n",
       "      <th>Frustration</th>\n",
       "      <th>f_name</th>\n",
       "    </tr>\n",
       "  </thead>\n",
       "  <tbody>\n",
       "    <tr>\n",
       "      <th>0</th>\n",
       "      <td>1100011002.avi</td>\n",
       "      <td>0</td>\n",
       "      <td>2</td>\n",
       "      <td>0</td>\n",
       "      <td>0</td>\n",
       "      <td>1100011002</td>\n",
       "    </tr>\n",
       "    <tr>\n",
       "      <th>1</th>\n",
       "      <td>1100011003.avi</td>\n",
       "      <td>0</td>\n",
       "      <td>2</td>\n",
       "      <td>0</td>\n",
       "      <td>0</td>\n",
       "      <td>1100011003</td>\n",
       "    </tr>\n",
       "    <tr>\n",
       "      <th>2</th>\n",
       "      <td>1100011004.avi</td>\n",
       "      <td>0</td>\n",
       "      <td>3</td>\n",
       "      <td>0</td>\n",
       "      <td>0</td>\n",
       "      <td>1100011004</td>\n",
       "    </tr>\n",
       "    <tr>\n",
       "      <th>3</th>\n",
       "      <td>1100011005.avi</td>\n",
       "      <td>0</td>\n",
       "      <td>3</td>\n",
       "      <td>0</td>\n",
       "      <td>0</td>\n",
       "      <td>1100011005</td>\n",
       "    </tr>\n",
       "    <tr>\n",
       "      <th>4</th>\n",
       "      <td>1100011006.avi</td>\n",
       "      <td>0</td>\n",
       "      <td>3</td>\n",
       "      <td>0</td>\n",
       "      <td>0</td>\n",
       "      <td>1100011006</td>\n",
       "    </tr>\n",
       "    <tr>\n",
       "      <th>...</th>\n",
       "      <td>...</td>\n",
       "      <td>...</td>\n",
       "      <td>...</td>\n",
       "      <td>...</td>\n",
       "      <td>...</td>\n",
       "      <td>...</td>\n",
       "    </tr>\n",
       "    <tr>\n",
       "      <th>8920</th>\n",
       "      <td>9877360164.avi</td>\n",
       "      <td>1</td>\n",
       "      <td>3</td>\n",
       "      <td>0</td>\n",
       "      <td>0</td>\n",
       "      <td>9877360164</td>\n",
       "    </tr>\n",
       "    <tr>\n",
       "      <th>8921</th>\n",
       "      <td>9877360165.avi</td>\n",
       "      <td>0</td>\n",
       "      <td>3</td>\n",
       "      <td>0</td>\n",
       "      <td>0</td>\n",
       "      <td>9877360165</td>\n",
       "    </tr>\n",
       "    <tr>\n",
       "      <th>8922</th>\n",
       "      <td>9877360166.avi</td>\n",
       "      <td>1</td>\n",
       "      <td>3</td>\n",
       "      <td>0</td>\n",
       "      <td>2</td>\n",
       "      <td>9877360166</td>\n",
       "    </tr>\n",
       "    <tr>\n",
       "      <th>8923</th>\n",
       "      <td>9877360168.avi</td>\n",
       "      <td>1</td>\n",
       "      <td>3</td>\n",
       "      <td>1</td>\n",
       "      <td>1</td>\n",
       "      <td>9877360168</td>\n",
       "    </tr>\n",
       "    <tr>\n",
       "      <th>8924</th>\n",
       "      <td>9877360169.avi</td>\n",
       "      <td>0</td>\n",
       "      <td>1</td>\n",
       "      <td>0</td>\n",
       "      <td>0</td>\n",
       "      <td>9877360169</td>\n",
       "    </tr>\n",
       "  </tbody>\n",
       "</table>\n",
       "<p>8925 rows × 6 columns</p>\n",
       "</div>"
      ],
      "text/plain": [
       "              ClipID  Boredom  Engagement  Confusion  Frustration       f_name\n",
       "0     1100011002.avi        0           2          0             0  1100011002\n",
       "1     1100011003.avi        0           2          0             0  1100011003\n",
       "2     1100011004.avi        0           3          0             0  1100011004\n",
       "3     1100011005.avi        0           3          0             0  1100011005\n",
       "4     1100011006.avi        0           3          0             0  1100011006\n",
       "...              ...      ...         ...        ...           ...         ...\n",
       "8920  9877360164.avi        1           3          0             0  9877360164\n",
       "8921  9877360165.avi        0           3          0             0  9877360165\n",
       "8922  9877360166.avi        1           3          0             2  9877360166\n",
       "8923  9877360168.avi        1           3          1             1  9877360168\n",
       "8924  9877360169.avi        0           1          0             0  9877360169\n",
       "\n",
       "[8925 rows x 6 columns]"
      ]
     },
     "metadata": {},
     "output_type": "display_data"
    }
   ],
   "source": [
    "df_all_labels"
   ]
  },
  {
   "cell_type": "code",
   "execution_count": 34,
   "metadata": {},
   "outputs": [],
   "source": [
    "#Building file name list from existing csv files\n",
    "path_data=r'C:\\GitHub\\Smart-Education-data\\data\\DAiSEE\\Sorted\\Train'\n",
    "path_csv_list_train=glob.glob(ospj(path_data, '*.csv'))\n",
    "path_data=r'C:\\GitHub\\Smart-Education-data\\data\\DAiSEE\\Sorted\\Test'\n",
    "path_csv_list_test=glob.glob(ospj(path_data, '*.csv'))#counting the total number of frmaes in test data"
   ]
  },
  {
   "cell_type": "code",
   "execution_count": 36,
   "metadata": {},
   "outputs": [
    {
     "data": {
      "text/plain": [
       "(['1100011002', '1100011003', '1100011004'],\n",
       " ['5000441001', '5000441002', '5000441003'])"
      ]
     },
     "execution_count": 36,
     "metadata": {},
     "output_type": "execute_result"
    }
   ],
   "source": [
    "#put parsed file names in a list from existing videos (from path_csv_list_***, not AllLabels.csv)\n",
    "f_name_avi_list_train=[_.split('\\\\')[-1].replace('\\n', '').replace(' ', '').replace('.csv', '') for _ in path_csv_list_train]\n",
    "f_name_avi_list_test=[_.split('\\\\')[-1].replace('\\n', '').replace(' ', '').replace('.csv', '') for _ in path_csv_list_test]\n",
    "f_name_avi_list_train[:3], f_name_avi_list_test[:3]"
   ]
  },
  {
   "cell_type": "code",
   "execution_count": 37,
   "metadata": {},
   "outputs": [],
   "source": [
    "#put labels taken from AllLabels.csv in a pandas.DataFrame\n",
    "df_f_name_all=pd.DataFrame(df_all_labels)#.compare(pd.DataFrame(f_name_avi_list))"
   ]
  },
  {
   "cell_type": "code",
   "execution_count": 38,
   "metadata": {},
   "outputs": [],
   "source": [
    "#make training data file names from the existing files\n",
    "df_f_name_train=pd.DataFrame(f_name_avi_list_train)\n",
    "df_f_name_train.columns=['f_name']"
   ]
  },
  {
   "cell_type": "code",
   "execution_count": 39,
   "metadata": {},
   "outputs": [],
   "source": [
    "#make test data file names from the existing files\n",
    "df_f_name_test=pd.DataFrame(f_name_avi_list_test)\n",
    "df_f_name_test.columns=['f_name']"
   ]
  },
  {
   "cell_type": "code",
   "execution_count": 47,
   "metadata": {},
   "outputs": [],
   "source": [
    "#put actual path of csv files into the dataframes made right above\n",
    "df_f_name_train['path']=path_csv_list_train\n",
    "df_f_name_test['path']=path_csv_list_test"
   ]
  },
  {
   "cell_type": "code",
   "execution_count": 48,
   "metadata": {},
   "outputs": [],
   "source": [
    "#By mergin two dataframes (one from the existing files and one other from AllLabels.csv),\n",
    "# you can get matching file names and their labels\n",
    "df_label_path_train=df_f_name_all.merge(df_f_name_train)\n",
    "df_label_path_test=df_f_name_all.merge(df_f_name_test)"
   ]
  },
  {
   "cell_type": "code",
   "execution_count": 52,
   "metadata": {},
   "outputs": [
    {
     "data": {
      "text/html": [
       "<div>\n",
       "<style scoped>\n",
       "    .dataframe tbody tr th:only-of-type {\n",
       "        vertical-align: middle;\n",
       "    }\n",
       "\n",
       "    .dataframe tbody tr th {\n",
       "        vertical-align: top;\n",
       "    }\n",
       "\n",
       "    .dataframe thead th {\n",
       "        text-align: right;\n",
       "    }\n",
       "</style>\n",
       "<table border=\"1\" class=\"dataframe\">\n",
       "  <thead>\n",
       "    <tr style=\"text-align: right;\">\n",
       "      <th></th>\n",
       "      <th>ClipID</th>\n",
       "      <th>Boredom</th>\n",
       "      <th>Engagement</th>\n",
       "      <th>Confusion</th>\n",
       "      <th>Frustration</th>\n",
       "      <th>f_name</th>\n",
       "      <th>path</th>\n",
       "    </tr>\n",
       "  </thead>\n",
       "  <tbody>\n",
       "    <tr>\n",
       "      <th>0</th>\n",
       "      <td>1100011002.avi</td>\n",
       "      <td>0</td>\n",
       "      <td>2</td>\n",
       "      <td>0</td>\n",
       "      <td>0</td>\n",
       "      <td>1100011002</td>\n",
       "      <td>C:\\GitHub\\Smart-Education-data\\data\\DAiSEE\\Sor...</td>\n",
       "    </tr>\n",
       "    <tr>\n",
       "      <th>1</th>\n",
       "      <td>1100011003.avi</td>\n",
       "      <td>0</td>\n",
       "      <td>2</td>\n",
       "      <td>0</td>\n",
       "      <td>0</td>\n",
       "      <td>1100011003</td>\n",
       "      <td>C:\\GitHub\\Smart-Education-data\\data\\DAiSEE\\Sor...</td>\n",
       "    </tr>\n",
       "    <tr>\n",
       "      <th>2</th>\n",
       "      <td>1100011004.avi</td>\n",
       "      <td>0</td>\n",
       "      <td>3</td>\n",
       "      <td>0</td>\n",
       "      <td>0</td>\n",
       "      <td>1100011004</td>\n",
       "      <td>C:\\GitHub\\Smart-Education-data\\data\\DAiSEE\\Sor...</td>\n",
       "    </tr>\n",
       "    <tr>\n",
       "      <th>3</th>\n",
       "      <td>1100011005.avi</td>\n",
       "      <td>0</td>\n",
       "      <td>3</td>\n",
       "      <td>0</td>\n",
       "      <td>0</td>\n",
       "      <td>1100011005</td>\n",
       "      <td>C:\\GitHub\\Smart-Education-data\\data\\DAiSEE\\Sor...</td>\n",
       "    </tr>\n",
       "    <tr>\n",
       "      <th>4</th>\n",
       "      <td>1100011006.avi</td>\n",
       "      <td>0</td>\n",
       "      <td>3</td>\n",
       "      <td>0</td>\n",
       "      <td>0</td>\n",
       "      <td>1100011006</td>\n",
       "      <td>C:\\GitHub\\Smart-Education-data\\data\\DAiSEE\\Sor...</td>\n",
       "    </tr>\n",
       "    <tr>\n",
       "      <th>...</th>\n",
       "      <td>...</td>\n",
       "      <td>...</td>\n",
       "      <td>...</td>\n",
       "      <td>...</td>\n",
       "      <td>...</td>\n",
       "      <td>...</td>\n",
       "      <td>...</td>\n",
       "    </tr>\n",
       "    <tr>\n",
       "      <th>5477</th>\n",
       "      <td>5221290275.avi</td>\n",
       "      <td>1</td>\n",
       "      <td>2</td>\n",
       "      <td>1</td>\n",
       "      <td>1</td>\n",
       "      <td>5221290275</td>\n",
       "      <td>C:\\GitHub\\Smart-Education-data\\data\\DAiSEE\\Sor...</td>\n",
       "    </tr>\n",
       "    <tr>\n",
       "      <th>5478</th>\n",
       "      <td>5221290279.avi</td>\n",
       "      <td>0</td>\n",
       "      <td>3</td>\n",
       "      <td>0</td>\n",
       "      <td>0</td>\n",
       "      <td>5221290279</td>\n",
       "      <td>C:\\GitHub\\Smart-Education-data\\data\\DAiSEE\\Sor...</td>\n",
       "    </tr>\n",
       "    <tr>\n",
       "      <th>5479</th>\n",
       "      <td>5221290280.avi</td>\n",
       "      <td>1</td>\n",
       "      <td>1</td>\n",
       "      <td>0</td>\n",
       "      <td>1</td>\n",
       "      <td>5221290280</td>\n",
       "      <td>C:\\GitHub\\Smart-Education-data\\data\\DAiSEE\\Sor...</td>\n",
       "    </tr>\n",
       "    <tr>\n",
       "      <th>5480</th>\n",
       "      <td>5221290282.avi</td>\n",
       "      <td>0</td>\n",
       "      <td>3</td>\n",
       "      <td>1</td>\n",
       "      <td>0</td>\n",
       "      <td>5221290282</td>\n",
       "      <td>C:\\GitHub\\Smart-Education-data\\data\\DAiSEE\\Sor...</td>\n",
       "    </tr>\n",
       "    <tr>\n",
       "      <th>5481</th>\n",
       "      <td>5221290284.avi</td>\n",
       "      <td>1</td>\n",
       "      <td>3</td>\n",
       "      <td>0</td>\n",
       "      <td>0</td>\n",
       "      <td>5221290284</td>\n",
       "      <td>C:\\GitHub\\Smart-Education-data\\data\\DAiSEE\\Sor...</td>\n",
       "    </tr>\n",
       "  </tbody>\n",
       "</table>\n",
       "<p>5482 rows × 7 columns</p>\n",
       "</div>"
      ],
      "text/plain": [
       "              ClipID  Boredom  Engagement  Confusion  Frustration   \\\n",
       "0     1100011002.avi        0           2          0             0   \n",
       "1     1100011003.avi        0           2          0             0   \n",
       "2     1100011004.avi        0           3          0             0   \n",
       "3     1100011005.avi        0           3          0             0   \n",
       "4     1100011006.avi        0           3          0             0   \n",
       "...              ...      ...         ...        ...           ...   \n",
       "5477  5221290275.avi        1           2          1             1   \n",
       "5478  5221290279.avi        0           3          0             0   \n",
       "5479  5221290280.avi        1           1          0             1   \n",
       "5480  5221290282.avi        0           3          1             0   \n",
       "5481  5221290284.avi        1           3          0             0   \n",
       "\n",
       "          f_name                                               path  \n",
       "0     1100011002  C:\\GitHub\\Smart-Education-data\\data\\DAiSEE\\Sor...  \n",
       "1     1100011003  C:\\GitHub\\Smart-Education-data\\data\\DAiSEE\\Sor...  \n",
       "2     1100011004  C:\\GitHub\\Smart-Education-data\\data\\DAiSEE\\Sor...  \n",
       "3     1100011005  C:\\GitHub\\Smart-Education-data\\data\\DAiSEE\\Sor...  \n",
       "4     1100011006  C:\\GitHub\\Smart-Education-data\\data\\DAiSEE\\Sor...  \n",
       "...          ...                                                ...  \n",
       "5477  5221290275  C:\\GitHub\\Smart-Education-data\\data\\DAiSEE\\Sor...  \n",
       "5478  5221290279  C:\\GitHub\\Smart-Education-data\\data\\DAiSEE\\Sor...  \n",
       "5479  5221290280  C:\\GitHub\\Smart-Education-data\\data\\DAiSEE\\Sor...  \n",
       "5480  5221290282  C:\\GitHub\\Smart-Education-data\\data\\DAiSEE\\Sor...  \n",
       "5481  5221290284  C:\\GitHub\\Smart-Education-data\\data\\DAiSEE\\Sor...  \n",
       "\n",
       "[5482 rows x 7 columns]"
      ]
     },
     "execution_count": 52,
     "metadata": {},
     "output_type": "execute_result"
    }
   ],
   "source": [
    "'''As you can see here valid test data is only 1,723 files due to a mismatch of labels'''\n",
    "df_label_path_train"
   ]
  },
  {
   "cell_type": "code",
   "execution_count": 50,
   "metadata": {},
   "outputs": [],
   "source": [
    "if True:\n",
    "    df_label_path_train.to_csv(ospj(r'C:\\GitHub\\Smart-Education-data\\data\\DAiSEE\\Sorted', 'sorted_labels_train.csv'))\n",
    "    df_label_path_test.to_csv(ospj(r'C:\\GitHub\\Smart-Education-data\\data\\DAiSEE\\Sorted', 'sorted_labels_test.csv'))"
   ]
  }
 ],
 "metadata": {
  "kernelspec": {
   "display_name": "base",
   "language": "python",
   "name": "python3"
  },
  "language_info": {
   "codemirror_mode": {
    "name": "ipython",
    "version": 3
   },
   "file_extension": ".py",
   "mimetype": "text/x-python",
   "name": "python",
   "nbconvert_exporter": "python",
   "pygments_lexer": "ipython3",
   "version": "3.8.16"
  },
  "orig_nbformat": 4,
  "vscode": {
   "interpreter": {
    "hash": "e627722d0d91bb7c18f82524675a9d23c045070d407cc9ef448429e6ca73a475"
   }
  }
 },
 "nbformat": 4,
 "nbformat_minor": 2
}
