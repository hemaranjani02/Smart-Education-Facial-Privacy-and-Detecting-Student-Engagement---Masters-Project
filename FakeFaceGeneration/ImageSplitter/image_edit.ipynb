{
 "cells": [
  {
   "cell_type": "code",
   "execution_count": 1,
   "metadata": {},
   "outputs": [],
   "source": [
    "import matplotlib.pyplot as plt\n",
    "import numpy as np\n",
    "import pandas as pd\n",
    "from PIL import Image\n",
    "import glob\n",
    "from os.path import join as ospj"
   ]
  },
  {
   "cell_type": "code",
   "execution_count": 5,
   "metadata": {},
   "outputs": [],
   "source": [
    "#img_path=r'C:\\Users\\Ranjani\\Downloads\\eyeglasses (4).png'\n",
    "# img_path=r'C:\\GitHub\\Smart-Education\\FakeFaceGen\\AttGAN\\output\\384_shortcut1_inject1_none_hq\\custom_testing\\8.jpg'\n",
    "img_dir=r'C:\\GitHub\\AttGAN-PyTorch\\output\\256_shortcut1_inject0_none_s1\\custom_testing'\n",
    "save_path=r'C:\\GitHub\\AttGAN-PyTorch\\output\\256_shortcut1_inject0_none_s1\\split_mid_AT0'"
   ]
  },
  {
   "cell_type": "code",
   "execution_count": 6,
   "metadata": {},
   "outputs": [],
   "source": [
    "list_images=glob.glob(ospj(img_dir, '*'))"
   ]
  },
  {
   "cell_type": "code",
   "execution_count": 7,
   "metadata": {},
   "outputs": [],
   "source": [
    "#cropping and saving\n",
    "for img_path in list_images:\n",
    "    f_name=img_path.replace('\\\\', '/').split('/')[-1]\n",
    "    im=Image.open(img_path)\n",
    "    n_rows=1\n",
    "    n_cols=15\n",
    "    w=im.size[0]//n_cols\n",
    "    h=im.size[1]//n_rows\n",
    "    for i in range(n_cols):\n",
    "        for j in range(n_rows):\n",
    "            crop_=im.crop((i*w, j*h, (i+1)*w, (j+1)*h))\n",
    "            # crop_.show()\n",
    "            file_tags=['Origin', 'No_change', 'Bald', 'Bangs', 'Black_Hair', 'Blond_Hair', 'Brown_Hair', 'Bushy_Eyebrows', 'Eyeglasses', 'Male', 'Mouth_Slightly_Open', 'Mustache', 'No_Beard', 'Pale_Skin', 'Young']\n",
    "            new_f_name=f'{f_name}_{file_tags[i]}.png'\n",
    "            # crop_.save(ospj(save_path, f'{f_name}_r{j}c{i}.png'))\n",
    "            crop_.save(ospj(save_path, new_f_name))\n",
    "            # break\n",
    "        # break\n",
    "    # break"
   ]
  },
  {
   "cell_type": "code",
   "execution_count": null,
   "metadata": {},
   "outputs": [
    {
     "ename": "",
     "evalue": "",
     "output_type": "error",
     "traceback": [
      "\u001b[1;31mRunning cells with 'c:\\Users\\Ranjani\\miniconda3\\38\\python.exe' requires the ipykernel package.\n",
      "\u001b[1;31mRun the following command to install 'ipykernel' into the Python environment. \n",
      "\u001b[1;31mCommand: 'conda install -p c:\\Users\\Ranjani\\miniconda3\\38 ipykernel --update-deps --force-reinstall'"
     ]
    }
   ],
   "source": [
    "#cropping and demo (not saveing)\n",
    "plt.figure(figsize=(8,8))\n",
    "im=np.asarray(Image.open(img_path))\n",
    "# w=im.shape[0]//9\n",
    "# h=im.shape[1]//12\n",
    "# i=5\n",
    "# j=10\n",
    "# plt.imshow(im[i*w:(i+1)*w+1, j*h:(j+1)*h+1])\n",
    "\n",
    "# w=im.shape[0]//15\n",
    "# h=im.shape[1]//1\n",
    "# i=1\n",
    "# j=9\n",
    "# plt.imshow(im[i*w:(i+1)*w+1, j*h:(j+1)*h+1])\n",
    "plt.imshow(im)"
   ]
  },
  {
   "cell_type": "code",
   "execution_count": 49,
   "metadata": {},
   "outputs": [],
   "source": [
    "# im = Image.open(r'C:\\Users\\Ranjani\\Downloads\\eyeglasses (4).png')\n",
    "# im = im.save(r\"C:/Users/Ranjani/Downloads/eyeglassesHema.png\")\n",
    "img_path=r'C:\\GitHub\\Smart-Education\\FakeFaceGen\\AttGAN\\output\\384_shortcut1_inject1_none_hq\\custom_testing\\3.jpg' #path to read image\n",
    "save_path=r'C:\\Users\\Ranjani\\Downloads\\ImageSplit_ATTGAN\\3' #dir path to save image\n",
    "#cropping and saving\n",
    "im=Image.open(img_path)\n",
    "n_rows=1 #9\n",
    "n_cols=15 #12\n",
    "w=im.size[0]//n_cols\n",
    "h=im.size[1]//n_rows\n",
    "for i in range(n_cols):\n",
    "    for j in range(n_rows):\n",
    "        crop_=im.crop((i*w, j*h, (i+1)*w, (j+1)*h))\n",
    "        import os\n",
    "        crop_.save(os.path.join(save_path, f'cropped_r{j}c{i}.jpeg'))\n",
    "        # break\n",
    "    # break"
   ]
  },
  {
   "cell_type": "code",
   "execution_count": 5,
   "metadata": {},
   "outputs": [
    {
     "ename": "AttributeError",
     "evalue": "shape",
     "output_type": "error",
     "traceback": [
      "\u001b[1;31m---------------------------------------------------------------------------\u001b[0m",
      "\u001b[1;31mAttributeError\u001b[0m                            Traceback (most recent call last)",
      "Cell \u001b[1;32mIn [5], line 1\u001b[0m\n\u001b[1;32m----> 1\u001b[0m \u001b[39mprint\u001b[39m(im\u001b[39m.\u001b[39;49mshape)\n\u001b[0;32m      2\u001b[0m im\u001b[39m.\u001b[39mshape[\u001b[39m0\u001b[39m]\u001b[39m/\u001b[39m\u001b[39m12\u001b[39m\n",
      "File \u001b[1;32mc:\\Users\\Ranjani\\miniconda3\\lib\\site-packages\\PIL\\Image.py:517\u001b[0m, in \u001b[0;36mImage.__getattr__\u001b[1;34m(self, name)\u001b[0m\n\u001b[0;32m    515\u001b[0m     deprecate(\u001b[39m\"\u001b[39m\u001b[39mImage categories\u001b[39m\u001b[39m\"\u001b[39m, \u001b[39m10\u001b[39m, \u001b[39m\"\u001b[39m\u001b[39mis_animated\u001b[39m\u001b[39m\"\u001b[39m, plural\u001b[39m=\u001b[39m\u001b[39mTrue\u001b[39;00m)\n\u001b[0;32m    516\u001b[0m     \u001b[39mreturn\u001b[39;00m \u001b[39mself\u001b[39m\u001b[39m.\u001b[39m_category\n\u001b[1;32m--> 517\u001b[0m \u001b[39mraise\u001b[39;00m \u001b[39mAttributeError\u001b[39;00m(name)\n",
      "\u001b[1;31mAttributeError\u001b[0m: shape"
     ]
    }
   ],
   "source": [
    "print(im.shape)\n",
    "im.shape[0]/12"
   ]
  },
  {
   "attachments": {},
   "cell_type": "markdown",
   "metadata": {},
   "source": [
    "Folder redirection"
   ]
  },
  {
   "cell_type": "code",
   "execution_count": null,
   "metadata": {},
   "outputs": [],
   "source": [
    "import glob\n",
    "from os.path import join as ospj\n",
    "from os.path import exists as osex"
   ]
  },
  {
   "attachments": {},
   "cell_type": "markdown",
   "metadata": {},
   "source": [
    "# train data sorting"
   ]
  },
  {
   "cell_type": "code",
   "execution_count": null,
   "metadata": {},
   "outputs": [],
   "source": [
    "dir_train=r'C:\\GitHub\\Smart-Education-data\\data\\DAiSEE\\DataSet\\Train'"
   ]
  },
  {
   "cell_type": "code",
   "execution_count": null,
   "metadata": {},
   "outputs": [],
   "source": [
    "dir_upper_list=glob.glob(dir_train+'/*')"
   ]
  },
  {
   "cell_type": "code",
   "execution_count": null,
   "metadata": {},
   "outputs": [],
   "source": [
    "dir_lower_list=[]\n",
    "for dir_upper in dir_upper_list:\n",
    "    dir_lower_list+=glob.glob(dir_upper+'/*')"
   ]
  },
  {
   "cell_type": "code",
   "execution_count": null,
   "metadata": {},
   "outputs": [
    {
     "data": {
      "text/plain": [
       "[]"
      ]
     },
     "execution_count": 60,
     "metadata": {},
     "output_type": "execute_result"
    }
   ],
   "source": [
    "dir_video_list=[glob.glob(ospj(dir_lower, '*')) for dir_lower in dir_lower_list]\n",
    "dir_video_list=[_[0] for _ in dir_video_list]\n",
    "dir_video_list[:3]"
   ]
  },
  {
   "cell_type": "code",
   "execution_count": null,
   "metadata": {},
   "outputs": [],
   "source": [
    "import shutil"
   ]
  },
  {
   "cell_type": "code",
   "execution_count": null,
   "metadata": {},
   "outputs": [
    {
     "data": {
      "text/plain": [
       "[]"
      ]
     },
     "execution_count": 62,
     "metadata": {},
     "output_type": "execute_result"
    }
   ],
   "source": [
    "new_dir=r'C:\\GitHub\\Smart-Education-data\\data\\DAiSEE\\Sorted\\Train'\n",
    "# if not osex(new_dir):\n",
    "    # from os import mkdir\n",
    "    # mkdir(new_dir)\n",
    "new_dir_list=[]\n",
    "for dir_video in dir_video_list:\n",
    "    f_name=dir_video.replace('\\\\', '/').split('/')[-1]\n",
    "    new_dir_list.append(ospj(new_dir, f_name))\n",
    "new_dir_list[:3]"
   ]
  },
  {
   "cell_type": "code",
   "execution_count": null,
   "metadata": {},
   "outputs": [],
   "source": [
    "for dir_video, new_dir in zip(dir_video_list, new_dir_list):\n",
    "    shutil.copy2(dir_video, new_dir)"
   ]
  },
  {
   "attachments": {},
   "cell_type": "markdown",
   "metadata": {},
   "source": [
    "# test data sorting"
   ]
  },
  {
   "cell_type": "code",
   "execution_count": 189,
   "metadata": {},
   "outputs": [],
   "source": [
    "dir_test=r'C:\\Users\\Ranjani\\Desktop\\Dataset\\DAiSEE\\DAiSEE\\DataSet\\Test'"
   ]
  },
  {
   "cell_type": "code",
   "execution_count": 190,
   "metadata": {},
   "outputs": [],
   "source": [
    "dir_upper_list=glob.glob(dir_test+'/*')"
   ]
  },
  {
   "cell_type": "code",
   "execution_count": 191,
   "metadata": {},
   "outputs": [],
   "source": [
    "dir_lower_list=[]\n",
    "for dir_upper in dir_upper_list:\n",
    "    dir_lower_list+=glob.glob(dir_upper+'/*')"
   ]
  },
  {
   "cell_type": "code",
   "execution_count": 192,
   "metadata": {},
   "outputs": [
    {
     "data": {
      "text/plain": [
       "['C:\\\\Users\\\\Ranjani\\\\Desktop\\\\Dataset\\\\DAiSEE\\\\DAiSEE\\\\DataSet\\\\Test\\\\500044\\\\5000441001\\\\5000441001.avi',\n",
       " 'C:\\\\Users\\\\Ranjani\\\\Desktop\\\\Dataset\\\\DAiSEE\\\\DAiSEE\\\\DataSet\\\\Test\\\\500044\\\\5000441002\\\\5000441002.avi',\n",
       " 'C:\\\\Users\\\\Ranjani\\\\Desktop\\\\Dataset\\\\DAiSEE\\\\DAiSEE\\\\DataSet\\\\Test\\\\500044\\\\5000441003\\\\5000441003.avi']"
      ]
     },
     "execution_count": 192,
     "metadata": {},
     "output_type": "execute_result"
    }
   ],
   "source": [
    "dir_video_list=[glob.glob(ospj(dir_lower, '*')) for dir_lower in dir_lower_list]\n",
    "dir_video_list=[_[0] for _ in dir_video_list]\n",
    "dir_video_list[:3]"
   ]
  },
  {
   "cell_type": "code",
   "execution_count": 193,
   "metadata": {},
   "outputs": [],
   "source": [
    "import shutil"
   ]
  },
  {
   "cell_type": "code",
   "execution_count": 194,
   "metadata": {},
   "outputs": [
    {
     "data": {
      "text/plain": [
       "['C:\\\\Users\\\\Ranjani\\\\Desktop\\\\StudentEngagement_Dataset\\\\Test\\\\5000441001.avi',\n",
       " 'C:\\\\Users\\\\Ranjani\\\\Desktop\\\\StudentEngagement_Dataset\\\\Test\\\\5000441002.avi',\n",
       " 'C:\\\\Users\\\\Ranjani\\\\Desktop\\\\StudentEngagement_Dataset\\\\Test\\\\5000441003.avi']"
      ]
     },
     "execution_count": 194,
     "metadata": {},
     "output_type": "execute_result"
    }
   ],
   "source": [
    "new_dir=r'C:\\Users\\Ranjani\\Desktop\\StudentEngagement_Dataset\\Test'\n",
    "# if not osex(new_dir):\n",
    "    # from os import mkdir\n",
    "    # mkdir(new_dir)\n",
    "new_dir_list=[]\n",
    "for dir_video in dir_video_list:\n",
    "    f_name=dir_video.replace('\\\\', '/').split('/')[-1]\n",
    "    new_dir_list.append(ospj(new_dir, f_name))\n",
    "new_dir_list[:3]"
   ]
  },
  {
   "cell_type": "code",
   "execution_count": 195,
   "metadata": {},
   "outputs": [],
   "source": [
    "for dir_video, new_dir in zip(dir_video_list, new_dir_list):\n",
    "    shutil.copy2(dir_video, new_dir)"
   ]
  },
  {
   "attachments": {},
   "cell_type": "markdown",
   "metadata": {},
   "source": [
    "# OpenFace"
   ]
  },
  {
   "cell_type": "code",
   "execution_count": null,
   "metadata": {},
   "outputs": [
    {
     "ename": "FileNotFoundError",
     "evalue": "[Errno 2] No such file or directory: 'C:\\\\GitHub\\\\Smart-Education-data\\\\data\\\\DAiSEE\\\\Sorted\\\\OpenFace\\\\3422270116.csv'",
     "output_type": "error",
     "traceback": [
      "\u001b[1;31m---------------------------------------------------------------------------\u001b[0m",
      "\u001b[1;31mFileNotFoundError\u001b[0m                         Traceback (most recent call last)",
      "Cell \u001b[1;32mIn [71], line 2\u001b[0m\n\u001b[0;32m      1\u001b[0m path\u001b[39m=\u001b[39m\u001b[39mr\u001b[39m\u001b[39m'\u001b[39m\u001b[39mC:\u001b[39m\u001b[39m\\\u001b[39m\u001b[39mGitHub\u001b[39m\u001b[39m\\\u001b[39m\u001b[39mSmart-Education-data\u001b[39m\u001b[39m\\\u001b[39m\u001b[39mdata\u001b[39m\u001b[39m\\\u001b[39m\u001b[39mDAiSEE\u001b[39m\u001b[39m\\\u001b[39m\u001b[39mSorted\u001b[39m\u001b[39m\\\u001b[39m\u001b[39mOpenFace\u001b[39m\u001b[39m\\\u001b[39m\u001b[39m3422270116.csv\u001b[39m\u001b[39m'\u001b[39m\n\u001b[1;32m----> 2\u001b[0m df\u001b[39m=\u001b[39mpd\u001b[39m.\u001b[39;49mread_csv(path, index_col\u001b[39m=\u001b[39;49m\u001b[39m0\u001b[39;49m, header\u001b[39m=\u001b[39;49m\u001b[39m0\u001b[39;49m)\n\u001b[0;32m      3\u001b[0m df\n",
      "File \u001b[1;32mc:\\Users\\Ranjani\\miniconda3\\lib\\site-packages\\pandas\\util\\_decorators.py:211\u001b[0m, in \u001b[0;36mdeprecate_kwarg.<locals>._deprecate_kwarg.<locals>.wrapper\u001b[1;34m(*args, **kwargs)\u001b[0m\n\u001b[0;32m    209\u001b[0m     \u001b[39melse\u001b[39;00m:\n\u001b[0;32m    210\u001b[0m         kwargs[new_arg_name] \u001b[39m=\u001b[39m new_arg_value\n\u001b[1;32m--> 211\u001b[0m \u001b[39mreturn\u001b[39;00m func(\u001b[39m*\u001b[39margs, \u001b[39m*\u001b[39m\u001b[39m*\u001b[39mkwargs)\n",
      "File \u001b[1;32mc:\\Users\\Ranjani\\miniconda3\\lib\\site-packages\\pandas\\util\\_decorators.py:331\u001b[0m, in \u001b[0;36mdeprecate_nonkeyword_arguments.<locals>.decorate.<locals>.wrapper\u001b[1;34m(*args, **kwargs)\u001b[0m\n\u001b[0;32m    325\u001b[0m \u001b[39mif\u001b[39;00m \u001b[39mlen\u001b[39m(args) \u001b[39m>\u001b[39m num_allow_args:\n\u001b[0;32m    326\u001b[0m     warnings\u001b[39m.\u001b[39mwarn(\n\u001b[0;32m    327\u001b[0m         msg\u001b[39m.\u001b[39mformat(arguments\u001b[39m=\u001b[39m_format_argument_list(allow_args)),\n\u001b[0;32m    328\u001b[0m         \u001b[39mFutureWarning\u001b[39;00m,\n\u001b[0;32m    329\u001b[0m         stacklevel\u001b[39m=\u001b[39mfind_stack_level(),\n\u001b[0;32m    330\u001b[0m     )\n\u001b[1;32m--> 331\u001b[0m \u001b[39mreturn\u001b[39;00m func(\u001b[39m*\u001b[39margs, \u001b[39m*\u001b[39m\u001b[39m*\u001b[39mkwargs)\n",
      "File \u001b[1;32mc:\\Users\\Ranjani\\miniconda3\\lib\\site-packages\\pandas\\io\\parsers\\readers.py:950\u001b[0m, in \u001b[0;36mread_csv\u001b[1;34m(filepath_or_buffer, sep, delimiter, header, names, index_col, usecols, squeeze, prefix, mangle_dupe_cols, dtype, engine, converters, true_values, false_values, skipinitialspace, skiprows, skipfooter, nrows, na_values, keep_default_na, na_filter, verbose, skip_blank_lines, parse_dates, infer_datetime_format, keep_date_col, date_parser, dayfirst, cache_dates, iterator, chunksize, compression, thousands, decimal, lineterminator, quotechar, quoting, doublequote, escapechar, comment, encoding, encoding_errors, dialect, error_bad_lines, warn_bad_lines, on_bad_lines, delim_whitespace, low_memory, memory_map, float_precision, storage_options)\u001b[0m\n\u001b[0;32m    935\u001b[0m kwds_defaults \u001b[39m=\u001b[39m _refine_defaults_read(\n\u001b[0;32m    936\u001b[0m     dialect,\n\u001b[0;32m    937\u001b[0m     delimiter,\n\u001b[1;32m   (...)\u001b[0m\n\u001b[0;32m    946\u001b[0m     defaults\u001b[39m=\u001b[39m{\u001b[39m\"\u001b[39m\u001b[39mdelimiter\u001b[39m\u001b[39m\"\u001b[39m: \u001b[39m\"\u001b[39m\u001b[39m,\u001b[39m\u001b[39m\"\u001b[39m},\n\u001b[0;32m    947\u001b[0m )\n\u001b[0;32m    948\u001b[0m kwds\u001b[39m.\u001b[39mupdate(kwds_defaults)\n\u001b[1;32m--> 950\u001b[0m \u001b[39mreturn\u001b[39;00m _read(filepath_or_buffer, kwds)\n",
      "File \u001b[1;32mc:\\Users\\Ranjani\\miniconda3\\lib\\site-packages\\pandas\\io\\parsers\\readers.py:605\u001b[0m, in \u001b[0;36m_read\u001b[1;34m(filepath_or_buffer, kwds)\u001b[0m\n\u001b[0;32m    602\u001b[0m _validate_names(kwds\u001b[39m.\u001b[39mget(\u001b[39m\"\u001b[39m\u001b[39mnames\u001b[39m\u001b[39m\"\u001b[39m, \u001b[39mNone\u001b[39;00m))\n\u001b[0;32m    604\u001b[0m \u001b[39m# Create the parser.\u001b[39;00m\n\u001b[1;32m--> 605\u001b[0m parser \u001b[39m=\u001b[39m TextFileReader(filepath_or_buffer, \u001b[39m*\u001b[39m\u001b[39m*\u001b[39mkwds)\n\u001b[0;32m    607\u001b[0m \u001b[39mif\u001b[39;00m chunksize \u001b[39mor\u001b[39;00m iterator:\n\u001b[0;32m    608\u001b[0m     \u001b[39mreturn\u001b[39;00m parser\n",
      "File \u001b[1;32mc:\\Users\\Ranjani\\miniconda3\\lib\\site-packages\\pandas\\io\\parsers\\readers.py:1442\u001b[0m, in \u001b[0;36mTextFileReader.__init__\u001b[1;34m(self, f, engine, **kwds)\u001b[0m\n\u001b[0;32m   1439\u001b[0m     \u001b[39mself\u001b[39m\u001b[39m.\u001b[39moptions[\u001b[39m\"\u001b[39m\u001b[39mhas_index_names\u001b[39m\u001b[39m\"\u001b[39m] \u001b[39m=\u001b[39m kwds[\u001b[39m\"\u001b[39m\u001b[39mhas_index_names\u001b[39m\u001b[39m\"\u001b[39m]\n\u001b[0;32m   1441\u001b[0m \u001b[39mself\u001b[39m\u001b[39m.\u001b[39mhandles: IOHandles \u001b[39m|\u001b[39m \u001b[39mNone\u001b[39;00m \u001b[39m=\u001b[39m \u001b[39mNone\u001b[39;00m\n\u001b[1;32m-> 1442\u001b[0m \u001b[39mself\u001b[39m\u001b[39m.\u001b[39m_engine \u001b[39m=\u001b[39m \u001b[39mself\u001b[39;49m\u001b[39m.\u001b[39;49m_make_engine(f, \u001b[39mself\u001b[39;49m\u001b[39m.\u001b[39;49mengine)\n",
      "File \u001b[1;32mc:\\Users\\Ranjani\\miniconda3\\lib\\site-packages\\pandas\\io\\parsers\\readers.py:1735\u001b[0m, in \u001b[0;36mTextFileReader._make_engine\u001b[1;34m(self, f, engine)\u001b[0m\n\u001b[0;32m   1733\u001b[0m     \u001b[39mif\u001b[39;00m \u001b[39m\"\u001b[39m\u001b[39mb\u001b[39m\u001b[39m\"\u001b[39m \u001b[39mnot\u001b[39;00m \u001b[39min\u001b[39;00m mode:\n\u001b[0;32m   1734\u001b[0m         mode \u001b[39m+\u001b[39m\u001b[39m=\u001b[39m \u001b[39m\"\u001b[39m\u001b[39mb\u001b[39m\u001b[39m\"\u001b[39m\n\u001b[1;32m-> 1735\u001b[0m \u001b[39mself\u001b[39m\u001b[39m.\u001b[39mhandles \u001b[39m=\u001b[39m get_handle(\n\u001b[0;32m   1736\u001b[0m     f,\n\u001b[0;32m   1737\u001b[0m     mode,\n\u001b[0;32m   1738\u001b[0m     encoding\u001b[39m=\u001b[39;49m\u001b[39mself\u001b[39;49m\u001b[39m.\u001b[39;49moptions\u001b[39m.\u001b[39;49mget(\u001b[39m\"\u001b[39;49m\u001b[39mencoding\u001b[39;49m\u001b[39m\"\u001b[39;49m, \u001b[39mNone\u001b[39;49;00m),\n\u001b[0;32m   1739\u001b[0m     compression\u001b[39m=\u001b[39;49m\u001b[39mself\u001b[39;49m\u001b[39m.\u001b[39;49moptions\u001b[39m.\u001b[39;49mget(\u001b[39m\"\u001b[39;49m\u001b[39mcompression\u001b[39;49m\u001b[39m\"\u001b[39;49m, \u001b[39mNone\u001b[39;49;00m),\n\u001b[0;32m   1740\u001b[0m     memory_map\u001b[39m=\u001b[39;49m\u001b[39mself\u001b[39;49m\u001b[39m.\u001b[39;49moptions\u001b[39m.\u001b[39;49mget(\u001b[39m\"\u001b[39;49m\u001b[39mmemory_map\u001b[39;49m\u001b[39m\"\u001b[39;49m, \u001b[39mFalse\u001b[39;49;00m),\n\u001b[0;32m   1741\u001b[0m     is_text\u001b[39m=\u001b[39;49mis_text,\n\u001b[0;32m   1742\u001b[0m     errors\u001b[39m=\u001b[39;49m\u001b[39mself\u001b[39;49m\u001b[39m.\u001b[39;49moptions\u001b[39m.\u001b[39;49mget(\u001b[39m\"\u001b[39;49m\u001b[39mencoding_errors\u001b[39;49m\u001b[39m\"\u001b[39;49m, \u001b[39m\"\u001b[39;49m\u001b[39mstrict\u001b[39;49m\u001b[39m\"\u001b[39;49m),\n\u001b[0;32m   1743\u001b[0m     storage_options\u001b[39m=\u001b[39;49m\u001b[39mself\u001b[39;49m\u001b[39m.\u001b[39;49moptions\u001b[39m.\u001b[39;49mget(\u001b[39m\"\u001b[39;49m\u001b[39mstorage_options\u001b[39;49m\u001b[39m\"\u001b[39;49m, \u001b[39mNone\u001b[39;49;00m),\n\u001b[0;32m   1744\u001b[0m )\n\u001b[0;32m   1745\u001b[0m \u001b[39massert\u001b[39;00m \u001b[39mself\u001b[39m\u001b[39m.\u001b[39mhandles \u001b[39mis\u001b[39;00m \u001b[39mnot\u001b[39;00m \u001b[39mNone\u001b[39;00m\n\u001b[0;32m   1746\u001b[0m f \u001b[39m=\u001b[39m \u001b[39mself\u001b[39m\u001b[39m.\u001b[39mhandles\u001b[39m.\u001b[39mhandle\n",
      "File \u001b[1;32mc:\\Users\\Ranjani\\miniconda3\\lib\\site-packages\\pandas\\io\\common.py:856\u001b[0m, in \u001b[0;36mget_handle\u001b[1;34m(path_or_buf, mode, encoding, compression, memory_map, is_text, errors, storage_options)\u001b[0m\n\u001b[0;32m    851\u001b[0m \u001b[39melif\u001b[39;00m \u001b[39misinstance\u001b[39m(handle, \u001b[39mstr\u001b[39m):\n\u001b[0;32m    852\u001b[0m     \u001b[39m# Check whether the filename is to be opened in binary mode.\u001b[39;00m\n\u001b[0;32m    853\u001b[0m     \u001b[39m# Binary mode does not support 'encoding' and 'newline'.\u001b[39;00m\n\u001b[0;32m    854\u001b[0m     \u001b[39mif\u001b[39;00m ioargs\u001b[39m.\u001b[39mencoding \u001b[39mand\u001b[39;00m \u001b[39m\"\u001b[39m\u001b[39mb\u001b[39m\u001b[39m\"\u001b[39m \u001b[39mnot\u001b[39;00m \u001b[39min\u001b[39;00m ioargs\u001b[39m.\u001b[39mmode:\n\u001b[0;32m    855\u001b[0m         \u001b[39m# Encoding\u001b[39;00m\n\u001b[1;32m--> 856\u001b[0m         handle \u001b[39m=\u001b[39m \u001b[39mopen\u001b[39;49m(\n\u001b[0;32m    857\u001b[0m             handle,\n\u001b[0;32m    858\u001b[0m             ioargs\u001b[39m.\u001b[39;49mmode,\n\u001b[0;32m    859\u001b[0m             encoding\u001b[39m=\u001b[39;49mioargs\u001b[39m.\u001b[39;49mencoding,\n\u001b[0;32m    860\u001b[0m             errors\u001b[39m=\u001b[39;49merrors,\n\u001b[0;32m    861\u001b[0m             newline\u001b[39m=\u001b[39;49m\u001b[39m\"\u001b[39;49m\u001b[39m\"\u001b[39;49m,\n\u001b[0;32m    862\u001b[0m         )\n\u001b[0;32m    863\u001b[0m     \u001b[39melse\u001b[39;00m:\n\u001b[0;32m    864\u001b[0m         \u001b[39m# Binary mode\u001b[39;00m\n\u001b[0;32m    865\u001b[0m         handle \u001b[39m=\u001b[39m \u001b[39mopen\u001b[39m(handle, ioargs\u001b[39m.\u001b[39mmode)\n",
      "\u001b[1;31mFileNotFoundError\u001b[0m: [Errno 2] No such file or directory: 'C:\\\\GitHub\\\\Smart-Education-data\\\\data\\\\DAiSEE\\\\Sorted\\\\OpenFace\\\\3422270116.csv'"
     ]
    }
   ],
   "source": [
    "path=r'C:\\GitHub\\Smart-Education-data\\data\\DAiSEE\\Sorted\\OpenFace\\3422270116.csv'\n",
    "df=pd.read_csv(path, index_col=0, header=0)\n",
    "df"
   ]
  },
  {
   "cell_type": "code",
   "execution_count": null,
   "metadata": {},
   "outputs": [
    {
     "data": {
      "text/plain": [
       "Index([' face_id', ' timestamp', ' confidence', ' success', ' gaze_0_x',\n",
       "       ' gaze_0_y', ' gaze_0_z', ' gaze_1_x', ' gaze_1_y', ' gaze_1_z',\n",
       "       ' gaze_angle_x', ' gaze_angle_y', ' eye_lmk_x_0', ' eye_lmk_x_1',\n",
       "       ' eye_lmk_x_2', ' eye_lmk_x_3', ' eye_lmk_x_4', ' eye_lmk_x_5',\n",
       "       ' eye_lmk_x_6', ' eye_lmk_x_7'],\n",
       "      dtype='object')"
      ]
     },
     "execution_count": 83,
     "metadata": {},
     "output_type": "execute_result"
    }
   ],
   "source": [
    "df.columns[:20]"
   ]
  },
  {
   "cell_type": "code",
   "execution_count": null,
   "metadata": {},
   "outputs": [
    {
     "data": {
      "text/plain": [
       "[' gaze_0_x',\n",
       " ' gaze_0_y',\n",
       " ' gaze_0_z',\n",
       " ' gaze_1_x',\n",
       " ' gaze_1_y',\n",
       " ' gaze_1_z',\n",
       " ' gaze_angle_x',\n",
       " ' gaze_angle_y']"
      ]
     },
     "execution_count": 84,
     "metadata": {},
     "output_type": "execute_result"
    }
   ],
   "source": [
    "[_ for _ in df.columns if 'gaze_' in _]"
   ]
  },
  {
   "cell_type": "code",
   "execution_count": null,
   "metadata": {},
   "outputs": [
    {
     "data": {
      "text/plain": [
       "[' eye_lmk_x_0',\n",
       " ' eye_lmk_x_1',\n",
       " ' eye_lmk_x_2',\n",
       " ' eye_lmk_x_3',\n",
       " ' eye_lmk_x_4',\n",
       " ' eye_lmk_x_5',\n",
       " ' eye_lmk_x_6',\n",
       " ' eye_lmk_x_7',\n",
       " ' eye_lmk_x_8',\n",
       " ' eye_lmk_x_9',\n",
       " ' eye_lmk_x_10',\n",
       " ' eye_lmk_x_11',\n",
       " ' eye_lmk_x_12',\n",
       " ' eye_lmk_x_13',\n",
       " ' eye_lmk_x_14',\n",
       " ' eye_lmk_x_15',\n",
       " ' eye_lmk_x_16',\n",
       " ' eye_lmk_x_17',\n",
       " ' eye_lmk_x_18',\n",
       " ' eye_lmk_x_19',\n",
       " ' eye_lmk_x_20',\n",
       " ' eye_lmk_x_21',\n",
       " ' eye_lmk_x_22',\n",
       " ' eye_lmk_x_23',\n",
       " ' eye_lmk_x_24',\n",
       " ' eye_lmk_x_25',\n",
       " ' eye_lmk_x_26',\n",
       " ' eye_lmk_x_27',\n",
       " ' eye_lmk_x_28',\n",
       " ' eye_lmk_x_29',\n",
       " ' eye_lmk_x_30',\n",
       " ' eye_lmk_x_31',\n",
       " ' eye_lmk_x_32',\n",
       " ' eye_lmk_x_33',\n",
       " ' eye_lmk_x_34',\n",
       " ' eye_lmk_x_35',\n",
       " ' eye_lmk_x_36',\n",
       " ' eye_lmk_x_37',\n",
       " ' eye_lmk_x_38',\n",
       " ' eye_lmk_x_39',\n",
       " ' eye_lmk_x_40',\n",
       " ' eye_lmk_x_41',\n",
       " ' eye_lmk_x_42',\n",
       " ' eye_lmk_x_43',\n",
       " ' eye_lmk_x_44',\n",
       " ' eye_lmk_x_45',\n",
       " ' eye_lmk_x_46',\n",
       " ' eye_lmk_x_47',\n",
       " ' eye_lmk_x_48',\n",
       " ' eye_lmk_x_49',\n",
       " ' eye_lmk_x_50',\n",
       " ' eye_lmk_x_51',\n",
       " ' eye_lmk_x_52',\n",
       " ' eye_lmk_x_53',\n",
       " ' eye_lmk_x_54',\n",
       " ' eye_lmk_x_55',\n",
       " ' eye_lmk_y_0',\n",
       " ' eye_lmk_y_1',\n",
       " ' eye_lmk_y_2',\n",
       " ' eye_lmk_y_3',\n",
       " ' eye_lmk_y_4',\n",
       " ' eye_lmk_y_5',\n",
       " ' eye_lmk_y_6',\n",
       " ' eye_lmk_y_7',\n",
       " ' eye_lmk_y_8',\n",
       " ' eye_lmk_y_9',\n",
       " ' eye_lmk_y_10',\n",
       " ' eye_lmk_y_11',\n",
       " ' eye_lmk_y_12',\n",
       " ' eye_lmk_y_13',\n",
       " ' eye_lmk_y_14',\n",
       " ' eye_lmk_y_15',\n",
       " ' eye_lmk_y_16',\n",
       " ' eye_lmk_y_17',\n",
       " ' eye_lmk_y_18',\n",
       " ' eye_lmk_y_19',\n",
       " ' eye_lmk_y_20',\n",
       " ' eye_lmk_y_21',\n",
       " ' eye_lmk_y_22',\n",
       " ' eye_lmk_y_23',\n",
       " ' eye_lmk_y_24',\n",
       " ' eye_lmk_y_25',\n",
       " ' eye_lmk_y_26',\n",
       " ' eye_lmk_y_27',\n",
       " ' eye_lmk_y_28',\n",
       " ' eye_lmk_y_29',\n",
       " ' eye_lmk_y_30',\n",
       " ' eye_lmk_y_31',\n",
       " ' eye_lmk_y_32',\n",
       " ' eye_lmk_y_33',\n",
       " ' eye_lmk_y_34',\n",
       " ' eye_lmk_y_35',\n",
       " ' eye_lmk_y_36',\n",
       " ' eye_lmk_y_37',\n",
       " ' eye_lmk_y_38',\n",
       " ' eye_lmk_y_39',\n",
       " ' eye_lmk_y_40',\n",
       " ' eye_lmk_y_41',\n",
       " ' eye_lmk_y_42',\n",
       " ' eye_lmk_y_43',\n",
       " ' eye_lmk_y_44',\n",
       " ' eye_lmk_y_45',\n",
       " ' eye_lmk_y_46',\n",
       " ' eye_lmk_y_47',\n",
       " ' eye_lmk_y_48',\n",
       " ' eye_lmk_y_49',\n",
       " ' eye_lmk_y_50',\n",
       " ' eye_lmk_y_51',\n",
       " ' eye_lmk_y_52',\n",
       " ' eye_lmk_y_53',\n",
       " ' eye_lmk_y_54',\n",
       " ' eye_lmk_y_55',\n",
       " ' eye_lmk_X_0',\n",
       " ' eye_lmk_X_1',\n",
       " ' eye_lmk_X_2',\n",
       " ' eye_lmk_X_3',\n",
       " ' eye_lmk_X_4',\n",
       " ' eye_lmk_X_5',\n",
       " ' eye_lmk_X_6',\n",
       " ' eye_lmk_X_7',\n",
       " ' eye_lmk_X_8',\n",
       " ' eye_lmk_X_9',\n",
       " ' eye_lmk_X_10',\n",
       " ' eye_lmk_X_11',\n",
       " ' eye_lmk_X_12',\n",
       " ' eye_lmk_X_13',\n",
       " ' eye_lmk_X_14',\n",
       " ' eye_lmk_X_15',\n",
       " ' eye_lmk_X_16',\n",
       " ' eye_lmk_X_17',\n",
       " ' eye_lmk_X_18',\n",
       " ' eye_lmk_X_19',\n",
       " ' eye_lmk_X_20',\n",
       " ' eye_lmk_X_21',\n",
       " ' eye_lmk_X_22',\n",
       " ' eye_lmk_X_23',\n",
       " ' eye_lmk_X_24',\n",
       " ' eye_lmk_X_25',\n",
       " ' eye_lmk_X_26',\n",
       " ' eye_lmk_X_27',\n",
       " ' eye_lmk_X_28',\n",
       " ' eye_lmk_X_29',\n",
       " ' eye_lmk_X_30',\n",
       " ' eye_lmk_X_31',\n",
       " ' eye_lmk_X_32',\n",
       " ' eye_lmk_X_33',\n",
       " ' eye_lmk_X_34',\n",
       " ' eye_lmk_X_35',\n",
       " ' eye_lmk_X_36',\n",
       " ' eye_lmk_X_37',\n",
       " ' eye_lmk_X_38',\n",
       " ' eye_lmk_X_39',\n",
       " ' eye_lmk_X_40',\n",
       " ' eye_lmk_X_41',\n",
       " ' eye_lmk_X_42',\n",
       " ' eye_lmk_X_43',\n",
       " ' eye_lmk_X_44',\n",
       " ' eye_lmk_X_45',\n",
       " ' eye_lmk_X_46',\n",
       " ' eye_lmk_X_47',\n",
       " ' eye_lmk_X_48',\n",
       " ' eye_lmk_X_49',\n",
       " ' eye_lmk_X_50',\n",
       " ' eye_lmk_X_51',\n",
       " ' eye_lmk_X_52',\n",
       " ' eye_lmk_X_53',\n",
       " ' eye_lmk_X_54',\n",
       " ' eye_lmk_X_55',\n",
       " ' eye_lmk_Y_0',\n",
       " ' eye_lmk_Y_1',\n",
       " ' eye_lmk_Y_2',\n",
       " ' eye_lmk_Y_3',\n",
       " ' eye_lmk_Y_4',\n",
       " ' eye_lmk_Y_5',\n",
       " ' eye_lmk_Y_6',\n",
       " ' eye_lmk_Y_7',\n",
       " ' eye_lmk_Y_8',\n",
       " ' eye_lmk_Y_9',\n",
       " ' eye_lmk_Y_10',\n",
       " ' eye_lmk_Y_11',\n",
       " ' eye_lmk_Y_12',\n",
       " ' eye_lmk_Y_13',\n",
       " ' eye_lmk_Y_14',\n",
       " ' eye_lmk_Y_15',\n",
       " ' eye_lmk_Y_16',\n",
       " ' eye_lmk_Y_17',\n",
       " ' eye_lmk_Y_18',\n",
       " ' eye_lmk_Y_19',\n",
       " ' eye_lmk_Y_20',\n",
       " ' eye_lmk_Y_21',\n",
       " ' eye_lmk_Y_22',\n",
       " ' eye_lmk_Y_23',\n",
       " ' eye_lmk_Y_24',\n",
       " ' eye_lmk_Y_25',\n",
       " ' eye_lmk_Y_26',\n",
       " ' eye_lmk_Y_27',\n",
       " ' eye_lmk_Y_28',\n",
       " ' eye_lmk_Y_29',\n",
       " ' eye_lmk_Y_30',\n",
       " ' eye_lmk_Y_31',\n",
       " ' eye_lmk_Y_32',\n",
       " ' eye_lmk_Y_33',\n",
       " ' eye_lmk_Y_34',\n",
       " ' eye_lmk_Y_35',\n",
       " ' eye_lmk_Y_36',\n",
       " ' eye_lmk_Y_37',\n",
       " ' eye_lmk_Y_38',\n",
       " ' eye_lmk_Y_39',\n",
       " ' eye_lmk_Y_40',\n",
       " ' eye_lmk_Y_41',\n",
       " ' eye_lmk_Y_42',\n",
       " ' eye_lmk_Y_43',\n",
       " ' eye_lmk_Y_44',\n",
       " ' eye_lmk_Y_45',\n",
       " ' eye_lmk_Y_46',\n",
       " ' eye_lmk_Y_47',\n",
       " ' eye_lmk_Y_48',\n",
       " ' eye_lmk_Y_49',\n",
       " ' eye_lmk_Y_50',\n",
       " ' eye_lmk_Y_51',\n",
       " ' eye_lmk_Y_52',\n",
       " ' eye_lmk_Y_53',\n",
       " ' eye_lmk_Y_54',\n",
       " ' eye_lmk_Y_55',\n",
       " ' eye_lmk_Z_0',\n",
       " ' eye_lmk_Z_1',\n",
       " ' eye_lmk_Z_2',\n",
       " ' eye_lmk_Z_3',\n",
       " ' eye_lmk_Z_4',\n",
       " ' eye_lmk_Z_5',\n",
       " ' eye_lmk_Z_6',\n",
       " ' eye_lmk_Z_7',\n",
       " ' eye_lmk_Z_8',\n",
       " ' eye_lmk_Z_9',\n",
       " ' eye_lmk_Z_10',\n",
       " ' eye_lmk_Z_11',\n",
       " ' eye_lmk_Z_12',\n",
       " ' eye_lmk_Z_13',\n",
       " ' eye_lmk_Z_14',\n",
       " ' eye_lmk_Z_15',\n",
       " ' eye_lmk_Z_16',\n",
       " ' eye_lmk_Z_17',\n",
       " ' eye_lmk_Z_18',\n",
       " ' eye_lmk_Z_19',\n",
       " ' eye_lmk_Z_20',\n",
       " ' eye_lmk_Z_21',\n",
       " ' eye_lmk_Z_22',\n",
       " ' eye_lmk_Z_23',\n",
       " ' eye_lmk_Z_24',\n",
       " ' eye_lmk_Z_25',\n",
       " ' eye_lmk_Z_26',\n",
       " ' eye_lmk_Z_27',\n",
       " ' eye_lmk_Z_28',\n",
       " ' eye_lmk_Z_29',\n",
       " ' eye_lmk_Z_30',\n",
       " ' eye_lmk_Z_31',\n",
       " ' eye_lmk_Z_32',\n",
       " ' eye_lmk_Z_33',\n",
       " ' eye_lmk_Z_34',\n",
       " ' eye_lmk_Z_35',\n",
       " ' eye_lmk_Z_36',\n",
       " ' eye_lmk_Z_37',\n",
       " ' eye_lmk_Z_38',\n",
       " ' eye_lmk_Z_39',\n",
       " ' eye_lmk_Z_40',\n",
       " ' eye_lmk_Z_41',\n",
       " ' eye_lmk_Z_42',\n",
       " ' eye_lmk_Z_43',\n",
       " ' eye_lmk_Z_44',\n",
       " ' eye_lmk_Z_45',\n",
       " ' eye_lmk_Z_46',\n",
       " ' eye_lmk_Z_47',\n",
       " ' eye_lmk_Z_48',\n",
       " ' eye_lmk_Z_49',\n",
       " ' eye_lmk_Z_50',\n",
       " ' eye_lmk_Z_51',\n",
       " ' eye_lmk_Z_52',\n",
       " ' eye_lmk_Z_53',\n",
       " ' eye_lmk_Z_54',\n",
       " ' eye_lmk_Z_55']"
      ]
     },
     "execution_count": 85,
     "metadata": {},
     "output_type": "execute_result"
    }
   ],
   "source": [
    "[_ for _ in df.columns if 'eye_lmk_' in _]"
   ]
  },
  {
   "cell_type": "code",
   "execution_count": null,
   "metadata": {},
   "outputs": [
    {
     "data": {
      "text/plain": [
       "[' pose_Tx', ' pose_Ty', ' pose_Tz', ' pose_Rx', ' pose_Ry', ' pose_Rz']"
      ]
     },
     "execution_count": 74,
     "metadata": {},
     "output_type": "execute_result"
    }
   ],
   "source": [
    "[_ for _ in df.columns if 'pose_' in _]"
   ]
  },
  {
   "cell_type": "code",
   "execution_count": null,
   "metadata": {},
   "outputs": [
    {
     "data": {
      "text/plain": [
       "[' x_0',\n",
       " ' x_1',\n",
       " ' x_2',\n",
       " ' x_3',\n",
       " ' x_4',\n",
       " ' x_5',\n",
       " ' x_6',\n",
       " ' x_7',\n",
       " ' x_8',\n",
       " ' x_9',\n",
       " ' x_10',\n",
       " ' x_11',\n",
       " ' x_12',\n",
       " ' x_13',\n",
       " ' x_14',\n",
       " ' x_15',\n",
       " ' x_16',\n",
       " ' x_17',\n",
       " ' x_18',\n",
       " ' x_19',\n",
       " ' x_20',\n",
       " ' x_21',\n",
       " ' x_22',\n",
       " ' x_23',\n",
       " ' x_24',\n",
       " ' x_25',\n",
       " ' x_26',\n",
       " ' x_27',\n",
       " ' x_28',\n",
       " ' x_29',\n",
       " ' x_30',\n",
       " ' x_31',\n",
       " ' x_32',\n",
       " ' x_33',\n",
       " ' x_34',\n",
       " ' x_35',\n",
       " ' x_36',\n",
       " ' x_37',\n",
       " ' x_38',\n",
       " ' x_39',\n",
       " ' x_40',\n",
       " ' x_41',\n",
       " ' x_42',\n",
       " ' x_43',\n",
       " ' x_44',\n",
       " ' x_45',\n",
       " ' x_46',\n",
       " ' x_47',\n",
       " ' x_48',\n",
       " ' x_49',\n",
       " ' x_50',\n",
       " ' x_51',\n",
       " ' x_52',\n",
       " ' x_53',\n",
       " ' x_54',\n",
       " ' x_55',\n",
       " ' x_56',\n",
       " ' x_57',\n",
       " ' x_58',\n",
       " ' x_59',\n",
       " ' x_60',\n",
       " ' x_61',\n",
       " ' x_62',\n",
       " ' x_63',\n",
       " ' x_64',\n",
       " ' x_65',\n",
       " ' x_66',\n",
       " ' x_67']"
      ]
     },
     "execution_count": 71,
     "metadata": {},
     "output_type": "execute_result"
    }
   ],
   "source": [
    "[_ for _ in df.columns if 'x_' in _ and 'eye_lmk' not in _]"
   ]
  },
  {
   "cell_type": "code",
   "execution_count": null,
   "metadata": {},
   "outputs": [
    {
     "data": {
      "text/plain": [
       "[' y_0',\n",
       " ' y_1',\n",
       " ' y_2',\n",
       " ' y_3',\n",
       " ' y_4',\n",
       " ' y_5',\n",
       " ' y_6',\n",
       " ' y_7',\n",
       " ' y_8',\n",
       " ' y_9',\n",
       " ' y_10',\n",
       " ' y_11',\n",
       " ' y_12',\n",
       " ' y_13',\n",
       " ' y_14',\n",
       " ' y_15',\n",
       " ' y_16',\n",
       " ' y_17',\n",
       " ' y_18',\n",
       " ' y_19',\n",
       " ' y_20',\n",
       " ' y_21',\n",
       " ' y_22',\n",
       " ' y_23',\n",
       " ' y_24',\n",
       " ' y_25',\n",
       " ' y_26',\n",
       " ' y_27',\n",
       " ' y_28',\n",
       " ' y_29',\n",
       " ' y_30',\n",
       " ' y_31',\n",
       " ' y_32',\n",
       " ' y_33',\n",
       " ' y_34',\n",
       " ' y_35',\n",
       " ' y_36',\n",
       " ' y_37',\n",
       " ' y_38',\n",
       " ' y_39',\n",
       " ' y_40',\n",
       " ' y_41',\n",
       " ' y_42',\n",
       " ' y_43',\n",
       " ' y_44',\n",
       " ' y_45',\n",
       " ' y_46',\n",
       " ' y_47',\n",
       " ' y_48',\n",
       " ' y_49',\n",
       " ' y_50',\n",
       " ' y_51',\n",
       " ' y_52',\n",
       " ' y_53',\n",
       " ' y_54',\n",
       " ' y_55',\n",
       " ' y_56',\n",
       " ' y_57',\n",
       " ' y_58',\n",
       " ' y_59',\n",
       " ' y_60',\n",
       " ' y_61',\n",
       " ' y_62',\n",
       " ' y_63',\n",
       " ' y_64',\n",
       " ' y_65',\n",
       " ' y_66',\n",
       " ' y_67']"
      ]
     },
     "execution_count": 69,
     "metadata": {},
     "output_type": "execute_result"
    }
   ],
   "source": [
    "[_ for _ in df.columns if 'y_' in _ and 'eye_lmk' not in _]"
   ]
  },
  {
   "cell_type": "code",
   "execution_count": null,
   "metadata": {},
   "outputs": [
    {
     "data": {
      "text/plain": [
       "[' X_0',\n",
       " ' X_1',\n",
       " ' X_2',\n",
       " ' X_3',\n",
       " ' X_4',\n",
       " ' X_5',\n",
       " ' X_6',\n",
       " ' X_7',\n",
       " ' X_8',\n",
       " ' X_9',\n",
       " ' X_10',\n",
       " ' X_11',\n",
       " ' X_12',\n",
       " ' X_13',\n",
       " ' X_14',\n",
       " ' X_15',\n",
       " ' X_16',\n",
       " ' X_17',\n",
       " ' X_18',\n",
       " ' X_19',\n",
       " ' X_20',\n",
       " ' X_21',\n",
       " ' X_22',\n",
       " ' X_23',\n",
       " ' X_24',\n",
       " ' X_25',\n",
       " ' X_26',\n",
       " ' X_27',\n",
       " ' X_28',\n",
       " ' X_29',\n",
       " ' X_30',\n",
       " ' X_31',\n",
       " ' X_32',\n",
       " ' X_33',\n",
       " ' X_34',\n",
       " ' X_35',\n",
       " ' X_36',\n",
       " ' X_37',\n",
       " ' X_38',\n",
       " ' X_39',\n",
       " ' X_40',\n",
       " ' X_41',\n",
       " ' X_42',\n",
       " ' X_43',\n",
       " ' X_44',\n",
       " ' X_45',\n",
       " ' X_46',\n",
       " ' X_47',\n",
       " ' X_48',\n",
       " ' X_49',\n",
       " ' X_50',\n",
       " ' X_51',\n",
       " ' X_52',\n",
       " ' X_53',\n",
       " ' X_54',\n",
       " ' X_55',\n",
       " ' X_56',\n",
       " ' X_57',\n",
       " ' X_58',\n",
       " ' X_59',\n",
       " ' X_60',\n",
       " ' X_61',\n",
       " ' X_62',\n",
       " ' X_63',\n",
       " ' X_64',\n",
       " ' X_65',\n",
       " ' X_66',\n",
       " ' X_67']"
      ]
     },
     "execution_count": 64,
     "metadata": {},
     "output_type": "execute_result"
    }
   ],
   "source": [
    "[_ for _ in df.columns if 'X_' in _ and 'eye_lmk' not in _]"
   ]
  },
  {
   "cell_type": "code",
   "execution_count": null,
   "metadata": {},
   "outputs": [
    {
     "data": {
      "text/plain": [
       "[' Y_0',\n",
       " ' Y_1',\n",
       " ' Y_2',\n",
       " ' Y_3',\n",
       " ' Y_4',\n",
       " ' Y_5',\n",
       " ' Y_6',\n",
       " ' Y_7',\n",
       " ' Y_8',\n",
       " ' Y_9',\n",
       " ' Y_10',\n",
       " ' Y_11',\n",
       " ' Y_12',\n",
       " ' Y_13',\n",
       " ' Y_14',\n",
       " ' Y_15',\n",
       " ' Y_16',\n",
       " ' Y_17',\n",
       " ' Y_18',\n",
       " ' Y_19',\n",
       " ' Y_20',\n",
       " ' Y_21',\n",
       " ' Y_22',\n",
       " ' Y_23',\n",
       " ' Y_24',\n",
       " ' Y_25',\n",
       " ' Y_26',\n",
       " ' Y_27',\n",
       " ' Y_28',\n",
       " ' Y_29',\n",
       " ' Y_30',\n",
       " ' Y_31',\n",
       " ' Y_32',\n",
       " ' Y_33',\n",
       " ' Y_34',\n",
       " ' Y_35',\n",
       " ' Y_36',\n",
       " ' Y_37',\n",
       " ' Y_38',\n",
       " ' Y_39',\n",
       " ' Y_40',\n",
       " ' Y_41',\n",
       " ' Y_42',\n",
       " ' Y_43',\n",
       " ' Y_44',\n",
       " ' Y_45',\n",
       " ' Y_46',\n",
       " ' Y_47',\n",
       " ' Y_48',\n",
       " ' Y_49',\n",
       " ' Y_50',\n",
       " ' Y_51',\n",
       " ' Y_52',\n",
       " ' Y_53',\n",
       " ' Y_54',\n",
       " ' Y_55',\n",
       " ' Y_56',\n",
       " ' Y_57',\n",
       " ' Y_58',\n",
       " ' Y_59',\n",
       " ' Y_60',\n",
       " ' Y_61',\n",
       " ' Y_62',\n",
       " ' Y_63',\n",
       " ' Y_64',\n",
       " ' Y_65',\n",
       " ' Y_66',\n",
       " ' Y_67']"
      ]
     },
     "execution_count": 60,
     "metadata": {},
     "output_type": "execute_result"
    }
   ],
   "source": [
    "[_ for _ in df.columns if 'Y_' in _ and 'eye_lmk' not in _]"
   ]
  },
  {
   "cell_type": "code",
   "execution_count": null,
   "metadata": {},
   "outputs": [
    {
     "data": {
      "text/plain": [
       "[' Z_0',\n",
       " ' Z_1',\n",
       " ' Z_2',\n",
       " ' Z_3',\n",
       " ' Z_4',\n",
       " ' Z_5',\n",
       " ' Z_6',\n",
       " ' Z_7',\n",
       " ' Z_8',\n",
       " ' Z_9',\n",
       " ' Z_10',\n",
       " ' Z_11',\n",
       " ' Z_12',\n",
       " ' Z_13',\n",
       " ' Z_14',\n",
       " ' Z_15',\n",
       " ' Z_16',\n",
       " ' Z_17',\n",
       " ' Z_18',\n",
       " ' Z_19',\n",
       " ' Z_20',\n",
       " ' Z_21',\n",
       " ' Z_22',\n",
       " ' Z_23',\n",
       " ' Z_24',\n",
       " ' Z_25',\n",
       " ' Z_26',\n",
       " ' Z_27',\n",
       " ' Z_28',\n",
       " ' Z_29',\n",
       " ' Z_30',\n",
       " ' Z_31',\n",
       " ' Z_32',\n",
       " ' Z_33',\n",
       " ' Z_34',\n",
       " ' Z_35',\n",
       " ' Z_36',\n",
       " ' Z_37',\n",
       " ' Z_38',\n",
       " ' Z_39',\n",
       " ' Z_40',\n",
       " ' Z_41',\n",
       " ' Z_42',\n",
       " ' Z_43',\n",
       " ' Z_44',\n",
       " ' Z_45',\n",
       " ' Z_46',\n",
       " ' Z_47',\n",
       " ' Z_48',\n",
       " ' Z_49',\n",
       " ' Z_50',\n",
       " ' Z_51',\n",
       " ' Z_52',\n",
       " ' Z_53',\n",
       " ' Z_54',\n",
       " ' Z_55',\n",
       " ' Z_56',\n",
       " ' Z_57',\n",
       " ' Z_58',\n",
       " ' Z_59',\n",
       " ' Z_60',\n",
       " ' Z_61',\n",
       " ' Z_62',\n",
       " ' Z_63',\n",
       " ' Z_64',\n",
       " ' Z_65',\n",
       " ' Z_66',\n",
       " ' Z_67']"
      ]
     },
     "execution_count": 56,
     "metadata": {},
     "output_type": "execute_result"
    }
   ],
   "source": [
    "[_ for _ in df.columns if 'Z_' in _ and 'eye_lmk' not in _]"
   ]
  },
  {
   "cell_type": "code",
   "execution_count": null,
   "metadata": {},
   "outputs": [
    {
     "data": {
      "text/plain": [
       "[' p_scale',\n",
       " ' p_rx',\n",
       " ' p_ry',\n",
       " ' p_rz',\n",
       " ' p_tx',\n",
       " ' p_ty',\n",
       " ' p_0',\n",
       " ' p_1',\n",
       " ' p_2',\n",
       " ' p_3',\n",
       " ' p_4',\n",
       " ' p_5',\n",
       " ' p_6',\n",
       " ' p_7',\n",
       " ' p_8',\n",
       " ' p_9',\n",
       " ' p_10',\n",
       " ' p_11',\n",
       " ' p_12',\n",
       " ' p_13',\n",
       " ' p_14',\n",
       " ' p_15',\n",
       " ' p_16',\n",
       " ' p_17',\n",
       " ' p_18',\n",
       " ' p_19',\n",
       " ' p_20',\n",
       " ' p_21',\n",
       " ' p_22',\n",
       " ' p_23',\n",
       " ' p_24',\n",
       " ' p_25',\n",
       " ' p_26',\n",
       " ' p_27',\n",
       " ' p_28',\n",
       " ' p_29',\n",
       " ' p_30',\n",
       " ' p_31',\n",
       " ' p_32',\n",
       " ' p_33']"
      ]
     },
     "execution_count": 49,
     "metadata": {},
     "output_type": "execute_result"
    }
   ],
   "source": [
    "[_ for _ in df.columns if 'p_' in _]"
   ]
  },
  {
   "cell_type": "code",
   "execution_count": null,
   "metadata": {},
   "outputs": [],
   "source": [
    "['AU01 - Inner Brow raiser',\n",
    " 'AU02 - Outer Brow raiser',\n",
    " 'AU04 - Brow lowerer',\n",
    " 'AU05 - Upper lid raiser',\n",
    " 'AU06 - Cheek raiser',\n",
    " 'AU07 - Lid tightener',\n",
    " 'AU09 - Nose wrinkler',\n",
    " 'AU10 - Upper lid raiser',\n",
    " 'AU12 - Lid corner puller', #?\n",
    " 'AU14 - Dimpler',\n",
    " 'AU15 - Lid corner depres', #?\n",
    " 'AU17 - Chin Raiser',\n",
    " 'AU20 - Lid Stretcher',\n",
    " 'AU23 - Lid tightener',\n",
    " 'AU25 - Lips part',\n",
    " 'AU26 - Jaw drop',\n",
    " 'AU28 - Lip suck',\n",
    " 'AU45 - Blink'\n",
    "]"
   ]
  },
  {
   "cell_type": "code",
   "execution_count": null,
   "metadata": {},
   "outputs": [
    {
     "data": {
      "text/plain": [
       "(35,\n",
       " [' AU01_r',\n",
       "  ' AU02_r',\n",
       "  ' AU04_r',\n",
       "  ' AU05_r',\n",
       "  ' AU06_r',\n",
       "  ' AU07_r',\n",
       "  ' AU09_r',\n",
       "  ' AU10_r',\n",
       "  ' AU12_r',\n",
       "  ' AU14_r',\n",
       "  ' AU15_r',\n",
       "  ' AU17_r',\n",
       "  ' AU20_r',\n",
       "  ' AU23_r',\n",
       "  ' AU25_r',\n",
       "  ' AU26_r',\n",
       "  ' AU45_r',\n",
       "  ' AU01_c',\n",
       "  ' AU02_c',\n",
       "  ' AU04_c',\n",
       "  ' AU05_c',\n",
       "  ' AU06_c',\n",
       "  ' AU07_c',\n",
       "  ' AU09_c',\n",
       "  ' AU10_c',\n",
       "  ' AU12_c',\n",
       "  ' AU14_c',\n",
       "  ' AU15_c',\n",
       "  ' AU17_c',\n",
       "  ' AU20_c',\n",
       "  ' AU23_c',\n",
       "  ' AU25_c',\n",
       "  ' AU26_c',\n",
       "  ' AU28_c',\n",
       "  ' AU45_c'])"
      ]
     },
     "execution_count": 48,
     "metadata": {},
     "output_type": "execute_result"
    }
   ],
   "source": [
    "col_action_units=[_ for _ in df.columns if 'AU' in _]\n",
    "len(col_action_units), col_action_units"
   ]
  }
 ],
 "metadata": {
  "kernelspec": {
   "display_name": "Python 3",
   "language": "python",
   "name": "python3"
  },
  "language_info": {
   "codemirror_mode": {
    "name": "ipython",
    "version": 3
   },
   "file_extension": ".py",
   "mimetype": "text/x-python",
   "name": "python",
   "nbconvert_exporter": "python",
   "pygments_lexer": "ipython3",
   "version": "3.8.16"
  },
  "orig_nbformat": 4,
  "vscode": {
   "interpreter": {
    "hash": "ff9163d69464e3f543672e53d6ca5b44e640a82bd22335af424cf89f42a47e2b"
   }
  }
 },
 "nbformat": 4,
 "nbformat_minor": 2
}
